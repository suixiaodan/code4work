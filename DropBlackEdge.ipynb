{
 "cells": [
  {
   "cell_type": "markdown",
   "metadata": {},
   "source": [
    "# 将眼底图像的黑边裁掉\n",
    "1、变成灰度图像，\n",
    "2、阈值化\n",
    "3、用cv2函数寻找边框的坐标\n",
    "4、在原图上裁剪"
   ]
  },
  {
   "cell_type": "code",
   "execution_count": 2,
   "metadata": {},
   "outputs": [],
   "source": [
    "import os\n",
    "import cv2\n",
    "import numpy as np\n",
    "from matplotlib import pyplot as plt\n",
    "from PIL import Image, ImageDraw\n",
    "#%matplotlib inline "
   ]
  },
  {
   "cell_type": "code",
   "execution_count": 2,
   "metadata": {},
   "outputs": [],
   "source": [
    "ROOT_DIR = os.getcwd()\n",
    "DR_IMAGE_DIR = os.path.join(ROOT_DIR, \"TrainingSetSub2\") #DRDataset/SubChallenge_1_Images\n",
    "    # Load a random image from the images folder\n",
    "file_names = next(os.walk(DR_IMAGE_DIR))[2]"
   ]
  },
  {
   "cell_type": "markdown",
   "metadata": {},
   "source": [
    "## 处理其中一个数据集"
   ]
  },
  {
   "cell_type": "code",
   "execution_count": 3,
   "metadata": {},
   "outputs": [],
   "source": [
    "def CropBlackEdge(filename):\n",
    "    imgorg = Image.open(\"TrainingSetSub2/\"+filename)\n",
    "    imgorg = np.array(imgorg) \n",
    "    imgorg = imgorg[:,261:3730,:]\n",
    "    [x,y,z] = imgorg.shape\n",
    "    newMask = np.zeros([x,y,3], dtype = np.uint8)\n",
    "    newMask[:,:,0] = imgorg[:,:,2]\n",
    "    newMask[:,:,1] = imgorg[:,:,1]\n",
    "    newMask[:,:,2] = imgorg[:,:,0]\n",
    "    cv2.imwrite('TrainingSetSub2-crop/'+filename,newMask)"
   ]
  },
  {
   "cell_type": "code",
   "execution_count": 4,
   "metadata": {},
   "outputs": [],
   "source": [
    "for i in range(len(file_names)):\n",
    "    CropBlackEdge(file_names[i])"
   ]
  },
  {
   "cell_type": "markdown",
   "metadata": {},
   "source": [
    "## 处理ROC数据集黑边"
   ]
  },
  {
   "cell_type": "code",
   "execution_count": 23,
   "metadata": {},
   "outputs": [],
   "source": [
    "DR_IMAGE_DIR = \"/Users/victor/Project4sxd/DRandDME/data/e_ophtha/EX/GroundTruthMask/\"\n",
    "file_names = next(os.walk(DR_IMAGE_DIR))[2]"
   ]
  },
  {
   "cell_type": "code",
   "execution_count": 24,
   "metadata": {},
   "outputs": [],
   "source": [
    "def CropBlackEdge(filename):\n",
    "    imgorg = Image.open(\"/Users/victor/Project4sxd/DRandDME/data/e_ophtha/EX/GroundTruthMask/\"+filename)\n",
    "    imgorg = np.array(imgorg) \n",
    "    [x,y,z] = imgorg.shape\n",
    "    print(x,y,z)\n",
    "    imgorg = imgorg[:,240:y-240,:]\n",
    "    #[x,y,z] = imgorg.shape\n",
    "    newMask = np.zeros([x,y-480,3], dtype = np.uint8)\n",
    "    newMask[:,:,0] = imgorg[:,:,2]\n",
    "    newMask[:,:,1] = imgorg[:,:,1]\n",
    "    newMask[:,:,2] = imgorg[:,:,0]\n",
    "    cv2.imwrite('/Users/victor/Project4sxd/DRandDME/data/e_ophtha/EX/GroundTruthMaskCrop/'+filename,newMask)"
   ]
  },
  {
   "cell_type": "code",
   "execution_count": 25,
   "metadata": {},
   "outputs": [
    {
     "name": "stdout",
     "output_type": "stream",
     "text": [
      "960 1440 3\n",
      "1696 2544 3\n",
      "1696 2544 3\n",
      "1000 1504 3\n",
      "1696 2544 3\n",
      "960 1440 3\n",
      "1696 2544 3\n",
      "960 1440 3\n",
      "960 1440 3\n",
      "1696 2544 3\n",
      "1696 2544 3\n",
      "1360 2048 3\n",
      "960 1440 3\n",
      "1696 2544 3\n",
      "1696 2544 3\n",
      "1360 2048 3\n",
      "1696 2544 3\n",
      "1360 2048 3\n",
      "960 1440 3\n",
      "960 1440 3\n",
      "1360 2048 3\n",
      "960 1440 3\n",
      "960 1440 3\n",
      "960 1440 3\n",
      "1360 2048 3\n",
      "1696 2544 3\n",
      "1696 2544 3\n",
      "1696 2544 3\n",
      "960 1440 3\n",
      "1696 2544 3\n",
      "1696 2544 3\n",
      "1360 2048 3\n",
      "1696 2544 3\n",
      "1696 2544 3\n",
      "1696 2544 3\n",
      "1360 2048 3\n",
      "1696 2544 3\n",
      "960 1440 3\n",
      "1696 2544 3\n",
      "1696 2544 3\n",
      "960 1440 3\n",
      "1000 1504 3\n",
      "1696 2544 3\n",
      "1696 2544 3\n",
      "1360 2048 3\n",
      "1696 2544 3\n",
      "1360 2048 3\n"
     ]
    }
   ],
   "source": [
    "for i in range(len(file_names)):\n",
    "    CropBlackEdge(file_names[i])"
   ]
  },
  {
   "cell_type": "code",
   "execution_count": null,
   "metadata": {},
   "outputs": [],
   "source": []
  }
 ],
 "metadata": {
  "kernelspec": {
   "display_name": "Python 3",
   "language": "python",
   "name": "python3"
  },
  "language_info": {
   "codemirror_mode": {
    "name": "ipython",
    "version": 3
   },
   "file_extension": ".py",
   "mimetype": "text/x-python",
   "name": "python",
   "nbconvert_exporter": "python",
   "pygments_lexer": "ipython3",
   "version": "3.5.4"
  }
 },
 "nbformat": 4,
 "nbformat_minor": 2
}
