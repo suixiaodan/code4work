{
 "cells": [
  {
   "cell_type": "markdown",
   "metadata": {},
   "source": [
    "# 生成数据，mat转化成png\n",
    "\n",
    "generate Masks Grount Truth .Mat file."
   ]
  },
  {
   "cell_type": "code",
   "execution_count": 1,
   "metadata": {},
   "outputs": [],
   "source": [
    "# coding=utf-8\n",
    "\n",
    "import os\n",
    "import sys\n",
    "\n",
    "import numpy as np\n",
    "import cv2\n",
    "import skimage.io\n",
    "import scipy.io\n",
    "\n",
    "import shutil  \n"
   ]
  },
  {
   "cell_type": "code",
   "execution_count": 2,
   "metadata": {},
   "outputs": [],
   "source": [
    "# Training dataset\n",
    "with open('origa650/origa650.txt', 'r') as f:\n",
    "    trainList=[l.strip('.jpg\\n') for l in f.readlines()]\n",
    "\n"
   ]
  },
  {
   "cell_type": "code",
   "execution_count": 19,
   "metadata": {},
   "outputs": [],
   "source": [
    "def conv_mat_to_png(filename):\n",
    "    matfilename = filename+\".mat\"\n",
    "    oldfilename = filename+\".jpg\"\n",
    "    newfilename = filename+\"_OD.jpeg\"\n",
    "    pngfilename = filename+\"_OD.png\"\n",
    "\n",
    "    data = scipy.io.loadmat('origa650/manual_marking/'+matfilename)\n",
    "    ODMask = data['mask']\n",
    "    (x,y) = ODMask.shape\n",
    "\n",
    "    image_od = np.zeros([x,y,3], dtype = np.uint8)\n",
    "    mask_od = np.array(ODMask!=0).astype(np.uint8)\n",
    "    image_od[:,:,2] = mask_od*255\n",
    "    cv2.imwrite('origa650/odmaskpng/Origa_'+pngfilename,image_od)\n",
    "    shutil.copyfile('origa650/images/'+oldfilename,'origa650/imagesjpeg/Origa_'+newfilename)"
   ]
  },
  {
   "cell_type": "code",
   "execution_count": 20,
   "metadata": {},
   "outputs": [],
   "source": [
    "for i in range(650):\n",
    "    conv_mat_to_png(trainList[i])"
   ]
  },
  {
   "cell_type": "code",
   "execution_count": null,
   "metadata": {},
   "outputs": [],
   "source": []
  }
 ],
 "metadata": {
  "kernelspec": {
   "display_name": "Python 3",
   "language": "python",
   "name": "python3"
  },
  "language_info": {
   "codemirror_mode": {
    "name": "ipython",
    "version": 3
   },
   "file_extension": ".py",
   "mimetype": "text/x-python",
   "name": "python",
   "nbconvert_exporter": "python",
   "pygments_lexer": "ipython3",
   "version": "3.5.4"
  }
 },
 "nbformat": 4,
 "nbformat_minor": 2
}
