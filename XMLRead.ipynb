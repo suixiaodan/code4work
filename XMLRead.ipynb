{
 "cells": [
  {
   "cell_type": "code",
   "execution_count": 3,
   "metadata": {},
   "outputs": [
    {
     "name": "stdout",
     "output_type": "stream",
     "text": [
      "50\n",
      "image16_training.jpg\n",
      "1\n",
      "0 <class 'str'> 959\n",
      "0 <class 'str'>\n"
     ]
    },
    {
     "data": {
      "text/plain": [
       "True"
      ]
     },
     "execution_count": 3,
     "metadata": {},
     "output_type": "execute_result"
    },
    {
     "name": "stdout",
     "output_type": "stream",
     "text": [
      "image46_training.jpg\n",
      "1\n",
      "1 <class 'str'> 900\n",
      "1 <class 'str'>\n"
     ]
    },
    {
     "data": {
      "text/plain": [
       "True"
      ]
     },
     "execution_count": 3,
     "metadata": {},
     "output_type": "execute_result"
    },
    {
     "name": "stdout",
     "output_type": "stream",
     "text": [
      "image29_training.jpg\n",
      "22\n",
      "2 <class 'str'> 402\n",
      "2 <class 'str'>\n",
      "2 <class 'str'> 346\n",
      "2 <class 'str'>\n",
      "2 <class 'str'> 336\n",
      "2 <class 'str'>\n",
      "2 <class 'str'> 313\n",
      "2 <class 'str'>\n",
      "2 <class 'str'> 525\n",
      "2 <class 'str'>\n",
      "2 <class 'str'> 232\n",
      "2 <class 'str'>\n",
      "2 <class 'str'> 349\n",
      "2 <class 'str'>\n",
      "2 <class 'str'> 262\n",
      "2 <class 'str'>\n",
      "2 <class 'str'> 389\n",
      "2 <class 'str'>\n",
      "2 <class 'str'> 366\n",
      "2 <class 'str'>\n",
      "2 <class 'str'> 346\n",
      "2 <class 'str'>\n",
      "2 <class 'str'> 270\n",
      "2 <class 'str'>\n",
      "2 <class 'str'> 262\n",
      "2 <class 'str'>\n",
      "2 <class 'str'> 243\n",
      "2 <class 'str'>\n",
      "2 <class 'str'> 306\n",
      "2 <class 'str'>\n",
      "2 <class 'str'> 392\n",
      "2 <class 'str'>\n",
      "2 <class 'str'> 323\n",
      "2 <class 'str'>\n",
      "2 <class 'str'> 376\n",
      "2 <class 'str'>\n",
      "2 <class 'str'> 498\n",
      "2 <class 'str'>\n",
      "2 <class 'str'> 358\n",
      "2 <class 'str'>\n",
      "2 <class 'str'> 360\n",
      "2 <class 'str'>\n",
      "2 <class 'str'> 263\n",
      "2 <class 'str'>\n"
     ]
    },
    {
     "data": {
      "text/plain": [
       "True"
      ]
     },
     "execution_count": 3,
     "metadata": {},
     "output_type": "execute_result"
    },
    {
     "name": "stdout",
     "output_type": "stream",
     "text": [
      "image23_training.jpg\n",
      "31\n",
      "3 <class 'str'> 509\n",
      "3 <class 'str'>\n",
      "3 <class 'str'> 607\n",
      "3 <class 'str'>\n",
      "3 <class 'str'> 599\n",
      "3 <class 'str'>\n",
      "3 <class 'str'> 329\n",
      "3 <class 'str'>\n",
      "3 <class 'str'> 439\n",
      "3 <class 'str'>\n",
      "3 <class 'str'> 621\n",
      "3 <class 'str'>\n",
      "3 <class 'str'> 358\n",
      "3 <class 'str'>\n",
      "3 <class 'str'> 888\n",
      "3 <class 'str'>\n",
      "3 <class 'str'> 580\n",
      "3 <class 'str'>\n",
      "3 <class 'str'> 514\n",
      "3 <class 'str'>\n",
      "3 <class 'str'> 591\n",
      "3 <class 'str'>\n",
      "3 <class 'str'> 568\n",
      "3 <class 'str'>\n",
      "3 <class 'str'> 511\n",
      "3 <class 'str'>\n",
      "3 <class 'str'> 582\n",
      "3 <class 'str'>\n",
      "3 <class 'str'> 303\n",
      "3 <class 'str'>\n",
      "3 <class 'str'> 433\n",
      "3 <class 'str'>\n",
      "3 <class 'str'> 344\n",
      "3 <class 'str'>\n",
      "3 <class 'str'> 805\n",
      "3 <class 'str'>\n",
      "3 <class 'str'> 306\n",
      "3 <class 'str'>\n",
      "3 <class 'str'> 367\n",
      "3 <class 'str'>\n",
      "3 <class 'str'> 632\n",
      "3 <class 'str'>\n",
      "3 <class 'str'> 582\n",
      "3 <class 'str'>\n",
      "3 <class 'str'> 338\n",
      "3 <class 'str'>\n",
      "3 <class 'str'> 312\n",
      "3 <class 'str'>\n",
      "3 <class 'str'> 786\n",
      "3 <class 'str'>\n",
      "3 <class 'str'> 623\n",
      "3 <class 'str'>\n",
      "3 <class 'str'> 613\n",
      "3 <class 'str'>\n",
      "3 <class 'str'> 476\n",
      "3 <class 'str'>\n",
      "3 <class 'str'> 873\n",
      "3 <class 'str'>\n",
      "3 <class 'str'> 309\n",
      "3 <class 'str'>\n",
      "3 <class 'str'> 487\n",
      "3 <class 'str'>\n"
     ]
    },
    {
     "data": {
      "text/plain": [
       "True"
      ]
     },
     "execution_count": 3,
     "metadata": {},
     "output_type": "execute_result"
    },
    {
     "name": "stdout",
     "output_type": "stream",
     "text": [
      "image38_training.jpg\n",
      "6\n",
      "4 <class 'str'> 237\n",
      "4 <class 'str'>\n",
      "4 <class 'str'> 74\n",
      "4 <class 'str'>\n",
      "4 <class 'str'> 243\n",
      "4 <class 'str'>\n",
      "4 <class 'str'> 244\n",
      "4 <class 'str'>\n",
      "4 <class 'str'> 276\n",
      "4 <class 'str'>\n",
      "4 <class 'str'> 376\n",
      "4 <class 'str'>\n"
     ]
    },
    {
     "data": {
      "text/plain": [
       "True"
      ]
     },
     "execution_count": 3,
     "metadata": {},
     "output_type": "execute_result"
    },
    {
     "name": "stdout",
     "output_type": "stream",
     "text": [
      "image45_training.jpg\n",
      "0\n"
     ]
    },
    {
     "data": {
      "text/plain": [
       "True"
      ]
     },
     "execution_count": 3,
     "metadata": {},
     "output_type": "execute_result"
    },
    {
     "name": "stdout",
     "output_type": "stream",
     "text": [
      "image21_training.jpg\n",
      "2\n",
      "6 <class 'str'> 714\n",
      "6 <class 'str'>\n",
      "6 <class 'str'> 693\n",
      "6 <class 'str'>\n"
     ]
    },
    {
     "data": {
      "text/plain": [
       "True"
      ]
     },
     "execution_count": 3,
     "metadata": {},
     "output_type": "execute_result"
    },
    {
     "name": "stdout",
     "output_type": "stream",
     "text": [
      "image36_training.jpg\n",
      "3\n",
      "7 <class 'str'> 827\n",
      "7 <class 'str'>\n",
      "7 <class 'str'> 827\n",
      "7 <class 'str'>\n",
      "7 <class 'str'> 454\n",
      "7 <class 'str'>\n"
     ]
    },
    {
     "data": {
      "text/plain": [
       "True"
      ]
     },
     "execution_count": 3,
     "metadata": {},
     "output_type": "execute_result"
    },
    {
     "name": "stdout",
     "output_type": "stream",
     "text": [
      "image35_training.jpg\n",
      "0\n"
     ]
    },
    {
     "data": {
      "text/plain": [
       "True"
      ]
     },
     "execution_count": 3,
     "metadata": {},
     "output_type": "execute_result"
    },
    {
     "name": "stdout",
     "output_type": "stream",
     "text": [
      "image5_training.jpg\n",
      "4\n",
      "9 <class 'str'> 811\n",
      "9 <class 'str'>\n",
      "9 <class 'str'> 767\n",
      "9 <class 'str'>\n",
      "9 <class 'str'> 758\n",
      "9 <class 'str'>\n",
      "9 <class 'str'> 767\n",
      "9 <class 'str'>\n"
     ]
    },
    {
     "data": {
      "text/plain": [
       "True"
      ]
     },
     "execution_count": 3,
     "metadata": {},
     "output_type": "execute_result"
    },
    {
     "name": "stdout",
     "output_type": "stream",
     "text": [
      "image31_training.jpg\n",
      "0\n"
     ]
    },
    {
     "data": {
      "text/plain": [
       "True"
      ]
     },
     "execution_count": 3,
     "metadata": {},
     "output_type": "execute_result"
    },
    {
     "name": "stdout",
     "output_type": "stream",
     "text": [
      "image49_training.jpg\n",
      "26\n",
      "11 <class 'str'> 538\n",
      "11 <class 'str'>\n",
      "11 <class 'str'> 855\n",
      "11 <class 'str'>\n",
      "11 <class 'str'> 503\n",
      "11 <class 'str'>\n",
      "11 <class 'str'> 492\n",
      "11 <class 'str'>\n",
      "11 <class 'str'> 807\n",
      "11 <class 'str'>\n",
      "11 <class 'str'> 842\n",
      "11 <class 'str'>\n",
      "11 <class 'str'> 619\n",
      "11 <class 'str'>\n",
      "11 <class 'str'> 813\n",
      "11 <class 'str'>\n",
      "11 <class 'str'> 768\n",
      "11 <class 'str'>\n",
      "11 <class 'str'> 506\n",
      "11 <class 'str'>\n",
      "11 <class 'str'> 555\n",
      "11 <class 'str'>\n",
      "11 <class 'str'> 836\n",
      "11 <class 'str'>\n",
      "11 <class 'str'> 520\n",
      "11 <class 'str'>\n",
      "11 <class 'str'> 1092\n",
      "11 <class 'str'>\n",
      "11 <class 'str'> 774\n",
      "11 <class 'str'>\n",
      "11 <class 'str'> 704\n",
      "11 <class 'str'>\n",
      "11 <class 'str'> 474\n",
      "11 <class 'str'>\n",
      "11 <class 'str'> 1072\n",
      "11 <class 'str'>\n",
      "11 <class 'str'> 1005\n",
      "11 <class 'str'>\n",
      "11 <class 'str'> 485\n",
      "11 <class 'str'>\n",
      "11 <class 'str'> 1164\n",
      "11 <class 'str'>\n",
      "11 <class 'str'> 725\n",
      "11 <class 'str'>\n",
      "11 <class 'str'> 1061\n",
      "11 <class 'str'>\n",
      "11 <class 'str'> 1147\n",
      "11 <class 'str'>\n",
      "11 <class 'str'> 549\n",
      "11 <class 'str'>\n",
      "11 <class 'str'> 749\n",
      "11 <class 'str'>\n"
     ]
    },
    {
     "data": {
      "text/plain": [
       "True"
      ]
     },
     "execution_count": 3,
     "metadata": {},
     "output_type": "execute_result"
    },
    {
     "name": "stdout",
     "output_type": "stream",
     "text": [
      "image15_training.jpg\n",
      "0\n"
     ]
    },
    {
     "data": {
      "text/plain": [
       "True"
      ]
     },
     "execution_count": 3,
     "metadata": {},
     "output_type": "execute_result"
    },
    {
     "name": "stdout",
     "output_type": "stream",
     "text": [
      "image14_training.jpg\n",
      "2\n",
      "13 <class 'str'> 1059\n",
      "13 <class 'str'>\n",
      "13 <class 'str'> 1066\n",
      "13 <class 'str'>\n"
     ]
    },
    {
     "data": {
      "text/plain": [
       "True"
      ]
     },
     "execution_count": 3,
     "metadata": {},
     "output_type": "execute_result"
    },
    {
     "name": "stdout",
     "output_type": "stream",
     "text": [
      "image8_training.jpg\n",
      "4\n",
      "14 <class 'str'> 455\n",
      "14 <class 'str'>\n",
      "14 <class 'str'> 458\n",
      "14 <class 'str'>\n",
      "14 <class 'str'> 472\n",
      "14 <class 'str'>\n",
      "14 <class 'str'> 451\n",
      "14 <class 'str'>\n"
     ]
    },
    {
     "data": {
      "text/plain": [
       "True"
      ]
     },
     "execution_count": 3,
     "metadata": {},
     "output_type": "execute_result"
    },
    {
     "name": "stdout",
     "output_type": "stream",
     "text": [
      "image3_training.jpg\n",
      "11\n",
      "15 <class 'str'> 687\n",
      "15 <class 'str'>\n",
      "15 <class 'str'> 714\n",
      "15 <class 'str'>\n",
      "15 <class 'str'> 666\n",
      "15 <class 'str'>\n",
      "15 <class 'str'> 1167\n",
      "15 <class 'str'>\n",
      "15 <class 'str'> 671\n",
      "15 <class 'str'>\n",
      "15 <class 'str'> 1002\n",
      "15 <class 'str'>\n",
      "15 <class 'str'> 1144\n",
      "15 <class 'str'>\n",
      "15 <class 'str'> 703\n",
      "15 <class 'str'>\n",
      "15 <class 'str'> 1153\n",
      "15 <class 'str'>\n",
      "15 <class 'str'> 1157\n",
      "15 <class 'str'>\n",
      "15 <class 'str'> 1121\n",
      "15 <class 'str'>\n"
     ]
    },
    {
     "data": {
      "text/plain": [
       "True"
      ]
     },
     "execution_count": 3,
     "metadata": {},
     "output_type": "execute_result"
    },
    {
     "name": "stdout",
     "output_type": "stream",
     "text": [
      "image41_training.jpg\n",
      "1\n",
      "16 <class 'str'> 200\n",
      "16 <class 'str'>\n"
     ]
    },
    {
     "data": {
      "text/plain": [
       "True"
      ]
     },
     "execution_count": 3,
     "metadata": {},
     "output_type": "execute_result"
    },
    {
     "name": "stdout",
     "output_type": "stream",
     "text": [
      "image9_training.jpg\n",
      "0\n"
     ]
    },
    {
     "data": {
      "text/plain": [
       "True"
      ]
     },
     "execution_count": 3,
     "metadata": {},
     "output_type": "execute_result"
    },
    {
     "name": "stdout",
     "output_type": "stream",
     "text": [
      "image34_training.jpg\n",
      "25\n",
      "18 <class 'str'> 218\n",
      "18 <class 'str'>\n",
      "18 <class 'str'> 22\n",
      "18 <class 'str'>\n",
      "18 <class 'str'> 414\n",
      "18 <class 'str'>\n",
      "18 <class 'str'> 336\n",
      "18 <class 'str'>\n",
      "18 <class 'str'> 203\n",
      "18 <class 'str'>\n",
      "18 <class 'str'> 333\n",
      "18 <class 'str'>\n",
      "18 <class 'str'> 416\n",
      "18 <class 'str'>\n",
      "18 <class 'str'> 407\n",
      "18 <class 'str'>\n",
      "18 <class 'str'> 227\n",
      "18 <class 'str'>\n",
      "18 <class 'str'> 429\n",
      "18 <class 'str'>\n",
      "18 <class 'str'> 299\n",
      "18 <class 'str'>\n",
      "18 <class 'str'> 200\n",
      "18 <class 'str'>\n",
      "18 <class 'str'> 204\n",
      "18 <class 'str'>\n",
      "18 <class 'str'> 217\n",
      "18 <class 'str'>\n",
      "18 <class 'str'> 415\n",
      "18 <class 'str'>\n",
      "18 <class 'str'> 280\n",
      "18 <class 'str'>\n",
      "18 <class 'str'> 333\n",
      "18 <class 'str'>\n",
      "18 <class 'str'> 293\n",
      "18 <class 'str'>\n",
      "18 <class 'str'> 272\n",
      "18 <class 'str'>\n",
      "18 <class 'str'> 183\n",
      "18 <class 'str'>\n",
      "18 <class 'str'> 283\n",
      "18 <class 'str'>\n",
      "18 <class 'str'> 239\n",
      "18 <class 'str'>\n",
      "18 <class 'str'> 22\n",
      "18 <class 'str'>\n",
      "18 <class 'str'> 420\n",
      "18 <class 'str'>\n",
      "18 <class 'str'> 276\n",
      "18 <class 'str'>\n"
     ]
    },
    {
     "data": {
      "text/plain": [
       "True"
      ]
     },
     "execution_count": 3,
     "metadata": {},
     "output_type": "execute_result"
    },
    {
     "name": "stdout",
     "output_type": "stream",
     "text": [
      "image30_training.jpg\n",
      "3\n",
      "19 <class 'str'> 410\n",
      "19 <class 'str'>\n",
      "19 <class 'str'> 1005\n",
      "19 <class 'str'>\n",
      "19 <class 'str'> 403\n",
      "19 <class 'str'>\n"
     ]
    },
    {
     "data": {
      "text/plain": [
       "True"
      ]
     },
     "execution_count": 3,
     "metadata": {},
     "output_type": "execute_result"
    },
    {
     "name": "stdout",
     "output_type": "stream",
     "text": [
      "image25_training.jpg\n",
      "0\n"
     ]
    },
    {
     "data": {
      "text/plain": [
       "True"
      ]
     },
     "execution_count": 3,
     "metadata": {},
     "output_type": "execute_result"
    },
    {
     "name": "stdout",
     "output_type": "stream",
     "text": [
      "image13_training.jpg\n",
      "2\n",
      "21 <class 'str'> 331\n",
      "21 <class 'str'>\n",
      "21 <class 'str'> 210\n",
      "21 <class 'str'>\n"
     ]
    },
    {
     "data": {
      "text/plain": [
       "True"
      ]
     },
     "execution_count": 3,
     "metadata": {},
     "output_type": "execute_result"
    },
    {
     "name": "stdout",
     "output_type": "stream",
     "text": [
      "image39_training.jpg\n",
      "9\n",
      "22 <class 'str'> 185\n",
      "22 <class 'str'>\n",
      "22 <class 'str'> 253\n",
      "22 <class 'str'>\n",
      "22 <class 'str'> 141\n",
      "22 <class 'str'>\n",
      "22 <class 'str'> 149\n",
      "22 <class 'str'>\n",
      "22 <class 'str'> 141\n",
      "22 <class 'str'>\n",
      "22 <class 'str'> 186\n",
      "22 <class 'str'>\n",
      "22 <class 'str'> 257\n",
      "22 <class 'str'>\n",
      "22 <class 'str'> 144\n",
      "22 <class 'str'>\n",
      "22 <class 'str'> 333\n",
      "22 <class 'str'>\n"
     ]
    },
    {
     "data": {
      "text/plain": [
       "True"
      ]
     },
     "execution_count": 3,
     "metadata": {},
     "output_type": "execute_result"
    },
    {
     "name": "stdout",
     "output_type": "stream",
     "text": [
      "image22_training.jpg\n",
      "3\n",
      "23 <class 'str'> 1204\n",
      "23 <class 'str'>\n",
      "23 <class 'str'> 1195\n",
      "23 <class 'str'>\n",
      "23 <class 'str'> 1119\n",
      "23 <class 'str'>\n"
     ]
    },
    {
     "data": {
      "text/plain": [
       "True"
      ]
     },
     "execution_count": 3,
     "metadata": {},
     "output_type": "execute_result"
    },
    {
     "name": "stdout",
     "output_type": "stream",
     "text": [
      "image26_training.jpg\n",
      "12\n",
      "24 <class 'str'> 356\n",
      "24 <class 'str'>\n",
      "24 <class 'str'> 361\n",
      "24 <class 'str'>\n",
      "24 <class 'str'> 343\n",
      "24 <class 'str'>\n",
      "24 <class 'str'> 274\n",
      "24 <class 'str'>\n",
      "24 <class 'str'> 325\n",
      "24 <class 'str'>\n",
      "24 <class 'str'> 344\n",
      "24 <class 'str'>\n",
      "24 <class 'str'> 651\n",
      "24 <class 'str'>\n",
      "24 <class 'str'> 348\n",
      "24 <class 'str'>\n",
      "24 <class 'str'> 323\n",
      "24 <class 'str'>\n",
      "24 <class 'str'> 649\n",
      "24 <class 'str'>\n",
      "24 <class 'str'> 513\n",
      "24 <class 'str'>\n",
      "24 <class 'str'> 662\n",
      "24 <class 'str'>\n"
     ]
    },
    {
     "data": {
      "text/plain": [
       "True"
      ]
     },
     "execution_count": 3,
     "metadata": {},
     "output_type": "execute_result"
    },
    {
     "name": "stdout",
     "output_type": "stream",
     "text": [
      "image19_training.jpg\n",
      "0\n"
     ]
    },
    {
     "data": {
      "text/plain": [
       "True"
      ]
     },
     "execution_count": 3,
     "metadata": {},
     "output_type": "execute_result"
    },
    {
     "name": "stdout",
     "output_type": "stream",
     "text": [
      "image48_training.jpg\n",
      "4\n",
      "26 <class 'str'> 249\n",
      "26 <class 'str'>\n",
      "26 <class 'str'> 217\n",
      "26 <class 'str'>\n",
      "26 <class 'str'> 273\n",
      "26 <class 'str'>\n",
      "26 <class 'str'> 237\n",
      "26 <class 'str'>\n"
     ]
    },
    {
     "data": {
      "text/plain": [
       "True"
      ]
     },
     "execution_count": 3,
     "metadata": {},
     "output_type": "execute_result"
    },
    {
     "name": "stdout",
     "output_type": "stream",
     "text": [
      "image44_training.jpg\n",
      "0\n"
     ]
    },
    {
     "data": {
      "text/plain": [
       "True"
      ]
     },
     "execution_count": 3,
     "metadata": {},
     "output_type": "execute_result"
    },
    {
     "name": "stdout",
     "output_type": "stream",
     "text": [
      "image37_training.jpg\n",
      "13\n",
      "28 <class 'str'> 736\n",
      "28 <class 'str'>\n",
      "28 <class 'str'> 605\n",
      "28 <class 'str'>\n",
      "28 <class 'str'> 588\n",
      "28 <class 'str'>\n",
      "28 <class 'str'> 1011\n",
      "28 <class 'str'>\n",
      "28 <class 'str'> 1001\n",
      "28 <class 'str'>\n",
      "28 <class 'str'> 852\n",
      "28 <class 'str'>\n",
      "28 <class 'str'> 616\n",
      "28 <class 'str'>\n",
      "28 <class 'str'> 841\n",
      "28 <class 'str'>\n",
      "28 <class 'str'> 601\n",
      "28 <class 'str'>\n",
      "28 <class 'str'> 623\n",
      "28 <class 'str'>\n",
      "28 <class 'str'> 980\n",
      "28 <class 'str'>\n",
      "28 <class 'str'> 563\n",
      "28 <class 'str'>\n",
      "28 <class 'str'> 604\n",
      "28 <class 'str'>\n"
     ]
    },
    {
     "data": {
      "text/plain": [
       "True"
      ]
     },
     "execution_count": 3,
     "metadata": {},
     "output_type": "execute_result"
    },
    {
     "name": "stdout",
     "output_type": "stream",
     "text": [
      "image2_training.jpg\n",
      "5\n",
      "29 <class 'str'> 141\n",
      "29 <class 'str'>\n",
      "29 <class 'str'> 96\n",
      "29 <class 'str'>\n",
      "29 <class 'str'> 313\n",
      "29 <class 'str'>\n",
      "29 <class 'str'> 320\n",
      "29 <class 'str'>\n",
      "29 <class 'str'> 144\n",
      "29 <class 'str'>\n"
     ]
    },
    {
     "data": {
      "text/plain": [
       "True"
      ]
     },
     "execution_count": 3,
     "metadata": {},
     "output_type": "execute_result"
    },
    {
     "name": "stdout",
     "output_type": "stream",
     "text": [
      "image42_training.jpg\n",
      "2\n",
      "30 <class 'str'> 244\n",
      "30 <class 'str'>\n",
      "30 <class 'str'> 211\n",
      "30 <class 'str'>\n"
     ]
    },
    {
     "data": {
      "text/plain": [
       "True"
      ]
     },
     "execution_count": 3,
     "metadata": {},
     "output_type": "execute_result"
    },
    {
     "name": "stdout",
     "output_type": "stream",
     "text": [
      "image33_training.jpg\n",
      "2\n",
      "31 <class 'str'> 184\n",
      "31 <class 'str'>\n",
      "31 <class 'str'> 98\n",
      "31 <class 'str'>\n"
     ]
    },
    {
     "data": {
      "text/plain": [
       "True"
      ]
     },
     "execution_count": 3,
     "metadata": {},
     "output_type": "execute_result"
    },
    {
     "name": "stdout",
     "output_type": "stream",
     "text": [
      "image27_training.jpg\n",
      "4\n",
      "32 <class 'str'> 453\n",
      "32 <class 'str'>\n",
      "32 <class 'str'> 350\n",
      "32 <class 'str'>\n",
      "32 <class 'str'> 262\n",
      "32 <class 'str'>\n",
      "32 <class 'str'> 279\n",
      "32 <class 'str'>\n"
     ]
    },
    {
     "data": {
      "text/plain": [
       "True"
      ]
     },
     "execution_count": 3,
     "metadata": {},
     "output_type": "execute_result"
    },
    {
     "name": "stdout",
     "output_type": "stream",
     "text": [
      "image7_training.jpg\n",
      "0\n"
     ]
    },
    {
     "data": {
      "text/plain": [
       "True"
      ]
     },
     "execution_count": 3,
     "metadata": {},
     "output_type": "execute_result"
    },
    {
     "name": "stdout",
     "output_type": "stream",
     "text": [
      "image18_training.jpg\n",
      "41\n",
      "34 <class 'str'> 834\n",
      "34 <class 'str'>\n",
      "34 <class 'str'> 809\n",
      "34 <class 'str'>\n",
      "34 <class 'str'> 780\n",
      "34 <class 'str'>\n",
      "34 <class 'str'> 952\n",
      "34 <class 'str'>\n",
      "34 <class 'str'> 729\n",
      "34 <class 'str'>\n",
      "34 <class 'str'> 728\n",
      "34 <class 'str'>\n",
      "34 <class 'str'> 471\n",
      "34 <class 'str'>\n",
      "34 <class 'str'> 644\n",
      "34 <class 'str'>\n",
      "34 <class 'str'> 503\n",
      "34 <class 'str'>\n",
      "34 <class 'str'> 776\n",
      "34 <class 'str'>\n",
      "34 <class 'str'> 399\n",
      "34 <class 'str'>\n",
      "34 <class 'str'> 182\n",
      "34 <class 'str'>\n",
      "34 <class 'str'> 184\n",
      "34 <class 'str'>\n",
      "34 <class 'str'> 405\n",
      "34 <class 'str'>\n",
      "34 <class 'str'> 384\n",
      "34 <class 'str'>\n",
      "34 <class 'str'> 940\n",
      "34 <class 'str'>\n",
      "34 <class 'str'> 841\n",
      "34 <class 'str'>\n",
      "34 <class 'str'> 779\n",
      "34 <class 'str'>\n",
      "34 <class 'str'> 473\n",
      "34 <class 'str'>\n",
      "34 <class 'str'> 449\n",
      "34 <class 'str'>\n",
      "34 <class 'str'> 258\n",
      "34 <class 'str'>\n",
      "34 <class 'str'> 1103\n",
      "34 <class 'str'>\n",
      "34 <class 'str'> 830\n",
      "34 <class 'str'>\n",
      "34 <class 'str'> 517\n",
      "34 <class 'str'>\n",
      "34 <class 'str'> 644\n",
      "34 <class 'str'>\n",
      "34 <class 'str'> 398\n",
      "34 <class 'str'>\n",
      "34 <class 'str'> 689\n",
      "34 <class 'str'>\n",
      "34 <class 'str'> 452\n",
      "34 <class 'str'>\n",
      "34 <class 'str'> 582\n",
      "34 <class 'str'>\n",
      "34 <class 'str'> 593\n",
      "34 <class 'str'>\n",
      "34 <class 'str'> 449\n",
      "34 <class 'str'>\n",
      "34 <class 'str'> 963\n",
      "34 <class 'str'>\n",
      "34 <class 'str'> 539\n",
      "34 <class 'str'>\n",
      "34 <class 'str'> 620\n",
      "34 <class 'str'>\n",
      "34 <class 'str'> 169\n",
      "34 <class 'str'>\n",
      "34 <class 'str'> 432\n",
      "34 <class 'str'>\n",
      "34 <class 'str'> 833\n",
      "34 <class 'str'>\n",
      "34 <class 'str'> 517\n",
      "34 <class 'str'>\n",
      "34 <class 'str'> 177\n",
      "34 <class 'str'>\n",
      "34 <class 'str'> 539\n",
      "34 <class 'str'>\n",
      "34 <class 'str'> 780\n",
      "34 <class 'str'>\n"
     ]
    },
    {
     "data": {
      "text/plain": [
       "True"
      ]
     },
     "execution_count": 3,
     "metadata": {},
     "output_type": "execute_result"
    },
    {
     "name": "stdout",
     "output_type": "stream",
     "text": [
      "image4_training.jpg\n",
      "4\n",
      "35 <class 'str'> 466\n",
      "35 <class 'str'>\n",
      "35 <class 'str'> 459\n",
      "35 <class 'str'>\n",
      "35 <class 'str'> 396\n",
      "35 <class 'str'>\n",
      "35 <class 'str'> 474\n",
      "35 <class 'str'>\n"
     ]
    },
    {
     "data": {
      "text/plain": [
       "True"
      ]
     },
     "execution_count": 3,
     "metadata": {},
     "output_type": "execute_result"
    },
    {
     "name": "stdout",
     "output_type": "stream",
     "text": [
      "image43_training.jpg\n",
      "2\n",
      "36 <class 'str'> 883\n",
      "36 <class 'str'>\n",
      "36 <class 'str'> 881\n",
      "36 <class 'str'>\n"
     ]
    },
    {
     "data": {
      "text/plain": [
       "True"
      ]
     },
     "execution_count": 3,
     "metadata": {},
     "output_type": "execute_result"
    },
    {
     "name": "stdout",
     "output_type": "stream",
     "text": [
      "image20_training.jpg\n",
      "0\n"
     ]
    },
    {
     "data": {
      "text/plain": [
       "True"
      ]
     },
     "execution_count": 3,
     "metadata": {},
     "output_type": "execute_result"
    },
    {
     "name": "stdout",
     "output_type": "stream",
     "text": [
      "image32_training.jpg\n",
      "15\n",
      "38 <class 'str'> 838\n",
      "38 <class 'str'>\n",
      "38 <class 'str'> 810\n",
      "38 <class 'str'>\n",
      "38 <class 'str'> 576\n",
      "38 <class 'str'>\n",
      "38 <class 'str'> 704\n",
      "38 <class 'str'>\n",
      "38 <class 'str'> 860\n",
      "38 <class 'str'>\n",
      "38 <class 'str'> 586\n",
      "38 <class 'str'>\n",
      "38 <class 'str'> 657\n",
      "38 <class 'str'>\n",
      "38 <class 'str'> 579\n",
      "38 <class 'str'>\n",
      "38 <class 'str'> 667\n",
      "38 <class 'str'>\n",
      "38 <class 'str'> 703\n",
      "38 <class 'str'>\n",
      "38 <class 'str'> 875\n",
      "38 <class 'str'>\n",
      "38 <class 'str'> 775\n",
      "38 <class 'str'>\n",
      "38 <class 'str'> 711\n",
      "38 <class 'str'>\n",
      "38 <class 'str'> 810\n",
      "38 <class 'str'>\n",
      "38 <class 'str'> 874\n",
      "38 <class 'str'>\n"
     ]
    },
    {
     "data": {
      "text/plain": [
       "True"
      ]
     },
     "execution_count": 3,
     "metadata": {},
     "output_type": "execute_result"
    },
    {
     "name": "stdout",
     "output_type": "stream",
     "text": [
      "image6_training.jpg\n",
      "0\n"
     ]
    },
    {
     "data": {
      "text/plain": [
       "True"
      ]
     },
     "execution_count": 3,
     "metadata": {},
     "output_type": "execute_result"
    },
    {
     "name": "stdout",
     "output_type": "stream",
     "text": [
      "image1_training.jpg\n",
      "1\n",
      "40 <class 'str'> 247\n",
      "40 <class 'str'>\n"
     ]
    },
    {
     "data": {
      "text/plain": [
       "True"
      ]
     },
     "execution_count": 3,
     "metadata": {},
     "output_type": "execute_result"
    },
    {
     "name": "stdout",
     "output_type": "stream",
     "text": [
      "image11_training.jpg\n",
      "30\n",
      "41 <class 'str'> 462\n",
      "41 <class 'str'>\n",
      "41 <class 'str'> 300\n",
      "41 <class 'str'>\n",
      "41 <class 'str'> 476\n",
      "41 <class 'str'>\n",
      "41 <class 'str'> 256\n",
      "41 <class 'str'>\n",
      "41 <class 'str'> 375\n",
      "41 <class 'str'>\n",
      "41 <class 'str'> 273\n",
      "41 <class 'str'>\n",
      "41 <class 'str'> 479\n",
      "41 <class 'str'>\n",
      "41 <class 'str'> 332\n",
      "41 <class 'str'>\n",
      "41 <class 'str'> 473\n",
      "41 <class 'str'>\n",
      "41 <class 'str'> 282\n",
      "41 <class 'str'>\n",
      "41 <class 'str'> 344\n",
      "41 <class 'str'>\n",
      "41 <class 'str'> 217\n",
      "41 <class 'str'>\n",
      "41 <class 'str'> 258\n",
      "41 <class 'str'>\n",
      "41 <class 'str'> 373\n",
      "41 <class 'str'>\n",
      "41 <class 'str'> 258\n",
      "41 <class 'str'>\n",
      "41 <class 'str'> 362\n",
      "41 <class 'str'>\n",
      "41 <class 'str'> 210\n",
      "41 <class 'str'>\n",
      "41 <class 'str'> 106\n",
      "41 <class 'str'>\n",
      "41 <class 'str'> 364\n",
      "41 <class 'str'>\n",
      "41 <class 'str'> 469\n",
      "41 <class 'str'>\n",
      "41 <class 'str'> 438\n",
      "41 <class 'str'>\n",
      "41 <class 'str'> 412\n",
      "41 <class 'str'>\n",
      "41 <class 'str'> 164\n",
      "41 <class 'str'>\n",
      "41 <class 'str'> 469\n",
      "41 <class 'str'>\n",
      "41 <class 'str'> 346\n",
      "41 <class 'str'>\n",
      "41 <class 'str'> 353\n",
      "41 <class 'str'>\n",
      "41 <class 'str'> 91\n",
      "41 <class 'str'>\n",
      "41 <class 'str'> 332\n",
      "41 <class 'str'>\n",
      "41 <class 'str'> 84\n",
      "41 <class 'str'>\n",
      "41 <class 'str'> 336\n",
      "41 <class 'str'>\n"
     ]
    },
    {
     "data": {
      "text/plain": [
       "True"
      ]
     },
     "execution_count": 3,
     "metadata": {},
     "output_type": "execute_result"
    },
    {
     "name": "stdout",
     "output_type": "stream",
     "text": [
      "image40_training.jpg\n",
      "12\n",
      "42 <class 'str'> 686\n",
      "42 <class 'str'>\n",
      "42 <class 'str'> 647\n",
      "42 <class 'str'>\n",
      "42 <class 'str'> 820\n",
      "42 <class 'str'>\n",
      "42 <class 'str'> 639\n",
      "42 <class 'str'>\n",
      "42 <class 'str'> 693\n",
      "42 <class 'str'>\n",
      "42 <class 'str'> 549\n",
      "42 <class 'str'>\n",
      "42 <class 'str'> 820\n",
      "42 <class 'str'>\n",
      "42 <class 'str'> 949\n",
      "42 <class 'str'>\n",
      "42 <class 'str'> 883\n",
      "42 <class 'str'>\n",
      "42 <class 'str'> 639\n",
      "42 <class 'str'>\n",
      "42 <class 'str'> 664\n",
      "42 <class 'str'>\n",
      "42 <class 'str'> 646\n",
      "42 <class 'str'>\n"
     ]
    },
    {
     "data": {
      "text/plain": [
       "True"
      ]
     },
     "execution_count": 3,
     "metadata": {},
     "output_type": "execute_result"
    },
    {
     "name": "stdout",
     "output_type": "stream",
     "text": [
      "image12_training.jpg\n",
      "19\n",
      "43 <class 'str'> 204\n",
      "43 <class 'str'>\n",
      "43 <class 'str'> 196\n",
      "43 <class 'str'>\n",
      "43 <class 'str'> 406\n",
      "43 <class 'str'>\n",
      "43 <class 'str'> 349\n",
      "43 <class 'str'>\n",
      "43 <class 'str'> 177\n",
      "43 <class 'str'>\n",
      "43 <class 'str'> 412\n",
      "43 <class 'str'>\n",
      "43 <class 'str'> 511\n",
      "43 <class 'str'>\n",
      "43 <class 'str'> 496\n",
      "43 <class 'str'>\n",
      "43 <class 'str'> 412\n",
      "43 <class 'str'>\n",
      "43 <class 'str'> 548\n",
      "43 <class 'str'>\n",
      "43 <class 'str'> 226\n",
      "43 <class 'str'>\n",
      "43 <class 'str'> 521\n",
      "43 <class 'str'>\n",
      "43 <class 'str'> 531\n",
      "43 <class 'str'>\n",
      "43 <class 'str'> 516\n",
      "43 <class 'str'>\n",
      "43 <class 'str'> 419\n",
      "43 <class 'str'>\n",
      "43 <class 'str'> 185\n",
      "43 <class 'str'>\n",
      "43 <class 'str'> 201\n",
      "43 <class 'str'>\n",
      "43 <class 'str'> 518\n",
      "43 <class 'str'>\n",
      "43 <class 'str'> 197\n",
      "43 <class 'str'>\n"
     ]
    },
    {
     "data": {
      "text/plain": [
       "True"
      ]
     },
     "execution_count": 3,
     "metadata": {},
     "output_type": "execute_result"
    },
    {
     "name": "stdout",
     "output_type": "stream",
     "text": [
      "image17_training.jpg\n",
      "0\n"
     ]
    },
    {
     "data": {
      "text/plain": [
       "True"
      ]
     },
     "execution_count": 3,
     "metadata": {},
     "output_type": "execute_result"
    },
    {
     "name": "stdout",
     "output_type": "stream",
     "text": [
      "image0_training.jpg\n",
      "0\n"
     ]
    },
    {
     "data": {
      "text/plain": [
       "True"
      ]
     },
     "execution_count": 3,
     "metadata": {},
     "output_type": "execute_result"
    },
    {
     "name": "stdout",
     "output_type": "stream",
     "text": [
      "image47_training.jpg\n",
      "6\n",
      "46 <class 'str'> 1211\n",
      "46 <class 'str'>\n",
      "46 <class 'str'> 1170\n",
      "46 <class 'str'>\n",
      "46 <class 'str'> 1181\n",
      "46 <class 'str'>\n",
      "46 <class 'str'> 1192\n",
      "46 <class 'str'>\n",
      "46 <class 'str'> 1214\n",
      "46 <class 'str'>\n",
      "46 <class 'str'> 1175\n",
      "46 <class 'str'>\n"
     ]
    },
    {
     "data": {
      "text/plain": [
       "True"
      ]
     },
     "execution_count": 3,
     "metadata": {},
     "output_type": "execute_result"
    },
    {
     "name": "stdout",
     "output_type": "stream",
     "text": [
      "image10_training.jpg\n",
      "1\n",
      "47 <class 'str'> 18\n",
      "47 <class 'str'>\n"
     ]
    },
    {
     "data": {
      "text/plain": [
       "True"
      ]
     },
     "execution_count": 3,
     "metadata": {},
     "output_type": "execute_result"
    },
    {
     "name": "stdout",
     "output_type": "stream",
     "text": [
      "image24_training.jpg\n",
      "3\n",
      "48 <class 'str'> 1165\n",
      "48 <class 'str'>\n",
      "48 <class 'str'> 1098\n",
      "48 <class 'str'>\n",
      "48 <class 'str'> 1174\n",
      "48 <class 'str'>\n"
     ]
    },
    {
     "data": {
      "text/plain": [
       "True"
      ]
     },
     "execution_count": 3,
     "metadata": {},
     "output_type": "execute_result"
    },
    {
     "name": "stdout",
     "output_type": "stream",
     "text": [
      "image28_training.jpg\n",
      "4\n",
      "49 <class 'str'> 686\n",
      "49 <class 'str'>\n",
      "49 <class 'str'> 224\n",
      "49 <class 'str'>\n",
      "49 <class 'str'> 585\n",
      "49 <class 'str'>\n",
      "49 <class 'str'> 698\n",
      "49 <class 'str'>\n"
     ]
    },
    {
     "data": {
      "text/plain": [
       "True"
      ]
     },
     "execution_count": 3,
     "metadata": {},
     "output_type": "execute_result"
    }
   ],
   "source": [
    "#coding=utf-8\n",
    "import xml.dom.minidom\n",
    "import cv2\n",
    "import numpy as np\n",
    "\n",
    "#打开xml文档\n",
    "dom = xml.dom.minidom.parse('annotations-consensus-ma-only.xml')\n",
    " \n",
    "#得到xml文档元素对象\n",
    "root = dom.documentElement\n",
    " \n",
    "drLen= root.getElementsByTagName('annotations-per-image').length\n",
    "print(drLen)\n",
    "#i = 0\n",
    "#for Object in root.getElementsByTagName('annotations-per-image'):\n",
    "for i in range(drLen):    \n",
    "    #print(i, Object)\n",
    "#开始操作<br>\n",
    "#获取readSession标签集并且继续获取标签集中第一个readSession下的xCoord标签集\n",
    "    fileName = root.getElementsByTagName('annotations-per-image')[i]\n",
    "    nameId = fileName.getAttribute(\"imagename\") \n",
    "    print(nameId)\n",
    "    \n",
    "    image = cv2.imread('/Users/victor/Project4sxd/DRandDME/data/ROC_Data/ROCtraining/'+nameId)\n",
    "    (x,y,z) = image.shape\n",
    "    image_new = np.zeros([x,y,3], dtype = np.uint8)\n",
    "    \n",
    "    annLen = root.getElementsByTagName('annotations-per-image')[i].getElementsByTagName('annotation').length\n",
    "    print(annLen)\n",
    "    for j in range(annLen):\n",
    "        coordinatesMark = root.getElementsByTagName('annotations-per-image')[i].getElementsByTagName('annotation')[j].getElementsByTagName('mark')[0]\n",
    "        x = coordinatesMark.getAttribute(\"x\")\n",
    "        y = coordinatesMark.getAttribute(\"y\")\n",
    "        print(i, type(x), y)\n",
    "        radius=root.getElementsByTagName('annotations-per-image')[i].getElementsByTagName('annotation')[j].getElementsByTagName('mark')[0].getElementsByTagName('radius')\n",
    "        #获取到了xCoord第一子集  的子元素的数据  将其打印    firstChild 在这里代表xCoord的文本内容 也是一个文本结点  将文本结点的数据打印\n",
    "        print(i, type(radius[0].firstChild.data))\n",
    "        image_new = cv2.circle(image_new, (int(x),int(y)), int(radius[0].firstChild.data), (255,255,0), -1)\n",
    "    \n",
    "    cv2.imwrite('/Users/victor/Project4sxd/DRandDME/data/ROC_Data/ROC_Mask/'+nameId.strip('jpg')+'png', image_new)\n"
   ]
  },
  {
   "cell_type": "code",
   "execution_count": null,
   "metadata": {},
   "outputs": [],
   "source": []
  }
 ],
 "metadata": {
  "kernelspec": {
   "display_name": "Python 3",
   "language": "python",
   "name": "python3"
  },
  "language_info": {
   "codemirror_mode": {
    "name": "ipython",
    "version": 3
   },
   "file_extension": ".py",
   "mimetype": "text/x-python",
   "name": "python",
   "nbconvert_exporter": "python",
   "pygments_lexer": "ipython3",
   "version": "3.5.4"
  }
 },
 "nbformat": 4,
 "nbformat_minor": 2
}
