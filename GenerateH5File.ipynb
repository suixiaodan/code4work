{
 "cells": [
  {
   "cell_type": "markdown",
   "metadata": {},
   "source": [
    "# 实验，将糖网分级比赛中的tiff标注数据转化成PNG数据"
   ]
  },
  {
   "cell_type": "code",
   "execution_count": 3,
   "metadata": {},
   "outputs": [],
   "source": [
    "import h5py\n",
    "\n",
    "import scipy.io"
   ]
  },
  {
   "cell_type": "code",
   "execution_count": 11,
   "metadata": {},
   "outputs": [],
   "source": [
    "import numpy as np\n",
    "import pandas as pd"
   ]
  },
  {
   "cell_type": "code",
   "execution_count": 4,
   "metadata": {},
   "outputs": [
    {
     "name": "stdout",
     "output_type": "stream",
     "text": [
      "KeysView(<HDF5 file \"matlab.mat\" (mode r+)>)\n"
     ]
    }
   ],
   "source": [
    "# data = scipy.io.loadmat('matlab.mat')\n",
    "mat = h5py.File('matlab.mat')\n",
    "#mask = data['cdata']   \n",
    "print(mat.keys())"
   ]
  },
  {
   "cell_type": "code",
   "execution_count": 5,
   "metadata": {},
   "outputs": [
    {
     "name": "stdout",
     "output_type": "stream",
     "text": [
      "ValuesViewHDF5(<HDF5 file \"matlab.mat\" (mode r+)>)\n"
     ]
    }
   ],
   "source": [
    "print(mat.values())"
   ]
  },
  {
   "cell_type": "code",
   "execution_count": 6,
   "metadata": {},
   "outputs": [
    {
     "name": "stdout",
     "output_type": "stream",
     "text": [
      "(4288, 2848)\n"
     ]
    }
   ],
   "source": [
    "print(mat['cdata'].shape)"
   ]
  },
  {
   "cell_type": "code",
   "execution_count": 9,
   "metadata": {},
   "outputs": [],
   "source": [
    "mat_t = np.transpose(mat['cdata'])"
   ]
  },
  {
   "cell_type": "code",
   "execution_count": 12,
   "metadata": {},
   "outputs": [],
   "source": [
    "data1 = pd.DataFrame(mat_t)"
   ]
  },
  {
   "cell_type": "code",
   "execution_count": 13,
   "metadata": {},
   "outputs": [],
   "source": [
    "data1.to_csv('data1.csv')"
   ]
  },
  {
   "cell_type": "code",
   "execution_count": 18,
   "metadata": {},
   "outputs": [],
   "source": [
    "writer = pd.ExcelWriter('Save_Excel.xlsx')\n",
    "data1.to_excel(writer,'page_1') # float_format 控制精度\n",
    "writer.save()"
   ]
  },
  {
   "cell_type": "code",
   "execution_count": 14,
   "metadata": {},
   "outputs": [
    {
     "name": "stdout",
     "output_type": "stream",
     "text": [
      "      0     1     2     3     4     5     6     7     8     9     ...   4278  \\\n",
      "0        0     0     0     0     0     0     0     0     0     0  ...      0   \n",
      "1        0     0     0     0     0     0     0     0     0     0  ...      0   \n",
      "2        0     0     0     0     0     0     0     0     0     0  ...      0   \n",
      "3        0     0     0     0     0     0     0     0     0     0  ...      0   \n",
      "4        0     0     0     0     0     0     0     0     0     0  ...      0   \n",
      "5        0     0     0     0     0     0     0     0     0     0  ...      0   \n",
      "6        0     0     0     0     0     0     0     0     0     0  ...      0   \n",
      "7        0     0     0     0     0     0     0     0     0     0  ...      0   \n",
      "8        0     0     0     0     0     0     0     0     0     0  ...      0   \n",
      "9        0     0     0     0     0     0     0     0     0     0  ...      0   \n",
      "10       0     0     0     0     0     0     0     0     0     0  ...      0   \n",
      "11       0     0     0     0     0     0     0     0     0     0  ...      0   \n",
      "12       0     0     0     0     0     0     0     0     0     0  ...      0   \n",
      "13       0     0     0     0     0     0     0     0     0     0  ...      0   \n",
      "14       0     0     0     0     0     0     0     0     0     0  ...      0   \n",
      "15       0     0     0     0     0     0     0     0     0     0  ...      0   \n",
      "16       0     0     0     0     0     0     0     0     0     0  ...      0   \n",
      "17       0     0     0     0     0     0     0     0     0     0  ...      0   \n",
      "18       0     0     0     0     0     0     0     0     0     0  ...      0   \n",
      "19       0     0     0     0     0     0     0     0     0     0  ...      0   \n",
      "20       0     0     0     0     0     0     0     0     0     0  ...      0   \n",
      "21       0     0     0     0     0     0     0     0     0     0  ...      0   \n",
      "22       0     0     0     0     0     0     0     0     0     0  ...      0   \n",
      "23       0     0     0     0     0     0     0     0     0     0  ...      0   \n",
      "24       0     0     0     0     0     0     0     0     0     0  ...      0   \n",
      "25       0     0     0     0     0     0     0     0     0     0  ...      0   \n",
      "26       0     0     0     0     0     0     0     0     0     0  ...      0   \n",
      "27       0     0     0     0     0     0     0     0     0     0  ...      0   \n",
      "28       0     0     0     0     0     0     0     0     0     0  ...      0   \n",
      "29       0     0     0     0     0     0     0     0     0     0  ...      0   \n",
      "...    ...   ...   ...   ...   ...   ...   ...   ...   ...   ...  ...    ...   \n",
      "2818     0     0     0     0     0     0     0     0     0     0  ...      0   \n",
      "2819     0     0     0     0     0     0     0     0     0     0  ...      0   \n",
      "2820     0     0     0     0     0     0     0     0     0     0  ...      0   \n",
      "2821     0     0     0     0     0     0     0     0     0     0  ...      0   \n",
      "2822     0     0     0     0     0     0     0     0     0     0  ...      0   \n",
      "2823     0     0     0     0     0     0     0     0     0     0  ...      0   \n",
      "2824     0     0     0     0     0     0     0     0     0     0  ...      0   \n",
      "2825     0     0     0     0     0     0     0     0     0     0  ...      0   \n",
      "2826     0     0     0     0     0     0     0     0     0     0  ...      0   \n",
      "2827     0     0     0     0     0     0     0     0     0     0  ...      0   \n",
      "2828     0     0     0     0     0     0     0     0     0     0  ...      0   \n",
      "2829     0     0     0     0     0     0     0     0     0     0  ...      0   \n",
      "2830     0     0     0     0     0     0     0     0     0     0  ...      0   \n",
      "2831     0     0     0     0     0     0     0     0     0     0  ...      0   \n",
      "2832     0     0     0     0     0     0     0     0     0     0  ...      0   \n",
      "2833     0     0     0     0     0     0     0     0     0     0  ...      0   \n",
      "2834     0     0     0     0     0     0     0     0     0     0  ...      0   \n",
      "2835     0     0     0     0     0     0     0     0     0     0  ...      0   \n",
      "2836     0     0     0     0     0     0     0     0     0     0  ...      0   \n",
      "2837     0     0     0     0     0     0     0     0     0     0  ...      0   \n",
      "2838     0     0     0     0     0     0     0     0     0     0  ...      0   \n",
      "2839     0     0     0     0     0     0     0     0     0     0  ...      0   \n",
      "2840     0     0     0     0     0     0     0     0     0     0  ...      0   \n",
      "2841     0     0     0     0     0     0     0     0     0     0  ...      0   \n",
      "2842     0     0     0     0     0     0     0     0     0     0  ...      0   \n",
      "2843     0     0     0     0     0     0     0     0     0     0  ...      0   \n",
      "2844     0     0     0     0     0     0     0     0     0     0  ...      0   \n",
      "2845     0     0     0     0     0     0     0     0     0     0  ...      0   \n",
      "2846     0     0     0     0     0     0     0     0     0     0  ...      0   \n",
      "2847     0     0     0     0     0     0     0     0     0     0  ...      0   \n",
      "\n",
      "      4279  4280  4281  4282  4283  4284  4285  4286  4287  \n",
      "0        0     0     0     0     0     0     0     0     0  \n",
      "1        0     0     0     0     0     0     0     0     0  \n",
      "2        0     0     0     0     0     0     0     0     0  \n",
      "3        0     0     0     0     0     0     0     0     0  \n",
      "4        0     0     0     0     0     0     0     0     0  \n",
      "5        0     0     0     0     0     0     0     0     0  \n",
      "6        0     0     0     0     0     0     0     0     0  \n",
      "7        0     0     0     0     0     0     0     0     0  \n",
      "8        0     0     0     0     0     0     0     0     0  \n",
      "9        0     0     0     0     0     0     0     0     0  \n",
      "10       0     0     0     0     0     0     0     0     0  \n",
      "11       0     0     0     0     0     0     0     0     0  \n",
      "12       0     0     0     0     0     0     0     0     0  \n",
      "13       0     0     0     0     0     0     0     0     0  \n",
      "14       0     0     0     0     0     0     0     0     0  \n",
      "15       0     0     0     0     0     0     0     0     0  \n",
      "16       0     0     0     0     0     0     0     0     0  \n",
      "17       0     0     0     0     0     0     0     0     0  \n",
      "18       0     0     0     0     0     0     0     0     0  \n",
      "19       0     0     0     0     0     0     0     0     0  \n",
      "20       0     0     0     0     0     0     0     0     0  \n",
      "21       0     0     0     0     0     0     0     0     0  \n",
      "22       0     0     0     0     0     0     0     0     0  \n",
      "23       0     0     0     0     0     0     0     0     0  \n",
      "24       0     0     0     0     0     0     0     0     0  \n",
      "25       0     0     0     0     0     0     0     0     0  \n",
      "26       0     0     0     0     0     0     0     0     0  \n",
      "27       0     0     0     0     0     0     0     0     0  \n",
      "28       0     0     0     0     0     0     0     0     0  \n",
      "29       0     0     0     0     0     0     0     0     0  \n",
      "...    ...   ...   ...   ...   ...   ...   ...   ...   ...  \n",
      "2818     0     0     0     0     0     0     0     0     0  \n",
      "2819     0     0     0     0     0     0     0     0     0  \n",
      "2820     0     0     0     0     0     0     0     0     0  \n",
      "2821     0     0     0     0     0     0     0     0     0  \n",
      "2822     0     0     0     0     0     0     0     0     0  \n",
      "2823     0     0     0     0     0     0     0     0     0  \n",
      "2824     0     0     0     0     0     0     0     0     0  \n",
      "2825     0     0     0     0     0     0     0     0     0  \n",
      "2826     0     0     0     0     0     0     0     0     0  \n",
      "2827     0     0     0     0     0     0     0     0     0  \n",
      "2828     0     0     0     0     0     0     0     0     0  \n",
      "2829     0     0     0     0     0     0     0     0     0  \n",
      "2830     0     0     0     0     0     0     0     0     0  \n",
      "2831     0     0     0     0     0     0     0     0     0  \n",
      "2832     0     0     0     0     0     0     0     0     0  \n",
      "2833     0     0     0     0     0     0     0     0     0  \n",
      "2834     0     0     0     0     0     0     0     0     0  \n",
      "2835     0     0     0     0     0     0     0     0     0  \n",
      "2836     0     0     0     0     0     0     0     0     0  \n",
      "2837     0     0     0     0     0     0     0     0     0  \n",
      "2838     0     0     0     0     0     0     0     0     0  \n",
      "2839     0     0     0     0     0     0     0     0     0  \n",
      "2840     0     0     0     0     0     0     0     0     0  \n",
      "2841     0     0     0     0     0     0     0     0     0  \n",
      "2842     0     0     0     0     0     0     0     0     0  \n",
      "2843     0     0     0     0     0     0     0     0     0  \n",
      "2844     0     0     0     0     0     0     0     0     0  \n",
      "2845     0     0     0     0     0     0     0     0     0  \n",
      "2846     0     0     0     0     0     0     0     0     0  \n",
      "2847     0     0     0     0     0     0     0     0     0  \n",
      "\n",
      "[2848 rows x 4288 columns]\n"
     ]
    }
   ],
   "source": [
    "print(data1)"
   ]
  },
  {
   "cell_type": "code",
   "execution_count": 21,
   "metadata": {},
   "outputs": [],
   "source": [
    "(x,y) = mat_t.shape"
   ]
  },
  {
   "cell_type": "code",
   "execution_count": 22,
   "metadata": {},
   "outputs": [],
   "source": [
    "image = np.zeros([x,y,3], dtype = np.uint8)"
   ]
  },
  {
   "cell_type": "code",
   "execution_count": 23,
   "metadata": {},
   "outputs": [],
   "source": [
    "image[:,:,0] = mat_t*255"
   ]
  },
  {
   "cell_type": "code",
   "execution_count": 24,
   "metadata": {},
   "outputs": [],
   "source": [
    "import cv2"
   ]
  },
  {
   "cell_type": "code",
   "execution_count": 25,
   "metadata": {},
   "outputs": [
    {
     "data": {
      "text/plain": [
       "True"
      ]
     },
     "execution_count": 25,
     "metadata": {},
     "output_type": "execute_result"
    }
   ],
   "source": [
    "cv2.imwrite('111.png',image)"
   ]
  },
  {
   "cell_type": "code",
   "execution_count": 26,
   "metadata": {},
   "outputs": [
    {
     "data": {
      "text/plain": [
       "True"
      ]
     },
     "execution_count": 26,
     "metadata": {},
     "output_type": "execute_result"
    }
   ],
   "source": [
    "image1 = np.zeros([x,y,3], dtype = np.uint8)\n",
    "image1[:,:,2] = mat_t*255\n",
    "cv2.imwrite('222.png',image1)"
   ]
  },
  {
   "cell_type": "code",
   "execution_count": 31,
   "metadata": {},
   "outputs": [],
   "source": [
    "import cv2\n",
    "to = cv2.imread(\"IDRiD_01_OD.tif\")"
   ]
  },
  {
   "cell_type": "code",
   "execution_count": 35,
   "metadata": {},
   "outputs": [
    {
     "name": "stdout",
     "output_type": "stream",
     "text": [
      "(2848, 4288, 3)\n"
     ]
    }
   ],
   "source": [
    "(x,y,z)=to.shape\n",
    "print(to.shape)"
   ]
  },
  {
   "cell_type": "code",
   "execution_count": 37,
   "metadata": {},
   "outputs": [
    {
     "data": {
      "text/plain": [
       "True"
      ]
     },
     "execution_count": 37,
     "metadata": {},
     "output_type": "execute_result"
    }
   ],
   "source": [
    "image2 = np.zeros([x,y,3], dtype = np.uint8)\n",
    "image2[:,:,2] = to[:,:,2]/255*125\n",
    "cv2.imwrite('444.png',image2)"
   ]
  },
  {
   "cell_type": "code",
   "execution_count": null,
   "metadata": {},
   "outputs": [],
   "source": []
  }
 ],
 "metadata": {
  "kernelspec": {
   "display_name": "Python 3",
   "language": "python",
   "name": "python3"
  },
  "language_info": {
   "codemirror_mode": {
    "name": "ipython",
    "version": 3
   },
   "file_extension": ".py",
   "mimetype": "text/x-python",
   "name": "python",
   "nbconvert_exporter": "python",
   "pygments_lexer": "ipython3",
   "version": "3.5.4"
  }
 },
 "nbformat": 4,
 "nbformat_minor": 2
}
