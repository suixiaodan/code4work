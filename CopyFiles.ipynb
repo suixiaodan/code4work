{
 "cells": [
  {
   "cell_type": "markdown",
   "metadata": {},
   "source": [
    "# 根据文件夹中文件的名字，拷贝指定文件到某个地方"
   ]
  },
  {
   "cell_type": "code",
   "execution_count": 1,
   "metadata": {},
   "outputs": [],
   "source": [
    "import os\n",
    "import shutil"
   ]
  },
  {
   "cell_type": "code",
   "execution_count": 6,
   "metadata": {},
   "outputs": [
    {
     "data": {
      "text/plain": [
       "'/Users/victor/Project4sxd/DRandDME/code/challenge/DRGradingnew/train/0/IDRiD_210.jpg'"
      ]
     },
     "execution_count": 6,
     "metadata": {},
     "output_type": "execute_result"
    },
    {
     "data": {
      "text/plain": [
       "'/Users/victor/Project4sxd/DRandDME/code/challenge/DRGradingnew/train/0/IDRiD_202.jpg'"
      ]
     },
     "execution_count": 6,
     "metadata": {},
     "output_type": "execute_result"
    },
    {
     "data": {
      "text/plain": [
       "'/Users/victor/Project4sxd/DRandDME/code/challenge/DRGradingnew/train/0/IDRiD_162.jpg'"
      ]
     },
     "execution_count": 6,
     "metadata": {},
     "output_type": "execute_result"
    },
    {
     "data": {
      "text/plain": [
       "'/Users/victor/Project4sxd/DRandDME/code/challenge/DRGradingnew/train/0/IDRiD_170.jpg'"
      ]
     },
     "execution_count": 6,
     "metadata": {},
     "output_type": "execute_result"
    },
    {
     "data": {
      "text/plain": [
       "'/Users/victor/Project4sxd/DRandDME/code/challenge/DRGradingnew/train/0/IDRiD_146.jpg'"
      ]
     },
     "execution_count": 6,
     "metadata": {},
     "output_type": "execute_result"
    },
    {
     "data": {
      "text/plain": [
       "'/Users/victor/Project4sxd/DRandDME/code/challenge/DRGradingnew/train/0/IDRiD_158.jpg'"
      ]
     },
     "execution_count": 6,
     "metadata": {},
     "output_type": "execute_result"
    },
    {
     "data": {
      "text/plain": [
       "'/Users/victor/Project4sxd/DRandDME/code/challenge/DRGradingnew/train/0/IDRiD_154.jpg'"
      ]
     },
     "execution_count": 6,
     "metadata": {},
     "output_type": "execute_result"
    },
    {
     "data": {
      "text/plain": [
       "'/Users/victor/Project4sxd/DRandDME/code/challenge/DRGradingnew/train/0/IDRiD_172.jpg'"
      ]
     },
     "execution_count": 6,
     "metadata": {},
     "output_type": "execute_result"
    },
    {
     "data": {
      "text/plain": [
       "'/Users/victor/Project4sxd/DRandDME/code/challenge/DRGradingnew/train/0/IDRiD_160.jpg'"
      ]
     },
     "execution_count": 6,
     "metadata": {},
     "output_type": "execute_result"
    },
    {
     "data": {
      "text/plain": [
       "'/Users/victor/Project4sxd/DRandDME/code/challenge/DRGradingnew/train/0/IDRiD_148.jpg'"
      ]
     },
     "execution_count": 6,
     "metadata": {},
     "output_type": "execute_result"
    },
    {
     "data": {
      "text/plain": [
       "'/Users/victor/Project4sxd/DRandDME/code/challenge/DRGradingnew/train/0/IDRiD_156.jpg'"
      ]
     },
     "execution_count": 6,
     "metadata": {},
     "output_type": "execute_result"
    },
    {
     "data": {
      "text/plain": [
       "'/Users/victor/Project4sxd/DRandDME/code/challenge/DRGradingnew/train/0/IDRiD_144.jpg'"
      ]
     },
     "execution_count": 6,
     "metadata": {},
     "output_type": "execute_result"
    },
    {
     "data": {
      "text/plain": [
       "'/Users/victor/Project4sxd/DRandDME/code/challenge/DRGradingnew/train/0/IDRiD_139.jpg'"
      ]
     },
     "execution_count": 6,
     "metadata": {},
     "output_type": "execute_result"
    },
    {
     "data": {
      "text/plain": [
       "'/Users/victor/Project4sxd/DRandDME/code/challenge/DRGradingnew/train/0/IDRiD_193.jpg'"
      ]
     },
     "execution_count": 6,
     "metadata": {},
     "output_type": "execute_result"
    },
    {
     "data": {
      "text/plain": [
       "'/Users/victor/Project4sxd/DRandDME/code/challenge/DRGradingnew/train/0/IDRiD_181.jpg'"
      ]
     },
     "execution_count": 6,
     "metadata": {},
     "output_type": "execute_result"
    },
    {
     "data": {
      "text/plain": [
       "'/Users/victor/Project4sxd/DRandDME/code/challenge/DRGradingnew/train/0/IDRiD_200.jpg'"
      ]
     },
     "execution_count": 6,
     "metadata": {},
     "output_type": "execute_result"
    },
    {
     "data": {
      "text/plain": [
       "'/Users/victor/Project4sxd/DRandDME/code/challenge/DRGradingnew/train/0/IDRiD_212.jpg'"
      ]
     },
     "execution_count": 6,
     "metadata": {},
     "output_type": "execute_result"
    },
    {
     "data": {
      "text/plain": [
       "'/Users/victor/Project4sxd/DRandDME/code/challenge/DRGradingnew/train/0/IDRiD_140.jpg'"
      ]
     },
     "execution_count": 6,
     "metadata": {},
     "output_type": "execute_result"
    },
    {
     "data": {
      "text/plain": [
       "'/Users/victor/Project4sxd/DRandDME/code/challenge/DRGradingnew/train/0/IDRiD_152.jpg'"
      ]
     },
     "execution_count": 6,
     "metadata": {},
     "output_type": "execute_result"
    },
    {
     "data": {
      "text/plain": [
       "'/Users/victor/Project4sxd/DRandDME/code/challenge/DRGradingnew/train/0/IDRiD_164.jpg'"
      ]
     },
     "execution_count": 6,
     "metadata": {},
     "output_type": "execute_result"
    },
    {
     "data": {
      "text/plain": [
       "'/Users/victor/Project4sxd/DRandDME/code/challenge/DRGradingnew/train/0/IDRiD_168.jpg'"
      ]
     },
     "execution_count": 6,
     "metadata": {},
     "output_type": "execute_result"
    },
    {
     "data": {
      "text/plain": [
       "'/Users/victor/Project4sxd/DRandDME/code/challenge/DRGradingnew/train/0/IDRiD_176.jpg'"
      ]
     },
     "execution_count": 6,
     "metadata": {},
     "output_type": "execute_result"
    },
    {
     "data": {
      "text/plain": [
       "'/Users/victor/Project4sxd/DRandDME/code/challenge/DRGradingnew/train/0/IDRiD_204.jpg'"
      ]
     },
     "execution_count": 6,
     "metadata": {},
     "output_type": "execute_result"
    },
    {
     "data": {
      "text/plain": [
       "'/Users/victor/Project4sxd/DRandDME/code/challenge/DRGradingnew/train/0/IDRiD_197.jpg'"
      ]
     },
     "execution_count": 6,
     "metadata": {},
     "output_type": "execute_result"
    },
    {
     "data": {
      "text/plain": [
       "'/Users/victor/Project4sxd/DRandDME/code/challenge/DRGradingnew/train/0/IDRiD_220.jpg'"
      ]
     },
     "execution_count": 6,
     "metadata": {},
     "output_type": "execute_result"
    },
    {
     "data": {
      "text/plain": [
       "'/Users/victor/Project4sxd/DRandDME/code/challenge/DRGradingnew/train/0/IDRiD_218.jpg'"
      ]
     },
     "execution_count": 6,
     "metadata": {},
     "output_type": "execute_result"
    },
    {
     "data": {
      "text/plain": [
       "'/Users/victor/Project4sxd/DRandDME/code/challenge/DRGradingnew/train/0/IDRiD_206.jpg'"
      ]
     },
     "execution_count": 6,
     "metadata": {},
     "output_type": "execute_result"
    },
    {
     "data": {
      "text/plain": [
       "'/Users/victor/Project4sxd/DRandDME/code/challenge/DRGradingnew/train/0/IDRiD_214.jpg'"
      ]
     },
     "execution_count": 6,
     "metadata": {},
     "output_type": "execute_result"
    },
    {
     "data": {
      "text/plain": [
       "'/Users/victor/Project4sxd/DRandDME/code/challenge/DRGradingnew/train/0/IDRiD_195.jpg'"
      ]
     },
     "execution_count": 6,
     "metadata": {},
     "output_type": "execute_result"
    },
    {
     "data": {
      "text/plain": [
       "'/Users/victor/Project4sxd/DRandDME/code/challenge/DRGradingnew/train/0/IDRiD_222.jpg'"
      ]
     },
     "execution_count": 6,
     "metadata": {},
     "output_type": "execute_result"
    },
    {
     "data": {
      "text/plain": [
       "'/Users/victor/Project4sxd/DRandDME/code/challenge/DRGradingnew/train/0/IDRiD_199.jpg'"
      ]
     },
     "execution_count": 6,
     "metadata": {},
     "output_type": "execute_result"
    },
    {
     "data": {
      "text/plain": [
       "'/Users/victor/Project4sxd/DRandDME/code/challenge/DRGradingnew/train/0/IDRiD_150.jpg'"
      ]
     },
     "execution_count": 6,
     "metadata": {},
     "output_type": "execute_result"
    },
    {
     "data": {
      "text/plain": [
       "'/Users/victor/Project4sxd/DRandDME/code/challenge/DRGradingnew/train/0/IDRiD_142.jpg'"
      ]
     },
     "execution_count": 6,
     "metadata": {},
     "output_type": "execute_result"
    },
    {
     "data": {
      "text/plain": [
       "'/Users/victor/Project4sxd/DRandDME/code/challenge/DRGradingnew/train/0/IDRiD_174.jpg'"
      ]
     },
     "execution_count": 6,
     "metadata": {},
     "output_type": "execute_result"
    },
    {
     "data": {
      "text/plain": [
       "'/Users/victor/Project4sxd/DRandDME/code/challenge/DRGradingnew/train/0/IDRiD_166.jpg'"
      ]
     },
     "execution_count": 6,
     "metadata": {},
     "output_type": "execute_result"
    },
    {
     "data": {
      "text/plain": [
       "'/Users/victor/Project4sxd/DRandDME/code/challenge/DRGradingnew/train/0/IDRiD_159.jpg'"
      ]
     },
     "execution_count": 6,
     "metadata": {},
     "output_type": "execute_result"
    },
    {
     "data": {
      "text/plain": [
       "'/Users/victor/Project4sxd/DRandDME/code/challenge/DRGradingnew/train/0/IDRiD_147.jpg'"
      ]
     },
     "execution_count": 6,
     "metadata": {},
     "output_type": "execute_result"
    },
    {
     "data": {
      "text/plain": [
       "'/Users/victor/Project4sxd/DRandDME/code/challenge/DRGradingnew/train/0/IDRiD_155.jpg'"
      ]
     },
     "execution_count": 6,
     "metadata": {},
     "output_type": "execute_result"
    },
    {
     "data": {
      "text/plain": [
       "'/Users/victor/Project4sxd/DRandDME/code/challenge/DRGradingnew/train/0/IDRiD_163.jpg'"
      ]
     },
     "execution_count": 6,
     "metadata": {},
     "output_type": "execute_result"
    },
    {
     "data": {
      "text/plain": [
       "'/Users/victor/Project4sxd/DRandDME/code/challenge/DRGradingnew/train/0/IDRiD_171.jpg'"
      ]
     },
     "execution_count": 6,
     "metadata": {},
     "output_type": "execute_result"
    },
    {
     "data": {
      "text/plain": [
       "'/Users/victor/Project4sxd/DRandDME/code/challenge/DRGradingnew/train/0/IDRiD_211.jpg'"
      ]
     },
     "execution_count": 6,
     "metadata": {},
     "output_type": "execute_result"
    },
    {
     "data": {
      "text/plain": [
       "'/Users/victor/Project4sxd/DRandDME/code/challenge/DRGradingnew/train/0/IDRiD_182.jpg'"
      ]
     },
     "execution_count": 6,
     "metadata": {},
     "output_type": "execute_result"
    },
    {
     "data": {
      "text/plain": [
       "'/Users/victor/Project4sxd/DRandDME/code/challenge/DRGradingnew/train/0/IDRiD_190.jpg'"
      ]
     },
     "execution_count": 6,
     "metadata": {},
     "output_type": "execute_result"
    },
    {
     "data": {
      "text/plain": [
       "'/Users/victor/Project4sxd/DRandDME/code/challenge/DRGradingnew/train/0/IDRiD_213.jpg'"
      ]
     },
     "execution_count": 6,
     "metadata": {},
     "output_type": "execute_result"
    },
    {
     "data": {
      "text/plain": [
       "'/Users/victor/Project4sxd/DRandDME/code/challenge/DRGradingnew/train/0/IDRiD_157.jpg'"
      ]
     },
     "execution_count": 6,
     "metadata": {},
     "output_type": "execute_result"
    },
    {
     "data": {
      "text/plain": [
       "'/Users/victor/Project4sxd/DRandDME/code/challenge/DRGradingnew/train/0/IDRiD_149.jpg'"
      ]
     },
     "execution_count": 6,
     "metadata": {},
     "output_type": "execute_result"
    },
    {
     "data": {
      "text/plain": [
       "'/Users/victor/Project4sxd/DRandDME/code/challenge/DRGradingnew/train/0/IDRiD_138.jpg'"
      ]
     },
     "execution_count": 6,
     "metadata": {},
     "output_type": "execute_result"
    },
    {
     "data": {
      "text/plain": [
       "'/Users/victor/Project4sxd/DRandDME/code/challenge/DRGradingnew/train/0/IDRiD_145.jpg'"
      ]
     },
     "execution_count": 6,
     "metadata": {},
     "output_type": "execute_result"
    },
    {
     "data": {
      "text/plain": [
       "'/Users/victor/Project4sxd/DRandDME/code/challenge/DRGradingnew/train/0/IDRiD_173.jpg'"
      ]
     },
     "execution_count": 6,
     "metadata": {},
     "output_type": "execute_result"
    },
    {
     "data": {
      "text/plain": [
       "'/Users/victor/Project4sxd/DRandDME/code/challenge/DRGradingnew/train/0/IDRiD_161.jpg'"
      ]
     },
     "execution_count": 6,
     "metadata": {},
     "output_type": "execute_result"
    },
    {
     "data": {
      "text/plain": [
       "'/Users/victor/Project4sxd/DRandDME/code/challenge/DRGradingnew/train/0/IDRiD_184.jpg'"
      ]
     },
     "execution_count": 6,
     "metadata": {},
     "output_type": "execute_result"
    },
    {
     "data": {
      "text/plain": [
       "'/Users/victor/Project4sxd/DRandDME/code/challenge/DRGradingnew/train/0/IDRiD_221.jpg'"
      ]
     },
     "execution_count": 6,
     "metadata": {},
     "output_type": "execute_result"
    },
    {
     "data": {
      "text/plain": [
       "'/Users/victor/Project4sxd/DRandDME/code/challenge/DRGradingnew/train/0/IDRiD_209.jpg'"
      ]
     },
     "execution_count": 6,
     "metadata": {},
     "output_type": "execute_result"
    },
    {
     "data": {
      "text/plain": [
       "'/Users/victor/Project4sxd/DRandDME/code/challenge/DRGradingnew/train/0/IDRiD_217.jpg'"
      ]
     },
     "execution_count": 6,
     "metadata": {},
     "output_type": "execute_result"
    },
    {
     "data": {
      "text/plain": [
       "'/Users/victor/Project4sxd/DRandDME/code/challenge/DRGradingnew/train/0/IDRiD_205.jpg'"
      ]
     },
     "execution_count": 6,
     "metadata": {},
     "output_type": "execute_result"
    },
    {
     "data": {
      "text/plain": [
       "'/Users/victor/Project4sxd/DRandDME/code/challenge/DRGradingnew/train/0/IDRiD_165.jpg'"
      ]
     },
     "execution_count": 6,
     "metadata": {},
     "output_type": "execute_result"
    },
    {
     "data": {
      "text/plain": [
       "'/Users/victor/Project4sxd/DRandDME/code/challenge/DRGradingnew/train/0/IDRiD_118.jpg'"
      ]
     },
     "execution_count": 6,
     "metadata": {},
     "output_type": "execute_result"
    },
    {
     "data": {
      "text/plain": [
       "'/Users/victor/Project4sxd/DRandDME/code/challenge/DRGradingnew/train/0/IDRiD_177.jpg'"
      ]
     },
     "execution_count": 6,
     "metadata": {},
     "output_type": "execute_result"
    },
    {
     "data": {
      "text/plain": [
       "'/Users/victor/Project4sxd/DRandDME/code/challenge/DRGradingnew/train/0/IDRiD_169.jpg'"
      ]
     },
     "execution_count": 6,
     "metadata": {},
     "output_type": "execute_result"
    },
    {
     "data": {
      "text/plain": [
       "'/Users/victor/Project4sxd/DRandDME/code/challenge/DRGradingnew/train/0/IDRiD_141.jpg'"
      ]
     },
     "execution_count": 6,
     "metadata": {},
     "output_type": "execute_result"
    },
    {
     "data": {
      "text/plain": [
       "'/Users/victor/Project4sxd/DRandDME/code/challenge/DRGradingnew/train/0/IDRiD_153.jpg'"
      ]
     },
     "execution_count": 6,
     "metadata": {},
     "output_type": "execute_result"
    },
    {
     "data": {
      "text/plain": [
       "'/Users/victor/Project4sxd/DRandDME/code/challenge/DRGradingnew/train/0/IDRiD_175.jpg'"
      ]
     },
     "execution_count": 6,
     "metadata": {},
     "output_type": "execute_result"
    },
    {
     "data": {
      "text/plain": [
       "'/Users/victor/Project4sxd/DRandDME/code/challenge/DRGradingnew/train/0/IDRiD_179.jpg'"
      ]
     },
     "execution_count": 6,
     "metadata": {},
     "output_type": "execute_result"
    },
    {
     "data": {
      "text/plain": [
       "'/Users/victor/Project4sxd/DRandDME/code/challenge/DRGradingnew/train/0/IDRiD_167.jpg'"
      ]
     },
     "execution_count": 6,
     "metadata": {},
     "output_type": "execute_result"
    },
    {
     "data": {
      "text/plain": [
       "'/Users/victor/Project4sxd/DRandDME/code/challenge/DRGradingnew/train/0/IDRiD_151.jpg'"
      ]
     },
     "execution_count": 6,
     "metadata": {},
     "output_type": "execute_result"
    },
    {
     "data": {
      "text/plain": [
       "'/Users/victor/Project4sxd/DRandDME/code/challenge/DRGradingnew/train/0/IDRiD_143.jpg'"
      ]
     },
     "execution_count": 6,
     "metadata": {},
     "output_type": "execute_result"
    },
    {
     "data": {
      "text/plain": [
       "'/Users/victor/Project4sxd/DRandDME/code/challenge/DRGradingnew/train/0/IDRiD_219.jpg'"
      ]
     },
     "execution_count": 6,
     "metadata": {},
     "output_type": "execute_result"
    },
    {
     "data": {
      "text/plain": [
       "'/Users/victor/Project4sxd/DRandDME/code/challenge/DRGradingnew/train/1/IDRiD_279.jpg'"
      ]
     },
     "execution_count": 6,
     "metadata": {},
     "output_type": "execute_result"
    },
    {
     "data": {
      "text/plain": [
       "'/Users/victor/Project4sxd/DRandDME/code/challenge/DRGradingnew/train/1/IDRiD_265.jpg'"
      ]
     },
     "execution_count": 6,
     "metadata": {},
     "output_type": "execute_result"
    },
    {
     "data": {
      "text/plain": [
       "'/Users/victor/Project4sxd/DRandDME/code/challenge/DRGradingnew/train/1/IDRiD_021.jpg'"
      ]
     },
     "execution_count": 6,
     "metadata": {},
     "output_type": "execute_result"
    },
    {
     "data": {
      "text/plain": [
       "'/Users/victor/Project4sxd/DRandDME/code/challenge/DRGradingnew/train/1/IDRiD_105.jpg'"
      ]
     },
     "execution_count": 6,
     "metadata": {},
     "output_type": "execute_result"
    },
    {
     "data": {
      "text/plain": [
       "'/Users/victor/Project4sxd/DRandDME/code/challenge/DRGradingnew/train/1/IDRiD_203.jpg'"
      ]
     },
     "execution_count": 6,
     "metadata": {},
     "output_type": "execute_result"
    },
    {
     "data": {
      "text/plain": [
       "'/Users/victor/Project4sxd/DRandDME/code/challenge/DRGradingnew/train/1/IDRiD_256.jpg'"
      ]
     },
     "execution_count": 6,
     "metadata": {},
     "output_type": "execute_result"
    },
    {
     "data": {
      "text/plain": [
       "'/Users/victor/Project4sxd/DRandDME/code/challenge/DRGradingnew/train/1/IDRiD_266.jpg'"
      ]
     },
     "execution_count": 6,
     "metadata": {},
     "output_type": "execute_result"
    },
    {
     "data": {
      "text/plain": [
       "'/Users/victor/Project4sxd/DRandDME/code/challenge/DRGradingnew/train/1/IDRiD_079.jpg'"
      ]
     },
     "execution_count": 6,
     "metadata": {},
     "output_type": "execute_result"
    },
    {
     "data": {
      "text/plain": [
       "'/Users/victor/Project4sxd/DRandDME/code/challenge/DRGradingnew/train/1/IDRiD_194.jpg'"
      ]
     },
     "execution_count": 6,
     "metadata": {},
     "output_type": "execute_result"
    },
    {
     "data": {
      "text/plain": [
       "'/Users/victor/Project4sxd/DRandDME/code/challenge/DRGradingnew/train/1/IDRiD_198.jpg'"
      ]
     },
     "execution_count": 6,
     "metadata": {},
     "output_type": "execute_result"
    },
    {
     "data": {
      "text/plain": [
       "'/Users/victor/Project4sxd/DRandDME/code/challenge/DRGradingnew/train/2/IDRiD_083.jpg'"
      ]
     },
     "execution_count": 6,
     "metadata": {},
     "output_type": "execute_result"
    },
    {
     "data": {
      "text/plain": [
       "'/Users/victor/Project4sxd/DRandDME/code/challenge/DRGradingnew/train/2/IDRiD_091.jpg'"
      ]
     },
     "execution_count": 6,
     "metadata": {},
     "output_type": "execute_result"
    },
    {
     "data": {
      "text/plain": [
       "'/Users/victor/Project4sxd/DRandDME/code/challenge/DRGradingnew/train/2/IDRiD_113.jpg'"
      ]
     },
     "execution_count": 6,
     "metadata": {},
     "output_type": "execute_result"
    },
    {
     "data": {
      "text/plain": [
       "'/Users/victor/Project4sxd/DRandDME/code/challenge/DRGradingnew/train/2/IDRiD_058.jpg'"
      ]
     },
     "execution_count": 6,
     "metadata": {},
     "output_type": "execute_result"
    },
    {
     "data": {
      "text/plain": [
       "'/Users/victor/Project4sxd/DRandDME/code/challenge/DRGradingnew/train/2/IDRiD_125.jpg'"
      ]
     },
     "execution_count": 6,
     "metadata": {},
     "output_type": "execute_result"
    },
    {
     "data": {
      "text/plain": [
       "'/Users/victor/Project4sxd/DRandDME/code/challenge/DRGradingnew/train/2/IDRiD_029.jpg'"
      ]
     },
     "execution_count": 6,
     "metadata": {},
     "output_type": "execute_result"
    },
    {
     "data": {
      "text/plain": [
       "'/Users/victor/Project4sxd/DRandDME/code/challenge/DRGradingnew/train/2/IDRiD_129.jpg'"
      ]
     },
     "execution_count": 6,
     "metadata": {},
     "output_type": "execute_result"
    },
    {
     "data": {
      "text/plain": [
       "'/Users/victor/Project4sxd/DRandDME/code/challenge/DRGradingnew/train/2/IDRiD_037.jpg'"
      ]
     },
     "execution_count": 6,
     "metadata": {},
     "output_type": "execute_result"
    },
    {
     "data": {
      "text/plain": [
       "'/Users/victor/Project4sxd/DRandDME/code/challenge/DRGradingnew/train/2/IDRiD_072.jpg'"
      ]
     },
     "execution_count": 6,
     "metadata": {},
     "output_type": "execute_result"
    },
    {
     "data": {
      "text/plain": [
       "'/Users/victor/Project4sxd/DRandDME/code/challenge/DRGradingnew/train/2/IDRiD_003.jpg'"
      ]
     },
     "execution_count": 6,
     "metadata": {},
     "output_type": "execute_result"
    },
    {
     "data": {
      "text/plain": [
       "'/Users/victor/Project4sxd/DRandDME/code/challenge/DRGradingnew/train/2/IDRiD_103.jpg'"
      ]
     },
     "execution_count": 6,
     "metadata": {},
     "output_type": "execute_result"
    },
    {
     "data": {
      "text/plain": [
       "'/Users/victor/Project4sxd/DRandDME/code/challenge/DRGradingnew/train/2/IDRiD_060.jpg'"
      ]
     },
     "execution_count": 6,
     "metadata": {},
     "output_type": "execute_result"
    },
    {
     "data": {
      "text/plain": [
       "'/Users/victor/Project4sxd/DRandDME/code/challenge/DRGradingnew/train/2/IDRiD_048.jpg'"
      ]
     },
     "execution_count": 6,
     "metadata": {},
     "output_type": "execute_result"
    },
    {
     "data": {
      "text/plain": [
       "'/Users/victor/Project4sxd/DRandDME/code/challenge/DRGradingnew/train/2/IDRiD_135.jpg'"
      ]
     },
     "execution_count": 6,
     "metadata": {},
     "output_type": "execute_result"
    },
    {
     "data": {
      "text/plain": [
       "'/Users/victor/Project4sxd/DRandDME/code/challenge/DRGradingnew/train/2/IDRiD_056.jpg'"
      ]
     },
     "execution_count": 6,
     "metadata": {},
     "output_type": "execute_result"
    },
    {
     "data": {
      "text/plain": [
       "'/Users/victor/Project4sxd/DRandDME/code/challenge/DRGradingnew/train/2/IDRiD_127.jpg'"
      ]
     },
     "execution_count": 6,
     "metadata": {},
     "output_type": "execute_result"
    },
    {
     "data": {
      "text/plain": [
       "'/Users/victor/Project4sxd/DRandDME/code/challenge/DRGradingnew/train/2/IDRiD_044.jpg'"
      ]
     },
     "execution_count": 6,
     "metadata": {},
     "output_type": "execute_result"
    },
    {
     "data": {
      "text/plain": [
       "'/Users/victor/Project4sxd/DRandDME/code/challenge/DRGradingnew/train/2/IDRiD_093.jpg'"
      ]
     },
     "execution_count": 6,
     "metadata": {},
     "output_type": "execute_result"
    },
    {
     "data": {
      "text/plain": [
       "'/Users/victor/Project4sxd/DRandDME/code/challenge/DRGradingnew/train/2/IDRiD_123.jpg'"
      ]
     },
     "execution_count": 6,
     "metadata": {},
     "output_type": "execute_result"
    },
    {
     "data": {
      "text/plain": [
       "'/Users/victor/Project4sxd/DRandDME/code/challenge/DRGradingnew/train/2/IDRiD_131.jpg'"
      ]
     },
     "execution_count": 6,
     "metadata": {},
     "output_type": "execute_result"
    },
    {
     "data": {
      "text/plain": [
       "'/Users/victor/Project4sxd/DRandDME/code/challenge/DRGradingnew/train/2/IDRiD_052.jpg'"
      ]
     },
     "execution_count": 6,
     "metadata": {},
     "output_type": "execute_result"
    },
    {
     "data": {
      "text/plain": [
       "'/Users/victor/Project4sxd/DRandDME/code/challenge/DRGradingnew/train/2/IDRiD_107.jpg'"
      ]
     },
     "execution_count": 6,
     "metadata": {},
     "output_type": "execute_result"
    },
    {
     "data": {
      "text/plain": [
       "'/Users/victor/Project4sxd/DRandDME/code/challenge/DRGradingnew/train/2/IDRiD_019.jpg'"
      ]
     },
     "execution_count": 6,
     "metadata": {},
     "output_type": "execute_result"
    },
    {
     "data": {
      "text/plain": [
       "'/Users/victor/Project4sxd/DRandDME/code/challenge/DRGradingnew/train/2/IDRiD_064.jpg'"
      ]
     },
     "execution_count": 6,
     "metadata": {},
     "output_type": "execute_result"
    },
    {
     "data": {
      "text/plain": [
       "'/Users/victor/Project4sxd/DRandDME/code/challenge/DRGradingnew/train/2/IDRiD_068.jpg'"
      ]
     },
     "execution_count": 6,
     "metadata": {},
     "output_type": "execute_result"
    },
    {
     "data": {
      "text/plain": [
       "'/Users/victor/Project4sxd/DRandDME/code/challenge/DRGradingnew/train/2/IDRiD_076.jpg'"
      ]
     },
     "execution_count": 6,
     "metadata": {},
     "output_type": "execute_result"
    },
    {
     "data": {
      "text/plain": [
       "'/Users/victor/Project4sxd/DRandDME/code/challenge/DRGradingnew/train/2/IDRiD_085.jpg'"
      ]
     },
     "execution_count": 6,
     "metadata": {},
     "output_type": "execute_result"
    },
    {
     "data": {
      "text/plain": [
       "'/Users/victor/Project4sxd/DRandDME/code/challenge/DRGradingnew/train/2/IDRiD_097.jpg'"
      ]
     },
     "execution_count": 6,
     "metadata": {},
     "output_type": "execute_result"
    },
    {
     "data": {
      "text/plain": [
       "'/Users/victor/Project4sxd/DRandDME/code/challenge/DRGradingnew/train/2/IDRiD_087.jpg'"
      ]
     },
     "execution_count": 6,
     "metadata": {},
     "output_type": "execute_result"
    },
    {
     "data": {
      "text/plain": [
       "'/Users/victor/Project4sxd/DRandDME/code/challenge/DRGradingnew/train/2/IDRiD_050.jpg'"
      ]
     },
     "execution_count": 6,
     "metadata": {},
     "output_type": "execute_result"
    },
    {
     "data": {
      "text/plain": [
       "'/Users/victor/Project4sxd/DRandDME/code/challenge/DRGradingnew/train/2/IDRiD_133.jpg'"
      ]
     },
     "execution_count": 6,
     "metadata": {},
     "output_type": "execute_result"
    },
    {
     "data": {
      "text/plain": [
       "'/Users/victor/Project4sxd/DRandDME/code/challenge/DRGradingnew/train/2/IDRiD_042.jpg'"
      ]
     },
     "execution_count": 6,
     "metadata": {},
     "output_type": "execute_result"
    },
    {
     "data": {
      "text/plain": [
       "'/Users/victor/Project4sxd/DRandDME/code/challenge/DRGradingnew/train/2/IDRiD_121.jpg'"
      ]
     },
     "execution_count": 6,
     "metadata": {},
     "output_type": "execute_result"
    },
    {
     "data": {
      "text/plain": [
       "'/Users/victor/Project4sxd/DRandDME/code/challenge/DRGradingnew/train/2/IDRiD_109.jpg'"
      ]
     },
     "execution_count": 6,
     "metadata": {},
     "output_type": "execute_result"
    },
    {
     "data": {
      "text/plain": [
       "'/Users/victor/Project4sxd/DRandDME/code/challenge/DRGradingnew/train/2/IDRiD_074.jpg'"
      ]
     },
     "execution_count": 6,
     "metadata": {},
     "output_type": "execute_result"
    },
    {
     "data": {
      "text/plain": [
       "'/Users/victor/Project4sxd/DRandDME/code/challenge/DRGradingnew/train/2/IDRiD_117.jpg'"
      ]
     },
     "execution_count": 6,
     "metadata": {},
     "output_type": "execute_result"
    },
    {
     "data": {
      "text/plain": [
       "'/Users/victor/Project4sxd/DRandDME/code/challenge/DRGradingnew/train/2/IDRiD_078.jpg'"
      ]
     },
     "execution_count": 6,
     "metadata": {},
     "output_type": "execute_result"
    },
    {
     "data": {
      "text/plain": [
       "'/Users/victor/Project4sxd/DRandDME/code/challenge/DRGradingnew/train/2/IDRiD_124.jpg'"
      ]
     },
     "execution_count": 6,
     "metadata": {},
     "output_type": "execute_result"
    },
    {
     "data": {
      "text/plain": [
       "'/Users/victor/Project4sxd/DRandDME/code/challenge/DRGradingnew/train/2/IDRiD_059.jpg'"
      ]
     },
     "execution_count": 6,
     "metadata": {},
     "output_type": "execute_result"
    },
    {
     "data": {
      "text/plain": [
       "'/Users/victor/Project4sxd/DRandDME/code/challenge/DRGradingnew/train/2/IDRiD_047.jpg'"
      ]
     },
     "execution_count": 6,
     "metadata": {},
     "output_type": "execute_result"
    },
    {
     "data": {
      "text/plain": [
       "'/Users/victor/Project4sxd/DRandDME/code/challenge/DRGradingnew/train/2/IDRiD_128.jpg'"
      ]
     },
     "execution_count": 6,
     "metadata": {},
     "output_type": "execute_result"
    },
    {
     "data": {
      "text/plain": [
       "'/Users/victor/Project4sxd/DRandDME/code/challenge/DRGradingnew/train/2/IDRiD_063.jpg'"
      ]
     },
     "execution_count": 6,
     "metadata": {},
     "output_type": "execute_result"
    },
    {
     "data": {
      "text/plain": [
       "'/Users/victor/Project4sxd/DRandDME/code/challenge/DRGradingnew/train/2/IDRiD_071.jpg'"
      ]
     },
     "execution_count": 6,
     "metadata": {},
     "output_type": "execute_result"
    },
    {
     "data": {
      "text/plain": [
       "'/Users/victor/Project4sxd/DRandDME/code/challenge/DRGradingnew/train/2/IDRiD_082.jpg'"
      ]
     },
     "execution_count": 6,
     "metadata": {},
     "output_type": "execute_result"
    },
    {
     "data": {
      "text/plain": [
       "'/Users/victor/Project4sxd/DRandDME/code/challenge/DRGradingnew/train/2/IDRiD_092.jpg'"
      ]
     },
     "execution_count": 6,
     "metadata": {},
     "output_type": "execute_result"
    },
    {
     "data": {
      "text/plain": [
       "'/Users/victor/Project4sxd/DRandDME/code/challenge/DRGradingnew/train/2/IDRiD_080.jpg'"
      ]
     },
     "execution_count": 6,
     "metadata": {},
     "output_type": "execute_result"
    },
    {
     "data": {
      "text/plain": [
       "'/Users/victor/Project4sxd/DRandDME/code/challenge/DRGradingnew/train/2/IDRiD_134.jpg'"
      ]
     },
     "execution_count": 6,
     "metadata": {},
     "output_type": "execute_result"
    },
    {
     "data": {
      "text/plain": [
       "'/Users/victor/Project4sxd/DRandDME/code/challenge/DRGradingnew/train/2/IDRiD_038.jpg'"
      ]
     },
     "execution_count": 6,
     "metadata": {},
     "output_type": "execute_result"
    },
    {
     "data": {
      "text/plain": [
       "'/Users/victor/Project4sxd/DRandDME/code/challenge/DRGradingnew/train/2/IDRiD_045.jpg'"
      ]
     },
     "execution_count": 6,
     "metadata": {},
     "output_type": "execute_result"
    },
    {
     "data": {
      "text/plain": [
       "'/Users/victor/Project4sxd/DRandDME/code/challenge/DRGradingnew/train/2/IDRiD_126.jpg'"
      ]
     },
     "execution_count": 6,
     "metadata": {},
     "output_type": "execute_result"
    },
    {
     "data": {
      "text/plain": [
       "'/Users/victor/Project4sxd/DRandDME/code/challenge/DRGradingnew/train/2/IDRiD_073.jpg'"
      ]
     },
     "execution_count": 6,
     "metadata": {},
     "output_type": "execute_result"
    },
    {
     "data": {
      "text/plain": [
       "'/Users/victor/Project4sxd/DRandDME/code/challenge/DRGradingnew/train/2/IDRiD_061.jpg'"
      ]
     },
     "execution_count": 6,
     "metadata": {},
     "output_type": "execute_result"
    },
    {
     "data": {
      "text/plain": [
       "'/Users/victor/Project4sxd/DRandDME/code/challenge/DRGradingnew/train/2/IDRiD_102.jpg'"
      ]
     },
     "execution_count": 6,
     "metadata": {},
     "output_type": "execute_result"
    },
    {
     "data": {
      "text/plain": [
       "'/Users/victor/Project4sxd/DRandDME/code/challenge/DRGradingnew/train/2/IDRiD_084.jpg'"
      ]
     },
     "execution_count": 6,
     "metadata": {},
     "output_type": "execute_result"
    },
    {
     "data": {
      "text/plain": [
       "'/Users/victor/Project4sxd/DRandDME/code/challenge/DRGradingnew/train/2/IDRiD_018.jpg'"
      ]
     },
     "execution_count": 6,
     "metadata": {},
     "output_type": "execute_result"
    },
    {
     "data": {
      "text/plain": [
       "'/Users/victor/Project4sxd/DRandDME/code/challenge/DRGradingnew/train/2/IDRiD_106.jpg'"
      ]
     },
     "execution_count": 6,
     "metadata": {},
     "output_type": "execute_result"
    },
    {
     "data": {
      "text/plain": [
       "'/Users/victor/Project4sxd/DRandDME/code/challenge/DRGradingnew/train/2/IDRiD_069.jpg'"
      ]
     },
     "execution_count": 6,
     "metadata": {},
     "output_type": "execute_result"
    },
    {
     "data": {
      "text/plain": [
       "'/Users/victor/Project4sxd/DRandDME/code/challenge/DRGradingnew/train/2/IDRiD_041.jpg'"
      ]
     },
     "execution_count": 6,
     "metadata": {},
     "output_type": "execute_result"
    },
    {
     "data": {
      "text/plain": [
       "'/Users/victor/Project4sxd/DRandDME/code/challenge/DRGradingnew/train/2/IDRiD_122.jpg'"
      ]
     },
     "execution_count": 6,
     "metadata": {},
     "output_type": "execute_result"
    },
    {
     "data": {
      "text/plain": [
       "'/Users/victor/Project4sxd/DRandDME/code/challenge/DRGradingnew/train/2/IDRiD_130.jpg'"
      ]
     },
     "execution_count": 6,
     "metadata": {},
     "output_type": "execute_result"
    },
    {
     "data": {
      "text/plain": [
       "'/Users/victor/Project4sxd/DRandDME/code/challenge/DRGradingnew/train/2/IDRiD_016.jpg'"
      ]
     },
     "execution_count": 6,
     "metadata": {},
     "output_type": "execute_result"
    },
    {
     "data": {
      "text/plain": [
       "'/Users/victor/Project4sxd/DRandDME/code/challenge/DRGradingnew/train/2/IDRiD_116.jpg'"
      ]
     },
     "execution_count": 6,
     "metadata": {},
     "output_type": "execute_result"
    },
    {
     "data": {
      "text/plain": [
       "'/Users/victor/Project4sxd/DRandDME/code/challenge/DRGradingnew/train/2/IDRiD_132.jpg'"
      ]
     },
     "execution_count": 6,
     "metadata": {},
     "output_type": "execute_result"
    },
    {
     "data": {
      "text/plain": [
       "'/Users/victor/Project4sxd/DRandDME/code/challenge/DRGradingnew/train/2/IDRiD_051.jpg'"
      ]
     },
     "execution_count": 6,
     "metadata": {},
     "output_type": "execute_result"
    },
    {
     "data": {
      "text/plain": [
       "'/Users/victor/Project4sxd/DRandDME/code/challenge/DRGradingnew/train/2/IDRiD_020.jpg'"
      ]
     },
     "execution_count": 6,
     "metadata": {},
     "output_type": "execute_result"
    },
    {
     "data": {
      "text/plain": [
       "'/Users/victor/Project4sxd/DRandDME/code/challenge/DRGradingnew/train/2/IDRiD_120.jpg'"
      ]
     },
     "execution_count": 6,
     "metadata": {},
     "output_type": "execute_result"
    },
    {
     "data": {
      "text/plain": [
       "'/Users/victor/Project4sxd/DRandDME/code/challenge/DRGradingnew/train/2/IDRiD_043.jpg'"
      ]
     },
     "execution_count": 6,
     "metadata": {},
     "output_type": "execute_result"
    },
    {
     "data": {
      "text/plain": [
       "'/Users/victor/Project4sxd/DRandDME/code/challenge/DRGradingnew/train/2/IDRiD_094.jpg'"
      ]
     },
     "execution_count": 6,
     "metadata": {},
     "output_type": "execute_result"
    },
    {
     "data": {
      "text/plain": [
       "'/Users/victor/Project4sxd/DRandDME/code/challenge/DRGradingnew/train/3/IDRiD_001.jpg'"
      ]
     },
     "execution_count": 6,
     "metadata": {},
     "output_type": "execute_result"
    },
    {
     "data": {
      "text/plain": [
       "'/Users/victor/Project4sxd/DRandDME/code/challenge/DRGradingnew/train/3/IDRiD_101.jpg'"
      ]
     },
     "execution_count": 6,
     "metadata": {},
     "output_type": "execute_result"
    },
    {
     "data": {
      "text/plain": [
       "'/Users/victor/Project4sxd/DRandDME/code/challenge/DRGradingnew/train/3/IDRiD_013.jpg'"
      ]
     },
     "execution_count": 6,
     "metadata": {},
     "output_type": "execute_result"
    },
    {
     "data": {
      "text/plain": [
       "'/Users/victor/Project4sxd/DRandDME/code/challenge/DRGradingnew/train/3/IDRiD_025.jpg'"
      ]
     },
     "execution_count": 6,
     "metadata": {},
     "output_type": "execute_result"
    },
    {
     "data": {
      "text/plain": [
       "'/Users/victor/Project4sxd/DRandDME/code/challenge/DRGradingnew/train/3/IDRiD_011.jpg'"
      ]
     },
     "execution_count": 6,
     "metadata": {},
     "output_type": "execute_result"
    },
    {
     "data": {
      "text/plain": [
       "'/Users/victor/Project4sxd/DRandDME/code/challenge/DRGradingnew/train/3/IDRiD_035.jpg'"
      ]
     },
     "execution_count": 6,
     "metadata": {},
     "output_type": "execute_result"
    },
    {
     "data": {
      "text/plain": [
       "'/Users/victor/Project4sxd/DRandDME/code/challenge/DRGradingnew/train/3/IDRiD_039.jpg'"
      ]
     },
     "execution_count": 6,
     "metadata": {},
     "output_type": "execute_result"
    },
    {
     "data": {
      "text/plain": [
       "'/Users/victor/Project4sxd/DRandDME/code/challenge/DRGradingnew/train/3/IDRiD_023.jpg'"
      ]
     },
     "execution_count": 6,
     "metadata": {},
     "output_type": "execute_result"
    },
    {
     "data": {
      "text/plain": [
       "'/Users/victor/Project4sxd/DRandDME/code/challenge/DRGradingnew/train/3/IDRiD_040.jpg'"
      ]
     },
     "execution_count": 6,
     "metadata": {},
     "output_type": "execute_result"
    },
    {
     "data": {
      "text/plain": [
       "'/Users/victor/Project4sxd/DRandDME/code/challenge/DRGradingnew/train/3/IDRiD_115.jpg'"
      ]
     },
     "execution_count": 6,
     "metadata": {},
     "output_type": "execute_result"
    },
    {
     "data": {
      "text/plain": [
       "'/Users/victor/Project4sxd/DRandDME/code/challenge/DRGradingnew/train/3/IDRiD_269.jpg'"
      ]
     },
     "execution_count": 6,
     "metadata": {},
     "output_type": "execute_result"
    },
    {
     "data": {
      "text/plain": [
       "'/Users/victor/Project4sxd/DRandDME/code/challenge/DRGradingnew/train/3/IDRiD_095.jpg'"
      ]
     },
     "execution_count": 6,
     "metadata": {},
     "output_type": "execute_result"
    },
    {
     "data": {
      "text/plain": [
       "'/Users/victor/Project4sxd/DRandDME/code/challenge/DRGradingnew/train/3/IDRiD_099.jpg'"
      ]
     },
     "execution_count": 6,
     "metadata": {},
     "output_type": "execute_result"
    },
    {
     "data": {
      "text/plain": [
       "'/Users/victor/Project4sxd/DRandDME/code/challenge/DRGradingnew/train/3/IDRiD_253.jpg'"
      ]
     },
     "execution_count": 6,
     "metadata": {},
     "output_type": "execute_result"
    },
    {
     "data": {
      "text/plain": [
       "'/Users/victor/Project4sxd/DRandDME/code/challenge/DRGradingnew/train/3/IDRiD_009.jpg'"
      ]
     },
     "execution_count": 6,
     "metadata": {},
     "output_type": "execute_result"
    },
    {
     "data": {
      "text/plain": [
       "'/Users/victor/Project4sxd/DRandDME/code/challenge/DRGradingnew/train/3/IDRiD_066.jpg'"
      ]
     },
     "execution_count": 6,
     "metadata": {},
     "output_type": "execute_result"
    },
    {
     "data": {
      "text/plain": [
       "'/Users/victor/Project4sxd/DRandDME/code/challenge/DRGradingnew/train/3/IDRiD_036.jpg'"
      ]
     },
     "execution_count": 6,
     "metadata": {},
     "output_type": "execute_result"
    },
    {
     "data": {
      "text/plain": [
       "'/Users/victor/Project4sxd/DRandDME/code/challenge/DRGradingnew/train/3/IDRiD_055.jpg'"
      ]
     },
     "execution_count": 6,
     "metadata": {},
     "output_type": "execute_result"
    },
    {
     "data": {
      "text/plain": [
       "'/Users/victor/Project4sxd/DRandDME/code/challenge/DRGradingnew/train/3/IDRiD_012.jpg'"
      ]
     },
     "execution_count": 6,
     "metadata": {},
     "output_type": "execute_result"
    },
    {
     "data": {
      "text/plain": [
       "'/Users/victor/Project4sxd/DRandDME/code/challenge/DRGradingnew/train/3/IDRiD_112.jpg'"
      ]
     },
     "execution_count": 6,
     "metadata": {},
     "output_type": "execute_result"
    },
    {
     "data": {
      "text/plain": [
       "'/Users/victor/Project4sxd/DRandDME/code/challenge/DRGradingnew/train/3/IDRiD_192.jpg'"
      ]
     },
     "execution_count": 6,
     "metadata": {},
     "output_type": "execute_result"
    },
    {
     "data": {
      "text/plain": [
       "'/Users/victor/Project4sxd/DRandDME/code/challenge/DRGradingnew/train/3/IDRiD_180.jpg'"
      ]
     },
     "execution_count": 6,
     "metadata": {},
     "output_type": "execute_result"
    },
    {
     "data": {
      "text/plain": [
       "'/Users/victor/Project4sxd/DRandDME/code/challenge/DRGradingnew/train/3/IDRiD_057.jpg'"
      ]
     },
     "execution_count": 6,
     "metadata": {},
     "output_type": "execute_result"
    },
    {
     "data": {
      "text/plain": [
       "'/Users/victor/Project4sxd/DRandDME/code/challenge/DRGradingnew/train/3/IDRiD_034.jpg'"
      ]
     },
     "execution_count": 6,
     "metadata": {},
     "output_type": "execute_result"
    },
    {
     "data": {
      "text/plain": [
       "'/Users/victor/Project4sxd/DRandDME/code/challenge/DRGradingnew/train/3/IDRiD_049.jpg'"
      ]
     },
     "execution_count": 6,
     "metadata": {},
     "output_type": "execute_result"
    },
    {
     "data": {
      "text/plain": [
       "'/Users/victor/Project4sxd/DRandDME/code/challenge/DRGradingnew/train/3/IDRiD_026.jpg'"
      ]
     },
     "execution_count": 6,
     "metadata": {},
     "output_type": "execute_result"
    },
    {
     "data": {
      "text/plain": [
       "'/Users/victor/Project4sxd/DRandDME/code/challenge/DRGradingnew/train/3/IDRiD_110.jpg'"
      ]
     },
     "execution_count": 6,
     "metadata": {},
     "output_type": "execute_result"
    },
    {
     "data": {
      "text/plain": [
       "'/Users/victor/Project4sxd/DRandDME/code/challenge/DRGradingnew/train/3/IDRiD_002.jpg'"
      ]
     },
     "execution_count": 6,
     "metadata": {},
     "output_type": "execute_result"
    },
    {
     "data": {
      "text/plain": [
       "'/Users/victor/Project4sxd/DRandDME/code/challenge/DRGradingnew/train/3/IDRiD_088.jpg'"
      ]
     },
     "execution_count": 6,
     "metadata": {},
     "output_type": "execute_result"
    },
    {
     "data": {
      "text/plain": [
       "'/Users/victor/Project4sxd/DRandDME/code/challenge/DRGradingnew/train/3/IDRiD_065.jpg'"
      ]
     },
     "execution_count": 6,
     "metadata": {},
     "output_type": "execute_result"
    },
    {
     "data": {
      "text/plain": [
       "'/Users/victor/Project4sxd/DRandDME/code/challenge/DRGradingnew/train/3/IDRiD_077.jpg'"
      ]
     },
     "execution_count": 6,
     "metadata": {},
     "output_type": "execute_result"
    },
    {
     "data": {
      "text/plain": [
       "'/Users/victor/Project4sxd/DRandDME/code/challenge/DRGradingnew/train/3/IDRiD_114.jpg'"
      ]
     },
     "execution_count": 6,
     "metadata": {},
     "output_type": "execute_result"
    },
    {
     "data": {
      "text/plain": [
       "'/Users/victor/Project4sxd/DRandDME/code/challenge/DRGradingnew/train/3/IDRiD_075.jpg'"
      ]
     },
     "execution_count": 6,
     "metadata": {},
     "output_type": "execute_result"
    },
    {
     "data": {
      "text/plain": [
       "'/Users/victor/Project4sxd/DRandDME/code/challenge/DRGradingnew/train/3/IDRiD_108.jpg'"
      ]
     },
     "execution_count": 6,
     "metadata": {},
     "output_type": "execute_result"
    },
    {
     "data": {
      "text/plain": [
       "'/Users/victor/Project4sxd/DRandDME/code/challenge/DRGradingnew/train/3/IDRiD_004.jpg'"
      ]
     },
     "execution_count": 6,
     "metadata": {},
     "output_type": "execute_result"
    },
    {
     "data": {
      "text/plain": [
       "'/Users/victor/Project4sxd/DRandDME/code/challenge/DRGradingnew/train/3/IDRiD_098.jpg'"
      ]
     },
     "execution_count": 6,
     "metadata": {},
     "output_type": "execute_result"
    },
    {
     "data": {
      "text/plain": [
       "'/Users/victor/Project4sxd/DRandDME/code/challenge/DRGradingnew/train/3/IDRiD_207.jpg'"
      ]
     },
     "execution_count": 6,
     "metadata": {},
     "output_type": "execute_result"
    },
    {
     "data": {
      "text/plain": [
       "'/Users/victor/Project4sxd/DRandDME/code/challenge/DRGradingnew/train/4/IDRiD_062.jpg'"
      ]
     },
     "execution_count": 6,
     "metadata": {},
     "output_type": "execute_result"
    },
    {
     "data": {
      "text/plain": [
       "'/Users/victor/Project4sxd/DRandDME/code/challenge/DRGradingnew/train/4/IDRiD_070.jpg'"
      ]
     },
     "execution_count": 6,
     "metadata": {},
     "output_type": "execute_result"
    },
    {
     "data": {
      "text/plain": [
       "'/Users/victor/Project4sxd/DRandDME/code/challenge/DRGradingnew/train/4/IDRiD_046.jpg'"
      ]
     },
     "execution_count": 6,
     "metadata": {},
     "output_type": "execute_result"
    },
    {
     "data": {
      "text/plain": [
       "'/Users/victor/Project4sxd/DRandDME/code/challenge/DRGradingnew/train/4/IDRiD_054.jpg'"
      ]
     },
     "execution_count": 6,
     "metadata": {},
     "output_type": "execute_result"
    },
    {
     "data": {
      "text/plain": [
       "'/Users/victor/Project4sxd/DRandDME/code/challenge/DRGradingnew/train/4/IDRiD_027.jpg'"
      ]
     },
     "execution_count": 6,
     "metadata": {},
     "output_type": "execute_result"
    },
    {
     "data": {
      "text/plain": [
       "'/Users/victor/Project4sxd/DRandDME/code/challenge/DRGradingnew/train/4/IDRiD_081.jpg'"
      ]
     },
     "execution_count": 6,
     "metadata": {},
     "output_type": "execute_result"
    },
    {
     "data": {
      "text/plain": [
       "'/Users/victor/Project4sxd/DRandDME/code/challenge/DRGradingnew/train/4/IDRiD_031.jpg'"
      ]
     },
     "execution_count": 6,
     "metadata": {},
     "output_type": "execute_result"
    },
    {
     "data": {
      "text/plain": [
       "'/Users/victor/Project4sxd/DRandDME/code/challenge/DRGradingnew/train/4/IDRiD_007.jpg'"
      ]
     },
     "execution_count": 6,
     "metadata": {},
     "output_type": "execute_result"
    },
    {
     "data": {
      "text/plain": [
       "'/Users/victor/Project4sxd/DRandDME/code/challenge/DRGradingnew/train/4/IDRiD_015.jpg'"
      ]
     },
     "execution_count": 6,
     "metadata": {},
     "output_type": "execute_result"
    },
    {
     "data": {
      "text/plain": [
       "'/Users/victor/Project4sxd/DRandDME/code/challenge/DRGradingnew/train/4/IDRiD_089.jpg'"
      ]
     },
     "execution_count": 6,
     "metadata": {},
     "output_type": "execute_result"
    },
    {
     "data": {
      "text/plain": [
       "'/Users/victor/Project4sxd/DRandDME/code/challenge/DRGradingnew/train/4/IDRiD_033.jpg'"
      ]
     },
     "execution_count": 6,
     "metadata": {},
     "output_type": "execute_result"
    },
    {
     "data": {
      "text/plain": [
       "'/Users/victor/Project4sxd/DRandDME/code/challenge/DRGradingnew/train/4/IDRiD_017.jpg'"
      ]
     },
     "execution_count": 6,
     "metadata": {},
     "output_type": "execute_result"
    },
    {
     "data": {
      "text/plain": [
       "'/Users/victor/Project4sxd/DRandDME/code/challenge/DRGradingnew/train/4/IDRiD_005.jpg'"
      ]
     },
     "execution_count": 6,
     "metadata": {},
     "output_type": "execute_result"
    },
    {
     "data": {
      "text/plain": [
       "'/Users/victor/Project4sxd/DRandDME/code/challenge/DRGradingnew/train/4/IDRiD_024.jpg'"
      ]
     },
     "execution_count": 6,
     "metadata": {},
     "output_type": "execute_result"
    },
    {
     "data": {
      "text/plain": [
       "'/Users/victor/Project4sxd/DRandDME/code/challenge/DRGradingnew/train/4/IDRiD_028.jpg'"
      ]
     },
     "execution_count": 6,
     "metadata": {},
     "output_type": "execute_result"
    },
    {
     "data": {
      "text/plain": [
       "'/Users/victor/Project4sxd/DRandDME/code/challenge/DRGradingnew/train/4/IDRiD_010.jpg'"
      ]
     },
     "execution_count": 6,
     "metadata": {},
     "output_type": "execute_result"
    },
    {
     "data": {
      "text/plain": [
       "'/Users/victor/Project4sxd/DRandDME/code/challenge/DRGradingnew/train/4/IDRiD_006.jpg'"
      ]
     },
     "execution_count": 6,
     "metadata": {},
     "output_type": "execute_result"
    },
    {
     "data": {
      "text/plain": [
       "'/Users/victor/Project4sxd/DRandDME/code/challenge/DRGradingnew/train/4/IDRiD_014.jpg'"
      ]
     },
     "execution_count": 6,
     "metadata": {},
     "output_type": "execute_result"
    },
    {
     "data": {
      "text/plain": [
       "'/Users/victor/Project4sxd/DRandDME/code/challenge/DRGradingnew/train/4/IDRiD_022.jpg'"
      ]
     },
     "execution_count": 6,
     "metadata": {},
     "output_type": "execute_result"
    },
    {
     "data": {
      "text/plain": [
       "'/Users/victor/Project4sxd/DRandDME/code/challenge/DRGradingnew/train/4/IDRiD_053.jpg'"
      ]
     },
     "execution_count": 6,
     "metadata": {},
     "output_type": "execute_result"
    },
    {
     "data": {
      "text/plain": [
       "'/Users/victor/Project4sxd/DRandDME/code/challenge/DRGradingnew/train/4/IDRiD_030.jpg'"
      ]
     },
     "execution_count": 6,
     "metadata": {},
     "output_type": "execute_result"
    },
    {
     "data": {
      "text/plain": [
       "'/Users/victor/Project4sxd/DRandDME/code/challenge/DRGradingnew/train/4/IDRiD_008.jpg'"
      ]
     },
     "execution_count": 6,
     "metadata": {},
     "output_type": "execute_result"
    },
    {
     "data": {
      "text/plain": [
       "'/Users/victor/Project4sxd/DRandDME/code/challenge/DRGradingnew/train/4/IDRiD_067.jpg'"
      ]
     },
     "execution_count": 6,
     "metadata": {},
     "output_type": "execute_result"
    },
    {
     "data": {
      "text/plain": [
       "'/Users/victor/Project4sxd/DRandDME/code/challenge/DRGradingnew/train/4/IDRiD_032.jpg'"
      ]
     },
     "execution_count": 6,
     "metadata": {},
     "output_type": "execute_result"
    },
    {
     "data": {
      "text/plain": [
       "'/Users/victor/Project4sxd/DRandDME/code/challenge/DRGradingnew/train/4/IDRiD_086.jpg'"
      ]
     },
     "execution_count": 6,
     "metadata": {},
     "output_type": "execute_result"
    },
    {
     "data": {
      "text/plain": [
       "'/Users/victor/Project4sxd/DRandDME/code/challenge/DRGradingnew/val/0/IDRiD_257.jpg'"
      ]
     },
     "execution_count": 6,
     "metadata": {},
     "output_type": "execute_result"
    },
    {
     "data": {
      "text/plain": [
       "'/Users/victor/Project4sxd/DRandDME/code/challenge/DRGradingnew/val/0/IDRiD_249.jpg'"
      ]
     },
     "execution_count": 6,
     "metadata": {},
     "output_type": "execute_result"
    },
    {
     "data": {
      "text/plain": [
       "'/Users/victor/Project4sxd/DRandDME/code/challenge/DRGradingnew/val/0/IDRiD_234.jpg'"
      ]
     },
     "execution_count": 6,
     "metadata": {},
     "output_type": "execute_result"
    },
    {
     "data": {
      "text/plain": [
       "'/Users/victor/Project4sxd/DRandDME/code/challenge/DRGradingnew/val/0/IDRiD_238.jpg'"
      ]
     },
     "execution_count": 6,
     "metadata": {},
     "output_type": "execute_result"
    },
    {
     "data": {
      "text/plain": [
       "'/Users/victor/Project4sxd/DRandDME/code/challenge/DRGradingnew/val/0/IDRiD_226.jpg'"
      ]
     },
     "execution_count": 6,
     "metadata": {},
     "output_type": "execute_result"
    },
    {
     "data": {
      "text/plain": [
       "'/Users/victor/Project4sxd/DRandDME/code/challenge/DRGradingnew/val/0/IDRiD_273.jpg'"
      ]
     },
     "execution_count": 6,
     "metadata": {},
     "output_type": "execute_result"
    },
    {
     "data": {
      "text/plain": [
       "'/Users/victor/Project4sxd/DRandDME/code/challenge/DRGradingnew/val/0/IDRiD_292.jpg'"
      ]
     },
     "execution_count": 6,
     "metadata": {},
     "output_type": "execute_result"
    },
    {
     "data": {
      "text/plain": [
       "'/Users/victor/Project4sxd/DRandDME/code/challenge/DRGradingnew/val/0/IDRiD_259.jpg'"
      ]
     },
     "execution_count": 6,
     "metadata": {},
     "output_type": "execute_result"
    },
    {
     "data": {
      "text/plain": [
       "'/Users/victor/Project4sxd/DRandDME/code/challenge/DRGradingnew/val/0/IDRiD_255.jpg'"
      ]
     },
     "execution_count": 6,
     "metadata": {},
     "output_type": "execute_result"
    },
    {
     "data": {
      "text/plain": [
       "'/Users/victor/Project4sxd/DRandDME/code/challenge/DRGradingnew/val/0/IDRiD_228.jpg'"
      ]
     },
     "execution_count": 6,
     "metadata": {},
     "output_type": "execute_result"
    },
    {
     "data": {
      "text/plain": [
       "'/Users/victor/Project4sxd/DRandDME/code/challenge/DRGradingnew/val/0/IDRiD_298.jpg'"
      ]
     },
     "execution_count": 6,
     "metadata": {},
     "output_type": "execute_result"
    },
    {
     "data": {
      "text/plain": [
       "'/Users/victor/Project4sxd/DRandDME/code/challenge/DRGradingnew/val/0/IDRiD_275.jpg'"
      ]
     },
     "execution_count": 6,
     "metadata": {},
     "output_type": "execute_result"
    },
    {
     "data": {
      "text/plain": [
       "'/Users/victor/Project4sxd/DRandDME/code/challenge/DRGradingnew/val/0/IDRiD_267.jpg'"
      ]
     },
     "execution_count": 6,
     "metadata": {},
     "output_type": "execute_result"
    },
    {
     "data": {
      "text/plain": [
       "'/Users/victor/Project4sxd/DRandDME/code/challenge/DRGradingnew/val/0/IDRiD_251.jpg'"
      ]
     },
     "execution_count": 6,
     "metadata": {},
     "output_type": "execute_result"
    },
    {
     "data": {
      "text/plain": [
       "'/Users/victor/Project4sxd/DRandDME/code/challenge/DRGradingnew/val/0/IDRiD_243.jpg'"
      ]
     },
     "execution_count": 6,
     "metadata": {},
     "output_type": "execute_result"
    },
    {
     "data": {
      "text/plain": [
       "'/Users/victor/Project4sxd/DRandDME/code/challenge/DRGradingnew/val/0/IDRiD_230.jpg'"
      ]
     },
     "execution_count": 6,
     "metadata": {},
     "output_type": "execute_result"
    },
    {
     "data": {
      "text/plain": [
       "'/Users/victor/Project4sxd/DRandDME/code/challenge/DRGradingnew/val/0/IDRiD_288.jpg'"
      ]
     },
     "execution_count": 6,
     "metadata": {},
     "output_type": "execute_result"
    },
    {
     "data": {
      "text/plain": [
       "'/Users/victor/Project4sxd/DRandDME/code/challenge/DRGradingnew/val/0/IDRiD_235.jpg'"
      ]
     },
     "execution_count": 6,
     "metadata": {},
     "output_type": "execute_result"
    },
    {
     "data": {
      "text/plain": [
       "'/Users/victor/Project4sxd/DRandDME/code/challenge/DRGradingnew/val/0/IDRiD_227.jpg'"
      ]
     },
     "execution_count": 6,
     "metadata": {},
     "output_type": "execute_result"
    },
    {
     "data": {
      "text/plain": [
       "'/Users/victor/Project4sxd/DRandDME/code/challenge/DRGradingnew/val/0/IDRiD_244.jpg'"
      ]
     },
     "execution_count": 6,
     "metadata": {},
     "output_type": "execute_result"
    },
    {
     "data": {
      "text/plain": [
       "'/Users/victor/Project4sxd/DRandDME/code/challenge/DRGradingnew/val/0/IDRiD_225.jpg'"
      ]
     },
     "execution_count": 6,
     "metadata": {},
     "output_type": "execute_result"
    },
    {
     "data": {
      "text/plain": [
       "'/Users/victor/Project4sxd/DRandDME/code/challenge/DRGradingnew/val/0/IDRiD_258.jpg'"
      ]
     },
     "execution_count": 6,
     "metadata": {},
     "output_type": "execute_result"
    },
    {
     "data": {
      "text/plain": [
       "'/Users/victor/Project4sxd/DRandDME/code/challenge/DRGradingnew/val/0/IDRiD_229.jpg'"
      ]
     },
     "execution_count": 6,
     "metadata": {},
     "output_type": "execute_result"
    },
    {
     "data": {
      "text/plain": [
       "'/Users/victor/Project4sxd/DRandDME/code/challenge/DRGradingnew/val/0/IDRiD_250.jpg'"
      ]
     },
     "execution_count": 6,
     "metadata": {},
     "output_type": "execute_result"
    },
    {
     "data": {
      "text/plain": [
       "'/Users/victor/Project4sxd/DRandDME/code/challenge/DRGradingnew/val/0/IDRiD_233.jpg'"
      ]
     },
     "execution_count": 6,
     "metadata": {},
     "output_type": "execute_result"
    },
    {
     "data": {
      "text/plain": [
       "'/Users/victor/Project4sxd/DRandDME/code/challenge/DRGradingnew/val/0/IDRiD_274.jpg'"
      ]
     },
     "execution_count": 6,
     "metadata": {},
     "output_type": "execute_result"
    },
    {
     "data": {
      "text/plain": [
       "'/Users/victor/Project4sxd/DRandDME/code/challenge/DRGradingnew/val/0/IDRiD_305.jpg'"
      ]
     },
     "execution_count": 6,
     "metadata": {},
     "output_type": "execute_result"
    },
    {
     "data": {
      "text/plain": [
       "'/Users/victor/Project4sxd/DRandDME/code/challenge/DRGradingnew/val/0/IDRiD_295.jpg'"
      ]
     },
     "execution_count": 6,
     "metadata": {},
     "output_type": "execute_result"
    },
    {
     "data": {
      "text/plain": [
       "'/Users/victor/Project4sxd/DRandDME/code/challenge/DRGradingnew/val/0/IDRiD_287.jpg'"
      ]
     },
     "execution_count": 6,
     "metadata": {},
     "output_type": "execute_result"
    },
    {
     "data": {
      "text/plain": [
       "'/Users/victor/Project4sxd/DRandDME/code/challenge/DRGradingnew/val/0/IDRiD_297.jpg'"
      ]
     },
     "execution_count": 6,
     "metadata": {},
     "output_type": "execute_result"
    },
    {
     "data": {
      "text/plain": [
       "'/Users/victor/Project4sxd/DRandDME/code/challenge/DRGradingnew/val/0/IDRiD_223.jpg'"
      ]
     },
     "execution_count": 6,
     "metadata": {},
     "output_type": "execute_result"
    },
    {
     "data": {
      "text/plain": [
       "'/Users/victor/Project4sxd/DRandDME/code/challenge/DRGradingnew/val/0/IDRiD_264.jpg'"
      ]
     },
     "execution_count": 6,
     "metadata": {},
     "output_type": "execute_result"
    },
    {
     "data": {
      "text/plain": [
       "'/Users/victor/Project4sxd/DRandDME/code/challenge/DRGradingnew/val/0/IDRiD_268.jpg'"
      ]
     },
     "execution_count": 6,
     "metadata": {},
     "output_type": "execute_result"
    },
    {
     "data": {
      "text/plain": [
       "'/Users/victor/Project4sxd/DRandDME/code/challenge/DRGradingnew/val/0/IDRiD_276.jpg'"
      ]
     },
     "execution_count": 6,
     "metadata": {},
     "output_type": "execute_result"
    },
    {
     "data": {
      "text/plain": [
       "'/Users/victor/Project4sxd/DRandDME/code/challenge/DRGradingnew/val/1/IDRiD_302.jpg'"
      ]
     },
     "execution_count": 6,
     "metadata": {},
     "output_type": "execute_result"
    },
    {
     "data": {
      "text/plain": [
       "'/Users/victor/Project4sxd/DRandDME/code/challenge/DRGradingnew/val/1/IDRiD_290.jpg'"
      ]
     },
     "execution_count": 6,
     "metadata": {},
     "output_type": "execute_result"
    },
    {
     "data": {
      "text/plain": [
       "'/Users/victor/Project4sxd/DRandDME/code/challenge/DRGradingnew/val/1/IDRiD_304.jpg'"
      ]
     },
     "execution_count": 6,
     "metadata": {},
     "output_type": "execute_result"
    },
    {
     "data": {
      "text/plain": [
       "'/Users/victor/Project4sxd/DRandDME/code/challenge/DRGradingnew/val/1/IDRiD_301.jpg'"
      ]
     },
     "execution_count": 6,
     "metadata": {},
     "output_type": "execute_result"
    },
    {
     "data": {
      "text/plain": [
       "'/Users/victor/Project4sxd/DRandDME/code/challenge/DRGradingnew/val/1/IDRiD_291.jpg'"
      ]
     },
     "execution_count": 6,
     "metadata": {},
     "output_type": "execute_result"
    },
    {
     "data": {
      "text/plain": [
       "'/Users/victor/Project4sxd/DRandDME/code/challenge/DRGradingnew/val/2/IDRiD_183.jpg'"
      ]
     },
     "execution_count": 6,
     "metadata": {},
     "output_type": "execute_result"
    },
    {
     "data": {
      "text/plain": [
       "'/Users/victor/Project4sxd/DRandDME/code/challenge/DRGradingnew/val/2/IDRiD_245.jpg'"
      ]
     },
     "execution_count": 6,
     "metadata": {},
     "output_type": "execute_result"
    },
    {
     "data": {
      "text/plain": [
       "'/Users/victor/Project4sxd/DRandDME/code/challenge/DRGradingnew/val/2/IDRiD_191.jpg'"
      ]
     },
     "execution_count": 6,
     "metadata": {},
     "output_type": "execute_result"
    },
    {
     "data": {
      "text/plain": [
       "'/Users/victor/Project4sxd/DRandDME/code/challenge/DRGradingnew/val/2/IDRiD_261.jpg'"
      ]
     },
     "execution_count": 6,
     "metadata": {},
     "output_type": "execute_result"
    },
    {
     "data": {
      "text/plain": [
       "'/Users/victor/Project4sxd/DRandDME/code/challenge/DRGradingnew/val/2/IDRiD_280.jpg'"
      ]
     },
     "execution_count": 6,
     "metadata": {},
     "output_type": "execute_result"
    },
    {
     "data": {
      "text/plain": [
       "'/Users/victor/Project4sxd/DRandDME/code/challenge/DRGradingnew/val/2/IDRiD_137.jpg'"
      ]
     },
     "execution_count": 6,
     "metadata": {},
     "output_type": "execute_result"
    },
    {
     "data": {
      "text/plain": [
       "'/Users/victor/Project4sxd/DRandDME/code/challenge/DRGradingnew/val/2/IDRiD_282.jpg'"
      ]
     },
     "execution_count": 6,
     "metadata": {},
     "output_type": "execute_result"
    },
    {
     "data": {
      "text/plain": [
       "'/Users/victor/Project4sxd/DRandDME/code/challenge/DRGradingnew/val/2/IDRiD_247.jpg'"
      ]
     },
     "execution_count": 6,
     "metadata": {},
     "output_type": "execute_result"
    },
    {
     "data": {
      "text/plain": [
       "'/Users/victor/Project4sxd/DRandDME/code/challenge/DRGradingnew/val/2/IDRiD_236.jpg'"
      ]
     },
     "execution_count": 6,
     "metadata": {},
     "output_type": "execute_result"
    },
    {
     "data": {
      "text/plain": [
       "'/Users/victor/Project4sxd/DRandDME/code/challenge/DRGradingnew/val/2/IDRiD_263.jpg'"
      ]
     },
     "execution_count": 6,
     "metadata": {},
     "output_type": "execute_result"
    },
    {
     "data": {
      "text/plain": [
       "'/Users/victor/Project4sxd/DRandDME/code/challenge/DRGradingnew/val/2/IDRiD_216.jpg'"
      ]
     },
     "execution_count": 6,
     "metadata": {},
     "output_type": "execute_result"
    },
    {
     "data": {
      "text/plain": [
       "'/Users/victor/Project4sxd/DRandDME/code/challenge/DRGradingnew/val/2/IDRiD_208.jpg'"
      ]
     },
     "execution_count": 6,
     "metadata": {},
     "output_type": "execute_result"
    },
    {
     "data": {
      "text/plain": [
       "'/Users/victor/Project4sxd/DRandDME/code/challenge/DRGradingnew/val/2/IDRiD_232.jpg'"
      ]
     },
     "execution_count": 6,
     "metadata": {},
     "output_type": "execute_result"
    },
    {
     "data": {
      "text/plain": [
       "'/Users/victor/Project4sxd/DRandDME/code/challenge/DRGradingnew/val/2/IDRiD_185.jpg'"
      ]
     },
     "execution_count": 6,
     "metadata": {},
     "output_type": "execute_result"
    },
    {
     "data": {
      "text/plain": [
       "'/Users/victor/Project4sxd/DRandDME/code/challenge/DRGradingnew/val/2/IDRiD_241.jpg'"
      ]
     },
     "execution_count": 6,
     "metadata": {},
     "output_type": "execute_result"
    },
    {
     "data": {
      "text/plain": [
       "'/Users/victor/Project4sxd/DRandDME/code/challenge/DRGradingnew/val/2/IDRiD_187.jpg'"
      ]
     },
     "execution_count": 6,
     "metadata": {},
     "output_type": "execute_result"
    },
    {
     "data": {
      "text/plain": [
       "'/Users/victor/Project4sxd/DRandDME/code/challenge/DRGradingnew/val/2/IDRiD_284.jpg'"
      ]
     },
     "execution_count": 6,
     "metadata": {},
     "output_type": "execute_result"
    },
    {
     "data": {
      "text/plain": [
       "'/Users/victor/Project4sxd/DRandDME/code/challenge/DRGradingnew/val/2/IDRiD_293.jpg'"
      ]
     },
     "execution_count": 6,
     "metadata": {},
     "output_type": "execute_result"
    },
    {
     "data": {
      "text/plain": [
       "'/Users/victor/Project4sxd/DRandDME/code/challenge/DRGradingnew/val/2/IDRiD_136.jpg'"
      ]
     },
     "execution_count": 6,
     "metadata": {},
     "output_type": "execute_result"
    },
    {
     "data": {
      "text/plain": [
       "'/Users/victor/Project4sxd/DRandDME/code/challenge/DRGradingnew/val/2/IDRiD_281.jpg'"
      ]
     },
     "execution_count": 6,
     "metadata": {},
     "output_type": "execute_result"
    },
    {
     "data": {
      "text/plain": [
       "'/Users/victor/Project4sxd/DRandDME/code/challenge/DRGradingnew/val/2/IDRiD_260.jpg'"
      ]
     },
     "execution_count": 6,
     "metadata": {},
     "output_type": "execute_result"
    },
    {
     "data": {
      "text/plain": [
       "'/Users/victor/Project4sxd/DRandDME/code/challenge/DRGradingnew/val/2/IDRiD_248.jpg'"
      ]
     },
     "execution_count": 6,
     "metadata": {},
     "output_type": "execute_result"
    },
    {
     "data": {
      "text/plain": [
       "'/Users/victor/Project4sxd/DRandDME/code/challenge/DRGradingnew/val/2/IDRiD_262.jpg'"
      ]
     },
     "execution_count": 6,
     "metadata": {},
     "output_type": "execute_result"
    },
    {
     "data": {
      "text/plain": [
       "'/Users/victor/Project4sxd/DRandDME/code/challenge/DRGradingnew/val/2/IDRiD_201.jpg'"
      ]
     },
     "execution_count": 6,
     "metadata": {},
     "output_type": "execute_result"
    },
    {
     "data": {
      "text/plain": [
       "'/Users/victor/Project4sxd/DRandDME/code/challenge/DRGradingnew/val/2/IDRiD_270.jpg'"
      ]
     },
     "execution_count": 6,
     "metadata": {},
     "output_type": "execute_result"
    },
    {
     "data": {
      "text/plain": [
       "'/Users/victor/Project4sxd/DRandDME/code/challenge/DRGradingnew/val/2/IDRiD_237.jpg'"
      ]
     },
     "execution_count": 6,
     "metadata": {},
     "output_type": "execute_result"
    },
    {
     "data": {
      "text/plain": [
       "'/Users/victor/Project4sxd/DRandDME/code/challenge/DRGradingnew/val/2/IDRiD_283.jpg'"
      ]
     },
     "execution_count": 6,
     "metadata": {},
     "output_type": "execute_result"
    },
    {
     "data": {
      "text/plain": [
       "'/Users/victor/Project4sxd/DRandDME/code/challenge/DRGradingnew/val/2/IDRiD_242.jpg'"
      ]
     },
     "execution_count": 6,
     "metadata": {},
     "output_type": "execute_result"
    },
    {
     "data": {
      "text/plain": [
       "'/Users/victor/Project4sxd/DRandDME/code/challenge/DRGradingnew/val/2/IDRiD_188.jpg'"
      ]
     },
     "execution_count": 6,
     "metadata": {},
     "output_type": "execute_result"
    },
    {
     "data": {
      "text/plain": [
       "'/Users/victor/Project4sxd/DRandDME/code/challenge/DRGradingnew/val/2/IDRiD_196.jpg'"
      ]
     },
     "execution_count": 6,
     "metadata": {},
     "output_type": "execute_result"
    },
    {
     "data": {
      "text/plain": [
       "'/Users/victor/Project4sxd/DRandDME/code/challenge/DRGradingnew/val/2/IDRiD_186.jpg'"
      ]
     },
     "execution_count": 6,
     "metadata": {},
     "output_type": "execute_result"
    },
    {
     "data": {
      "text/plain": [
       "'/Users/victor/Project4sxd/DRandDME/code/challenge/DRGradingnew/val/2/IDRiD_231.jpg'"
      ]
     },
     "execution_count": 6,
     "metadata": {},
     "output_type": "execute_result"
    },
    {
     "data": {
      "text/plain": [
       "'/Users/victor/Project4sxd/DRandDME/code/challenge/DRGradingnew/val/2/IDRiD_252.jpg'"
      ]
     },
     "execution_count": 6,
     "metadata": {},
     "output_type": "execute_result"
    },
    {
     "data": {
      "text/plain": [
       "'/Users/victor/Project4sxd/DRandDME/code/challenge/DRGradingnew/val/2/IDRiD_215.jpg'"
      ]
     },
     "execution_count": 6,
     "metadata": {},
     "output_type": "execute_result"
    },
    {
     "data": {
      "text/plain": [
       "'/Users/victor/Project4sxd/DRandDME/code/challenge/DRGradingnew/val/3/IDRiD_334.jpg'"
      ]
     },
     "execution_count": 6,
     "metadata": {},
     "output_type": "execute_result"
    },
    {
     "data": {
      "text/plain": [
       "'/Users/victor/Project4sxd/DRandDME/code/challenge/DRGradingnew/val/3/IDRiD_324.jpg'"
      ]
     },
     "execution_count": 6,
     "metadata": {},
     "output_type": "execute_result"
    },
    {
     "data": {
      "text/plain": [
       "'/Users/victor/Project4sxd/DRandDME/code/challenge/DRGradingnew/val/3/IDRiD_271.jpg'"
      ]
     },
     "execution_count": 6,
     "metadata": {},
     "output_type": "execute_result"
    },
    {
     "data": {
      "text/plain": [
       "'/Users/victor/Project4sxd/DRandDME/code/challenge/DRGradingnew/val/3/IDRiD_308.jpg'"
      ]
     },
     "execution_count": 6,
     "metadata": {},
     "output_type": "execute_result"
    },
    {
     "data": {
      "text/plain": [
       "'/Users/victor/Project4sxd/DRandDME/code/challenge/DRGradingnew/val/3/IDRiD_320.jpg'"
      ]
     },
     "execution_count": 6,
     "metadata": {},
     "output_type": "execute_result"
    },
    {
     "data": {
      "text/plain": [
       "'/Users/victor/Project4sxd/DRandDME/code/challenge/DRGradingnew/val/3/IDRiD_306.jpg'"
      ]
     },
     "execution_count": 6,
     "metadata": {},
     "output_type": "execute_result"
    },
    {
     "data": {
      "text/plain": [
       "'/Users/victor/Project4sxd/DRandDME/code/challenge/DRGradingnew/val/3/IDRiD_277.jpg'"
      ]
     },
     "execution_count": 6,
     "metadata": {},
     "output_type": "execute_result"
    },
    {
     "data": {
      "text/plain": [
       "'/Users/victor/Project4sxd/DRandDME/code/challenge/DRGradingnew/val/3/IDRiD_314.jpg'"
      ]
     },
     "execution_count": 6,
     "metadata": {},
     "output_type": "execute_result"
    },
    {
     "data": {
      "text/plain": [
       "'/Users/victor/Project4sxd/DRandDME/code/challenge/DRGradingnew/val/3/IDRiD_341.jpg'"
      ]
     },
     "execution_count": 6,
     "metadata": {},
     "output_type": "execute_result"
    },
    {
     "data": {
      "text/plain": [
       "'/Users/victor/Project4sxd/DRandDME/code/challenge/DRGradingnew/val/3/IDRiD_330.jpg'"
      ]
     },
     "execution_count": 6,
     "metadata": {},
     "output_type": "execute_result"
    },
    {
     "data": {
      "text/plain": [
       "'/Users/victor/Project4sxd/DRandDME/code/challenge/DRGradingnew/val/3/IDRiD_296.jpg'"
      ]
     },
     "execution_count": 6,
     "metadata": {},
     "output_type": "execute_result"
    },
    {
     "data": {
      "text/plain": [
       "'/Users/victor/Project4sxd/DRandDME/code/challenge/DRGradingnew/val/3/IDRiD_327.jpg'"
      ]
     },
     "execution_count": 6,
     "metadata": {},
     "output_type": "execute_result"
    },
    {
     "data": {
      "text/plain": [
       "'/Users/victor/Project4sxd/DRandDME/code/challenge/DRGradingnew/val/3/IDRiD_339.jpg'"
      ]
     },
     "execution_count": 6,
     "metadata": {},
     "output_type": "execute_result"
    },
    {
     "data": {
      "text/plain": [
       "'/Users/victor/Project4sxd/DRandDME/code/challenge/DRGradingnew/val/3/IDRiD_329.jpg'"
      ]
     },
     "execution_count": 6,
     "metadata": {},
     "output_type": "execute_result"
    },
    {
     "data": {
      "text/plain": [
       "'/Users/victor/Project4sxd/DRandDME/code/challenge/DRGradingnew/val/3/IDRiD_321.jpg'"
      ]
     },
     "execution_count": 6,
     "metadata": {},
     "output_type": "execute_result"
    },
    {
     "data": {
      "text/plain": [
       "'/Users/victor/Project4sxd/DRandDME/code/challenge/DRGradingnew/val/3/IDRiD_309.jpg'"
      ]
     },
     "execution_count": 6,
     "metadata": {},
     "output_type": "execute_result"
    },
    {
     "data": {
      "text/plain": [
       "'/Users/victor/Project4sxd/DRandDME/code/challenge/DRGradingnew/val/3/IDRiD_278.jpg'"
      ]
     },
     "execution_count": 6,
     "metadata": {},
     "output_type": "execute_result"
    },
    {
     "data": {
      "text/plain": [
       "'/Users/victor/Project4sxd/DRandDME/code/challenge/DRGradingnew/val/3/IDRiD_299.jpg'"
      ]
     },
     "execution_count": 6,
     "metadata": {},
     "output_type": "execute_result"
    },
    {
     "data": {
      "text/plain": [
       "'/Users/victor/Project4sxd/DRandDME/code/challenge/DRGradingnew/val/3/IDRiD_323.jpg'"
      ]
     },
     "execution_count": 6,
     "metadata": {},
     "output_type": "execute_result"
    },
    {
     "data": {
      "text/plain": [
       "'/Users/victor/Project4sxd/DRandDME/code/challenge/DRGradingnew/val/4/IDRiD_111.jpg'"
      ]
     },
     "execution_count": 6,
     "metadata": {},
     "output_type": "execute_result"
    },
    {
     "data": {
      "text/plain": [
       "'/Users/victor/Project4sxd/DRandDME/code/challenge/DRGradingnew/val/4/IDRiD_224.jpg'"
      ]
     },
     "execution_count": 6,
     "metadata": {},
     "output_type": "execute_result"
    },
    {
     "data": {
      "text/plain": [
       "'/Users/victor/Project4sxd/DRandDME/code/challenge/DRGradingnew/val/4/IDRiD_119.jpg'"
      ]
     },
     "execution_count": 6,
     "metadata": {},
     "output_type": "execute_result"
    },
    {
     "data": {
      "text/plain": [
       "'/Users/victor/Project4sxd/DRandDME/code/challenge/DRGradingnew/val/4/IDRiD_189.jpg'"
      ]
     },
     "execution_count": 6,
     "metadata": {},
     "output_type": "execute_result"
    },
    {
     "data": {
      "text/plain": [
       "'/Users/victor/Project4sxd/DRandDME/code/challenge/DRGradingnew/val/4/IDRiD_178.jpg'"
      ]
     },
     "execution_count": 6,
     "metadata": {},
     "output_type": "execute_result"
    },
    {
     "data": {
      "text/plain": [
       "'/Users/victor/Project4sxd/DRandDME/code/challenge/DRGradingnew/val/4/IDRiD_100.jpg'"
      ]
     },
     "execution_count": 6,
     "metadata": {},
     "output_type": "execute_result"
    },
    {
     "data": {
      "text/plain": [
       "'/Users/victor/Project4sxd/DRandDME/code/challenge/DRGradingnew/val/4/IDRiD_090.jpg'"
      ]
     },
     "execution_count": 6,
     "metadata": {},
     "output_type": "execute_result"
    },
    {
     "data": {
      "text/plain": [
       "'/Users/victor/Project4sxd/DRandDME/code/challenge/DRGradingnew/val/4/IDRiD_239.jpg'"
      ]
     },
     "execution_count": 6,
     "metadata": {},
     "output_type": "execute_result"
    },
    {
     "data": {
      "text/plain": [
       "'/Users/victor/Project4sxd/DRandDME/code/challenge/DRGradingnew/val/4/IDRiD_246.jpg'"
      ]
     },
     "execution_count": 6,
     "metadata": {},
     "output_type": "execute_result"
    },
    {
     "data": {
      "text/plain": [
       "'/Users/victor/Project4sxd/DRandDME/code/challenge/DRGradingnew/val/4/IDRiD_096.jpg'"
      ]
     },
     "execution_count": 6,
     "metadata": {},
     "output_type": "execute_result"
    },
    {
     "data": {
      "text/plain": [
       "'/Users/victor/Project4sxd/DRandDME/code/challenge/DRGradingnew/val/4/IDRiD_104.jpg'"
      ]
     },
     "execution_count": 6,
     "metadata": {},
     "output_type": "execute_result"
    },
    {
     "data": {
      "text/plain": [
       "'/Users/victor/Project4sxd/DRandDME/code/challenge/DRGradingnew/val/4/IDRiD_240.jpg'"
      ]
     },
     "execution_count": 6,
     "metadata": {},
     "output_type": "execute_result"
    },
    {
     "data": {
      "text/plain": [
       "'/Users/victor/Project4sxd/DRandDME/code/challenge/DRGradingnew/test/0/IDRiD_406.jpg'"
      ]
     },
     "execution_count": 6,
     "metadata": {},
     "output_type": "execute_result"
    },
    {
     "data": {
      "text/plain": [
       "'/Users/victor/Project4sxd/DRandDME/code/challenge/DRGradingnew/test/0/IDRiD_345.jpg'"
      ]
     },
     "execution_count": 6,
     "metadata": {},
     "output_type": "execute_result"
    },
    {
     "data": {
      "text/plain": [
       "'/Users/victor/Project4sxd/DRandDME/code/challenge/DRGradingnew/test/0/IDRiD_373.jpg'"
      ]
     },
     "execution_count": 6,
     "metadata": {},
     "output_type": "execute_result"
    },
    {
     "data": {
      "text/plain": [
       "'/Users/victor/Project4sxd/DRandDME/code/challenge/DRGradingnew/test/0/IDRiD_382.jpg'"
      ]
     },
     "execution_count": 6,
     "metadata": {},
     "output_type": "execute_result"
    },
    {
     "data": {
      "text/plain": [
       "'/Users/victor/Project4sxd/DRandDME/code/challenge/DRGradingnew/test/0/IDRiD_359.jpg'"
      ]
     },
     "execution_count": 6,
     "metadata": {},
     "output_type": "execute_result"
    },
    {
     "data": {
      "text/plain": [
       "'/Users/victor/Project4sxd/DRandDME/code/challenge/DRGradingnew/test/0/IDRiD_336.jpg'"
      ]
     },
     "execution_count": 6,
     "metadata": {},
     "output_type": "execute_result"
    },
    {
     "data": {
      "text/plain": [
       "'/Users/victor/Project4sxd/DRandDME/code/challenge/DRGradingnew/test/0/IDRiD_355.jpg'"
      ]
     },
     "execution_count": 6,
     "metadata": {},
     "output_type": "execute_result"
    },
    {
     "data": {
      "text/plain": [
       "'/Users/victor/Project4sxd/DRandDME/code/challenge/DRGradingnew/test/0/IDRiD_312.jpg'"
      ]
     },
     "execution_count": 6,
     "metadata": {},
     "output_type": "execute_result"
    },
    {
     "data": {
      "text/plain": [
       "'/Users/victor/Project4sxd/DRandDME/code/challenge/DRGradingnew/test/0/IDRiD_386.jpg'"
      ]
     },
     "execution_count": 6,
     "metadata": {},
     "output_type": "execute_result"
    },
    {
     "data": {
      "text/plain": [
       "'/Users/victor/Project4sxd/DRandDME/code/challenge/DRGradingnew/test/0/IDRiD_316.jpg'"
      ]
     },
     "execution_count": 6,
     "metadata": {},
     "output_type": "execute_result"
    },
    {
     "data": {
      "text/plain": [
       "'/Users/victor/Project4sxd/DRandDME/code/challenge/DRGradingnew/test/0/IDRiD_367.jpg'"
      ]
     },
     "execution_count": 6,
     "metadata": {},
     "output_type": "execute_result"
    },
    {
     "data": {
      "text/plain": [
       "'/Users/victor/Project4sxd/DRandDME/code/challenge/DRGradingnew/test/0/IDRiD_400.jpg'"
      ]
     },
     "execution_count": 6,
     "metadata": {},
     "output_type": "execute_result"
    },
    {
     "data": {
      "text/plain": [
       "'/Users/victor/Project4sxd/DRandDME/code/challenge/DRGradingnew/test/0/IDRiD_351.jpg'"
      ]
     },
     "execution_count": 6,
     "metadata": {},
     "output_type": "execute_result"
    },
    {
     "data": {
      "text/plain": [
       "'/Users/victor/Project4sxd/DRandDME/code/challenge/DRGradingnew/test/0/IDRiD_318.jpg'"
      ]
     },
     "execution_count": 6,
     "metadata": {},
     "output_type": "execute_result"
    },
    {
     "data": {
      "text/plain": [
       "'/Users/victor/Project4sxd/DRandDME/code/challenge/DRGradingnew/test/0/IDRiD_365.jpg'"
      ]
     },
     "execution_count": 6,
     "metadata": {},
     "output_type": "execute_result"
    },
    {
     "data": {
      "text/plain": [
       "'/Users/victor/Project4sxd/DRandDME/code/challenge/DRGradingnew/test/0/IDRiD_353.jpg'"
      ]
     },
     "execution_count": 6,
     "metadata": {},
     "output_type": "execute_result"
    },
    {
     "data": {
      "text/plain": [
       "'/Users/victor/Project4sxd/DRandDME/code/challenge/DRGradingnew/test/0/IDRiD_396.jpg'"
      ]
     },
     "execution_count": 6,
     "metadata": {},
     "output_type": "execute_result"
    },
    {
     "data": {
      "text/plain": [
       "'/Users/victor/Project4sxd/DRandDME/code/challenge/DRGradingnew/test/0/IDRiD_393.jpg'"
      ]
     },
     "execution_count": 6,
     "metadata": {},
     "output_type": "execute_result"
    },
    {
     "data": {
      "text/plain": [
       "'/Users/victor/Project4sxd/DRandDME/code/challenge/DRGradingnew/test/0/IDRiD_381.jpg'"
      ]
     },
     "execution_count": 6,
     "metadata": {},
     "output_type": "execute_result"
    },
    {
     "data": {
      "text/plain": [
       "'/Users/victor/Project4sxd/DRandDME/code/challenge/DRGradingnew/test/0/IDRiD_335.jpg'"
      ]
     },
     "execution_count": 6,
     "metadata": {},
     "output_type": "execute_result"
    },
    {
     "data": {
      "text/plain": [
       "'/Users/victor/Project4sxd/DRandDME/code/challenge/DRGradingnew/test/0/IDRiD_370.jpg'"
      ]
     },
     "execution_count": 6,
     "metadata": {},
     "output_type": "execute_result"
    },
    {
     "data": {
      "text/plain": [
       "'/Users/victor/Project4sxd/DRandDME/code/challenge/DRGradingnew/test/0/IDRiD_346.jpg'"
      ]
     },
     "execution_count": 6,
     "metadata": {},
     "output_type": "execute_result"
    },
    {
     "data": {
      "text/plain": [
       "'/Users/victor/Project4sxd/DRandDME/code/challenge/DRGradingnew/test/0/IDRiD_358.jpg'"
      ]
     },
     "execution_count": 6,
     "metadata": {},
     "output_type": "execute_result"
    },
    {
     "data": {
      "text/plain": [
       "'/Users/victor/Project4sxd/DRandDME/code/challenge/DRGradingnew/test/0/IDRiD_342.jpg'"
      ]
     },
     "execution_count": 6,
     "metadata": {},
     "output_type": "execute_result"
    },
    {
     "data": {
      "text/plain": [
       "'/Users/victor/Project4sxd/DRandDME/code/challenge/DRGradingnew/test/0/IDRiD_317.jpg'"
      ]
     },
     "execution_count": 6,
     "metadata": {},
     "output_type": "execute_result"
    },
    {
     "data": {
      "text/plain": [
       "'/Users/victor/Project4sxd/DRandDME/code/challenge/DRGradingnew/test/0/IDRiD_378.jpg'"
      ]
     },
     "execution_count": 6,
     "metadata": {},
     "output_type": "execute_result"
    },
    {
     "data": {
      "text/plain": [
       "'/Users/victor/Project4sxd/DRandDME/code/challenge/DRGradingnew/test/0/IDRiD_395.jpg'"
      ]
     },
     "execution_count": 6,
     "metadata": {},
     "output_type": "execute_result"
    },
    {
     "data": {
      "text/plain": [
       "'/Users/victor/Project4sxd/DRandDME/code/challenge/DRGradingnew/test/0/IDRiD_399.jpg'"
      ]
     },
     "execution_count": 6,
     "metadata": {},
     "output_type": "execute_result"
    },
    {
     "data": {
      "text/plain": [
       "'/Users/victor/Project4sxd/DRandDME/code/challenge/DRGradingnew/test/0/IDRiD_387.jpg'"
      ]
     },
     "execution_count": 6,
     "metadata": {},
     "output_type": "execute_result"
    },
    {
     "data": {
      "text/plain": [
       "'/Users/victor/Project4sxd/DRandDME/code/challenge/DRGradingnew/test/0/IDRiD_331.jpg'"
      ]
     },
     "execution_count": 6,
     "metadata": {},
     "output_type": "execute_result"
    },
    {
     "data": {
      "text/plain": [
       "'/Users/victor/Project4sxd/DRandDME/code/challenge/DRGradingnew/test/0/IDRiD_352.jpg'"
      ]
     },
     "execution_count": 6,
     "metadata": {},
     "output_type": "execute_result"
    },
    {
     "data": {
      "text/plain": [
       "'/Users/victor/Project4sxd/DRandDME/code/challenge/DRGradingnew/test/0/IDRiD_307.jpg'"
      ]
     },
     "execution_count": 6,
     "metadata": {},
     "output_type": "execute_result"
    },
    {
     "data": {
      "text/plain": [
       "'/Users/victor/Project4sxd/DRandDME/code/challenge/DRGradingnew/test/0/IDRiD_315.jpg'"
      ]
     },
     "execution_count": 6,
     "metadata": {},
     "output_type": "execute_result"
    },
    {
     "data": {
      "text/plain": [
       "'/Users/victor/Project4sxd/DRandDME/code/challenge/DRGradingnew/test/1/IDRiD_408.jpg'"
      ]
     },
     "execution_count": 6,
     "metadata": {},
     "output_type": "execute_result"
    },
    {
     "data": {
      "text/plain": [
       "'/Users/victor/Project4sxd/DRandDME/code/challenge/DRGradingnew/test/1/IDRiD_379.jpg'"
      ]
     },
     "execution_count": 6,
     "metadata": {},
     "output_type": "execute_result"
    },
    {
     "data": {
      "text/plain": [
       "'/Users/victor/Project4sxd/DRandDME/code/challenge/DRGradingnew/test/1/IDRiD_402.jpg'"
      ]
     },
     "execution_count": 6,
     "metadata": {},
     "output_type": "execute_result"
    },
    {
     "data": {
      "text/plain": [
       "'/Users/victor/Project4sxd/DRandDME/code/challenge/DRGradingnew/test/1/IDRiD_388.jpg'"
      ]
     },
     "execution_count": 6,
     "metadata": {},
     "output_type": "execute_result"
    },
    {
     "data": {
      "text/plain": [
       "'/Users/victor/Project4sxd/DRandDME/code/challenge/DRGradingnew/test/1/IDRiD_403.jpg'"
      ]
     },
     "execution_count": 6,
     "metadata": {},
     "output_type": "execute_result"
    },
    {
     "data": {
      "text/plain": [
       "'/Users/victor/Project4sxd/DRandDME/code/challenge/DRGradingnew/test/2/IDRiD_338.jpg'"
      ]
     },
     "execution_count": 6,
     "metadata": {},
     "output_type": "execute_result"
    },
    {
     "data": {
      "text/plain": [
       "'/Users/victor/Project4sxd/DRandDME/code/challenge/DRGradingnew/test/2/IDRiD_326.jpg'"
      ]
     },
     "execution_count": 6,
     "metadata": {},
     "output_type": "execute_result"
    },
    {
     "data": {
      "text/plain": [
       "'/Users/victor/Project4sxd/DRandDME/code/challenge/DRGradingnew/test/2/IDRiD_310.jpg'"
      ]
     },
     "execution_count": 6,
     "metadata": {},
     "output_type": "execute_result"
    },
    {
     "data": {
      "text/plain": [
       "'/Users/victor/Project4sxd/DRandDME/code/challenge/DRGradingnew/test/2/IDRiD_404.jpg'"
      ]
     },
     "execution_count": 6,
     "metadata": {},
     "output_type": "execute_result"
    },
    {
     "data": {
      "text/plain": [
       "'/Users/victor/Project4sxd/DRandDME/code/challenge/DRGradingnew/test/2/IDRiD_328.jpg'"
      ]
     },
     "execution_count": 6,
     "metadata": {},
     "output_type": "execute_result"
    },
    {
     "data": {
      "text/plain": [
       "'/Users/victor/Project4sxd/DRandDME/code/challenge/DRGradingnew/test/2/IDRiD_300.jpg'"
      ]
     },
     "execution_count": 6,
     "metadata": {},
     "output_type": "execute_result"
    },
    {
     "data": {
      "text/plain": [
       "'/Users/victor/Project4sxd/DRandDME/code/challenge/DRGradingnew/test/2/IDRiD_363.jpg'"
      ]
     },
     "execution_count": 6,
     "metadata": {},
     "output_type": "execute_result"
    },
    {
     "data": {
      "text/plain": [
       "'/Users/victor/Project4sxd/DRandDME/code/challenge/DRGradingnew/test/2/IDRiD_294.jpg'"
      ]
     },
     "execution_count": 6,
     "metadata": {},
     "output_type": "execute_result"
    },
    {
     "data": {
      "text/plain": [
       "'/Users/victor/Project4sxd/DRandDME/code/challenge/DRGradingnew/test/2/IDRiD_398.jpg'"
      ]
     },
     "execution_count": 6,
     "metadata": {},
     "output_type": "execute_result"
    },
    {
     "data": {
      "text/plain": [
       "'/Users/victor/Project4sxd/DRandDME/code/challenge/DRGradingnew/test/2/IDRiD_375.jpg'"
      ]
     },
     "execution_count": 6,
     "metadata": {},
     "output_type": "execute_result"
    },
    {
     "data": {
      "text/plain": [
       "'/Users/victor/Project4sxd/DRandDME/code/challenge/DRGradingnew/test/2/IDRiD_332.jpg'"
      ]
     },
     "execution_count": 6,
     "metadata": {},
     "output_type": "execute_result"
    },
    {
     "data": {
      "text/plain": [
       "'/Users/victor/Project4sxd/DRandDME/code/challenge/DRGradingnew/test/2/IDRiD_343.jpg'"
      ]
     },
     "execution_count": 6,
     "metadata": {},
     "output_type": "execute_result"
    },
    {
     "data": {
      "text/plain": [
       "'/Users/victor/Project4sxd/DRandDME/code/challenge/DRGradingnew/test/2/IDRiD_412.jpg'"
      ]
     },
     "execution_count": 6,
     "metadata": {},
     "output_type": "execute_result"
    },
    {
     "data": {
      "text/plain": [
       "'/Users/victor/Project4sxd/DRandDME/code/challenge/DRGradingnew/test/2/IDRiD_410.jpg'"
      ]
     },
     "execution_count": 6,
     "metadata": {},
     "output_type": "execute_result"
    },
    {
     "data": {
      "text/plain": [
       "'/Users/victor/Project4sxd/DRandDME/code/challenge/DRGradingnew/test/2/IDRiD_322.jpg'"
      ]
     },
     "execution_count": 6,
     "metadata": {},
     "output_type": "execute_result"
    },
    {
     "data": {
      "text/plain": [
       "'/Users/victor/Project4sxd/DRandDME/code/challenge/DRGradingnew/test/2/IDRiD_311.jpg'"
      ]
     },
     "execution_count": 6,
     "metadata": {},
     "output_type": "execute_result"
    },
    {
     "data": {
      "text/plain": [
       "'/Users/victor/Project4sxd/DRandDME/code/challenge/DRGradingnew/test/2/IDRiD_303.jpg'"
      ]
     },
     "execution_count": 6,
     "metadata": {},
     "output_type": "execute_result"
    },
    {
     "data": {
      "text/plain": [
       "'/Users/victor/Project4sxd/DRandDME/code/challenge/DRGradingnew/test/2/IDRiD_360.jpg'"
      ]
     },
     "execution_count": 6,
     "metadata": {},
     "output_type": "execute_result"
    },
    {
     "data": {
      "text/plain": [
       "'/Users/victor/Project4sxd/DRandDME/code/challenge/DRGradingnew/test/2/IDRiD_348.jpg'"
      ]
     },
     "execution_count": 6,
     "metadata": {},
     "output_type": "execute_result"
    },
    {
     "data": {
      "text/plain": [
       "'/Users/victor/Project4sxd/DRandDME/code/challenge/DRGradingnew/test/2/IDRiD_407.jpg'"
      ]
     },
     "execution_count": 6,
     "metadata": {},
     "output_type": "execute_result"
    },
    {
     "data": {
      "text/plain": [
       "'/Users/victor/Project4sxd/DRandDME/code/challenge/DRGradingnew/test/2/IDRiD_325.jpg'"
      ]
     },
     "execution_count": 6,
     "metadata": {},
     "output_type": "execute_result"
    },
    {
     "data": {
      "text/plain": [
       "'/Users/victor/Project4sxd/DRandDME/code/challenge/DRGradingnew/test/2/IDRiD_409.jpg'"
      ]
     },
     "execution_count": 6,
     "metadata": {},
     "output_type": "execute_result"
    },
    {
     "data": {
      "text/plain": [
       "'/Users/victor/Project4sxd/DRandDME/code/challenge/DRGradingnew/test/2/IDRiD_405.jpg'"
      ]
     },
     "execution_count": 6,
     "metadata": {},
     "output_type": "execute_result"
    },
    {
     "data": {
      "text/plain": [
       "'/Users/victor/Project4sxd/DRandDME/code/challenge/DRGradingnew/test/2/IDRiD_337.jpg'"
      ]
     },
     "execution_count": 6,
     "metadata": {},
     "output_type": "execute_result"
    },
    {
     "data": {
      "text/plain": [
       "'/Users/victor/Project4sxd/DRandDME/code/challenge/DRGradingnew/test/2/IDRiD_391.jpg'"
      ]
     },
     "execution_count": 6,
     "metadata": {},
     "output_type": "execute_result"
    },
    {
     "data": {
      "text/plain": [
       "'/Users/victor/Project4sxd/DRandDME/code/challenge/DRGradingnew/test/2/IDRiD_401.jpg'"
      ]
     },
     "execution_count": 6,
     "metadata": {},
     "output_type": "execute_result"
    },
    {
     "data": {
      "text/plain": [
       "'/Users/victor/Project4sxd/DRandDME/code/challenge/DRGradingnew/test/2/IDRiD_350.jpg'"
      ]
     },
     "execution_count": 6,
     "metadata": {},
     "output_type": "execute_result"
    },
    {
     "data": {
      "text/plain": [
       "'/Users/victor/Project4sxd/DRandDME/code/challenge/DRGradingnew/test/2/IDRiD_333.jpg'"
      ]
     },
     "execution_count": 6,
     "metadata": {},
     "output_type": "execute_result"
    },
    {
     "data": {
      "text/plain": [
       "'/Users/victor/Project4sxd/DRandDME/code/challenge/DRGradingnew/test/2/IDRiD_413.jpg'"
      ]
     },
     "execution_count": 6,
     "metadata": {},
     "output_type": "execute_result"
    },
    {
     "data": {
      "text/plain": [
       "'/Users/victor/Project4sxd/DRandDME/code/challenge/DRGradingnew/test/2/IDRiD_374.jpg'"
      ]
     },
     "execution_count": 6,
     "metadata": {},
     "output_type": "execute_result"
    },
    {
     "data": {
      "text/plain": [
       "'/Users/victor/Project4sxd/DRandDME/code/challenge/DRGradingnew/test/2/IDRiD_397.jpg'"
      ]
     },
     "execution_count": 6,
     "metadata": {},
     "output_type": "execute_result"
    },
    {
     "data": {
      "text/plain": [
       "'/Users/victor/Project4sxd/DRandDME/code/challenge/DRGradingnew/test/2/IDRiD_340.jpg'"
      ]
     },
     "execution_count": 6,
     "metadata": {},
     "output_type": "execute_result"
    },
    {
     "data": {
      "text/plain": [
       "'/Users/victor/Project4sxd/DRandDME/code/challenge/DRGradingnew/test/2/IDRiD_411.jpg'"
      ]
     },
     "execution_count": 6,
     "metadata": {},
     "output_type": "execute_result"
    },
    {
     "data": {
      "text/plain": [
       "'/Users/victor/Project4sxd/DRandDME/code/challenge/DRGradingnew/test/2/IDRiD_319.jpg'"
      ]
     },
     "execution_count": 6,
     "metadata": {},
     "output_type": "execute_result"
    },
    {
     "data": {
      "text/plain": [
       "'/Users/victor/Project4sxd/DRandDME/code/challenge/DRGradingnew/test/3/IDRiD_357.jpg'"
      ]
     },
     "execution_count": 6,
     "metadata": {},
     "output_type": "execute_result"
    },
    {
     "data": {
      "text/plain": [
       "'/Users/victor/Project4sxd/DRandDME/code/challenge/DRGradingnew/test/3/IDRiD_349.jpg'"
      ]
     },
     "execution_count": 6,
     "metadata": {},
     "output_type": "execute_result"
    },
    {
     "data": {
      "text/plain": [
       "'/Users/victor/Project4sxd/DRandDME/code/challenge/DRGradingnew/test/3/IDRiD_380.jpg'"
      ]
     },
     "execution_count": 6,
     "metadata": {},
     "output_type": "execute_result"
    },
    {
     "data": {
      "text/plain": [
       "'/Users/victor/Project4sxd/DRandDME/code/challenge/DRGradingnew/test/3/IDRiD_347.jpg'"
      ]
     },
     "execution_count": 6,
     "metadata": {},
     "output_type": "execute_result"
    },
    {
     "data": {
      "text/plain": [
       "'/Users/victor/Project4sxd/DRandDME/code/challenge/DRGradingnew/test/3/IDRiD_371.jpg'"
      ]
     },
     "execution_count": 6,
     "metadata": {},
     "output_type": "execute_result"
    },
    {
     "data": {
      "text/plain": [
       "'/Users/victor/Project4sxd/DRandDME/code/challenge/DRGradingnew/test/3/IDRiD_377.jpg'"
      ]
     },
     "execution_count": 6,
     "metadata": {},
     "output_type": "execute_result"
    },
    {
     "data": {
      "text/plain": [
       "'/Users/victor/Project4sxd/DRandDME/code/challenge/DRGradingnew/test/3/IDRiD_369.jpg'"
      ]
     },
     "execution_count": 6,
     "metadata": {},
     "output_type": "execute_result"
    },
    {
     "data": {
      "text/plain": [
       "'/Users/victor/Project4sxd/DRandDME/code/challenge/DRGradingnew/test/3/IDRiD_384.jpg'"
      ]
     },
     "execution_count": 6,
     "metadata": {},
     "output_type": "execute_result"
    },
    {
     "data": {
      "text/plain": [
       "'/Users/victor/Project4sxd/DRandDME/code/challenge/DRGradingnew/test/3/IDRiD_372.jpg'"
      ]
     },
     "execution_count": 6,
     "metadata": {},
     "output_type": "execute_result"
    },
    {
     "data": {
      "text/plain": [
       "'/Users/victor/Project4sxd/DRandDME/code/challenge/DRGradingnew/test/3/IDRiD_356.jpg'"
      ]
     },
     "execution_count": 6,
     "metadata": {},
     "output_type": "execute_result"
    },
    {
     "data": {
      "text/plain": [
       "'/Users/victor/Project4sxd/DRandDME/code/challenge/DRGradingnew/test/3/IDRiD_344.jpg'"
      ]
     },
     "execution_count": 6,
     "metadata": {},
     "output_type": "execute_result"
    },
    {
     "data": {
      "text/plain": [
       "'/Users/victor/Project4sxd/DRandDME/code/challenge/DRGradingnew/test/3/IDRiD_354.jpg'"
      ]
     },
     "execution_count": 6,
     "metadata": {},
     "output_type": "execute_result"
    },
    {
     "data": {
      "text/plain": [
       "'/Users/victor/Project4sxd/DRandDME/code/challenge/DRGradingnew/test/3/IDRiD_383.jpg'"
      ]
     },
     "execution_count": 6,
     "metadata": {},
     "output_type": "execute_result"
    },
    {
     "data": {
      "text/plain": [
       "'/Users/victor/Project4sxd/DRandDME/code/challenge/DRGradingnew/test/3/IDRiD_366.jpg'"
      ]
     },
     "execution_count": 6,
     "metadata": {},
     "output_type": "execute_result"
    },
    {
     "data": {
      "text/plain": [
       "'/Users/victor/Project4sxd/DRandDME/code/challenge/DRGradingnew/test/3/IDRiD_385.jpg'"
      ]
     },
     "execution_count": 6,
     "metadata": {},
     "output_type": "execute_result"
    },
    {
     "data": {
      "text/plain": [
       "'/Users/victor/Project4sxd/DRandDME/code/challenge/DRGradingnew/test/3/IDRiD_364.jpg'"
      ]
     },
     "execution_count": 6,
     "metadata": {},
     "output_type": "execute_result"
    },
    {
     "data": {
      "text/plain": [
       "'/Users/victor/Project4sxd/DRandDME/code/challenge/DRGradingnew/test/3/IDRiD_368.jpg'"
      ]
     },
     "execution_count": 6,
     "metadata": {},
     "output_type": "execute_result"
    },
    {
     "data": {
      "text/plain": [
       "'/Users/victor/Project4sxd/DRandDME/code/challenge/DRGradingnew/test/3/IDRiD_376.jpg'"
      ]
     },
     "execution_count": 6,
     "metadata": {},
     "output_type": "execute_result"
    },
    {
     "data": {
      "text/plain": [
       "'/Users/victor/Project4sxd/DRandDME/code/challenge/DRGradingnew/test/4/IDRiD_361.jpg'"
      ]
     },
     "execution_count": 6,
     "metadata": {},
     "output_type": "execute_result"
    },
    {
     "data": {
      "text/plain": [
       "'/Users/victor/Project4sxd/DRandDME/code/challenge/DRGradingnew/test/4/IDRiD_392.jpg'"
      ]
     },
     "execution_count": 6,
     "metadata": {},
     "output_type": "execute_result"
    },
    {
     "data": {
      "text/plain": [
       "'/Users/victor/Project4sxd/DRandDME/code/challenge/DRGradingnew/test/4/IDRiD_390.jpg'"
      ]
     },
     "execution_count": 6,
     "metadata": {},
     "output_type": "execute_result"
    },
    {
     "data": {
      "text/plain": [
       "'/Users/victor/Project4sxd/DRandDME/code/challenge/DRGradingnew/test/4/IDRiD_394.jpg'"
      ]
     },
     "execution_count": 6,
     "metadata": {},
     "output_type": "execute_result"
    },
    {
     "data": {
      "text/plain": [
       "'/Users/victor/Project4sxd/DRandDME/code/challenge/DRGradingnew/test/4/IDRiD_286.jpg'"
      ]
     },
     "execution_count": 6,
     "metadata": {},
     "output_type": "execute_result"
    },
    {
     "data": {
      "text/plain": [
       "'/Users/victor/Project4sxd/DRandDME/code/challenge/DRGradingnew/test/4/IDRiD_272.jpg'"
      ]
     },
     "execution_count": 6,
     "metadata": {},
     "output_type": "execute_result"
    },
    {
     "data": {
      "text/plain": [
       "'/Users/victor/Project4sxd/DRandDME/code/challenge/DRGradingnew/test/4/IDRiD_362.jpg'"
      ]
     },
     "execution_count": 6,
     "metadata": {},
     "output_type": "execute_result"
    },
    {
     "data": {
      "text/plain": [
       "'/Users/victor/Project4sxd/DRandDME/code/challenge/DRGradingnew/test/4/IDRiD_313.jpg'"
      ]
     },
     "execution_count": 6,
     "metadata": {},
     "output_type": "execute_result"
    },
    {
     "data": {
      "text/plain": [
       "'/Users/victor/Project4sxd/DRandDME/code/challenge/DRGradingnew/test/4/IDRiD_254.jpg'"
      ]
     },
     "execution_count": 6,
     "metadata": {},
     "output_type": "execute_result"
    },
    {
     "data": {
      "text/plain": [
       "'/Users/victor/Project4sxd/DRandDME/code/challenge/DRGradingnew/test/4/IDRiD_285.jpg'"
      ]
     },
     "execution_count": 6,
     "metadata": {},
     "output_type": "execute_result"
    },
    {
     "data": {
      "text/plain": [
       "'/Users/victor/Project4sxd/DRandDME/code/challenge/DRGradingnew/test/4/IDRiD_289.jpg'"
      ]
     },
     "execution_count": 6,
     "metadata": {},
     "output_type": "execute_result"
    },
    {
     "data": {
      "text/plain": [
       "'/Users/victor/Project4sxd/DRandDME/code/challenge/DRGradingnew/test/4/IDRiD_389.jpg'"
      ]
     },
     "execution_count": 6,
     "metadata": {},
     "output_type": "execute_result"
    }
   ],
   "source": [
    "# DR_IMAGE_DIR = os.path.join(ROOT_DIR, \"DRDataset/Task1MATotal54/MA_ORG\")\n",
    "IMAGE_DIR = \"/Users/victor/code4suixiaodan/Mask_RCNN-master/outputimageAll/IDRIDCnnMask/DRTrainValTest_org\"\n",
    "New_File_Path = \"/Users/victor/Project4sxd/DRandDME/code/challenge/Training_Set\"\n",
    "Target_File_Path = \"/Users/victor/Project4sxd/DRandDME/code/challenge/DRGradingnew\"\n",
    "# Load a random image from the images folder\n",
    "Type_File = ['train','val','test']\n",
    "#print(Type_File[0])\n",
    "for i in range(3):\n",
    "    file_dir = os.path.join(IMAGE_DIR, Type_File[i])\n",
    "    for j in range(5):\n",
    "        filename_dir = os.path.join(file_dir, str(j))\n",
    "        file_names = next(os.walk(filename_dir))[2]\n",
    "        for k in range(len(file_names)):\n",
    "            newfile_name = file_names[k].strip('CNN.jpg\\n')+'.jpg'\n",
    "            if newfile_name == 'DS_Store':\n",
    "                continue\n",
    "            else:\n",
    "                filedir = os.path.join(New_File_Path, newfile_name)\n",
    "                shutil.copy(str(filedir), os.path.join(Target_File_Path+'/'+Type_File[i]+'/'+str(j), newfile_name))\n",
    "            #print(filename_dir)\n",
    "#file_names = next(os.walk(DR_IMAGE_DIR))[2]"
   ]
  },
  {
   "cell_type": "code",
   "execution_count": null,
   "metadata": {},
   "outputs": [],
   "source": []
  }
 ],
 "metadata": {
  "kernelspec": {
   "display_name": "Python 3",
   "language": "python",
   "name": "python3"
  },
  "language_info": {
   "codemirror_mode": {
    "name": "ipython",
    "version": 3
   },
   "file_extension": ".py",
   "mimetype": "text/x-python",
   "name": "python",
   "nbconvert_exporter": "python",
   "pygments_lexer": "ipython3",
   "version": "3.5.4"
  }
 },
 "nbformat": 4,
 "nbformat_minor": 2
}
