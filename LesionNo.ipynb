{
 "cells": [
  {
   "cell_type": "markdown",
   "metadata": {},
   "source": [
    "# 分别统计不同病变区域的数量"
   ]
  },
  {
   "cell_type": "code",
   "execution_count": 1,
   "metadata": {},
   "outputs": [],
   "source": [
    "from PIL import Image, ImageDraw\n",
    "import cv2\n",
    "import numpy as np\n",
    "import os,sys\n",
    "import scipy.io\n",
    "import csv\n",
    "%matplotlib inline\n",
    "ROOT_DIR = os.getcwd()"
   ]
  },
  {
   "cell_type": "code",
   "execution_count": 2,
   "metadata": {},
   "outputs": [],
   "source": [
    "DR_IMAGE_DIR = os.path.join(ROOT_DIR, \"ImageSynthesis/4lesions/HE\") #DRDataset/SubChallenge_1_Images\n",
    "    # Load a random image from the images folder\n",
    "file_names = next(os.walk(DR_IMAGE_DIR))[2]"
   ]
  },
  {
   "cell_type": "code",
   "execution_count": 3,
   "metadata": {},
   "outputs": [],
   "source": [
    "def extractROI(img_new, filename, typelesion):\n",
    "    image = Image.fromarray(img_new)\n",
    "    img_gray=np.array(image.convert(\"L\")) \n",
    "    mask_arr = np.array(img_gray != 0).astype(np.uint8)\n",
    "\n",
    "    mask_arr = mask_arr*255\n",
    "    [x,y]=img_gray.shape\n",
    "    Mask_arr= np.zeros([x,y,3], dtype = np.uint8)\n",
    "\n",
    "    ROI,contours,hierarchy= cv2.findContours(mask_arr,cv2.RETR_TREE,cv2.CHAIN_APPROX_NONE)\n",
    "\n",
    "    #box = []\n",
    "    centerlist = [] \n",
    "    mylist2 = []\n",
    "    #for item in data: \n",
    "    \n",
    "    lesionNum = len(contours)\n",
    "    area = cv2.countNonZero(mask_arr)\n",
    "\n",
    "    for i in range(len(contours)):\n",
    "        x,y,w,h=cv2.boundingRect(contours[i]) #（x,y）为矩形左上角的坐标，（w,h）是矩形的宽和高\n",
    "        centerX = round(x + w/2)\n",
    "        centerY = round(y + h/2)\n",
    "        centerlist.append([centerX, centerY])\n",
    "    \n",
    "    centerLocation = np.array(centerlist)\n",
    "    scipy.io.savemat('ImageSynthesis/4lesions/'+typelesion+'/'+filename+'.mat',\n",
    "                 {'centerLocation':centerLocation})  # 写入mat文件 \n",
    "    return lesionNum,area\n",
    "\n",
    "def extractROI2(img_new):\n",
    "    image = Image.fromarray(img_new)\n",
    "    img_gray=np.array(image.convert(\"L\")) \n",
    "    mask_arr = np.array(img_gray != 0).astype(np.uint8)\n",
    "\n",
    "    mask_arr = mask_arr*255\n",
    "    [x,y]=img_gray.shape\n",
    "    Mask_arr= np.zeros([x,y,3], dtype = np.uint8)\n",
    "\n",
    "    ROI,contours,hierarchy= cv2.findContours(mask_arr,cv2.RETR_TREE,cv2.CHAIN_APPROX_NONE)\n",
    "    lesionNum = len(contours)\n",
    "    area = 0\n",
    "    #for i in range(len(contours)):\n",
    "    area = cv2.countNonZero(mask_arr)\n",
    "\n",
    "    return lesionNum,area"
   ]
  },
  {
   "cell_type": "code",
   "execution_count": 4,
   "metadata": {},
   "outputs": [
    {
     "name": "stdout",
     "output_type": "stream",
     "text": [
      "1 IDRiD_093\n",
      "2 IDRiD_087\n",
      "3 IDRiD_078\n",
      "4 IDRiD_050\n",
      "5 IDRiD_044\n",
      "6 IDRiD_045\n",
      "7 IDRiD_051\n",
      "8 IDRiD_079\n",
      "9 IDRiD_086\n",
      "10 IDRiD_092\n",
      "11 IDRiD_084\n",
      "12 IDRiD_090\n",
      "13 IDRiD_047\n",
      "14 IDRiD_053\n",
      "15 IDRiD_052\n",
      "16 IDRiD_046\n",
      "17 IDRiD_091\n",
      "18 IDRiD_085\n",
      "19 IDRiD_081\n",
      "20 IDRiD_095\n",
      "21 IDRiD_042\n",
      "22 IDRiD_056\n",
      "23 IDRiD_057\n",
      "24 IDRiD_043\n",
      "25 IDRiD_094\n",
      "26 IDRiD_080\n",
      "27 IDRiD_096\n",
      "28 IDRiD_082\n",
      "29 IDRiD_055\n",
      "30 IDRiD_041\n",
      "31 IDRiD_069\n",
      "32 IDRiD_068\n",
      "33 IDRiD_040\n",
      "34 IDRiD_054\n",
      "35 IDRiD_083\n",
      "36 IDRiD_097\n",
      "37 IDRiD_033\n",
      "38 IDRiD_027\n",
      "39 IDRiD_026\n",
      "40 IDRiD_032\n",
      "41 IDRiD_018\n",
      "42 IDRiD_024\n",
      "43 IDRiD_030\n",
      "44 IDRiD_031\n",
      "45 IDRiD_025\n",
      "46 IDRiD_019\n",
      "47 IDRiD_021\n",
      "48 IDRiD_035\n",
      "49 IDRiD_009\n",
      "50 IDRiD_008\n",
      "51 IDRiD_034\n",
      "52 IDRiD_020\n",
      "53 IDRiD_036\n",
      "54 IDRiD_022\n",
      "55 IDRiD_023\n",
      "56 IDRiD_037\n",
      "57 IDRiD_012\n",
      "58 IDRiD_006\n",
      "59 IDRiD_007\n",
      "60 IDRiD_013\n",
      "61 IDRiD_039\n",
      "62 IDRiD_005\n",
      "63 IDRiD_011\n",
      "64 IDRiD_010\n",
      "65 IDRiD_004\n",
      "66 IDRiD_038\n",
      "67 IDRiD_014\n",
      "68 IDRiD_028\n",
      "69 IDRiD_029\n",
      "70 IDRiD_015\n",
      "71 IDRiD_001\n",
      "72 IDRiD_017\n",
      "73 IDRiD_003\n",
      "74 IDRiD_002\n",
      "75 IDRiD_016\n",
      "76 IDRiD_059\n",
      "77 IDRiD_071\n",
      "78 IDRiD_065\n",
      "79 IDRiD_064\n",
      "80 IDRiD_070\n",
      "81 IDRiD_058\n",
      "82 IDRiD_099\n",
      "83 IDRiD_066\n",
      "84 IDRiD_072\n",
      "85 IDRiD_073\n",
      "86 IDRiD_067\n",
      "87 IDRiD_098\n",
      "88 IDRiD_103\n",
      "89 IDRiD_088\n",
      "90 IDRiD_063\n",
      "91 IDRiD_077\n",
      "92 IDRiD_076\n",
      "93 IDRiD_062\n",
      "94 IDRiD_089\n",
      "95 IDRiD_102\n",
      "96 IDRiD_100\n",
      "97 IDRiD_074\n",
      "98 IDRiD_060\n",
      "99 IDRiD_048\n",
      "100 IDRiD_049\n",
      "101 IDRiD_061\n",
      "102 IDRiD_075\n",
      "103 IDRiD_101\n"
     ]
    },
    {
     "data": {
      "text/plain": [
       "40"
      ]
     },
     "execution_count": 4,
     "metadata": {},
     "output_type": "execute_result"
    },
    {
     "data": {
      "text/plain": [
       "27"
      ]
     },
     "execution_count": 4,
     "metadata": {},
     "output_type": "execute_result"
    },
    {
     "data": {
      "text/plain": [
       "39"
      ]
     },
     "execution_count": 4,
     "metadata": {},
     "output_type": "execute_result"
    },
    {
     "data": {
      "text/plain": [
       "30"
      ]
     },
     "execution_count": 4,
     "metadata": {},
     "output_type": "execute_result"
    },
    {
     "data": {
      "text/plain": [
       "36"
      ]
     },
     "execution_count": 4,
     "metadata": {},
     "output_type": "execute_result"
    },
    {
     "data": {
      "text/plain": [
       "32"
      ]
     },
     "execution_count": 4,
     "metadata": {},
     "output_type": "execute_result"
    },
    {
     "data": {
      "text/plain": [
       "30"
      ]
     },
     "execution_count": 4,
     "metadata": {},
     "output_type": "execute_result"
    },
    {
     "data": {
      "text/plain": [
       "37"
      ]
     },
     "execution_count": 4,
     "metadata": {},
     "output_type": "execute_result"
    },
    {
     "data": {
      "text/plain": [
       "32"
      ]
     },
     "execution_count": 4,
     "metadata": {},
     "output_type": "execute_result"
    },
    {
     "data": {
      "text/plain": [
       "36"
      ]
     },
     "execution_count": 4,
     "metadata": {},
     "output_type": "execute_result"
    },
    {
     "data": {
      "text/plain": [
       "27"
      ]
     },
     "execution_count": 4,
     "metadata": {},
     "output_type": "execute_result"
    },
    {
     "data": {
      "text/plain": [
       "34"
      ]
     },
     "execution_count": 4,
     "metadata": {},
     "output_type": "execute_result"
    },
    {
     "data": {
      "text/plain": [
       "36"
      ]
     },
     "execution_count": 4,
     "metadata": {},
     "output_type": "execute_result"
    },
    {
     "data": {
      "text/plain": [
       "29"
      ]
     },
     "execution_count": 4,
     "metadata": {},
     "output_type": "execute_result"
    },
    {
     "data": {
      "text/plain": [
       "41"
      ]
     },
     "execution_count": 4,
     "metadata": {},
     "output_type": "execute_result"
    },
    {
     "data": {
      "text/plain": [
       "32"
      ]
     },
     "execution_count": 4,
     "metadata": {},
     "output_type": "execute_result"
    },
    {
     "data": {
      "text/plain": [
       "35"
      ]
     },
     "execution_count": 4,
     "metadata": {},
     "output_type": "execute_result"
    },
    {
     "data": {
      "text/plain": [
       "44"
      ]
     },
     "execution_count": 4,
     "metadata": {},
     "output_type": "execute_result"
    },
    {
     "data": {
      "text/plain": [
       "32"
      ]
     },
     "execution_count": 4,
     "metadata": {},
     "output_type": "execute_result"
    },
    {
     "data": {
      "text/plain": [
       "31"
      ]
     },
     "execution_count": 4,
     "metadata": {},
     "output_type": "execute_result"
    },
    {
     "data": {
      "text/plain": [
       "32"
      ]
     },
     "execution_count": 4,
     "metadata": {},
     "output_type": "execute_result"
    },
    {
     "data": {
      "text/plain": [
       "34"
      ]
     },
     "execution_count": 4,
     "metadata": {},
     "output_type": "execute_result"
    },
    {
     "data": {
      "text/plain": [
       "30"
      ]
     },
     "execution_count": 4,
     "metadata": {},
     "output_type": "execute_result"
    },
    {
     "data": {
      "text/plain": [
       "41"
      ]
     },
     "execution_count": 4,
     "metadata": {},
     "output_type": "execute_result"
    },
    {
     "data": {
      "text/plain": [
       "34"
      ]
     },
     "execution_count": 4,
     "metadata": {},
     "output_type": "execute_result"
    },
    {
     "data": {
      "text/plain": [
       "27"
      ]
     },
     "execution_count": 4,
     "metadata": {},
     "output_type": "execute_result"
    },
    {
     "data": {
      "text/plain": [
       "33"
      ]
     },
     "execution_count": 4,
     "metadata": {},
     "output_type": "execute_result"
    },
    {
     "data": {
      "text/plain": [
       "34"
      ]
     },
     "execution_count": 4,
     "metadata": {},
     "output_type": "execute_result"
    },
    {
     "data": {
      "text/plain": [
       "37"
      ]
     },
     "execution_count": 4,
     "metadata": {},
     "output_type": "execute_result"
    },
    {
     "data": {
      "text/plain": [
       "30"
      ]
     },
     "execution_count": 4,
     "metadata": {},
     "output_type": "execute_result"
    },
    {
     "data": {
      "text/plain": [
       "30"
      ]
     },
     "execution_count": 4,
     "metadata": {},
     "output_type": "execute_result"
    },
    {
     "data": {
      "text/plain": [
       "29"
      ]
     },
     "execution_count": 4,
     "metadata": {},
     "output_type": "execute_result"
    },
    {
     "data": {
      "text/plain": [
       "33"
      ]
     },
     "execution_count": 4,
     "metadata": {},
     "output_type": "execute_result"
    },
    {
     "data": {
      "text/plain": [
       "37"
      ]
     },
     "execution_count": 4,
     "metadata": {},
     "output_type": "execute_result"
    },
    {
     "data": {
      "text/plain": [
       "35"
      ]
     },
     "execution_count": 4,
     "metadata": {},
     "output_type": "execute_result"
    },
    {
     "data": {
      "text/plain": [
       "32"
      ]
     },
     "execution_count": 4,
     "metadata": {},
     "output_type": "execute_result"
    },
    {
     "data": {
      "text/plain": [
       "30"
      ]
     },
     "execution_count": 4,
     "metadata": {},
     "output_type": "execute_result"
    },
    {
     "data": {
      "text/plain": [
       "35"
      ]
     },
     "execution_count": 4,
     "metadata": {},
     "output_type": "execute_result"
    },
    {
     "data": {
      "text/plain": [
       "39"
      ]
     },
     "execution_count": 4,
     "metadata": {},
     "output_type": "execute_result"
    },
    {
     "data": {
      "text/plain": [
       "43"
      ]
     },
     "execution_count": 4,
     "metadata": {},
     "output_type": "execute_result"
    },
    {
     "data": {
      "text/plain": [
       "39"
      ]
     },
     "execution_count": 4,
     "metadata": {},
     "output_type": "execute_result"
    },
    {
     "data": {
      "text/plain": [
       "42"
      ]
     },
     "execution_count": 4,
     "metadata": {},
     "output_type": "execute_result"
    },
    {
     "data": {
      "text/plain": [
       "35"
      ]
     },
     "execution_count": 4,
     "metadata": {},
     "output_type": "execute_result"
    },
    {
     "data": {
      "text/plain": [
       "31"
      ]
     },
     "execution_count": 4,
     "metadata": {},
     "output_type": "execute_result"
    },
    {
     "data": {
      "text/plain": [
       "38"
      ]
     },
     "execution_count": 4,
     "metadata": {},
     "output_type": "execute_result"
    },
    {
     "data": {
      "text/plain": [
       "40"
      ]
     },
     "execution_count": 4,
     "metadata": {},
     "output_type": "execute_result"
    },
    {
     "data": {
      "text/plain": [
       "41"
      ]
     },
     "execution_count": 4,
     "metadata": {},
     "output_type": "execute_result"
    },
    {
     "data": {
      "text/plain": [
       "44"
      ]
     },
     "execution_count": 4,
     "metadata": {},
     "output_type": "execute_result"
    },
    {
     "data": {
      "text/plain": [
       "41"
      ]
     },
     "execution_count": 4,
     "metadata": {},
     "output_type": "execute_result"
    },
    {
     "data": {
      "text/plain": [
       "39"
      ]
     },
     "execution_count": 4,
     "metadata": {},
     "output_type": "execute_result"
    },
    {
     "data": {
      "text/plain": [
       "38"
      ]
     },
     "execution_count": 4,
     "metadata": {},
     "output_type": "execute_result"
    },
    {
     "data": {
      "text/plain": [
       "41"
      ]
     },
     "execution_count": 4,
     "metadata": {},
     "output_type": "execute_result"
    },
    {
     "data": {
      "text/plain": [
       "41"
      ]
     },
     "execution_count": 4,
     "metadata": {},
     "output_type": "execute_result"
    },
    {
     "data": {
      "text/plain": [
       "39"
      ]
     },
     "execution_count": 4,
     "metadata": {},
     "output_type": "execute_result"
    },
    {
     "data": {
      "text/plain": [
       "42"
      ]
     },
     "execution_count": 4,
     "metadata": {},
     "output_type": "execute_result"
    },
    {
     "data": {
      "text/plain": [
       "38"
      ]
     },
     "execution_count": 4,
     "metadata": {},
     "output_type": "execute_result"
    },
    {
     "data": {
      "text/plain": [
       "31"
      ]
     },
     "execution_count": 4,
     "metadata": {},
     "output_type": "execute_result"
    },
    {
     "data": {
      "text/plain": [
       "36"
      ]
     },
     "execution_count": 4,
     "metadata": {},
     "output_type": "execute_result"
    },
    {
     "data": {
      "text/plain": [
       "41"
      ]
     },
     "execution_count": 4,
     "metadata": {},
     "output_type": "execute_result"
    },
    {
     "data": {
      "text/plain": [
       "35"
      ]
     },
     "execution_count": 4,
     "metadata": {},
     "output_type": "execute_result"
    },
    {
     "data": {
      "text/plain": [
       "41"
      ]
     },
     "execution_count": 4,
     "metadata": {},
     "output_type": "execute_result"
    },
    {
     "data": {
      "text/plain": [
       "30"
      ]
     },
     "execution_count": 4,
     "metadata": {},
     "output_type": "execute_result"
    },
    {
     "data": {
      "text/plain": [
       "35"
      ]
     },
     "execution_count": 4,
     "metadata": {},
     "output_type": "execute_result"
    },
    {
     "data": {
      "text/plain": [
       "37"
      ]
     },
     "execution_count": 4,
     "metadata": {},
     "output_type": "execute_result"
    },
    {
     "data": {
      "text/plain": [
       "39"
      ]
     },
     "execution_count": 4,
     "metadata": {},
     "output_type": "execute_result"
    },
    {
     "data": {
      "text/plain": [
       "38"
      ]
     },
     "execution_count": 4,
     "metadata": {},
     "output_type": "execute_result"
    },
    {
     "data": {
      "text/plain": [
       "35"
      ]
     },
     "execution_count": 4,
     "metadata": {},
     "output_type": "execute_result"
    },
    {
     "data": {
      "text/plain": [
       "38"
      ]
     },
     "execution_count": 4,
     "metadata": {},
     "output_type": "execute_result"
    },
    {
     "data": {
      "text/plain": [
       "39"
      ]
     },
     "execution_count": 4,
     "metadata": {},
     "output_type": "execute_result"
    },
    {
     "data": {
      "text/plain": [
       "32"
      ]
     },
     "execution_count": 4,
     "metadata": {},
     "output_type": "execute_result"
    },
    {
     "data": {
      "text/plain": [
       "37"
      ]
     },
     "execution_count": 4,
     "metadata": {},
     "output_type": "execute_result"
    },
    {
     "data": {
      "text/plain": [
       "38"
      ]
     },
     "execution_count": 4,
     "metadata": {},
     "output_type": "execute_result"
    },
    {
     "data": {
      "text/plain": [
       "35"
      ]
     },
     "execution_count": 4,
     "metadata": {},
     "output_type": "execute_result"
    },
    {
     "data": {
      "text/plain": [
       "37"
      ]
     },
     "execution_count": 4,
     "metadata": {},
     "output_type": "execute_result"
    },
    {
     "data": {
      "text/plain": [
       "35"
      ]
     },
     "execution_count": 4,
     "metadata": {},
     "output_type": "execute_result"
    },
    {
     "data": {
      "text/plain": [
       "41"
      ]
     },
     "execution_count": 4,
     "metadata": {},
     "output_type": "execute_result"
    },
    {
     "data": {
      "text/plain": [
       "38"
      ]
     },
     "execution_count": 4,
     "metadata": {},
     "output_type": "execute_result"
    },
    {
     "data": {
      "text/plain": [
       "29"
      ]
     },
     "execution_count": 4,
     "metadata": {},
     "output_type": "execute_result"
    },
    {
     "data": {
      "text/plain": [
       "30"
      ]
     },
     "execution_count": 4,
     "metadata": {},
     "output_type": "execute_result"
    },
    {
     "data": {
      "text/plain": [
       "32"
      ]
     },
     "execution_count": 4,
     "metadata": {},
     "output_type": "execute_result"
    },
    {
     "data": {
      "text/plain": [
       "31"
      ]
     },
     "execution_count": 4,
     "metadata": {},
     "output_type": "execute_result"
    },
    {
     "data": {
      "text/plain": [
       "29"
      ]
     },
     "execution_count": 4,
     "metadata": {},
     "output_type": "execute_result"
    },
    {
     "data": {
      "text/plain": [
       "29"
      ]
     },
     "execution_count": 4,
     "metadata": {},
     "output_type": "execute_result"
    },
    {
     "data": {
      "text/plain": [
       "41"
      ]
     },
     "execution_count": 4,
     "metadata": {},
     "output_type": "execute_result"
    },
    {
     "data": {
      "text/plain": [
       "36"
      ]
     },
     "execution_count": 4,
     "metadata": {},
     "output_type": "execute_result"
    },
    {
     "data": {
      "text/plain": [
       "36"
      ]
     },
     "execution_count": 4,
     "metadata": {},
     "output_type": "execute_result"
    },
    {
     "data": {
      "text/plain": [
       "38"
      ]
     },
     "execution_count": 4,
     "metadata": {},
     "output_type": "execute_result"
    },
    {
     "data": {
      "text/plain": [
       "29"
      ]
     },
     "execution_count": 4,
     "metadata": {},
     "output_type": "execute_result"
    },
    {
     "data": {
      "text/plain": [
       "29"
      ]
     },
     "execution_count": 4,
     "metadata": {},
     "output_type": "execute_result"
    },
    {
     "data": {
      "text/plain": [
       "42"
      ]
     },
     "execution_count": 4,
     "metadata": {},
     "output_type": "execute_result"
    },
    {
     "data": {
      "text/plain": [
       "35"
      ]
     },
     "execution_count": 4,
     "metadata": {},
     "output_type": "execute_result"
    },
    {
     "data": {
      "text/plain": [
       "29"
      ]
     },
     "execution_count": 4,
     "metadata": {},
     "output_type": "execute_result"
    },
    {
     "data": {
      "text/plain": [
       "29"
      ]
     },
     "execution_count": 4,
     "metadata": {},
     "output_type": "execute_result"
    },
    {
     "data": {
      "text/plain": [
       "40"
      ]
     },
     "execution_count": 4,
     "metadata": {},
     "output_type": "execute_result"
    },
    {
     "data": {
      "text/plain": [
       "42"
      ]
     },
     "execution_count": 4,
     "metadata": {},
     "output_type": "execute_result"
    },
    {
     "data": {
      "text/plain": [
       "38"
      ]
     },
     "execution_count": 4,
     "metadata": {},
     "output_type": "execute_result"
    },
    {
     "data": {
      "text/plain": [
       "37"
      ]
     },
     "execution_count": 4,
     "metadata": {},
     "output_type": "execute_result"
    },
    {
     "data": {
      "text/plain": [
       "35"
      ]
     },
     "execution_count": 4,
     "metadata": {},
     "output_type": "execute_result"
    },
    {
     "data": {
      "text/plain": [
       "36"
      ]
     },
     "execution_count": 4,
     "metadata": {},
     "output_type": "execute_result"
    },
    {
     "data": {
      "text/plain": [
       "41"
      ]
     },
     "execution_count": 4,
     "metadata": {},
     "output_type": "execute_result"
    },
    {
     "data": {
      "text/plain": [
       "39"
      ]
     },
     "execution_count": 4,
     "metadata": {},
     "output_type": "execute_result"
    },
    {
     "data": {
      "text/plain": [
       "37"
      ]
     },
     "execution_count": 4,
     "metadata": {},
     "output_type": "execute_result"
    },
    {
     "data": {
      "text/plain": [
       "37"
      ]
     },
     "execution_count": 4,
     "metadata": {},
     "output_type": "execute_result"
    },
    {
     "data": {
      "text/plain": [
       "36"
      ]
     },
     "execution_count": 4,
     "metadata": {},
     "output_type": "execute_result"
    }
   ],
   "source": [
    "#Pointdata = [['Image No', 'MA', 'HR', 'HE', 'SE', 'areaMA', 'areaHR', 'areaHE', 'areaSE']]\n",
    "Pointdata = [['Image No', 'MA', 'HR', 'HE', 'areaMA', 'areaHR', 'areaHE']]\n",
    "\n",
    "for i in range(len(file_names)):  #len(file_names)\n",
    "    newfile_name = file_names[i].strip('.png')\n",
    "    print(i+1, newfile_name)\n",
    "    #print(file_names[i])\n",
    "    src1 = cv2.imread(\"ImageSynthesis/4lesions/HE/\"+file_names[i])\n",
    "    HELesionNum,areaHE = extractROI(src1, newfile_name, 'HELocationISBI')\n",
    "    #HELesionNum,areaHE = extractROI2(src1)\n",
    "    \n",
    "#     src2 = cv2.imread(\"ImageSynthesis/4lesions/SE/\"+file_names[i])\n",
    "#     SELesionNum,areaSE = extractROI2(src2)\n",
    "    \n",
    "    src3 = cv2.imread(\"ImageSynthesis/4lesions/MA/\"+file_names[i])\n",
    "    #print(src3)\n",
    "    MALesionNum,areaMA = extractROI2(src3)\n",
    "    \n",
    "    src4 = cv2.imread(\"ImageSynthesis/4lesions/HR/\"+file_names[i])\n",
    "    HRLesionNum,areaHR = extractROI2(src4)\n",
    "    \n",
    "    Pointdata.append([file_names[i], MALesionNum, HRLesionNum, HELesionNum, areaMA, areaHR, areaHE])\n",
    "    \n",
    "#     Pointdata.append([file_names[i], MALesionNum, HRLesionNum, HELesionNum, SELesionNum,\n",
    "#                      areaMA, areaHR, areaHE, areaSE])\n",
    "   \n",
    "csvFile2 = open('ImageSynthesis/4lesions/LesionNumNewISBI.csv','w', newline='') # 设置newline，否则两行之间会空一行\n",
    "writer = csv.writer(csvFile2)\n",
    "m = len(Pointdata)\n",
    "for i in range(m):\n",
    "    writer.writerow(Pointdata[i])\n",
    "csvFile2.close()\n",
    "\n",
    "#     src = src1 + src2 + src3 + src4\n",
    "#     im_gray = cv2.cvtColor(src,cv2.COLOR_BGR2GRAY)\n",
    "#     retval, im_at_fixed = cv2.threshold(im_gray, 50, 255, cv2.THRESH_BINARY) \n",
    "#     #im_at_mean = cv2.adaptiveThreshold(im_gray, 255, cv2.ADAPTIVE_THRESH_MEAN_C, cv2.THRESH_BINARY, 5, 10)\n",
    "#     cv2.imwrite('ImageSynthesis/4lesions/syn/'+file_names[i],im_at_fixed)"
   ]
  },
  {
   "cell_type": "markdown",
   "metadata": {},
   "source": [
    "# 计算DME"
   ]
  },
  {
   "cell_type": "code",
   "execution_count": 5,
   "metadata": {},
   "outputs": [],
   "source": [
    "import numpy as np\n",
    "import os,sys\n",
    "import scipy.io\n",
    "import xlrd\n",
    "import csv\n",
    "import xlwt\n",
    "import pylab\n",
    "import matplotlib.pyplot as plt\n",
    "%matplotlib inline\n",
    "ROOT_DIR = os.getcwd()"
   ]
  },
  {
   "cell_type": "code",
   "execution_count": 6,
   "metadata": {},
   "outputs": [],
   "source": [
    "DR_IMAGE_DIR = os.path.join(ROOT_DIR, \"ImageSynthesis/4lesions/HE\") #DRDataset/SubChallenge_1_Images\n",
    "    # Load a random image from the images folder\n",
    "file_names = next(os.walk(DR_IMAGE_DIR))[2]"
   ]
  },
  {
   "cell_type": "code",
   "execution_count": 10,
   "metadata": {},
   "outputs": [],
   "source": [
    "widthdata = xlrd.open_workbook('ImageSynthesis/4lesions/ODCenterISBI.xlsx')\n",
    "widthtable = widthdata.sheets()[0]          #通过索引顺序获取\n",
    "widthnrows = widthtable.nrows\n",
    "#print(widthnrows)\n",
    "widthNameImage = widthtable.col_values(0)\n",
    "\n",
    "def findODWidth(filename):\n",
    "    p=widthNameImage.index(filename)\n",
    "    width = widthtable.cell(p,3).value\n",
    "    #print(width)\n",
    "    return width"
   ]
  },
  {
   "cell_type": "code",
   "execution_count": 11,
   "metadata": {},
   "outputs": [],
   "source": [
    "foveacenterdata = xlrd.open_workbook('ImageSynthesis/4lesions/FoveaCenterNEWISBI.xlsx')\n",
    "centertable = foveacenterdata.sheets()[0]          #通过索引顺序获取\n",
    "centernrows = centertable.nrows\n",
    "#print(centernrows)\n",
    "centerNameImage = centertable.col_values(0)\n",
    "#print(type(centerNameImage))\n",
    "def findFoverCenter(filename):\n",
    "    p=centerNameImage.index(filename)\n",
    "    x = centertable.cell(p,1).value\n",
    "    y = centertable.cell(p,2).value\n",
    "    center = [x, y]\n",
    "    #print(center)\n",
    "    return center"
   ]
  },
  {
   "cell_type": "code",
   "execution_count": 12,
   "metadata": {},
   "outputs": [
    {
     "data": {
      "text/plain": [
       "32"
      ]
     },
     "execution_count": 12,
     "metadata": {},
     "output_type": "execute_result"
    },
    {
     "data": {
      "text/plain": [
       "13"
      ]
     },
     "execution_count": 12,
     "metadata": {},
     "output_type": "execute_result"
    },
    {
     "data": {
      "text/plain": [
       "13"
      ]
     },
     "execution_count": 12,
     "metadata": {},
     "output_type": "execute_result"
    },
    {
     "data": {
      "text/plain": [
       "13"
      ]
     },
     "execution_count": 12,
     "metadata": {},
     "output_type": "execute_result"
    },
    {
     "data": {
      "text/plain": [
       "13"
      ]
     },
     "execution_count": 12,
     "metadata": {},
     "output_type": "execute_result"
    },
    {
     "data": {
      "text/plain": [
       "13"
      ]
     },
     "execution_count": 12,
     "metadata": {},
     "output_type": "execute_result"
    },
    {
     "data": {
      "text/plain": [
       "13"
      ]
     },
     "execution_count": 12,
     "metadata": {},
     "output_type": "execute_result"
    },
    {
     "data": {
      "text/plain": [
       "13"
      ]
     },
     "execution_count": 12,
     "metadata": {},
     "output_type": "execute_result"
    },
    {
     "data": {
      "text/plain": [
       "13"
      ]
     },
     "execution_count": 12,
     "metadata": {},
     "output_type": "execute_result"
    },
    {
     "data": {
      "text/plain": [
       "13"
      ]
     },
     "execution_count": 12,
     "metadata": {},
     "output_type": "execute_result"
    },
    {
     "data": {
      "text/plain": [
       "13"
      ]
     },
     "execution_count": 12,
     "metadata": {},
     "output_type": "execute_result"
    },
    {
     "data": {
      "text/plain": [
       "13"
      ]
     },
     "execution_count": 12,
     "metadata": {},
     "output_type": "execute_result"
    },
    {
     "data": {
      "text/plain": [
       "13"
      ]
     },
     "execution_count": 12,
     "metadata": {},
     "output_type": "execute_result"
    },
    {
     "data": {
      "text/plain": [
       "13"
      ]
     },
     "execution_count": 12,
     "metadata": {},
     "output_type": "execute_result"
    },
    {
     "data": {
      "text/plain": [
       "13"
      ]
     },
     "execution_count": 12,
     "metadata": {},
     "output_type": "execute_result"
    },
    {
     "data": {
      "text/plain": [
       "13"
      ]
     },
     "execution_count": 12,
     "metadata": {},
     "output_type": "execute_result"
    },
    {
     "data": {
      "text/plain": [
       "13"
      ]
     },
     "execution_count": 12,
     "metadata": {},
     "output_type": "execute_result"
    },
    {
     "data": {
      "text/plain": [
       "13"
      ]
     },
     "execution_count": 12,
     "metadata": {},
     "output_type": "execute_result"
    },
    {
     "data": {
      "text/plain": [
       "13"
      ]
     },
     "execution_count": 12,
     "metadata": {},
     "output_type": "execute_result"
    },
    {
     "data": {
      "text/plain": [
       "13"
      ]
     },
     "execution_count": 12,
     "metadata": {},
     "output_type": "execute_result"
    },
    {
     "data": {
      "text/plain": [
       "13"
      ]
     },
     "execution_count": 12,
     "metadata": {},
     "output_type": "execute_result"
    },
    {
     "data": {
      "text/plain": [
       "13"
      ]
     },
     "execution_count": 12,
     "metadata": {},
     "output_type": "execute_result"
    },
    {
     "data": {
      "text/plain": [
       "13"
      ]
     },
     "execution_count": 12,
     "metadata": {},
     "output_type": "execute_result"
    },
    {
     "data": {
      "text/plain": [
       "13"
      ]
     },
     "execution_count": 12,
     "metadata": {},
     "output_type": "execute_result"
    },
    {
     "data": {
      "text/plain": [
       "13"
      ]
     },
     "execution_count": 12,
     "metadata": {},
     "output_type": "execute_result"
    },
    {
     "data": {
      "text/plain": [
       "13"
      ]
     },
     "execution_count": 12,
     "metadata": {},
     "output_type": "execute_result"
    },
    {
     "data": {
      "text/plain": [
       "13"
      ]
     },
     "execution_count": 12,
     "metadata": {},
     "output_type": "execute_result"
    },
    {
     "data": {
      "text/plain": [
       "13"
      ]
     },
     "execution_count": 12,
     "metadata": {},
     "output_type": "execute_result"
    },
    {
     "data": {
      "text/plain": [
       "13"
      ]
     },
     "execution_count": 12,
     "metadata": {},
     "output_type": "execute_result"
    },
    {
     "data": {
      "text/plain": [
       "13"
      ]
     },
     "execution_count": 12,
     "metadata": {},
     "output_type": "execute_result"
    },
    {
     "data": {
      "text/plain": [
       "13"
      ]
     },
     "execution_count": 12,
     "metadata": {},
     "output_type": "execute_result"
    },
    {
     "data": {
      "text/plain": [
       "13"
      ]
     },
     "execution_count": 12,
     "metadata": {},
     "output_type": "execute_result"
    },
    {
     "data": {
      "text/plain": [
       "13"
      ]
     },
     "execution_count": 12,
     "metadata": {},
     "output_type": "execute_result"
    },
    {
     "data": {
      "text/plain": [
       "13"
      ]
     },
     "execution_count": 12,
     "metadata": {},
     "output_type": "execute_result"
    },
    {
     "data": {
      "text/plain": [
       "13"
      ]
     },
     "execution_count": 12,
     "metadata": {},
     "output_type": "execute_result"
    },
    {
     "data": {
      "text/plain": [
       "13"
      ]
     },
     "execution_count": 12,
     "metadata": {},
     "output_type": "execute_result"
    },
    {
     "data": {
      "text/plain": [
       "13"
      ]
     },
     "execution_count": 12,
     "metadata": {},
     "output_type": "execute_result"
    },
    {
     "data": {
      "text/plain": [
       "13"
      ]
     },
     "execution_count": 12,
     "metadata": {},
     "output_type": "execute_result"
    },
    {
     "data": {
      "text/plain": [
       "13"
      ]
     },
     "execution_count": 12,
     "metadata": {},
     "output_type": "execute_result"
    },
    {
     "data": {
      "text/plain": [
       "13"
      ]
     },
     "execution_count": 12,
     "metadata": {},
     "output_type": "execute_result"
    },
    {
     "data": {
      "text/plain": [
       "13"
      ]
     },
     "execution_count": 12,
     "metadata": {},
     "output_type": "execute_result"
    },
    {
     "data": {
      "text/plain": [
       "13"
      ]
     },
     "execution_count": 12,
     "metadata": {},
     "output_type": "execute_result"
    },
    {
     "data": {
      "text/plain": [
       "13"
      ]
     },
     "execution_count": 12,
     "metadata": {},
     "output_type": "execute_result"
    },
    {
     "data": {
      "text/plain": [
       "13"
      ]
     },
     "execution_count": 12,
     "metadata": {},
     "output_type": "execute_result"
    },
    {
     "data": {
      "text/plain": [
       "13"
      ]
     },
     "execution_count": 12,
     "metadata": {},
     "output_type": "execute_result"
    },
    {
     "data": {
      "text/plain": [
       "13"
      ]
     },
     "execution_count": 12,
     "metadata": {},
     "output_type": "execute_result"
    },
    {
     "data": {
      "text/plain": [
       "13"
      ]
     },
     "execution_count": 12,
     "metadata": {},
     "output_type": "execute_result"
    },
    {
     "data": {
      "text/plain": [
       "13"
      ]
     },
     "execution_count": 12,
     "metadata": {},
     "output_type": "execute_result"
    },
    {
     "data": {
      "text/plain": [
       "13"
      ]
     },
     "execution_count": 12,
     "metadata": {},
     "output_type": "execute_result"
    },
    {
     "data": {
      "text/plain": [
       "13"
      ]
     },
     "execution_count": 12,
     "metadata": {},
     "output_type": "execute_result"
    },
    {
     "data": {
      "text/plain": [
       "13"
      ]
     },
     "execution_count": 12,
     "metadata": {},
     "output_type": "execute_result"
    },
    {
     "data": {
      "text/plain": [
       "13"
      ]
     },
     "execution_count": 12,
     "metadata": {},
     "output_type": "execute_result"
    },
    {
     "data": {
      "text/plain": [
       "13"
      ]
     },
     "execution_count": 12,
     "metadata": {},
     "output_type": "execute_result"
    },
    {
     "data": {
      "text/plain": [
       "13"
      ]
     },
     "execution_count": 12,
     "metadata": {},
     "output_type": "execute_result"
    },
    {
     "data": {
      "text/plain": [
       "13"
      ]
     },
     "execution_count": 12,
     "metadata": {},
     "output_type": "execute_result"
    },
    {
     "data": {
      "text/plain": [
       "13"
      ]
     },
     "execution_count": 12,
     "metadata": {},
     "output_type": "execute_result"
    },
    {
     "data": {
      "text/plain": [
       "13"
      ]
     },
     "execution_count": 12,
     "metadata": {},
     "output_type": "execute_result"
    },
    {
     "data": {
      "text/plain": [
       "13"
      ]
     },
     "execution_count": 12,
     "metadata": {},
     "output_type": "execute_result"
    },
    {
     "data": {
      "text/plain": [
       "13"
      ]
     },
     "execution_count": 12,
     "metadata": {},
     "output_type": "execute_result"
    },
    {
     "data": {
      "text/plain": [
       "13"
      ]
     },
     "execution_count": 12,
     "metadata": {},
     "output_type": "execute_result"
    },
    {
     "data": {
      "text/plain": [
       "13"
      ]
     },
     "execution_count": 12,
     "metadata": {},
     "output_type": "execute_result"
    },
    {
     "data": {
      "text/plain": [
       "13"
      ]
     },
     "execution_count": 12,
     "metadata": {},
     "output_type": "execute_result"
    },
    {
     "data": {
      "text/plain": [
       "13"
      ]
     },
     "execution_count": 12,
     "metadata": {},
     "output_type": "execute_result"
    },
    {
     "data": {
      "text/plain": [
       "13"
      ]
     },
     "execution_count": 12,
     "metadata": {},
     "output_type": "execute_result"
    },
    {
     "data": {
      "text/plain": [
       "13"
      ]
     },
     "execution_count": 12,
     "metadata": {},
     "output_type": "execute_result"
    },
    {
     "data": {
      "text/plain": [
       "13"
      ]
     },
     "execution_count": 12,
     "metadata": {},
     "output_type": "execute_result"
    },
    {
     "data": {
      "text/plain": [
       "13"
      ]
     },
     "execution_count": 12,
     "metadata": {},
     "output_type": "execute_result"
    },
    {
     "data": {
      "text/plain": [
       "13"
      ]
     },
     "execution_count": 12,
     "metadata": {},
     "output_type": "execute_result"
    },
    {
     "data": {
      "text/plain": [
       "13"
      ]
     },
     "execution_count": 12,
     "metadata": {},
     "output_type": "execute_result"
    },
    {
     "data": {
      "text/plain": [
       "13"
      ]
     },
     "execution_count": 12,
     "metadata": {},
     "output_type": "execute_result"
    },
    {
     "data": {
      "text/plain": [
       "13"
      ]
     },
     "execution_count": 12,
     "metadata": {},
     "output_type": "execute_result"
    },
    {
     "data": {
      "text/plain": [
       "13"
      ]
     },
     "execution_count": 12,
     "metadata": {},
     "output_type": "execute_result"
    },
    {
     "data": {
      "text/plain": [
       "13"
      ]
     },
     "execution_count": 12,
     "metadata": {},
     "output_type": "execute_result"
    },
    {
     "data": {
      "text/plain": [
       "13"
      ]
     },
     "execution_count": 12,
     "metadata": {},
     "output_type": "execute_result"
    },
    {
     "data": {
      "text/plain": [
       "13"
      ]
     },
     "execution_count": 12,
     "metadata": {},
     "output_type": "execute_result"
    },
    {
     "data": {
      "text/plain": [
       "13"
      ]
     },
     "execution_count": 12,
     "metadata": {},
     "output_type": "execute_result"
    },
    {
     "data": {
      "text/plain": [
       "13"
      ]
     },
     "execution_count": 12,
     "metadata": {},
     "output_type": "execute_result"
    },
    {
     "data": {
      "text/plain": [
       "13"
      ]
     },
     "execution_count": 12,
     "metadata": {},
     "output_type": "execute_result"
    },
    {
     "data": {
      "text/plain": [
       "13"
      ]
     },
     "execution_count": 12,
     "metadata": {},
     "output_type": "execute_result"
    },
    {
     "data": {
      "text/plain": [
       "13"
      ]
     },
     "execution_count": 12,
     "metadata": {},
     "output_type": "execute_result"
    },
    {
     "data": {
      "text/plain": [
       "13"
      ]
     },
     "execution_count": 12,
     "metadata": {},
     "output_type": "execute_result"
    },
    {
     "data": {
      "text/plain": [
       "13"
      ]
     },
     "execution_count": 12,
     "metadata": {},
     "output_type": "execute_result"
    },
    {
     "data": {
      "text/plain": [
       "13"
      ]
     },
     "execution_count": 12,
     "metadata": {},
     "output_type": "execute_result"
    },
    {
     "data": {
      "text/plain": [
       "13"
      ]
     },
     "execution_count": 12,
     "metadata": {},
     "output_type": "execute_result"
    },
    {
     "data": {
      "text/plain": [
       "13"
      ]
     },
     "execution_count": 12,
     "metadata": {},
     "output_type": "execute_result"
    },
    {
     "data": {
      "text/plain": [
       "13"
      ]
     },
     "execution_count": 12,
     "metadata": {},
     "output_type": "execute_result"
    },
    {
     "data": {
      "text/plain": [
       "13"
      ]
     },
     "execution_count": 12,
     "metadata": {},
     "output_type": "execute_result"
    },
    {
     "data": {
      "text/plain": [
       "13"
      ]
     },
     "execution_count": 12,
     "metadata": {},
     "output_type": "execute_result"
    },
    {
     "data": {
      "text/plain": [
       "13"
      ]
     },
     "execution_count": 12,
     "metadata": {},
     "output_type": "execute_result"
    },
    {
     "data": {
      "text/plain": [
       "13"
      ]
     },
     "execution_count": 12,
     "metadata": {},
     "output_type": "execute_result"
    },
    {
     "data": {
      "text/plain": [
       "13"
      ]
     },
     "execution_count": 12,
     "metadata": {},
     "output_type": "execute_result"
    },
    {
     "data": {
      "text/plain": [
       "13"
      ]
     },
     "execution_count": 12,
     "metadata": {},
     "output_type": "execute_result"
    },
    {
     "data": {
      "text/plain": [
       "13"
      ]
     },
     "execution_count": 12,
     "metadata": {},
     "output_type": "execute_result"
    },
    {
     "data": {
      "text/plain": [
       "13"
      ]
     },
     "execution_count": 12,
     "metadata": {},
     "output_type": "execute_result"
    },
    {
     "data": {
      "text/plain": [
       "13"
      ]
     },
     "execution_count": 12,
     "metadata": {},
     "output_type": "execute_result"
    },
    {
     "data": {
      "text/plain": [
       "13"
      ]
     },
     "execution_count": 12,
     "metadata": {},
     "output_type": "execute_result"
    },
    {
     "data": {
      "text/plain": [
       "13"
      ]
     },
     "execution_count": 12,
     "metadata": {},
     "output_type": "execute_result"
    },
    {
     "data": {
      "text/plain": [
       "13"
      ]
     },
     "execution_count": 12,
     "metadata": {},
     "output_type": "execute_result"
    },
    {
     "data": {
      "text/plain": [
       "13"
      ]
     },
     "execution_count": 12,
     "metadata": {},
     "output_type": "execute_result"
    },
    {
     "data": {
      "text/plain": [
       "13"
      ]
     },
     "execution_count": 12,
     "metadata": {},
     "output_type": "execute_result"
    },
    {
     "data": {
      "text/plain": [
       "13"
      ]
     },
     "execution_count": 12,
     "metadata": {},
     "output_type": "execute_result"
    },
    {
     "data": {
      "text/plain": [
       "13"
      ]
     },
     "execution_count": 12,
     "metadata": {},
     "output_type": "execute_result"
    },
    {
     "data": {
      "text/plain": [
       "13"
      ]
     },
     "execution_count": 12,
     "metadata": {},
     "output_type": "execute_result"
    },
    {
     "data": {
      "text/plain": [
       "13"
      ]
     },
     "execution_count": 12,
     "metadata": {},
     "output_type": "execute_result"
    }
   ],
   "source": [
    "Pointdata = [['Image No', 'Risk of macular edema']]\n",
    "for i in range(len(file_names)):  #len(file_names)\n",
    "    newfile_name = file_names[i].strip('.png')\n",
    "    #print(i+1, newfile_name)\n",
    "    data = scipy.io.loadmat('ImageSynthesis/4lesions/HELocationISBI/'+newfile_name+'.mat') \n",
    "    centerLocation = data['centerLocation']\n",
    "    foveacenter = findFoverCenter(newfile_name)\n",
    "    width = findODWidth(newfile_name)\n",
    "    distance = []\n",
    "    if len(centerLocation) <= 10:\n",
    "        dmeGrading = 0\n",
    "    else:\n",
    "        for j in range(len(centerLocation)):    #len(centerLocation)\n",
    "    #         print(centerLocation[j][0])\n",
    "    #         print(centerLocation[j][1])\n",
    "    #         print(foveacenter[0])\n",
    "    #         print(foveacenter[1])        \n",
    "            temp = ((centerLocation[j][0] - foveacenter[0])**2 + (centerLocation[j][1] - foveacenter[1])**2)** 0.5\n",
    "            distance.append(round(temp))\n",
    "        minds = min(distance)\n",
    "        if minds <= width:\n",
    "            dmeGrading = 2\n",
    "        else:\n",
    "            dmeGrading = 1\n",
    "    \n",
    "    Pointdata.append([newfile_name, dmeGrading])\n",
    "   \n",
    "csvFile2 = open('ImageSynthesis/4lesions/SDNU_Disese_Grading_DME.csv','w', newline='') # 设置newline，否则两行之间会空一行\n",
    "writer = csv.writer(csvFile2)\n",
    "m = len(Pointdata)\n",
    "for i in range(m):\n",
    "    writer.writerow(Pointdata[i])\n",
    "csvFile2.close()"
   ]
  },
  {
   "cell_type": "code",
   "execution_count": null,
   "metadata": {},
   "outputs": [],
   "source": []
  },
  {
   "cell_type": "code",
   "execution_count": null,
   "metadata": {},
   "outputs": [],
   "source": []
  },
  {
   "cell_type": "code",
   "execution_count": null,
   "metadata": {},
   "outputs": [],
   "source": []
  },
  {
   "cell_type": "code",
   "execution_count": null,
   "metadata": {},
   "outputs": [],
   "source": []
  },
  {
   "cell_type": "markdown",
   "metadata": {},
   "source": [
    "# 统计DME准确率"
   ]
  },
  {
   "cell_type": "code",
   "execution_count": 9,
   "metadata": {},
   "outputs": [
    {
     "name": "stdout",
     "output_type": "stream",
     "text": [
      "0.673123486683\n",
      "(array([2]),)\n"
     ]
    },
    {
     "data": {
      "text/plain": [
       "<matplotlib.figure.Figure at 0x1218bacf8>"
      ]
     },
     "execution_count": 9,
     "metadata": {},
     "output_type": "execute_result"
    },
    {
     "data": {
      "text/plain": [
       "[<matplotlib.lines.Line2D at 0x12192d198>]"
      ]
     },
     "execution_count": 9,
     "metadata": {},
     "output_type": "execute_result"
    },
    {
     "data": {
      "text/plain": [
       "Text(0.5,0,'HE No.')"
      ]
     },
     "execution_count": 9,
     "metadata": {},
     "output_type": "execute_result"
    },
    {
     "data": {
      "text/plain": [
       "Text(0,0.5,'ACC')"
      ]
     },
     "execution_count": 9,
     "metadata": {},
     "output_type": "execute_result"
    },
    {
     "data": {
      "text/plain": [
       "Text(0.5,1,'Line plot')"
      ]
     },
     "execution_count": 9,
     "metadata": {},
     "output_type": "execute_result"
    },
    {
     "data": {
      "image/png": "[encoded data removed]",
      "text/plain": [
       "<matplotlib.figure.Figure at 0x1218bacf8>"
      ]
     },
     "metadata": {},
     "output_type": "display_data"
    }
   ],
   "source": [
    "# 用来计算DME Grading的accuracy\n",
    "#Dmegrading = []\n",
    "accuracy = []\n",
    "x = []\n",
    "data = xlrd.open_workbook('ImageSynthesis/4lesions/IDRiD_Training_Set.xlsx')\n",
    "table = data.sheets()[0]          #通过索引顺序获取\n",
    "nrows = table.nrows\n",
    "gtDMEgrading = table.col_values(2)\n",
    "GTDMEGrading = gtDMEgrading[1:]\n",
    "for k in range(30):\n",
    "    Dmegrading = []\n",
    "    x.append(k)\n",
    "    for i in range(len(file_names)):  #len(file_names)\n",
    "        #newfile_name = file_names[i].strip('.png')\n",
    "        newfile_name = 'IDRiD_%03d' % (i+1)\n",
    "        #print(i+1, newfile_name)\n",
    "        data = scipy.io.loadmat('ImageSynthesis/4lesions/HELocation1030xiaoping/'+newfile_name+'.mat') \n",
    "        centerLocation = data['centerLocation']\n",
    "        foveacenter = findFoverCenter(newfile_name)\n",
    "        width = findODWidth(newfile_name)\n",
    "        distance = []\n",
    "\n",
    "        if len(centerLocation) <= k:\n",
    "            dmeGrading = 0\n",
    "        else:\n",
    "            for j in range(len(centerLocation)):    #len(centerLocation)      \n",
    "                temp = ((centerLocation[j][0] - foveacenter[0])**2 + (centerLocation[j][1] - foveacenter[1])**2)** 0.5\n",
    "                distance.append(round(temp))\n",
    "            minds = min(distance)\n",
    "            if minds <= width:\n",
    "                dmeGrading = 2\n",
    "            else:\n",
    "                dmeGrading = 1\n",
    "        Dmegrading.append(dmeGrading)\n",
    "\n",
    "    temp = np.array(Dmegrading) - np.array(GTDMEGrading)\n",
    "    acc = np.sum(temp == 0)/413\n",
    "    accuracy.append(acc)\n",
    "    #print(k,acc)\n",
    "\n",
    "ACC = np.amax(accuracy)\n",
    "Position = np.where(accuracy == ACC)\n",
    "#print(x)\n",
    "print(ACC)\n",
    "print(Position)\n",
    "\n",
    "plt.figure(figsize=(8,4)) #创建绘图对象  \n",
    "plt.plot(x,accuracy,\"b--\",linewidth=1)   #在当前绘图对象绘图（X轴，Y轴，蓝色虚线，线宽度）  \n",
    "plt.xlabel(\"HE No.\") #X轴标签  \n",
    "plt.ylabel(\"ACC\")  #Y轴标签  \n",
    "plt.title(\"Line plot\") #图标题  \n",
    "#plt.savefig(\"ImageSynthesis/4lesions/lineHE0870xiaoping.pdf\") #保存图  \n",
    "plt.show()  #显示图"
   ]
  },
  {
   "cell_type": "code",
   "execution_count": null,
   "metadata": {},
   "outputs": [],
   "source": []
  },
  {
   "cell_type": "code",
   "execution_count": 118,
   "metadata": {},
   "outputs": [
    {
     "name": "stdout",
     "output_type": "stream",
     "text": [
      "import numpy as np\n",
      "import os,sys\n",
      "import scipy.io\n",
      "DR_IMAGE_DIR = os.path.join(ROOT_DIR, \"ImageSynthesis/4lesions/HE\") #DRDataset/SubChallenge_1_Images\n",
      "    # Load a random image from the images folder\n",
      "file_names = next(os.walk(DR_IMAGE_DIR))[2]\n",
      "import numpy as np\n",
      "import os,sys\n",
      "import scipy.io\n",
      "%matplotlib inline\n",
      "ROOT_DIR = os.getcwd()\n",
      "DR_IMAGE_DIR = os.path.join(ROOT_DIR, \"ImageSynthesis/4lesions/HE\") #DRDataset/SubChallenge_1_Images\n",
      "    # Load a random image from the images folder\n",
      "file_names = next(os.walk(DR_IMAGE_DIR))[2]\n",
      "\n",
      "for i in range(2):  #len(file_names)\n",
      "    newfile_name = file_names[i].strip('.png')\n",
      "    data = scipy.io.loadmat('ImageSynthesis/4lesions/HELocation/'+newfile_name+'.mat')\n",
      "\n",
      "for i in range(2):  #len(file_names)\n",
      "    newfile_name = file_names[i].strip('.png')\n",
      "    data = scipy.io.loadmat('ImageSynthesis/4lesions/HELocation/'+newfile_name+'.mat')\n",
      "    centerLocation = data['centerLocation']\n",
      "    print(centerLocation)\n",
      "import numpy as np\n",
      "import os,sys\n",
      "import scipy.io\n",
      "import xlrd\n",
      "%matplotlib inline\n",
      "ROOT_DIR = os.getcwd()\n",
      "DR_IMAGE_DIR = os.path.join(ROOT_DIR, \"ImageSynthesis/4lesions/HE\") #DRDataset/SubChallenge_1_Images\n",
      "    # Load a random image from the images folder\n",
      "file_names = next(os.walk(DR_IMAGE_DIR))[2]\n",
      "foveacenterdata = xlrd.open_workbook('ImageSynthesis/4lesions/FoveaCenterNEW6.xlsx')\n",
      "centertable = foveacenterdata.sheets()[0]          #通过索引顺序获取\n",
      "centernrows = centertable.nrows\n",
      "print(centernrows)\n",
      "centerNameImage = centertable.col_values(0)\n",
      "print(centerNameImage)\n",
      "def findFoverCenter(filename):\n",
      "foveacenterdata = xlrd.open_workbook('ImageSynthesis/4lesions/FoveaCenterNEW6.xlsx')\n",
      "centertable = foveacenterdata.sheets()[0]          #通过索引顺序获取\n",
      "centernrows = centertable.nrows\n",
      "print(centernrows)\n",
      "centerNameImage = centertable.col_values(0)\n",
      "print(centerNameImage)\n",
      "#def findFoverCenter(filename):\n",
      "foveacenterdata = xlrd.open_workbook('ImageSynthesis/4lesions/FoveaCenterNEW6.xlsx')\n",
      "centertable = foveacenterdata.sheets()[0]          #通过索引顺序获取\n",
      "centernrows = centertable.nrows\n",
      "print(centernrows)\n",
      "centerNameImage = centertable.col_values(0)\n",
      "print(type(centerNameImage))\n",
      "#def findFoverCenter(filename):\n",
      "\n",
      "for i in range(2):  #len(file_names)\n",
      "    newfile_name = file_names[i].strip('.png')\n",
      "    data = scipy.io.loadmat('ImageSynthesis/4lesions/HELocation/'+newfile_name+'.mat')\n",
      "    centerLocation = data['centerLocation']\n",
      "    \n",
      "    for j in range(3):    #len(centerLocation)\n",
      "        findFoverCenter(file_names[i])\n",
      "foveacenterdata = xlrd.open_workbook('ImageSynthesis/4lesions/FoveaCenterNEW6.xlsx')\n",
      "centertable = foveacenterdata.sheets()[0]          #通过索引顺序获取\n",
      "centernrows = centertable.nrows\n",
      "print(centernrows)\n",
      "centerNameImage = centertable.col_values(0)\n",
      "#print(type(centerNameImage))\n",
      "def findFoverCenter(filename):\n",
      "    p=centerNameImage.index(filename)\n",
      "    print(p)\n",
      "\n",
      "for i in range(2):  #len(file_names)\n",
      "    newfile_name = file_names[i].strip('.png')\n",
      "    data = scipy.io.loadmat('ImageSynthesis/4lesions/HELocation/'+newfile_name+'.mat')\n",
      "    centerLocation = data['centerLocation']\n",
      "    \n",
      "    for j in range(3):    #len(centerLocation)\n",
      "        findFoverCenter(file_names[i])\n",
      "\n",
      "for i in range(2):  #len(file_names)\n",
      "    newfile_name = file_names[i].strip('.png')\n",
      "    data = scipy.io.loadmat('ImageSynthesis/4lesions/HELocation/'+newfile_name+'.mat')\n",
      "    centerLocation = data['centerLocation']\n",
      "    \n",
      "    for j in range(3):    #len(centerLocation)\n",
      "        findFoverCenter(newfile_name)\n",
      "foveacenterdata = xlrd.open_workbook('ImageSynthesis/4lesions/FoveaCenterNEW6.xlsx')\n",
      "centertable = foveacenterdata.sheets()[0]          #通过索引顺序获取\n",
      "centernrows = centertable.nrows\n",
      "print(centernrows)\n",
      "centerNameImage = centertable.col_values(0)\n",
      "#print(type(centerNameImage))\n",
      "def findFoverCenter(filename):\n",
      "    p=centerNameImage.index(filename)\n",
      "    x = centertable.cell(p,1).value\n",
      "    y = centertable.cell(p,2).value\n",
      "    center = [x, y]\n",
      "    print(center)\n",
      "    return center\n",
      "\n",
      "for i in range(2):  #len(file_names)\n",
      "    newfile_name = file_names[i].strip('.png')\n",
      "    data = scipy.io.loadmat('ImageSynthesis/4lesions/HELocation/'+newfile_name+'.mat')\n",
      "    centerLocation = data['centerLocation']\n",
      "    foveacenter = findFoverCenter(newfile_name)\n",
      "    #for j in range(3):    #len(centerLocation)\n",
      "\n",
      "for i in range(2):  #len(file_names)\n",
      "    newfile_name = file_names[i].strip('.png')\n",
      "    print(newfile_name)\n",
      "    data = scipy.io.loadmat('ImageSynthesis/4lesions/HELocation/'+newfile_name+'.mat')\n",
      "    centerLocation = data['centerLocation']\n",
      "    foveacenter = findFoverCenter(newfile_name)\n",
      "    #for j in range(3):    #len(centerLocation)\n",
      "widthdata = xlrd.open_workbook('ImageSynthesis/4lesions/ODCenter-Width.xlsx')\n",
      "widthtable = widthdata.sheets()[0]          #通过索引顺序获取\n",
      "widthnrows = widthtable.nrows\n",
      "print(nrows)\n",
      "widthNameImage = widthtable.col_values(0)\n",
      "\n",
      "def findODWidth(filename):\n",
      "    p=widthNameImage.index(filename)\n",
      "    width = widthtable.cell(p,6).value\n",
      "    print(width)\n",
      "    return width\n",
      "widthdata = xlrd.open_workbook('ImageSynthesis/4lesions/ODCenter-Width.xlsx')\n",
      "widthtable = widthdata.sheets()[0]          #通过索引顺序获取\n",
      "widthnrows = widthtable.nrows\n",
      "print(widthnrows)\n",
      "widthNameImage = widthtable.col_values(0)\n",
      "\n",
      "def findODWidth(filename):\n",
      "    p=widthNameImage.index(filename)\n",
      "    width = widthtable.cell(p,6).value\n",
      "    print(width)\n",
      "    return width\n",
      "foveacenterdata = xlrd.open_workbook('ImageSynthesis/4lesions/FoveaCenterNEW6.xlsx')\n",
      "centertable = foveacenterdata.sheets()[0]          #通过索引顺序获取\n",
      "centernrows = centertable.nrows\n",
      "print(centernrows)\n",
      "centerNameImage = centertable.col_values(0)\n",
      "#print(type(centerNameImage))\n",
      "def findFoverCenter(filename):\n",
      "    p=centerNameImage.index(filename)\n",
      "    x = centertable.cell(p,1).value\n",
      "    y = centertable.cell(p,2).value\n",
      "    center = [x, y]\n",
      "    print(center)\n",
      "    return center\n",
      "\n",
      "for i in range(2):  #len(file_names)\n",
      "    newfile_name = file_names[i].strip('.png')\n",
      "    print(newfile_name)\n",
      "    data = scipy.io.loadmat('ImageSynthesis/4lesions/HELocation/'+newfile_name+'.mat')\n",
      "    centerLocation = data['centerLocation']\n",
      "    foveacenter = findFoverCenter(newfile_name)\n",
      "    width = findODWidth(newfile_name)\n",
      "    #for j in range(3):    #len(centerLocation)\n",
      "widthdata = xlrd.open_workbook('ImageSynthesis/4lesions/ODCenter-Width.xlsx')\n",
      "widthtable = widthdata.sheets()[0]          #通过索引顺序获取\n",
      "widthnrows = widthtable.nrows\n",
      "#print(widthnrows)\n",
      "widthNameImage = widthtable.col_values(0)\n",
      "\n",
      "def findODWidth(filename):\n",
      "    p=widthNameImage.index(filename)\n",
      "    width = widthtable.cell(p,6).value\n",
      "    #print(width)\n",
      "    return width\n",
      "foveacenterdata = xlrd.open_workbook('ImageSynthesis/4lesions/FoveaCenterNEW6.xlsx')\n",
      "centertable = foveacenterdata.sheets()[0]          #通过索引顺序获取\n",
      "centernrows = centertable.nrows\n",
      "#print(centernrows)\n",
      "centerNameImage = centertable.col_values(0)\n",
      "#print(type(centerNameImage))\n",
      "def findFoverCenter(filename):\n",
      "    p=centerNameImage.index(filename)\n",
      "    x = centertable.cell(p,1).value\n",
      "    y = centertable.cell(p,2).value\n",
      "    center = [x, y]\n",
      "    #print(center)\n",
      "    return center\n",
      "\n",
      "for i in range(2):  #len(file_names)\n",
      "    newfile_name = file_names[i].strip('.png')\n",
      "    print(newfile_name)\n",
      "    data = scipy.io.loadmat('ImageSynthesis/4lesions/HELocation/'+newfile_name+'.mat')\n",
      "    centerLocation = data['centerLocation']\n",
      "    foveacenter = findFoverCenter(newfile_name)\n",
      "    width = findODWidth(newfile_name)\n",
      "    distance = []\n",
      "    for j in range(len(centerLocation)):    #len(centerLocation)\n",
      "        temp = sqrt((lenterLocation[j][0] - foveacenter[0])**2 + (lenterLocation[j][1] - foveacenter[1])**2)\n",
      "        print(temp)\n",
      "\n",
      "for i in range(2):  #len(file_names)\n",
      "    newfile_name = file_names[i].strip('.png')\n",
      "    print(newfile_name)\n",
      "    data = scipy.io.loadmat('ImageSynthesis/4lesions/HELocation/'+newfile_name+'.mat')\n",
      "    centerLocation = data['centerLocation']\n",
      "    foveacenter = findFoverCenter(newfile_name)\n",
      "    width = findODWidth(newfile_name)\n",
      "    distance = []\n",
      "    for j in range(len(centerLocation)):    #len(centerLocation)\n",
      "        temp = ((lenterLocation[j][0] - foveacenter[0])**2 + (lenterLocation[j][1] - foveacenter[1])**2)** 0.5\n",
      "        print(temp)\n",
      "foveacenterdata = xlrd.open_workbook('ImageSynthesis/4lesions/FoveaCenterNEW6.xlsx')\n",
      "centertable = foveacenterdata.sheets()[0]          #通过索引顺序获取\n",
      "centernrows = centertable.nrows\n",
      "#print(centernrows)\n",
      "centerNameImage = centertable.col_values(0)\n",
      "#print(type(centerNameImage))\n",
      "def findFoverCenter(filename):\n",
      "    p=centerNameImage.index(filename)\n",
      "    x = centertable.cell(p,1).value\n",
      "    y = centertable.cell(p,2).value\n",
      "    center = [x, y]\n",
      "    #print(center)\n",
      "    return center\n",
      "\n",
      "for i in range(2):  #len(file_names)\n",
      "    newfile_name = file_names[i].strip('.png')\n",
      "    print(newfile_name)\n",
      "    data = scipy.io.loadmat('ImageSynthesis/4lesions/HELocation/'+newfile_name+'.mat')\n",
      "    centerLocation = data['centerLocation']\n",
      "    foveacenter = findFoverCenter(newfile_name)\n",
      "    width = findODWidth(newfile_name)\n",
      "    distance = []\n",
      "    for j in range(len(centerLocation)):    #len(centerLocation)\n",
      "        temp = ((lenterLocation[j][0] - foveacenter[0])**2 + (lenterLocation[j][1] - foveacenter[1])**2)** 0.5\n",
      "        print(temp)\n",
      "\n",
      "for i in range(2):  #len(file_names)\n",
      "    newfile_name = file_names[i].strip('.png')\n",
      "    print(newfile_name)\n",
      "    data = scipy.io.loadmat('ImageSynthesis/4lesions/HELocation/'+newfile_name+'.mat')\n",
      "    centerLocation = data['centerLocation']\n",
      "    foveacenter = findFoverCenter(newfile_name)\n",
      "    width = findODWidth(newfile_name)\n",
      "    distance = []\n",
      "    for j in range(len(centerLocation)):    #len(centerLocation)\n",
      "        temp = ((centerLocation[j][0] - foveacenter[0])**2 + (centerLocation[j][1] - foveacenter[1])**2)** 0.5\n",
      "        print(temp)\n",
      "\n",
      "for i in range(2):  #len(file_names)\n",
      "    newfile_name = file_names[i].strip('.png')\n",
      "    print(newfile_name)\n",
      "    data = scipy.io.loadmat('ImageSynthesis/4lesions/HELocation/'+newfile_name+'.mat')\n",
      "    centerLocation = data['centerLocation']\n",
      "    foveacenter = findFoverCenter(newfile_name)\n",
      "    width = findODWidth(newfile_name)\n",
      "    distance = []\n",
      "    for j in range(len(centerLocation)):    #len(centerLocation)\n",
      "        temp = ((centerLocation[j][0] - foveacenter[0])**2 + (centerLocation[j][1] - foveacenter[1])**2)** 0.5\n",
      "        print round(temp)\n",
      "\n",
      "for i in range(2):  #len(file_names)\n",
      "    newfile_name = file_names[i].strip('.png')\n",
      "    print(newfile_name)\n",
      "    data = scipy.io.loadmat('ImageSynthesis/4lesions/HELocation/'+newfile_name+'.mat')\n",
      "    centerLocation = data['centerLocation']\n",
      "    foveacenter = findFoverCenter(newfile_name)\n",
      "    width = findODWidth(newfile_name)\n",
      "    distance = []\n",
      "    for j in range(len(centerLocation)):    #len(centerLocation)\n",
      "        temp = ((centerLocation[j][0] - foveacenter[0])**2 + (centerLocation[j][1] - foveacenter[1])**2)** 0.5\n",
      "        print(round(temp))\n",
      "\n",
      "for i in range(2):  #len(file_names)\n",
      "    newfile_name = file_names[i].strip('.png')\n",
      "    print(newfile_name)\n",
      "    data = scipy.io.loadmat('ImageSynthesis/4lesions/HELocation/'+newfile_name+'.mat')\n",
      "    centerLocation = data['centerLocation']\n",
      "    foveacenter = findFoverCenter(newfile_name)\n",
      "    width = findODWidth(newfile_name)\n",
      "    distance = []\n",
      "    for j in range(len(centerLocation)):    #len(centerLocation)\n",
      "        temp = ((centerLocation[j][0] - foveacenter[0])**2 + (centerLocation[j][1] - foveacenter[1])**2)** 0.5\n",
      "        distance.append(round(temp))\n",
      "        print(distance)\n",
      "\n",
      "for i in range(2):  #len(file_names)\n",
      "    newfile_name = file_names[i].strip('.png')\n",
      "    print(newfile_name)\n",
      "    data = scipy.io.loadmat('ImageSynthesis/4lesions/HELocation/'+newfile_name+'.mat')\n",
      "    centerLocation = data['centerLocation']\n",
      "    foveacenter = findFoverCenter(newfile_name)\n",
      "    width = findODWidth(newfile_name)\n",
      "    distance = []\n",
      "    for j in range(len(centerLocation)):    #len(centerLocation)\n",
      "        temp = ((centerLocation[j][0] - foveacenter[0])**2 + (centerLocation[j][1] - foveacenter[1])**2)** 0.5\n",
      "        distance.append(round(temp))\n",
      "    \n",
      "    print(distance)\n",
      "\n",
      "for i in range(2):  #len(file_names)\n",
      "    newfile_name = file_names[i].strip('.png')\n",
      "    print(newfile_name)\n",
      "    data = scipy.io.loadmat('ImageSynthesis/4lesions/HELocation/'+newfile_name+'.mat')\n",
      "    centerLocation = data['centerLocation']\n",
      "    foveacenter = findFoverCenter(newfile_name)\n",
      "    width = findODWidth(newfile_name)\n",
      "    distance = []\n",
      "    for j in range(len(centerLocation)):    #len(centerLocation)\n",
      "        print(centerLocation[j][0])\n",
      "        print(centerLocation[j][1])\n",
      "        print(foveacenter[0])\n",
      "        print(foveacenter[1])\n",
      "        temp = ((centerLocation[j][0] - foveacenter[0])**2 + (centerLocation[j][1] - foveacenter[1])**2)** 0.5\n",
      "        distance.append(round(temp))\n",
      "    \n",
      "    print(distance)\n",
      "\n",
      "for i in range(2):  #len(file_names)\n",
      "    newfile_name = file_names[i].strip('.png')\n",
      "    print(newfile_name)\n",
      "    data = scipy.io.loadmat('ImageSynthesis/4lesions/HELocation/'+newfile_name+'.mat')\n",
      "    centerLocation = data['centerLocation']\n",
      "    foveacenter = findFoverCenter(newfile_name)\n",
      "    width = findODWidth(newfile_name)\n",
      "    distance = []\n",
      "    for j in range(len(centerLocation)):    #len(centerLocation)\n",
      "        print(centerLocation[j][0])\n",
      "        print(centerLocation[j][1])\n",
      "        print(foveacenter[0])\n",
      "        print(foveacenter[1])\n",
      "        temp = ((centerLocation[j][0] - foveacenter[0])**2 + (centerLocation[j][1] - foveacenter[1])**2)** 0.5\n",
      "        distance.append(round(temp))\n",
      "    \n",
      "    #print(distance)\n",
      "widthdata = xlrd.open_workbook('ImageSynthesis/4lesions/ODCenter-Width.xlsx')\n",
      "widthtable = widthdata.sheets()[0]          #通过索引顺序获取\n",
      "widthnrows = widthtable.nrows\n",
      "#print(widthnrows)\n",
      "widthNameImage = widthtable.col_values(0)\n",
      "\n",
      "def findODWidth(filename):\n",
      "    p=widthNameImage.index(filename)\n",
      "    width = widthtable.cell(p,6).value\n",
      "    print(width)\n",
      "    return width\n",
      "foveacenterdata = xlrd.open_workbook('ImageSynthesis/4lesions/FoveaCenterNEW6.xlsx')\n",
      "centertable = foveacenterdata.sheets()[0]          #通过索引顺序获取\n",
      "centernrows = centertable.nrows\n",
      "#print(centernrows)\n",
      "centerNameImage = centertable.col_values(0)\n",
      "#print(type(centerNameImage))\n",
      "def findFoverCenter(filename):\n",
      "    p=centerNameImage.index(filename)\n",
      "    x = centertable.cell(p,1).value\n",
      "    y = centertable.cell(p,2).value\n",
      "    center = [x, y]\n",
      "    print(center)\n",
      "    return center\n",
      "\n",
      "for i in range(2):  #len(file_names)\n",
      "    newfile_name = file_names[i].strip('.png')\n",
      "    print(newfile_name)\n",
      "    data = scipy.io.loadmat('ImageSynthesis/4lesions/HELocation/'+newfile_name+'.mat')\n",
      "    centerLocation = data['centerLocation']\n",
      "    foveacenter = findFoverCenter(newfile_name)\n",
      "    width = findODWidth(newfile_name)\n",
      "    distance = []\n",
      "    for j in range(1):    #len(centerLocation)\n",
      "        print(centerLocation[j][0])\n",
      "        print(centerLocation[j][1])\n",
      "        print(foveacenter[0])\n",
      "        print(foveacenter[1])\n",
      "        temp = ((centerLocation[j][0] - foveacenter[0])**2 + (centerLocation[j][1] - foveacenter[1])**2)** 0.5\n",
      "        distance.append(round(temp))\n",
      "    \n",
      "    #print(distance)\n",
      "widthdata = xlrd.open_workbook('ImageSynthesis/4lesions/ODCenter-Width.xlsx')\n",
      "widthtable = widthdata.sheets()[0]          #通过索引顺序获取\n",
      "widthnrows = widthtable.nrows\n",
      "#print(widthnrows)\n",
      "widthNameImage = widthtable.col_values(0)\n",
      "\n",
      "def findODWidth(filename):\n",
      "    p=widthNameImage.index(filename)\n",
      "    width = widthtable.cell(p,6).value\n",
      "    #print(width)\n",
      "    return width\n",
      "foveacenterdata = xlrd.open_workbook('ImageSynthesis/4lesions/FoveaCenterNEW6.xlsx')\n",
      "centertable = foveacenterdata.sheets()[0]          #通过索引顺序获取\n",
      "centernrows = centertable.nrows\n",
      "#print(centernrows)\n",
      "centerNameImage = centertable.col_values(0)\n",
      "#print(type(centerNameImage))\n",
      "def findFoverCenter(filename):\n",
      "    p=centerNameImage.index(filename)\n",
      "    x = centertable.cell(p,1).value\n",
      "    y = centertable.cell(p,2).value\n",
      "    center = [x, y]\n",
      "    #print(center)\n",
      "    return center\n",
      "\n",
      "for i in range(2):  #len(file_names)\n",
      "    newfile_name = file_names[i].strip('.png')\n",
      "    print(newfile_name)\n",
      "    data = scipy.io.loadmat('ImageSynthesis/4lesions/HELocation/'+newfile_name+'.mat') \n",
      "    centerLocation = data['centerLocation']\n",
      "    foveacenter = findFoverCenter(newfile_name)\n",
      "    width = findODWidth(newfile_name)\n",
      "    distance = []\n",
      "    for j in range(1):    #len(centerLocation)\n",
      "#         print(centerLocation[j][0])\n",
      "#         print(centerLocation[j][1])\n",
      "#         print(foveacenter[0])\n",
      "#         print(foveacenter[1])\n",
      "        temp = ((centerLocation[j][0] - foveacenter[0])**2 + (centerLocation[j][1] - foveacenter[1])**2)** 0.5\n",
      "        distance.append(round(temp))\n",
      "    \n",
      "    #print(distance)\n",
      "\n",
      "for i in range(2):  #len(file_names)\n",
      "    newfile_name = file_names[i].strip('.png')\n",
      "    print(newfile_name)\n",
      "    data = scipy.io.loadmat('ImageSynthesis/4lesions/HELocation/'+newfile_name+'.mat') \n",
      "    centerLocation = data['centerLocation']\n",
      "    foveacenter = findFoverCenter(newfile_name)\n",
      "    width = findODWidth(newfile_name)\n",
      "    distance = []\n",
      "    if len(centerLocation) <= 7:\n",
      "        dmeGrading = 0\n",
      "    else:\n",
      "        for j in range(len(centerLocation)):    #len(centerLocation)\n",
      "    #         print(centerLocation[j][0])\n",
      "    #         print(centerLocation[j][1])\n",
      "    #         print(foveacenter[0])\n",
      "    #         print(foveacenter[1])        \n",
      "            temp = ((centerLocation[j][0] - foveacenter[0])**2 + (centerLocation[j][1] - foveacenter[1])**2)** 0.5\n",
      "            distance.append(round(temp))\n",
      "        minds = min(distance)\n",
      "        if minds <= 0.5 * width:\n",
      "            dmeGrading = 2\n",
      "        else:\n",
      "            dmeGrading = 1\n",
      "    print(dmeGrading)\n",
      "    #print(distance)\n",
      "\n",
      "for i in range(len(file_names)):  #len(file_names)\n",
      "    newfile_name = file_names[i].strip('.png')\n",
      "    print(newfile_name)\n",
      "    data = scipy.io.loadmat('ImageSynthesis/4lesions/HELocation/'+newfile_name+'.mat') \n",
      "    centerLocation = data['centerLocation']\n",
      "    foveacenter = findFoverCenter(newfile_name)\n",
      "    width = findODWidth(newfile_name)\n",
      "    distance = []\n",
      "    if len(centerLocation) <= 7:\n",
      "        dmeGrading = 0\n",
      "    else:\n",
      "        for j in range(len(centerLocation)):    #len(centerLocation)\n",
      "    #         print(centerLocation[j][0])\n",
      "    #         print(centerLocation[j][1])\n",
      "    #         print(foveacenter[0])\n",
      "    #         print(foveacenter[1])        \n",
      "            temp = ((centerLocation[j][0] - foveacenter[0])**2 + (centerLocation[j][1] - foveacenter[1])**2)** 0.5\n",
      "            distance.append(round(temp))\n",
      "        minds = min(distance)\n",
      "        if minds <= 0.5 * width:\n",
      "            dmeGrading = 2\n",
      "        else:\n",
      "            dmeGrading = 1\n",
      "    print(dmeGrading)\n",
      "    #print(distance)\n",
      "\n",
      "for i in range(len(file_names)):  #len(file_names)\n",
      "    newfile_name = file_names[i].strip('.png')\n",
      "    print(i, newfile_name)\n",
      "    data = scipy.io.loadmat('ImageSynthesis/4lesions/HELocation/'+newfile_name+'.mat') \n",
      "    centerLocation = data['centerLocation']\n",
      "    foveacenter = findFoverCenter(newfile_name)\n",
      "    width = findODWidth(newfile_name)\n",
      "    distance = []\n",
      "    if len(centerLocation) <= 7:\n",
      "        dmeGrading = 0\n",
      "    else:\n",
      "        for j in range(len(centerLocation)):    #len(centerLocation)\n",
      "    #         print(centerLocation[j][0])\n",
      "    #         print(centerLocation[j][1])\n",
      "    #         print(foveacenter[0])\n",
      "    #         print(foveacenter[1])        \n",
      "            temp = ((centerLocation[j][0] - foveacenter[0])**2 + (centerLocation[j][1] - foveacenter[1])**2)** 0.5\n",
      "            distance.append(round(temp))\n",
      "        minds = min(distance)\n",
      "        if minds <= 0.5 * width:\n",
      "            dmeGrading = 2\n",
      "        else:\n",
      "            dmeGrading = 1\n",
      "    print(dmeGrading)\n",
      "    #print(distance)\n",
      "\n",
      "for i in range(len(file_names)):  #len(file_names)\n",
      "    newfile_name = file_names[i].strip('.png')\n",
      "    print(i+1, newfile_name)\n",
      "    data = scipy.io.loadmat('ImageSynthesis/4lesions/HELocation/'+newfile_name+'.mat') \n",
      "    centerLocation = data['centerLocation']\n",
      "    foveacenter = findFoverCenter(newfile_name)\n",
      "    width = findODWidth(newfile_name)\n",
      "    distance = []\n",
      "    if len(centerLocation) <= 7:\n",
      "        dmeGrading = 0\n",
      "    else:\n",
      "        for j in range(len(centerLocation)):    #len(centerLocation)\n",
      "    #         print(centerLocation[j][0])\n",
      "    #         print(centerLocation[j][1])\n",
      "    #         print(foveacenter[0])\n",
      "    #         print(foveacenter[1])        \n",
      "            temp = ((centerLocation[j][0] - foveacenter[0])**2 + (centerLocation[j][1] - foveacenter[1])**2)** 0.5\n",
      "            distance.append(round(temp))\n",
      "        minds = min(distance)\n",
      "        if minds <= 0.5 * width:\n",
      "            dmeGrading = 2\n",
      "        else:\n",
      "            dmeGrading = 1\n",
      "    print(dmeGrading)\n",
      "    #print(distance)\n",
      "Pointdata = [['Image No', 'DMEGrading']]\n",
      "for i in range(len(file_names)):  #len(file_names)\n",
      "    newfile_name = file_names[i].strip('.png')\n",
      "    print(i+1, newfile_name)\n",
      "    data = scipy.io.loadmat('ImageSynthesis/4lesions/HELocation/'+newfile_name+'.mat') \n",
      "    centerLocation = data['centerLocation']\n",
      "    foveacenter = findFoverCenter(newfile_name)\n",
      "    width = findODWidth(newfile_name)\n",
      "    distance = []\n",
      "    if len(centerLocation) <= 7:\n",
      "        dmeGrading = 0\n",
      "    else:\n",
      "        for j in range(len(centerLocation)):    #len(centerLocation)\n",
      "    #         print(centerLocation[j][0])\n",
      "    #         print(centerLocation[j][1])\n",
      "    #         print(foveacenter[0])\n",
      "    #         print(foveacenter[1])        \n",
      "            temp = ((centerLocation[j][0] - foveacenter[0])**2 + (centerLocation[j][1] - foveacenter[1])**2)** 0.5\n",
      "            distance.append(round(temp))\n",
      "        minds = min(distance)\n",
      "        if minds <= 0.5 * width:\n",
      "            dmeGrading = 2\n",
      "        else:\n",
      "            dmeGrading = 1\n",
      "    \n",
      "    Pointdata.append([file_names[i], dmeGrading])\n",
      "   \n",
      "csvFile2 = open('ImageSynthesis/4lesions/DMEGrading.csv','w', newline='') # 设置newline，否则两行之间会空一行\n",
      "writer = csv.writer(csvFile2)\n",
      "m = len(Pointdata)\n",
      "for i in range(m):\n",
      "    writer.writerow(Pointdata[i])\n",
      "csvFile2.close()\n",
      "import numpy as np\n",
      "import os,sys\n",
      "import scipy.io\n",
      "import xlrd\n",
      "import csv\n",
      "%matplotlib inline\n",
      "ROOT_DIR = os.getcwd()\n",
      "Pointdata = [['Image No', 'DMEGrading']]\n",
      "for i in range(len(file_names)):  #len(file_names)\n",
      "    newfile_name = file_names[i].strip('.png')\n",
      "    print(i+1, newfile_name)\n",
      "    data = scipy.io.loadmat('ImageSynthesis/4lesions/HELocation/'+newfile_name+'.mat') \n",
      "    centerLocation = data['centerLocation']\n",
      "    foveacenter = findFoverCenter(newfile_name)\n",
      "    width = findODWidth(newfile_name)\n",
      "    distance = []\n",
      "    if len(centerLocation) <= 7:\n",
      "        dmeGrading = 0\n",
      "    else:\n",
      "        for j in range(len(centerLocation)):    #len(centerLocation)\n",
      "    #         print(centerLocation[j][0])\n",
      "    #         print(centerLocation[j][1])\n",
      "    #         print(foveacenter[0])\n",
      "    #         print(foveacenter[1])        \n",
      "            temp = ((centerLocation[j][0] - foveacenter[0])**2 + (centerLocation[j][1] - foveacenter[1])**2)** 0.5\n",
      "            distance.append(round(temp))\n",
      "        minds = min(distance)\n",
      "        if minds <= 0.5 * width:\n",
      "            dmeGrading = 2\n",
      "        else:\n",
      "            dmeGrading = 1\n",
      "    \n",
      "    Pointdata.append([file_names[i], dmeGrading])\n",
      "   \n",
      "csvFile2 = open('ImageSynthesis/4lesions/DMEGrading.csv','w', newline='') # 设置newline，否则两行之间会空一行\n",
      "writer = csv.writer(csvFile2)\n",
      "m = len(Pointdata)\n",
      "for i in range(m):\n",
      "    writer.writerow(Pointdata[i])\n",
      "csvFile2.close()\n",
      "Pointdata = [['Image No', 'DMEGrading']]\n",
      "for i in range(len(file_names)):  #len(file_names)\n",
      "    newfile_name = file_names[i].strip('.png')\n",
      "    print(i+1, newfile_name)\n",
      "    data = scipy.io.loadmat('ImageSynthesis/4lesions/HELocation/'+newfile_name+'.mat') \n",
      "    centerLocation = data['centerLocation']\n",
      "    foveacenter = findFoverCenter(newfile_name)\n",
      "    width = findODWidth(newfile_name)\n",
      "    distance = []\n",
      "    if len(centerLocation) <= 8:\n",
      "        dmeGrading = 0\n",
      "    else:\n",
      "        for j in range(len(centerLocation)):    #len(centerLocation)\n",
      "    #         print(centerLocation[j][0])\n",
      "    #         print(centerLocation[j][1])\n",
      "    #         print(foveacenter[0])\n",
      "    #         print(foveacenter[1])        \n",
      "            temp = ((centerLocation[j][0] - foveacenter[0])**2 + (centerLocation[j][1] - foveacenter[1])**2)** 0.5\n",
      "            distance.append(round(temp))\n",
      "        minds = min(distance)\n",
      "        if minds <= 0.5 * width:\n",
      "            dmeGrading = 2\n",
      "        else:\n",
      "            dmeGrading = 1\n",
      "    \n",
      "    Pointdata.append([file_names[i], dmeGrading])\n",
      "   \n",
      "csvFile2 = open('ImageSynthesis/4lesions/DMEGrading1.csv','w', newline='') # 设置newline，否则两行之间会空一行\n",
      "writer = csv.writer(csvFile2)\n",
      "m = len(Pointdata)\n",
      "for i in range(m):\n",
      "    writer.writerow(Pointdata[i])\n",
      "csvFile2.close()\n",
      "Pointdata = [['Image No', 'DMEGrading']]\n",
      "for i in range(len(file_names)):  #len(file_names)\n",
      "    newfile_name = file_names[i].strip('.png')\n",
      "    print(i+1, newfile_name)\n",
      "    data = scipy.io.loadmat('ImageSynthesis/4lesions/HELocation/'+newfile_name+'.mat') \n",
      "    centerLocation = data['centerLocation']\n",
      "    foveacenter = findFoverCenter(newfile_name)\n",
      "    width = findODWidth(newfile_name)\n",
      "    distance = []\n",
      "    if len(centerLocation) <= 9:\n",
      "        dmeGrading = 0\n",
      "    else:\n",
      "        for j in range(len(centerLocation)):    #len(centerLocation)\n",
      "    #         print(centerLocation[j][0])\n",
      "    #         print(centerLocation[j][1])\n",
      "    #         print(foveacenter[0])\n",
      "    #         print(foveacenter[1])        \n",
      "            temp = ((centerLocation[j][0] - foveacenter[0])**2 + (centerLocation[j][1] - foveacenter[1])**2)** 0.5\n",
      "            distance.append(round(temp))\n",
      "        minds = min(distance)\n",
      "        if minds <= 0.5 * width:\n",
      "            dmeGrading = 2\n",
      "        else:\n",
      "            dmeGrading = 1\n",
      "    \n",
      "    Pointdata.append([file_names[i], dmeGrading])\n",
      "   \n",
      "csvFile2 = open('ImageSynthesis/4lesions/DMEGrading9.csv','w', newline='') # 设置newline，否则两行之间会空一行\n",
      "writer = csv.writer(csvFile2)\n",
      "m = len(Pointdata)\n",
      "for i in range(m):\n",
      "    writer.writerow(Pointdata[i])\n",
      "csvFile2.close()\n",
      "Pointdata = [['Image No', 'DMEGrading']]\n",
      "for i in range(len(file_names)):  #len(file_names)\n",
      "    newfile_name = file_names[i].strip('.png')\n",
      "    print(i+1, newfile_name)\n",
      "    data = scipy.io.loadmat('ImageSynthesis/4lesions/HELocation/'+newfile_name+'.mat') \n",
      "    centerLocation = data['centerLocation']\n",
      "    foveacenter = findFoverCenter(newfile_name)\n",
      "    width = findODWidth(newfile_name)\n",
      "    distance = []\n",
      "    if len(centerLocation) <= 8:\n",
      "        dmeGrading = 0\n",
      "    else:\n",
      "        for j in range(len(centerLocation)):    #len(centerLocation)\n",
      "    #         print(centerLocation[j][0])\n",
      "    #         print(centerLocation[j][1])\n",
      "    #         print(foveacenter[0])\n",
      "    #         print(foveacenter[1])        \n",
      "            temp = ((centerLocation[j][0] - foveacenter[0])**2 + (centerLocation[j][1] - foveacenter[1])**2)** 0.5\n",
      "            distance.append(round(temp))\n",
      "        minds = min(distance)\n",
      "        if minds <= 0.5 * width:\n",
      "            dmeGrading = 2\n",
      "        else:\n",
      "            dmeGrading = 1\n",
      "    \n",
      "    Pointdata.append([file_names[i], dmeGrading])\n",
      "   \n",
      "csvFile2 = open('ImageSynthesis/4lesions/DMEGrading8.csv','w', newline='') # 设置newline，否则两行之间会空一行\n",
      "writer = csv.writer(csvFile2)\n",
      "m = len(Pointdata)\n",
      "for i in range(m):\n",
      "    writer.writerow(Pointdata[i])\n",
      "csvFile2.close()\n",
      "Pointdata = [['Image No', 'DMEGrading']]\n",
      "for i in range(len(file_names)):  #len(file_names)\n",
      "    newfile_name = file_names[i].strip('.png')\n",
      "    print(i+1, newfile_name)\n",
      "    data = scipy.io.loadmat('ImageSynthesis/4lesions/HELocation/'+newfile_name+'.mat') \n",
      "    centerLocation = data['centerLocation']\n",
      "    foveacenter = findFoverCenter(newfile_name)\n",
      "    width = findODWidth(newfile_name)\n",
      "    distance = []\n",
      "    if len(centerLocation) <= 7:\n",
      "        dmeGrading = 0\n",
      "    else:\n",
      "        for j in range(len(centerLocation)):    #len(centerLocation)\n",
      "    #         print(centerLocation[j][0])\n",
      "    #         print(centerLocation[j][1])\n",
      "    #         print(foveacenter[0])\n",
      "    #         print(foveacenter[1])        \n",
      "            temp = ((centerLocation[j][0] - foveacenter[0])**2 + (centerLocation[j][1] - foveacenter[1])**2)** 0.5\n",
      "            distance.append(round(temp))\n",
      "        minds = min(distance)\n",
      "        if minds <= 0.5 * width:\n",
      "            dmeGrading = 2\n",
      "        else:\n",
      "            dmeGrading = 1\n",
      "    \n",
      "    Pointdata.append([file_names[i], dmeGrading])\n",
      "   \n",
      "csvFile2 = open('ImageSynthesis/4lesions/DMEGrading7.csv','w', newline='') # 设置newline，否则两行之间会空一行\n",
      "writer = csv.writer(csvFile2)\n",
      "m = len(Pointdata)\n",
      "for i in range(m):\n",
      "    writer.writerow(Pointdata[i])\n",
      "csvFile2.close()\n",
      "Pointdata = [['Image No', 'DMEGrading']]\n",
      "for i in range(len(file_names)):  #len(file_names)\n",
      "    newfile_name = file_names[i].strip('.png')\n",
      "    print(i+1, newfile_name)\n",
      "    data = scipy.io.loadmat('ImageSynthesis/4lesions/HELocation/'+newfile_name+'.mat') \n",
      "    centerLocation = data['centerLocation']\n",
      "    foveacenter = findFoverCenter(newfile_name)\n",
      "    width = findODWidth(newfile_name)\n",
      "    distance = []\n",
      "    if len(centerLocation) <= 6:\n",
      "        dmeGrading = 0\n",
      "    else:\n",
      "        for j in range(len(centerLocation)):    #len(centerLocation)\n",
      "    #         print(centerLocation[j][0])\n",
      "    #         print(centerLocation[j][1])\n",
      "    #         print(foveacenter[0])\n",
      "    #         print(foveacenter[1])        \n",
      "            temp = ((centerLocation[j][0] - foveacenter[0])**2 + (centerLocation[j][1] - foveacenter[1])**2)** 0.5\n",
      "            distance.append(round(temp))\n",
      "        minds = min(distance)\n",
      "        if minds <= 0.5 * width:\n",
      "            dmeGrading = 2\n",
      "        else:\n",
      "            dmeGrading = 1\n",
      "    \n",
      "    Pointdata.append([file_names[i], dmeGrading])\n",
      "   \n",
      "csvFile2 = open('ImageSynthesis/4lesions/DMEGrading6.csv','w', newline='') # 设置newline，否则两行之间会空一行\n",
      "writer = csv.writer(csvFile2)\n",
      "m = len(Pointdata)\n",
      "for i in range(m):\n",
      "    writer.writerow(Pointdata[i])\n",
      "csvFile2.close()\n",
      "Pointdata = [['Image No', 'DMEGrading']]\n",
      "for i in range(len(file_names)):  #len(file_names)\n",
      "    newfile_name = file_names[i].strip('.png')\n",
      "    print(i+1, newfile_name)\n",
      "    data = scipy.io.loadmat('ImageSynthesis/4lesions/HELocation/'+newfile_name+'.mat') \n",
      "    centerLocation = data['centerLocation']\n",
      "    foveacenter = findFoverCenter(newfile_name)\n",
      "    width = findODWidth(newfile_name)\n",
      "    distance = []\n",
      "    if len(centerLocation) <= 10:\n",
      "        dmeGrading = 0\n",
      "    else:\n",
      "        for j in range(len(centerLocation)):    #len(centerLocation)\n",
      "    #         print(centerLocation[j][0])\n",
      "    #         print(centerLocation[j][1])\n",
      "    #         print(foveacenter[0])\n",
      "    #         print(foveacenter[1])        \n",
      "            temp = ((centerLocation[j][0] - foveacenter[0])**2 + (centerLocation[j][1] - foveacenter[1])**2)** 0.5\n",
      "            distance.append(round(temp))\n",
      "        minds = min(distance)\n",
      "        if minds <= 0.5 * width:\n",
      "            dmeGrading = 2\n",
      "        else:\n",
      "            dmeGrading = 1\n",
      "    \n",
      "    Pointdata.append([file_names[i], dmeGrading])\n",
      "   \n",
      "csvFile2 = open('ImageSynthesis/4lesions/DMEGrading10.csv','w', newline='') # 设置newline，否则两行之间会空一行\n",
      "writer = csv.writer(csvFile2)\n",
      "m = len(Pointdata)\n",
      "for i in range(m):\n",
      "    writer.writerow(Pointdata[i])\n",
      "csvFile2.close()\n",
      "Pointdata = [['Image No', 'DMEGrading']]\n",
      "for i in range(len(file_names)):  #len(file_names)\n",
      "    newfile_name = file_names[i].strip('.png')\n",
      "    #print(i+1, newfile_name)\n",
      "    data = scipy.io.loadmat('ImageSynthesis/4lesions/HELocation/'+newfile_name+'.mat') \n",
      "    centerLocation = data['centerLocation']\n",
      "    foveacenter = findFoverCenter(newfile_name)\n",
      "    width = findODWidth(newfile_name)\n",
      "    distance = []\n",
      "    if len(centerLocation) <= 11:\n",
      "        dmeGrading = 0\n",
      "    else:\n",
      "        for j in range(len(centerLocation)):    #len(centerLocation)\n",
      "    #         print(centerLocation[j][0])\n",
      "    #         print(centerLocation[j][1])\n",
      "    #         print(foveacenter[0])\n",
      "    #         print(foveacenter[1])        \n",
      "            temp = ((centerLocation[j][0] - foveacenter[0])**2 + (centerLocation[j][1] - foveacenter[1])**2)** 0.5\n",
      "            distance.append(round(temp))\n",
      "        minds = min(distance)\n",
      "        if minds <= 0.5 * width:\n",
      "            dmeGrading = 2\n",
      "        else:\n",
      "            dmeGrading = 1\n",
      "    \n",
      "    Pointdata.append([file_names[i], dmeGrading])\n",
      "   \n",
      "csvFile2 = open('ImageSynthesis/4lesions/DMEGrading11.csv','w', newline='') # 设置newline，否则两行之间会空一行\n",
      "writer = csv.writer(csvFile2)\n",
      "m = len(Pointdata)\n",
      "for i in range(m):\n",
      "    writer.writerow(Pointdata[i])\n",
      "csvFile2.close()\n",
      "Pointdata = [['Image No', 'DMEGrading']]\n",
      "for i in range(len(file_names)):  #len(file_names)\n",
      "    newfile_name = file_names[i].strip('.png')\n",
      "    #print(i+1, newfile_name)\n",
      "    data = scipy.io.loadmat('ImageSynthesis/4lesions/HELocation/'+newfile_name+'.mat') \n",
      "    centerLocation = data['centerLocation']\n",
      "    foveacenter = findFoverCenter(newfile_name)\n",
      "    width = findODWidth(newfile_name)\n",
      "    distance = []\n",
      "    if len(centerLocation) <= 12:\n",
      "        dmeGrading = 0\n",
      "    else:\n",
      "        for j in range(len(centerLocation)):    #len(centerLocation)\n",
      "    #         print(centerLocation[j][0])\n",
      "    #         print(centerLocation[j][1])\n",
      "    #         print(foveacenter[0])\n",
      "    #         print(foveacenter[1])        \n",
      "            temp = ((centerLocation[j][0] - foveacenter[0])**2 + (centerLocation[j][1] - foveacenter[1])**2)** 0.5\n",
      "            distance.append(round(temp))\n",
      "        minds = min(distance)\n",
      "        if minds <= 0.5 * width:\n",
      "            dmeGrading = 2\n",
      "        else:\n",
      "            dmeGrading = 1\n",
      "    \n",
      "    Pointdata.append([file_names[i], dmeGrading])\n",
      "   \n",
      "csvFile2 = open('ImageSynthesis/4lesions/DMEGrading12.csv','w', newline='') # 设置newline，否则两行之间会空一行\n",
      "writer = csv.writer(csvFile2)\n",
      "m = len(Pointdata)\n",
      "for i in range(m):\n",
      "    writer.writerow(Pointdata[i])\n",
      "csvFile2.close()\n",
      "Pointdata = [['Image No', 'DMEGrading']]\n",
      "for i in range(len(file_names)):  #len(file_names)\n",
      "    newfile_name = file_names[i].strip('.png')\n",
      "    #print(i+1, newfile_name)\n",
      "    data = scipy.io.loadmat('ImageSynthesis/4lesions/HELocation/'+newfile_name+'.mat') \n",
      "    centerLocation = data['centerLocation']\n",
      "    foveacenter = findFoverCenter(newfile_name)\n",
      "    width = findODWidth(newfile_name)\n",
      "    distance = []\n",
      "    if len(centerLocation) <= 13:\n",
      "        dmeGrading = 0\n",
      "    else:\n",
      "        for j in range(len(centerLocation)):    #len(centerLocation)\n",
      "    #         print(centerLocation[j][0])\n",
      "    #         print(centerLocation[j][1])\n",
      "    #         print(foveacenter[0])\n",
      "    #         print(foveacenter[1])        \n",
      "            temp = ((centerLocation[j][0] - foveacenter[0])**2 + (centerLocation[j][1] - foveacenter[1])**2)** 0.5\n",
      "            distance.append(round(temp))\n",
      "        minds = min(distance)\n",
      "        if minds <= 0.5 * width:\n",
      "            dmeGrading = 2\n",
      "        else:\n",
      "            dmeGrading = 1\n",
      "    \n",
      "    Pointdata.append([file_names[i], dmeGrading])\n",
      "   \n",
      "csvFile2 = open('ImageSynthesis/4lesions/DMEGrading13.csv','w', newline='') # 设置newline，否则两行之间会空一行\n",
      "writer = csv.writer(csvFile2)\n",
      "m = len(Pointdata)\n",
      "for i in range(m):\n",
      "    writer.writerow(Pointdata[i])\n",
      "csvFile2.close()\n",
      "Pointdata = [['Image No', 'DMEGrading']]\n",
      "for i in range(len(file_names)):  #len(file_names)\n",
      "    newfile_name = file_names[i].strip('.png')\n",
      "    #print(i+1, newfile_name)\n",
      "    data = scipy.io.loadmat('ImageSynthesis/4lesions/HELocation/'+newfile_name+'.mat') \n",
      "    centerLocation = data['centerLocation']\n",
      "    foveacenter = findFoverCenter(newfile_name)\n",
      "    width = findODWidth(newfile_name)\n",
      "    distance = []\n",
      "    if len(centerLocation) <= 14:\n",
      "        dmeGrading = 0\n",
      "    else:\n",
      "        for j in range(len(centerLocation)):    #len(centerLocation)\n",
      "    #         print(centerLocation[j][0])\n",
      "    #         print(centerLocation[j][1])\n",
      "    #         print(foveacenter[0])\n",
      "    #         print(foveacenter[1])        \n",
      "            temp = ((centerLocation[j][0] - foveacenter[0])**2 + (centerLocation[j][1] - foveacenter[1])**2)** 0.5\n",
      "            distance.append(round(temp))\n",
      "        minds = min(distance)\n",
      "        if minds <= 0.5 * width:\n",
      "            dmeGrading = 2\n",
      "        else:\n",
      "            dmeGrading = 1\n",
      "    \n",
      "    Pointdata.append([file_names[i], dmeGrading])\n",
      "   \n",
      "csvFile2 = open('ImageSynthesis/4lesions/DMEGrading14.csv','w', newline='') # 设置newline，否则两行之间会空一行\n",
      "writer = csv.writer(csvFile2)\n",
      "m = len(Pointdata)\n",
      "for i in range(m):\n",
      "    writer.writerow(Pointdata[i])\n",
      "csvFile2.close()\n",
      "Pointdata = [['Image No', 'DMEGrading']]\n",
      "for i in range(len(file_names)):  #len(file_names)\n",
      "    newfile_name = file_names[i].strip('.png')\n",
      "    #print(i+1, newfile_name)\n",
      "    data = scipy.io.loadmat('ImageSynthesis/4lesions/HELocation/'+newfile_name+'.mat') \n",
      "    centerLocation = data['centerLocation']\n",
      "    foveacenter = findFoverCenter(newfile_name)\n",
      "    width = findODWidth(newfile_name)\n",
      "    distance = []\n",
      "    if len(centerLocation) <= 15:\n",
      "        dmeGrading = 0\n",
      "    else:\n",
      "        for j in range(len(centerLocation)):    #len(centerLocation)\n",
      "    #         print(centerLocation[j][0])\n",
      "    #         print(centerLocation[j][1])\n",
      "    #         print(foveacenter[0])\n",
      "    #         print(foveacenter[1])        \n",
      "            temp = ((centerLocation[j][0] - foveacenter[0])**2 + (centerLocation[j][1] - foveacenter[1])**2)** 0.5\n",
      "            distance.append(round(temp))\n",
      "        minds = min(distance)\n",
      "        if minds <= 0.5 * width:\n",
      "            dmeGrading = 2\n",
      "        else:\n",
      "            dmeGrading = 1\n",
      "    \n",
      "    Pointdata.append([file_names[i], dmeGrading])\n",
      "   \n",
      "csvFile2 = open('ImageSynthesis/4lesions/DMEGrading15.csv','w', newline='') # 设置newline，否则两行之间会空一行\n",
      "writer = csv.writer(csvFile2)\n",
      "m = len(Pointdata)\n",
      "for i in range(m):\n",
      "    writer.writerow(Pointdata[i])\n",
      "csvFile2.close()\n",
      "Pointdata = [['Image No', 'DMEGrading']]\n",
      "for i in range(len(file_names)):  #len(file_names)\n",
      "    newfile_name = file_names[i].strip('.png')\n",
      "    #print(i+1, newfile_name)\n",
      "    data = scipy.io.loadmat('ImageSynthesis/4lesions/HELocation/'+newfile_name+'.mat') \n",
      "    centerLocation = data['centerLocation']\n",
      "    foveacenter = findFoverCenter(newfile_name)\n",
      "    width = findODWidth(newfile_name)\n",
      "    distance = []\n",
      "    if len(centerLocation) <= 16:\n",
      "        dmeGrading = 0\n",
      "    else:\n",
      "        for j in range(len(centerLocation)):    #len(centerLocation)\n",
      "    #         print(centerLocation[j][0])\n",
      "    #         print(centerLocation[j][1])\n",
      "    #         print(foveacenter[0])\n",
      "    #         print(foveacenter[1])        \n",
      "            temp = ((centerLocation[j][0] - foveacenter[0])**2 + (centerLocation[j][1] - foveacenter[1])**2)** 0.5\n",
      "            distance.append(round(temp))\n",
      "        minds = min(distance)\n",
      "        if minds <= 0.5 * width:\n",
      "            dmeGrading = 2\n",
      "        else:\n",
      "            dmeGrading = 1\n",
      "    \n",
      "    Pointdata.append([file_names[i], dmeGrading])\n",
      "   \n",
      "csvFile2 = open('ImageSynthesis/4lesions/DMEGrading16.csv','w', newline='') # 设置newline，否则两行之间会空一行\n",
      "writer = csv.writer(csvFile2)\n",
      "m = len(Pointdata)\n",
      "for i in range(m):\n",
      "    writer.writerow(Pointdata[i])\n",
      "csvFile2.close()\n",
      "Pointdata = [['Image No', 'DMEGrading']]\n",
      "for i in range(len(file_names)):  #len(file_names)\n",
      "    newfile_name = file_names[i].strip('.png')\n",
      "    #print(i+1, newfile_name)\n",
      "    data = scipy.io.loadmat('ImageSynthesis/4lesions/HELocation/'+newfile_name+'.mat') \n",
      "    centerLocation = data['centerLocation']\n",
      "    foveacenter = findFoverCenter(newfile_name)\n",
      "    width = findODWidth(newfile_name)\n",
      "    distance = []\n",
      "    if len(centerLocation) <= 17:\n",
      "        dmeGrading = 0\n",
      "    else:\n",
      "        for j in range(len(centerLocation)):    #len(centerLocation)\n",
      "    #         print(centerLocation[j][0])\n",
      "    #         print(centerLocation[j][1])\n",
      "    #         print(foveacenter[0])\n",
      "    #         print(foveacenter[1])        \n",
      "            temp = ((centerLocation[j][0] - foveacenter[0])**2 + (centerLocation[j][1] - foveacenter[1])**2)** 0.5\n",
      "            distance.append(round(temp))\n",
      "        minds = min(distance)\n",
      "        if minds <= 0.5 * width:\n",
      "            dmeGrading = 2\n",
      "        else:\n",
      "            dmeGrading = 1\n",
      "    \n",
      "    Pointdata.append([file_names[i], dmeGrading])\n",
      "   \n",
      "csvFile2 = open('ImageSynthesis/4lesions/DMEGrading17.csv','w', newline='') # 设置newline，否则两行之间会空一行\n",
      "writer = csv.writer(csvFile2)\n",
      "m = len(Pointdata)\n",
      "for i in range(m):\n",
      "    writer.writerow(Pointdata[i])\n",
      "csvFile2.close()\n",
      "Pointdata = [['Image No', 'DMEGrading']]\n",
      "for i in range(len(file_names)):  #len(file_names)\n",
      "    newfile_name = file_names[i].strip('.png')\n",
      "    #print(i+1, newfile_name)\n",
      "    data = scipy.io.loadmat('ImageSynthesis/4lesions/HELocation/'+newfile_name+'.mat') \n",
      "    centerLocation = data['centerLocation']\n",
      "    foveacenter = findFoverCenter(newfile_name)\n",
      "    width = findODWidth(newfile_name)\n",
      "    distance = []\n",
      "    if len(centerLocation) <= 18:\n",
      "        dmeGrading = 0\n",
      "    else:\n",
      "        for j in range(len(centerLocation)):    #len(centerLocation)\n",
      "    #         print(centerLocation[j][0])\n",
      "    #         print(centerLocation[j][1])\n",
      "    #         print(foveacenter[0])\n",
      "    #         print(foveacenter[1])        \n",
      "            temp = ((centerLocation[j][0] - foveacenter[0])**2 + (centerLocation[j][1] - foveacenter[1])**2)** 0.5\n",
      "            distance.append(round(temp))\n",
      "        minds = min(distance)\n",
      "        if minds <= 0.5 * width:\n",
      "            dmeGrading = 2\n",
      "        else:\n",
      "            dmeGrading = 1\n",
      "    \n",
      "    Pointdata.append([file_names[i], dmeGrading])\n",
      "   \n",
      "csvFile2 = open('ImageSynthesis/4lesions/DMEGrading18.csv','w', newline='') # 设置newline，否则两行之间会空一行\n",
      "writer = csv.writer(csvFile2)\n",
      "m = len(Pointdata)\n",
      "for i in range(m):\n",
      "    writer.writerow(Pointdata[i])\n",
      "csvFile2.close()\n",
      "Pointdata = [['Image No', 'DMEGrading']]\n",
      "for i in range(len(file_names)):  #len(file_names)\n",
      "    newfile_name = file_names[i].strip('.png')\n",
      "    #print(i+1, newfile_name)\n",
      "    data = scipy.io.loadmat('ImageSynthesis/4lesions/HELocation/'+newfile_name+'.mat') \n",
      "    centerLocation = data['centerLocation']\n",
      "    foveacenter = findFoverCenter(newfile_name)\n",
      "    width = findODWidth(newfile_name)\n",
      "    distance = []\n",
      "    if len(centerLocation) <= 19:\n",
      "        dmeGrading = 0\n",
      "    else:\n",
      "        for j in range(len(centerLocation)):    #len(centerLocation)\n",
      "    #         print(centerLocation[j][0])\n",
      "    #         print(centerLocation[j][1])\n",
      "    #         print(foveacenter[0])\n",
      "    #         print(foveacenter[1])        \n",
      "            temp = ((centerLocation[j][0] - foveacenter[0])**2 + (centerLocation[j][1] - foveacenter[1])**2)** 0.5\n",
      "            distance.append(round(temp))\n",
      "        minds = min(distance)\n",
      "        if minds <= 0.5 * width:\n",
      "            dmeGrading = 2\n",
      "        else:\n",
      "            dmeGrading = 1\n",
      "    \n",
      "    Pointdata.append([file_names[i], dmeGrading])\n",
      "   \n",
      "csvFile2 = open('ImageSynthesis/4lesions/DMEGrading19.csv','w', newline='') # 设置newline，否则两行之间会空一行\n",
      "writer = csv.writer(csvFile2)\n",
      "m = len(Pointdata)\n",
      "for i in range(m):\n",
      "    writer.writerow(Pointdata[i])\n",
      "csvFile2.close()\n",
      "Pointdata = [['Image No', 'DMEGrading']]\n",
      "for i in range(len(file_names)):  #len(file_names)\n",
      "    newfile_name = file_names[i].strip('.png')\n",
      "    #print(i+1, newfile_name)\n",
      "    data = scipy.io.loadmat('ImageSynthesis/4lesions/HELocation/'+newfile_name+'.mat') \n",
      "    centerLocation = data['centerLocation']\n",
      "    foveacenter = findFoverCenter(newfile_name)\n",
      "    width = findODWidth(newfile_name)\n",
      "    distance = []\n",
      "    if len(centerLocation) <= 20:\n",
      "        dmeGrading = 0\n",
      "    else:\n",
      "        for j in range(len(centerLocation)):    #len(centerLocation)\n",
      "    #         print(centerLocation[j][0])\n",
      "    #         print(centerLocation[j][1])\n",
      "    #         print(foveacenter[0])\n",
      "    #         print(foveacenter[1])        \n",
      "            temp = ((centerLocation[j][0] - foveacenter[0])**2 + (centerLocation[j][1] - foveacenter[1])**2)** 0.5\n",
      "            distance.append(round(temp))\n",
      "        minds = min(distance)\n",
      "        if minds <= 0.5 * width:\n",
      "            dmeGrading = 2\n",
      "        else:\n",
      "            dmeGrading = 1\n",
      "    \n",
      "    Pointdata.append([file_names[i], dmeGrading])\n",
      "   \n",
      "csvFile2 = open('ImageSynthesis/4lesions/DMEGrading20.csv','w', newline='') # 设置newline，否则两行之间会空一行\n",
      "writer = csv.writer(csvFile2)\n",
      "m = len(Pointdata)\n",
      "for i in range(m):\n",
      "    writer.writerow(Pointdata[i])\n",
      "csvFile2.close()\n",
      "Pointdata = [['Image No', 'DMEGrading']]\n",
      "for i in range(len(file_names)):  #len(file_names)\n",
      "    newfile_name = file_names[i].strip('.png')\n",
      "    #print(i+1, newfile_name)\n",
      "    data = scipy.io.loadmat('ImageSynthesis/4lesions/HELocation/'+newfile_name+'.mat') \n",
      "    centerLocation = data['centerLocation']\n",
      "    foveacenter = findFoverCenter(newfile_name)\n",
      "    width = findODWidth(newfile_name)\n",
      "    distance = []\n",
      "    if len(centerLocation) <= 16:\n",
      "        dmeGrading = 0\n",
      "    else:\n",
      "        for j in range(len(centerLocation)):    #len(centerLocation)\n",
      "    #         print(centerLocation[j][0])\n",
      "    #         print(centerLocation[j][1])\n",
      "    #         print(foveacenter[0])\n",
      "    #         print(foveacenter[1])        \n",
      "            temp = ((centerLocation[j][0] - foveacenter[0])**2 + (centerLocation[j][1] - foveacenter[1])**2)** 0.5\n",
      "            distance.append(round(temp))\n",
      "        minds = min(distance)\n",
      "        if minds <= width:\n",
      "            dmeGrading = 2\n",
      "        else:\n",
      "            dmeGrading = 1\n",
      "    \n",
      "    Pointdata.append([file_names[i], dmeGrading])\n",
      "   \n",
      "csvFile2 = open('ImageSynthesis/4lesions/DMEGrading1116.csv','w', newline='') # 设置newline，否则两行之间会空一行\n",
      "writer = csv.writer(csvFile2)\n",
      "m = len(Pointdata)\n",
      "for i in range(m):\n",
      "    writer.writerow(Pointdata[i])\n",
      "csvFile2.close()\n",
      "Pointdata = [['Image No', 'DMEGrading']]\n",
      "for i in range(len(file_names)):  #len(file_names)\n",
      "    newfile_name = file_names[i].strip('.png')\n",
      "    #print(i+1, newfile_name)\n",
      "    data = scipy.io.loadmat('ImageSynthesis/4lesions/HELocation/'+newfile_name+'.mat') \n",
      "    centerLocation = data['centerLocation']\n",
      "    foveacenter = findFoverCenter(newfile_name)\n",
      "    width = findODWidth(newfile_name)\n",
      "    distance = []\n",
      "    if len(centerLocation) <= 15:\n",
      "        dmeGrading = 0\n",
      "    else:\n",
      "        for j in range(len(centerLocation)):    #len(centerLocation)\n",
      "    #         print(centerLocation[j][0])\n",
      "    #         print(centerLocation[j][1])\n",
      "    #         print(foveacenter[0])\n",
      "    #         print(foveacenter[1])        \n",
      "            temp = ((centerLocation[j][0] - foveacenter[0])**2 + (centerLocation[j][1] - foveacenter[1])**2)** 0.5\n",
      "            distance.append(round(temp))\n",
      "        minds = min(distance)\n",
      "        if minds <= width:\n",
      "            dmeGrading = 2\n",
      "        else:\n",
      "            dmeGrading = 1\n",
      "    \n",
      "    Pointdata.append([file_names[i], dmeGrading])\n",
      "   \n",
      "csvFile2 = open('ImageSynthesis/4lesions/DMEGrading1115.csv','w', newline='') # 设置newline，否则两行之间会空一行\n",
      "writer = csv.writer(csvFile2)\n",
      "m = len(Pointdata)\n",
      "for i in range(m):\n",
      "    writer.writerow(Pointdata[i])\n",
      "csvFile2.close()\n",
      "Pointdata = [['Image No', 'DMEGrading']]\n",
      "for i in range(len(file_names)):  #len(file_names)\n",
      "    newfile_name = file_names[i].strip('.png')\n",
      "    #print(i+1, newfile_name)\n",
      "    data = scipy.io.loadmat('ImageSynthesis/4lesions/HELocation/'+newfile_name+'.mat') \n",
      "    centerLocation = data['centerLocation']\n",
      "    foveacenter = findFoverCenter(newfile_name)\n",
      "    width = findODWidth(newfile_name)\n",
      "    distance = []\n",
      "    if len(centerLocation) <= 14:\n",
      "        dmeGrading = 0\n",
      "    else:\n",
      "        for j in range(len(centerLocation)):    #len(centerLocation)\n",
      "    #         print(centerLocation[j][0])\n",
      "    #         print(centerLocation[j][1])\n",
      "    #         print(foveacenter[0])\n",
      "    #         print(foveacenter[1])        \n",
      "            temp = ((centerLocation[j][0] - foveacenter[0])**2 + (centerLocation[j][1] - foveacenter[1])**2)** 0.5\n",
      "            distance.append(round(temp))\n",
      "        minds = min(distance)\n",
      "        if minds <= width:\n",
      "            dmeGrading = 2\n",
      "        else:\n",
      "            dmeGrading = 1\n",
      "    \n",
      "    Pointdata.append([file_names[i], dmeGrading])\n",
      "   \n",
      "csvFile2 = open('ImageSynthesis/4lesions/DMEGrading1114.csv','w', newline='') # 设置newline，否则两行之间会空一行\n",
      "writer = csv.writer(csvFile2)\n",
      "m = len(Pointdata)\n",
      "for i in range(m):\n",
      "    writer.writerow(Pointdata[i])\n",
      "csvFile2.close()\n",
      "Pointdata = [['Image No', 'DMEGrading']]\n",
      "for i in range(len(file_names)):  #len(file_names)\n",
      "    newfile_name = file_names[i].strip('.png')\n",
      "    #print(i+1, newfile_name)\n",
      "    data = scipy.io.loadmat('ImageSynthesis/4lesions/HELocation/'+newfile_name+'.mat') \n",
      "    centerLocation = data['centerLocation']\n",
      "    foveacenter = findFoverCenter(newfile_name)\n",
      "    width = findODWidth(newfile_name)\n",
      "    distance = []\n",
      "    if len(centerLocation) <= 17:\n",
      "        dmeGrading = 0\n",
      "    else:\n",
      "        for j in range(len(centerLocation)):    #len(centerLocation)\n",
      "    #         print(centerLocation[j][0])\n",
      "    #         print(centerLocation[j][1])\n",
      "    #         print(foveacenter[0])\n",
      "    #         print(foveacenter[1])        \n",
      "            temp = ((centerLocation[j][0] - foveacenter[0])**2 + (centerLocation[j][1] - foveacenter[1])**2)** 0.5\n",
      "            distance.append(round(temp))\n",
      "        minds = min(distance)\n",
      "        if minds <= width:\n",
      "            dmeGrading = 2\n",
      "        else:\n",
      "            dmeGrading = 1\n",
      "    \n",
      "    Pointdata.append([file_names[i], dmeGrading])\n",
      "   \n",
      "csvFile2 = open('ImageSynthesis/4lesions/DMEGrading1117.csv','w', newline='') # 设置newline，否则两行之间会空一行\n",
      "writer = csv.writer(csvFile2)\n",
      "m = len(Pointdata)\n",
      "for i in range(m):\n",
      "    writer.writerow(Pointdata[i])\n",
      "csvFile2.close()\n",
      "Pointdata = [['Image No', 'DMEGrading']]\n",
      "for i in range(len(file_names)):  #len(file_names)\n",
      "    newfile_name = file_names[i].strip('.png')\n",
      "    #print(i+1, newfile_name)\n",
      "    data = scipy.io.loadmat('ImageSynthesis/4lesions/HELocation/'+newfile_name+'.mat') \n",
      "    centerLocation = data['centerLocation']\n",
      "    foveacenter = findFoverCenter(newfile_name)\n",
      "    width = findODWidth(newfile_name)\n",
      "    distance = []\n",
      "    if len(centerLocation) <= 18:\n",
      "        dmeGrading = 0\n",
      "    else:\n",
      "        for j in range(len(centerLocation)):    #len(centerLocation)\n",
      "    #         print(centerLocation[j][0])\n",
      "    #         print(centerLocation[j][1])\n",
      "    #         print(foveacenter[0])\n",
      "    #         print(foveacenter[1])        \n",
      "            temp = ((centerLocation[j][0] - foveacenter[0])**2 + (centerLocation[j][1] - foveacenter[1])**2)** 0.5\n",
      "            distance.append(round(temp))\n",
      "        minds = min(distance)\n",
      "        if minds <= width:\n",
      "            dmeGrading = 2\n",
      "        else:\n",
      "            dmeGrading = 1\n",
      "    \n",
      "    Pointdata.append([file_names[i], dmeGrading])\n",
      "   \n",
      "csvFile2 = open('ImageSynthesis/4lesions/DMEGrading1118.csv','w', newline='') # 设置newline，否则两行之间会空一行\n",
      "writer = csv.writer(csvFile2)\n",
      "m = len(Pointdata)\n",
      "for i in range(m):\n",
      "    writer.writerow(Pointdata[i])\n",
      "csvFile2.close()\n",
      "from PIL import Image, ImageDraw\n",
      "import cv2\n",
      "import numpy as np\n",
      "import os,sys\n",
      "import scipy.io\n",
      "import csv\n",
      "%matplotlib inline\n",
      "ROOT_DIR = os.getcwd()\n",
      "DR_IMAGE_DIR = os.path.join(ROOT_DIR, \"ImageSynthesis/4lesions/HE\") #DRDataset/SubChallenge_1_Images\n",
      "    # Load a random image from the images folder\n",
      "file_names = next(os.walk(DR_IMAGE_DIR))[2]\n",
      "def extractROI(img_new, filename, typelesion):\n",
      "    image = Image.fromarray(img_new)\n",
      "    img_gray=np.array(image.convert(\"L\")) \n",
      "    mask_arr = np.array(img_gray != 0).astype(np.uint8)\n",
      "\n",
      "    mask_arr = mask_arr*255\n",
      "    [x,y]=img_gray.shape\n",
      "    Mask_arr= np.zeros([x,y,3], dtype = np.uint8)\n",
      "\n",
      "    ROI,contours,hierarchy= cv2.findContours(mask_arr,cv2.RETR_TREE,cv2.CHAIN_APPROX_NONE)\n",
      "\n",
      "    #box = []\n",
      "    centerlist = [] \n",
      "    mylist2 = []\n",
      "    #for item in data: \n",
      "    \n",
      "    lesionNum = len(contours)\n",
      "\n",
      "    for i in range(len(contours)):\n",
      "        x,y,w,h=cv2.boundingRect(contours[i]) #（x,y）为矩形左上角的坐标，（w,h）是矩形的宽和高\n",
      "        centerX = round(x + w/2)\n",
      "        centerY = round(y + h/2)\n",
      "        centerlist.append([centerX, centerY])\n",
      "    \n",
      "    centerLocation = np.array(centerlist)\n",
      "    scipy.io.savemat('ImageSynthesis/4lesions/'+typelesion+'/'+filename+'.mat',\n",
      "                 {'centerLocation':centerLocation})  # 写入mat文件 \n",
      "    return lesionNum\n",
      "\n",
      "def extractROI2(img_new):\n",
      "    image = Image.fromarray(img_new)\n",
      "    img_gray=np.array(image.convert(\"L\")) \n",
      "    mask_arr = np.array(img_gray != 0).astype(np.uint8)\n",
      "\n",
      "    mask_arr = mask_arr*255\n",
      "    [x,y]=img_gray.shape\n",
      "    Mask_arr= np.zeros([x,y,3], dtype = np.uint8)\n",
      "\n",
      "    ROI,contours,hierarchy= cv2.findContours(mask_arr,cv2.RETR_TREE,cv2.CHAIN_APPROX_NONE)\n",
      "    lesionNum = len(contours)\n",
      "    area = 0\n",
      "    #for i in range(len(contours)):\n",
      "    area = area + cv2.countNonZero(mask_arr)\n",
      "\n",
      "    return lesionNum,area\n",
      "Pointdata = [['Image No', 'MA', 'HR', 'HE', 'SE', 'areaMA', 'areaHR', 'areaHE', 'areaSE']]\n",
      "\n",
      "for i in range(len(file_names)):  #len(file_names)\n",
      "    newfile_name = file_names[i].strip('.png')\n",
      "    print(newfile_name)\n",
      "    src1 = cv2.imread(\"ImageSynthesis/4lesions/HE413-520/\"+file_names[i])\n",
      "    HELesionNum = extractROI(src1, newfile_name, 'HELocation')\n",
      "    #HELesionNum,areaHE = extractROI2(src1)\n",
      "    \n",
      "    src2 = cv2.imread(\"ImageSynthesis/4lesions/SE/\"+file_names[i])\n",
      "    SELesionNum,areaSE = extractROI2(src2)\n",
      "    \n",
      "    src3 = cv2.imread(\"ImageSynthesis/4lesions/MArongtian/\"+file_names[i])\n",
      "    MALesionNum,areaMA = extractROI2(src3)\n",
      "    \n",
      "    src4 = cv2.imread(\"ImageSynthesis/4lesions/HR/\"+file_names[i])\n",
      "    HRLesionNum,areaHR = extractROI2(src4)\n",
      "    \n",
      "    Pointdata.append([file_names[i], MALesionNum, HRLesionNum, HELesionNum, SELesionNum,\n",
      "                     areaMA, areaHR, areaHE, areaSE])\n",
      "   \n",
      "csvFile2 = open('ImageSynthesis/4lesions/LesionNumNew520.csv','w', newline='') # 设置newline，否则两行之间会空一行\n",
      "writer = csv.writer(csvFile2)\n",
      "m = len(Pointdata)\n",
      "for i in range(m):\n",
      "    writer.writerow(Pointdata[i])\n",
      "csvFile2.close()\n",
      "\n",
      "#     src = src1 + src2 + src3 + src4\n",
      "#     im_gray = cv2.cvtColor(src,cv2.COLOR_BGR2GRAY)\n",
      "#     retval, im_at_fixed = cv2.threshold(im_gray, 50, 255, cv2.THRESH_BINARY) \n",
      "#     #im_at_mean = cv2.adaptiveThreshold(im_gray, 255, cv2.ADAPTIVE_THRESH_MEAN_C, cv2.THRESH_BINARY, 5, 10)\n",
      "#     cv2.imwrite('ImageSynthesis/4lesions/syn/'+file_names[i],im_at_fixed)\n",
      "def extractROI(img_new, filename, typelesion):\n",
      "    image = Image.fromarray(img_new)\n",
      "    img_gray=np.array(image.convert(\"L\")) \n",
      "    mask_arr = np.array(img_gray != 0).astype(np.uint8)\n",
      "\n",
      "    mask_arr = mask_arr*255\n",
      "    [x,y]=img_gray.shape\n",
      "    Mask_arr= np.zeros([x,y,3], dtype = np.uint8)\n",
      "\n",
      "    ROI,contours,hierarchy= cv2.findContours(mask_arr,cv2.RETR_TREE,cv2.CHAIN_APPROX_NONE)\n",
      "\n",
      "    #box = []\n",
      "    centerlist = [] \n",
      "    mylist2 = []\n",
      "    #for item in data: \n",
      "    \n",
      "    lesionNum = len(contours)\n",
      "    area = cv2.countNonZero(mask_arr)\n",
      "\n",
      "    for i in range(len(contours)):\n",
      "        x,y,w,h=cv2.boundingRect(contours[i]) #（x,y）为矩形左上角的坐标，（w,h）是矩形的宽和高\n",
      "        centerX = round(x + w/2)\n",
      "        centerY = round(y + h/2)\n",
      "        centerlist.append([centerX, centerY])\n",
      "    \n",
      "    centerLocation = np.array(centerlist)\n",
      "    scipy.io.savemat('ImageSynthesis/4lesions/'+typelesion+'/'+filename+'.mat',\n",
      "                 {'centerLocation':centerLocation})  # 写入mat文件 \n",
      "    return lesionNum,area\n",
      "\n",
      "def extractROI2(img_new):\n",
      "    image = Image.fromarray(img_new)\n",
      "    img_gray=np.array(image.convert(\"L\")) \n",
      "    mask_arr = np.array(img_gray != 0).astype(np.uint8)\n",
      "\n",
      "    mask_arr = mask_arr*255\n",
      "    [x,y]=img_gray.shape\n",
      "    Mask_arr= np.zeros([x,y,3], dtype = np.uint8)\n",
      "\n",
      "    ROI,contours,hierarchy= cv2.findContours(mask_arr,cv2.RETR_TREE,cv2.CHAIN_APPROX_NONE)\n",
      "    lesionNum = len(contours)\n",
      "    area = 0\n",
      "    #for i in range(len(contours)):\n",
      "    area = cv2.countNonZero(mask_arr)\n",
      "\n",
      "    return lesionNum,area\n",
      "Pointdata = [['Image No', 'MA', 'HR', 'HE', 'SE', 'areaMA', 'areaHR', 'areaHE', 'areaSE']]\n",
      "\n",
      "for i in range(len(file_names)):  #len(file_names)\n",
      "    newfile_name = file_names[i].strip('.png')\n",
      "    print(newfile_name)\n",
      "    src1 = cv2.imread(\"ImageSynthesis/4lesions/HE413-520/\"+file_names[i])\n",
      "    HELesionNum,areaHE = extractROI(src1, newfile_name, 'HELocation')\n",
      "    #HELesionNum,areaHE = extractROI2(src1)\n",
      "    \n",
      "    src2 = cv2.imread(\"ImageSynthesis/4lesions/SE/\"+file_names[i])\n",
      "    SELesionNum,areaSE = extractROI2(src2)\n",
      "    \n",
      "    src3 = cv2.imread(\"ImageSynthesis/4lesions/MArongtian/\"+file_names[i])\n",
      "    MALesionNum,areaMA = extractROI2(src3)\n",
      "    \n",
      "    src4 = cv2.imread(\"ImageSynthesis/4lesions/HR/\"+file_names[i])\n",
      "    HRLesionNum,areaHR = extractROI2(src4)\n",
      "    \n",
      "    Pointdata.append([file_names[i], MALesionNum, HRLesionNum, HELesionNum, SELesionNum,\n",
      "                     areaMA, areaHR, areaHE, areaSE])\n",
      "   \n",
      "csvFile2 = open('ImageSynthesis/4lesions/LesionNumNew520.csv','w', newline='') # 设置newline，否则两行之间会空一行\n",
      "writer = csv.writer(csvFile2)\n",
      "m = len(Pointdata)\n",
      "for i in range(m):\n",
      "    writer.writerow(Pointdata[i])\n",
      "csvFile2.close()\n",
      "\n",
      "#     src = src1 + src2 + src3 + src4\n",
      "#     im_gray = cv2.cvtColor(src,cv2.COLOR_BGR2GRAY)\n",
      "#     retval, im_at_fixed = cv2.threshold(im_gray, 50, 255, cv2.THRESH_BINARY) \n",
      "#     #im_at_mean = cv2.adaptiveThreshold(im_gray, 255, cv2.ADAPTIVE_THRESH_MEAN_C, cv2.THRESH_BINARY, 5, 10)\n",
      "#     cv2.imwrite('ImageSynthesis/4lesions/syn/'+file_names[i],im_at_fixed)\n",
      "import numpy as np\n",
      "import os,sys\n",
      "import scipy.io\n",
      "import xlrd\n",
      "import csv\n",
      "%matplotlib inline\n",
      "ROOT_DIR = os.getcwd()\n",
      "DR_IMAGE_DIR = os.path.join(ROOT_DIR, \"ImageSynthesis/4lesions/HE\") #DRDataset/SubChallenge_1_Images\n",
      "    # Load a random image from the images folder\n",
      "file_names = next(os.walk(DR_IMAGE_DIR))[2]\n",
      "widthdata = xlrd.open_workbook('ImageSynthesis/4lesions/ODCenter-Width.xlsx')\n",
      "widthtable = widthdata.sheets()[0]          #通过索引顺序获取\n",
      "widthnrows = widthtable.nrows\n",
      "#print(widthnrows)\n",
      "widthNameImage = widthtable.col_values(0)\n",
      "\n",
      "def findODWidth(filename):\n",
      "    p=widthNameImage.index(filename)\n",
      "    width = widthtable.cell(p,6).value\n",
      "    #print(width)\n",
      "    return width\n",
      "foveacenterdata = xlrd.open_workbook('ImageSynthesis/4lesions/FoveaCenterNEW6.xlsx')\n",
      "centertable = foveacenterdata.sheets()[0]          #通过索引顺序获取\n",
      "centernrows = centertable.nrows\n",
      "#print(centernrows)\n",
      "centerNameImage = centertable.col_values(0)\n",
      "#print(type(centerNameImage))\n",
      "def findFoverCenter(filename):\n",
      "    p=centerNameImage.index(filename)\n",
      "    x = centertable.cell(p,1).value\n",
      "    y = centertable.cell(p,2).value\n",
      "    center = [x, y]\n",
      "    #print(center)\n",
      "    return center\n",
      "foveacenterdata = xlrd.open_workbook('ImageSynthesis/4lesions/FoveaCenterNEW6.xlsx')\n",
      "centertable = foveacenterdata.sheets()[0]          #通过索引顺序获取\n",
      "centernrows = centertable.nrows\n",
      "#print(centernrows)\n",
      "centerNameImage = centertable.col_values(0)\n",
      "#print(type(centerNameImage))\n",
      "def findFoverCenter(filename):\n",
      "    p=centerNameImage.index(filename)\n",
      "    x = centertable.cell(p,1).value\n",
      "    y = centertable.cell(p,2).value\n",
      "    center = [x, y]\n",
      "    #print(center)\n",
      "    return center\n",
      "Pointdata = [['Image No', 'DMEGrading']]\n",
      "for i in range(len(file_names)):  #len(file_names)\n",
      "    newfile_name = file_names[i].strip('.png')\n",
      "    #print(i+1, newfile_name)\n",
      "    data = scipy.io.loadmat('ImageSynthesis/4lesions/HELocation/'+newfile_name+'.mat') \n",
      "    centerLocation = data['centerLocation']\n",
      "    foveacenter = findFoverCenter(newfile_name)\n",
      "    width = findODWidth(newfile_name)\n",
      "    distance = []\n",
      "    if len(centerLocation) <= 18:\n",
      "        dmeGrading = 0\n",
      "    else:\n",
      "        for j in range(len(centerLocation)):    #len(centerLocation)\n",
      "    #         print(centerLocation[j][0])\n",
      "    #         print(centerLocation[j][1])\n",
      "    #         print(foveacenter[0])\n",
      "    #         print(foveacenter[1])        \n",
      "            temp = ((centerLocation[j][0] - foveacenter[0])**2 + (centerLocation[j][1] - foveacenter[1])**2)** 0.5\n",
      "            distance.append(round(temp))\n",
      "        minds = min(distance)\n",
      "        if minds <= width:\n",
      "            dmeGrading = 2\n",
      "        else:\n",
      "            dmeGrading = 1\n",
      "    \n",
      "    Pointdata.append([file_names[i], dmeGrading])\n",
      "   \n",
      "csvFile2 = open('ImageSynthesis/4lesions/DMEGradingHE520.csv','w', newline='') # 设置newline，否则两行之间会空一行\n",
      "writer = csv.writer(csvFile2)\n",
      "m = len(Pointdata)\n",
      "for i in range(m):\n",
      "    writer.writerow(Pointdata[i])\n",
      "csvFile2.close()\n",
      "Pointdata = [['Image No', 'DMEGrading']]\n",
      "for i in range(len(file_names)):  #len(file_names)\n",
      "    newfile_name = file_names[i].strip('.png')\n",
      "    #print(i+1, newfile_name)\n",
      "    data = scipy.io.loadmat('ImageSynthesis/4lesions/HELocation/'+newfile_name+'.mat') \n",
      "    centerLocation = data['centerLocation']\n",
      "    foveacenter = findFoverCenter(newfile_name)\n",
      "    width = findODWidth(newfile_name)\n",
      "    distance = []\n",
      "    if len(centerLocation) <= 12:\n",
      "        dmeGrading = 0\n",
      "    else:\n",
      "        for j in range(len(centerLocation)):    #len(centerLocation)\n",
      "    #         print(centerLocation[j][0])\n",
      "    #         print(centerLocation[j][1])\n",
      "    #         print(foveacenter[0])\n",
      "    #         print(foveacenter[1])        \n",
      "            temp = ((centerLocation[j][0] - foveacenter[0])**2 + (centerLocation[j][1] - foveacenter[1])**2)** 0.5\n",
      "            distance.append(round(temp))\n",
      "        minds = min(distance)\n",
      "        if minds <= width:\n",
      "            dmeGrading = 2\n",
      "        else:\n",
      "            dmeGrading = 1\n",
      "    \n",
      "    Pointdata.append([file_names[i], dmeGrading])\n",
      "   \n",
      "csvFile2 = open('ImageSynthesis/4lesions/DMEGradingHE52012.csv','w', newline='') # 设置newline，否则两行之间会空一行\n",
      "writer = csv.writer(csvFile2)\n",
      "m = len(Pointdata)\n",
      "for i in range(m):\n",
      "    writer.writerow(Pointdata[i])\n",
      "csvFile2.close()\n",
      "Pointdata = [['Image No', 'DMEGrading']]\n",
      "for i in range(len(file_names)):  #len(file_names)\n",
      "    newfile_name = file_names[i].strip('.png')\n",
      "    #print(i+1, newfile_name)\n",
      "    data = scipy.io.loadmat('ImageSynthesis/4lesions/HELocation520/'+newfile_name+'.mat') \n",
      "    centerLocation = data['centerLocation']\n",
      "    foveacenter = findFoverCenter(newfile_name)\n",
      "    width = findODWidth(newfile_name)\n",
      "    distance = []\n",
      "    if len(centerLocation) <= 12:\n",
      "        dmeGrading = 0\n",
      "    else:\n",
      "        for j in range(len(centerLocation)):    #len(centerLocation)\n",
      "    #         print(centerLocation[j][0])\n",
      "    #         print(centerLocation[j][1])\n",
      "    #         print(foveacenter[0])\n",
      "    #         print(foveacenter[1])        \n",
      "            temp = ((centerLocation[j][0] - foveacenter[0])**2 + (centerLocation[j][1] - foveacenter[1])**2)** 0.5\n",
      "            distance.append(round(temp))\n",
      "        minds = min(distance)\n",
      "        if minds <= width:\n",
      "            dmeGrading = 2\n",
      "        else:\n",
      "            dmeGrading = 1\n",
      "    \n",
      "    Pointdata.append([file_names[i], dmeGrading])\n",
      "   \n",
      "csvFile2 = open('ImageSynthesis/4lesions/DMEGradingHE52012.csv','w', newline='') # 设置newline，否则两行之间会空一行\n",
      "writer = csv.writer(csvFile2)\n",
      "m = len(Pointdata)\n",
      "for i in range(m):\n",
      "    writer.writerow(Pointdata[i])\n",
      "csvFile2.close()\n",
      "Pointdata = [['Image No', 'DMEGrading']]\n",
      "for i in range(len(file_names)):  #len(file_names)\n",
      "    newfile_name = file_names[i].strip('.png')\n",
      "    #print(i+1, newfile_name)\n",
      "    data = scipy.io.loadmat('ImageSynthesis/4lesions/HELocation520/'+newfile_name+'.mat') \n",
      "    centerLocation = data['centerLocation']\n",
      "    foveacenter = findFoverCenter(newfile_name)\n",
      "    width = findODWidth(newfile_name)\n",
      "    distance = []\n",
      "    if len(centerLocation) <= 10:\n",
      "        dmeGrading = 0\n",
      "    else:\n",
      "        for j in range(len(centerLocation)):    #len(centerLocation)\n",
      "    #         print(centerLocation[j][0])\n",
      "    #         print(centerLocation[j][1])\n",
      "    #         print(foveacenter[0])\n",
      "    #         print(foveacenter[1])        \n",
      "            temp = ((centerLocation[j][0] - foveacenter[0])**2 + (centerLocation[j][1] - foveacenter[1])**2)** 0.5\n",
      "            distance.append(round(temp))\n",
      "        minds = min(distance)\n",
      "        if minds <= width:\n",
      "            dmeGrading = 2\n",
      "        else:\n",
      "            dmeGrading = 1\n",
      "    \n",
      "    Pointdata.append([file_names[i], dmeGrading])\n",
      "   \n",
      "csvFile2 = open('ImageSynthesis/4lesions/DMEGradingHE52010.csv','w', newline='') # 设置newline，否则两行之间会空一行\n",
      "writer = csv.writer(csvFile2)\n",
      "m = len(Pointdata)\n",
      "for i in range(m):\n",
      "    writer.writerow(Pointdata[i])\n",
      "csvFile2.close()\n",
      "Pointdata = [['Image No', 'DMEGrading']]\n",
      "for i in range(len(file_names)):  #len(file_names)\n",
      "    newfile_name = file_names[i].strip('.png')\n",
      "    #print(i+1, newfile_name)\n",
      "    data = scipy.io.loadmat('ImageSynthesis/4lesions/HELocation520/'+newfile_name+'.mat') \n",
      "    centerLocation = data['centerLocation']\n",
      "    foveacenter = findFoverCenter(newfile_name)\n",
      "    width = findODWidth(newfile_name)\n",
      "    distance = []\n",
      "    if len(centerLocation) <= 14:\n",
      "        dmeGrading = 0\n",
      "    else:\n",
      "        for j in range(len(centerLocation)):    #len(centerLocation)\n",
      "    #         print(centerLocation[j][0])\n",
      "    #         print(centerLocation[j][1])\n",
      "    #         print(foveacenter[0])\n",
      "    #         print(foveacenter[1])        \n",
      "            temp = ((centerLocation[j][0] - foveacenter[0])**2 + (centerLocation[j][1] - foveacenter[1])**2)** 0.5\n",
      "            distance.append(round(temp))\n",
      "        minds = min(distance)\n",
      "        if minds <= width:\n",
      "            dmeGrading = 2\n",
      "        else:\n",
      "            dmeGrading = 1\n",
      "    \n",
      "    Pointdata.append([file_names[i], dmeGrading])\n",
      "   \n",
      "csvFile2 = open('ImageSynthesis/4lesions/DMEGradingHE52014.csv','w', newline='') # 设置newline，否则两行之间会空一行\n",
      "writer = csv.writer(csvFile2)\n",
      "m = len(Pointdata)\n",
      "for i in range(m):\n",
      "    writer.writerow(Pointdata[i])\n",
      "csvFile2.close()\n",
      "Pointdata = [['Image No', 'DMEGrading']]\n",
      "for i in range(len(file_names)):  #len(file_names)\n",
      "    newfile_name = file_names[i].strip('.png')\n",
      "    #print(i+1, newfile_name)\n",
      "    data = scipy.io.loadmat('ImageSynthesis/4lesions/HELocation520/'+newfile_name+'.mat') \n",
      "    centerLocation = data['centerLocation']\n",
      "    foveacenter = findFoverCenter(newfile_name)\n",
      "    width = findODWidth(newfile_name)\n",
      "    distance = []\n",
      "    if len(centerLocation) <= 16:\n",
      "        dmeGrading = 0\n",
      "    else:\n",
      "        for j in range(len(centerLocation)):    #len(centerLocation)\n",
      "    #         print(centerLocation[j][0])\n",
      "    #         print(centerLocation[j][1])\n",
      "    #         print(foveacenter[0])\n",
      "    #         print(foveacenter[1])        \n",
      "            temp = ((centerLocation[j][0] - foveacenter[0])**2 + (centerLocation[j][1] - foveacenter[1])**2)** 0.5\n",
      "            distance.append(round(temp))\n",
      "        minds = min(distance)\n",
      "        if minds <= width:\n",
      "            dmeGrading = 2\n",
      "        else:\n",
      "            dmeGrading = 1\n",
      "    \n",
      "    Pointdata.append([file_names[i], dmeGrading])\n",
      "   \n",
      "csvFile2 = open('ImageSynthesis/4lesions/DMEGradingHE52016.csv','w', newline='') # 设置newline，否则两行之间会空一行\n",
      "writer = csv.writer(csvFile2)\n",
      "m = len(Pointdata)\n",
      "for i in range(m):\n",
      "    writer.writerow(Pointdata[i])\n",
      "csvFile2.close()\n",
      "Pointdata = [['Image No', 'DMEGrading']]\n",
      "for i in range(len(file_names)):  #len(file_names)\n",
      "    #newfile_name = file_names[i].strip('.png')\n",
      "    newfile_name = 'IDRiD_%03d' % (id+1)\n",
      "    #print(i+1, newfile_name)\n",
      "    data = scipy.io.loadmat('ImageSynthesis/4lesions/HELocation520/'+newfile_name+'.mat') \n",
      "    centerLocation = data['centerLocation']\n",
      "    foveacenter = findFoverCenter(newfile_name)\n",
      "    width = findODWidth(newfile_name)\n",
      "    distance = []\n",
      "    if len(centerLocation) <= 16:\n",
      "        dmeGrading = 0\n",
      "    else:\n",
      "        for j in range(len(centerLocation)):    #len(centerLocation)\n",
      "    #         print(centerLocation[j][0])\n",
      "    #         print(centerLocation[j][1])\n",
      "    #         print(foveacenter[0])\n",
      "    #         print(foveacenter[1])        \n",
      "            temp = ((centerLocation[j][0] - foveacenter[0])**2 + (centerLocation[j][1] - foveacenter[1])**2)** 0.5\n",
      "            distance.append(round(temp))\n",
      "        minds = min(distance)\n",
      "        if minds <= width:\n",
      "            dmeGrading = 2\n",
      "        else:\n",
      "            dmeGrading = 1\n",
      "    \n",
      "    Pointdata.append(['IDRiD_%03d' % (id+1), dmeGrading])\n",
      "   \n",
      "csvFile2 = open('ImageSynthesis/4lesions/DMEGradingHE52016.csv','w', newline='') # 设置newline，否则两行之间会空一行\n",
      "writer = csv.writer(csvFile2)\n",
      "m = len(Pointdata)\n",
      "for i in range(m):\n",
      "    writer.writerow(Pointdata[i])\n",
      "csvFile2.close()\n",
      "Pointdata = [['Image No', 'DMEGrading']]\n",
      "for i in range(len(file_names)):  #len(file_names)\n",
      "    #newfile_name = file_names[i].strip('.png')\n",
      "    newfile_name = 'IDRiD_%03d' % (i+1)\n",
      "    #print(i+1, newfile_name)\n",
      "    data = scipy.io.loadmat('ImageSynthesis/4lesions/HELocation520/'+newfile_name+'.mat') \n",
      "    centerLocation = data['centerLocation']\n",
      "    foveacenter = findFoverCenter(newfile_name)\n",
      "    width = findODWidth(newfile_name)\n",
      "    distance = []\n",
      "    if len(centerLocation) <= 16:\n",
      "        dmeGrading = 0\n",
      "    else:\n",
      "        for j in range(len(centerLocation)):    #len(centerLocation)\n",
      "    #         print(centerLocation[j][0])\n",
      "    #         print(centerLocation[j][1])\n",
      "    #         print(foveacenter[0])\n",
      "    #         print(foveacenter[1])        \n",
      "            temp = ((centerLocation[j][0] - foveacenter[0])**2 + (centerLocation[j][1] - foveacenter[1])**2)** 0.5\n",
      "            distance.append(round(temp))\n",
      "        minds = min(distance)\n",
      "        if minds <= width:\n",
      "            dmeGrading = 2\n",
      "        else:\n",
      "            dmeGrading = 1\n",
      "    \n",
      "    Pointdata.append(['IDRiD_%03d' % (i+1), dmeGrading])\n",
      "   \n",
      "csvFile2 = open('ImageSynthesis/4lesions/DMEGradingHE52016.csv','w', newline='') # 设置newline，否则两行之间会空一行\n",
      "writer = csv.writer(csvFile2)\n",
      "m = len(Pointdata)\n",
      "for i in range(m):\n",
      "    writer.writerow(Pointdata[i])\n",
      "csvFile2.close()\n",
      "import numpy as np\n",
      "import os,sys\n",
      "import scipy.io\n",
      "import xlrd\n",
      "import csv\n",
      "import xlwt\n",
      "%matplotlib inline\n",
      "ROOT_DIR = os.getcwd()\n",
      "# 用来计算DME Grading的accuracy\n",
      "\n",
      "for i in range(len(file_names)):  #len(file_names)\n",
      "    #newfile_name = file_names[i].strip('.png')\n",
      "    newfile_name = 'IDRiD_%03d' % (i+1)\n",
      "    #print(i+1, newfile_name)\n",
      "    data = scipy.io.loadmat('ImageSynthesis/4lesions/HELocation520/'+newfile_name+'.mat') \n",
      "    centerLocation = data['centerLocation']\n",
      "    foveacenter = findFoverCenter(newfile_name)\n",
      "    width = findODWidth(newfile_name)\n",
      "    distance = []\n",
      "    Dmegrading = []\n",
      "    if len(centerLocation) <= 16:\n",
      "        dmeGrading = 0\n",
      "    else:\n",
      "        for j in range(len(centerLocation)):    #len(centerLocation)\n",
      "    #         print(centerLocation[j][0])\n",
      "    #         print(centerLocation[j][1])\n",
      "    #         print(foveacenter[0])\n",
      "    #         print(foveacenter[1])        \n",
      "            temp = ((centerLocation[j][0] - foveacenter[0])**2 + (centerLocation[j][1] - foveacenter[1])**2)** 0.5\n",
      "            distance.append(round(temp))\n",
      "        minds = min(distance)\n",
      "        if minds <= width:\n",
      "            dmeGrading = 2\n",
      "        else:\n",
      "            dmeGrading = 1\n",
      "    Dmegrading.append(dmeGrading)\n",
      "\n",
      "print(Dmegrading)\n",
      "\n",
      "data = xlrd.open_workbook('ImageSynthesis/4lesions/IDRiD_Training_Set.xlsx')\n",
      "table = data.sheets()[0]          #通过索引顺序获取\n",
      "nrows = table.nrows\n",
      "#print(nrows)\n",
      "gtDMEgrading = table.col_values(2)\n",
      "GTDMEGrading = gtDMEgrading[1:]\n",
      "print(GTDMEGrading)\n",
      "# 用来计算DME Grading的accuracy\n",
      "\n",
      "for i in range(len(file_names)):  #len(file_names)\n",
      "    #newfile_name = file_names[i].strip('.png')\n",
      "    newfile_name = 'IDRiD_%03d' % (i+1)\n",
      "    #print(i+1, newfile_name)\n",
      "    data = scipy.io.loadmat('ImageSynthesis/4lesions/HELocation520/'+newfile_name+'.mat') \n",
      "    centerLocation = data['centerLocation']\n",
      "    foveacenter = findFoverCenter(newfile_name)\n",
      "    width = findODWidth(newfile_name)\n",
      "    distance = []\n",
      "    Dmegrading = []\n",
      "    if len(centerLocation) <= 16:\n",
      "        dmeGrading = 0\n",
      "    else:\n",
      "        for j in range(len(centerLocation)):    #len(centerLocation)\n",
      "    #         print(centerLocation[j][0])\n",
      "    #         print(centerLocation[j][1])\n",
      "    #         print(foveacenter[0])\n",
      "    #         print(foveacenter[1])        \n",
      "            temp = ((centerLocation[j][0] - foveacenter[0])**2 + (centerLocation[j][1] - foveacenter[1])**2)** 0.5\n",
      "            distance.append(round(temp))\n",
      "        minds = min(distance)\n",
      "        if minds <= width:\n",
      "            dmeGrading = 2\n",
      "        else:\n",
      "            dmeGrading = 1\n",
      "    Dmegrading.append(dmeGrading)\n",
      "\n",
      "print(Dmegrading)\n",
      "\n",
      "data = xlrd.open_workbook('ImageSynthesis/4lesions/IDRiD_Training_Set.xlsx')\n",
      "table = data.sheets()[0]          #通过索引顺序获取\n",
      "nrows = table.nrows\n",
      "#print(nrows)\n",
      "gtDMEgrading = table.col_values(2)\n",
      "GTDMEGrading = gtDMEgrading[1:]\n",
      "print(GTDMEGrading)\n",
      "print(GTDMEGrading.shape)\n",
      "# 用来计算DME Grading的accuracy\n",
      "\n",
      "for i in range(len(file_names)):  #len(file_names)\n",
      "    #newfile_name = file_names[i].strip('.png')\n",
      "    newfile_name = 'IDRiD_%03d' % (i+1)\n",
      "    #print(i+1, newfile_name)\n",
      "    data = scipy.io.loadmat('ImageSynthesis/4lesions/HELocation520/'+newfile_name+'.mat') \n",
      "    centerLocation = data['centerLocation']\n",
      "    foveacenter = findFoverCenter(newfile_name)\n",
      "    width = findODWidth(newfile_name)\n",
      "    distance = []\n",
      "    Dmegrading = []\n",
      "    if len(centerLocation) <= 16:\n",
      "        dmeGrading = 0\n",
      "    else:\n",
      "        for j in range(len(centerLocation)):    #len(centerLocation)\n",
      "    #         print(centerLocation[j][0])\n",
      "    #         print(centerLocation[j][1])\n",
      "    #         print(foveacenter[0])\n",
      "    #         print(foveacenter[1])        \n",
      "            temp = ((centerLocation[j][0] - foveacenter[0])**2 + (centerLocation[j][1] - foveacenter[1])**2)** 0.5\n",
      "            distance.append(round(temp))\n",
      "        minds = min(distance)\n",
      "        if minds <= width:\n",
      "            dmeGrading = 2\n",
      "        else:\n",
      "            dmeGrading = 1\n",
      "    Dmegrading.append(dmeGrading)\n",
      "\n",
      "print(Dmegrading)\n",
      "\n",
      "data = xlrd.open_workbook('ImageSynthesis/4lesions/IDRiD_Training_Set.xlsx')\n",
      "table = data.sheets()[0]          #通过索引顺序获取\n",
      "nrows = table.nrows\n",
      "#print(nrows)\n",
      "gtDMEgrading = table.col_values(2)\n",
      "GTDMEGrading = gtDMEgrading[1:]\n",
      "print(GTDMEGrading)\n",
      "print(len(GTDMEGrading))\n",
      "DR_IMAGE_DIR = os.path.join(ROOT_DIR, \"ImageSynthesis/4lesions/HE\") #DRDataset/SubChallenge_1_Images\n",
      "    # Load a random image from the images folder\n",
      "file_names = next(os.walk(DR_IMAGE_DIR))[2]\n",
      "# 用来计算DME Grading的accuracy\n",
      "Dmegrading = []\n",
      "for i in range(len(file_names)):  #len(file_names)\n",
      "    #newfile_name = file_names[i].strip('.png')\n",
      "    newfile_name = 'IDRiD_%03d' % (i+1)\n",
      "    #print(i+1, newfile_name)\n",
      "    data = scipy.io.loadmat('ImageSynthesis/4lesions/HELocation520/'+newfile_name+'.mat') \n",
      "    centerLocation = data['centerLocation']\n",
      "    foveacenter = findFoverCenter(newfile_name)\n",
      "    width = findODWidth(newfile_name)\n",
      "    distance = []\n",
      "    \n",
      "    if len(centerLocation) <= 16:\n",
      "        dmeGrading = 0\n",
      "    else:\n",
      "        for j in range(len(centerLocation)):    #len(centerLocation)\n",
      "    #         print(centerLocation[j][0])\n",
      "    #         print(centerLocation[j][1])\n",
      "    #         print(foveacenter[0])\n",
      "    #         print(foveacenter[1])        \n",
      "            temp = ((centerLocation[j][0] - foveacenter[0])**2 + (centerLocation[j][1] - foveacenter[1])**2)** 0.5\n",
      "            distance.append(round(temp))\n",
      "        minds = min(distance)\n",
      "        if minds <= width:\n",
      "            dmeGrading = 2\n",
      "        else:\n",
      "            dmeGrading = 1\n",
      "    Dmegrading.append(dmeGrading)\n",
      "\n",
      "print(Dmegrading)\n",
      "\n",
      "data = xlrd.open_workbook('ImageSynthesis/4lesions/IDRiD_Training_Set.xlsx')\n",
      "table = data.sheets()[0]          #通过索引顺序获取\n",
      "nrows = table.nrows\n",
      "#print(nrows)\n",
      "gtDMEgrading = table.col_values(2)\n",
      "GTDMEGrading = gtDMEgrading[1:]\n",
      "print(GTDMEGrading)\n",
      "print(len(GTDMEGrading))\n",
      "# 用来计算DME Grading的accuracy\n",
      "Dmegrading = []\n",
      "for i in range(len(file_names)):  #len(file_names)\n",
      "    #newfile_name = file_names[i].strip('.png')\n",
      "    newfile_name = 'IDRiD_%03d' % (i+1)\n",
      "    #print(i+1, newfile_name)\n",
      "    data = scipy.io.loadmat('ImageSynthesis/4lesions/HELocation520/'+newfile_name+'.mat') \n",
      "    centerLocation = data['centerLocation']\n",
      "    foveacenter = findFoverCenter(newfile_name)\n",
      "    width = findODWidth(newfile_name)\n",
      "    distance = []\n",
      "    \n",
      "    if len(centerLocation) <= 16:\n",
      "        dmeGrading = 0\n",
      "    else:\n",
      "        for j in range(len(centerLocation)):    #len(centerLocation)\n",
      "    #         print(centerLocation[j][0])\n",
      "    #         print(centerLocation[j][1])\n",
      "    #         print(foveacenter[0])\n",
      "    #         print(foveacenter[1])        \n",
      "            temp = ((centerLocation[j][0] - foveacenter[0])**2 + (centerLocation[j][1] - foveacenter[1])**2)** 0.5\n",
      "            distance.append(round(temp))\n",
      "        minds = min(distance)\n",
      "        if minds <= width:\n",
      "            dmeGrading = 2\n",
      "        else:\n",
      "            dmeGrading = 1\n",
      "    Dmegrading.append(dmeGrading)\n",
      "\n",
      "print(Dmegrading)\n",
      "print(len(Dmegrading))\n",
      "\n",
      "data = xlrd.open_workbook('ImageSynthesis/4lesions/IDRiD_Training_Set.xlsx')\n",
      "table = data.sheets()[0]          #通过索引顺序获取\n",
      "nrows = table.nrows\n",
      "#print(nrows)\n",
      "gtDMEgrading = table.col_values(2)\n",
      "GTDMEGrading = gtDMEgrading[1:]\n",
      "print(GTDMEGrading)\n",
      "print(len(GTDMEGrading))\n",
      "# 用来计算DME Grading的accuracy\n",
      "Dmegrading = []\n",
      "for i in range(len(file_names)):  #len(file_names)\n",
      "    #newfile_name = file_names[i].strip('.png')\n",
      "    newfile_name = 'IDRiD_%03d' % (i+1)\n",
      "    #print(i+1, newfile_name)\n",
      "    data = scipy.io.loadmat('ImageSynthesis/4lesions/HELocation520/'+newfile_name+'.mat') \n",
      "    centerLocation = data['centerLocation']\n",
      "    foveacenter = findFoverCenter(newfile_name)\n",
      "    width = findODWidth(newfile_name)\n",
      "    distance = []\n",
      "    \n",
      "    if len(centerLocation) <= 16:\n",
      "        dmeGrading = 0\n",
      "    else:\n",
      "        for j in range(len(centerLocation)):    #len(centerLocation)\n",
      "    #         print(centerLocation[j][0])\n",
      "    #         print(centerLocation[j][1])\n",
      "    #         print(foveacenter[0])\n",
      "    #         print(foveacenter[1])        \n",
      "            temp = ((centerLocation[j][0] - foveacenter[0])**2 + (centerLocation[j][1] - foveacenter[1])**2)** 0.5\n",
      "            distance.append(round(temp))\n",
      "        minds = min(distance)\n",
      "        if minds <= width:\n",
      "            dmeGrading = 2\n",
      "        else:\n",
      "            dmeGrading = 1\n",
      "    Dmegrading.append(dmeGrading)\n",
      "\n",
      "print(Dmegrading)\n",
      "print(len(Dmegrading))\n",
      "\n",
      "data = xlrd.open_workbook('ImageSynthesis/4lesions/IDRiD_Training_Set.xlsx')\n",
      "table = data.sheets()[0]          #通过索引顺序获取\n",
      "nrows = table.nrows\n",
      "#print(nrows)\n",
      "gtDMEgrading = table.col_values(2)\n",
      "GTDMEGrading = gtDMEgrading[1:]\n",
      "print(round(GTDMEGrading))\n",
      "print(len(GTDMEGrading))\n",
      "# 用来计算DME Grading的accuracy\n",
      "Dmegrading = []\n",
      "for i in range(len(file_names)):  #len(file_names)\n",
      "    #newfile_name = file_names[i].strip('.png')\n",
      "    newfile_name = 'IDRiD_%03d' % (i+1)\n",
      "    #print(i+1, newfile_name)\n",
      "    data = scipy.io.loadmat('ImageSynthesis/4lesions/HELocation520/'+newfile_name+'.mat') \n",
      "    centerLocation = data['centerLocation']\n",
      "    foveacenter = findFoverCenter(newfile_name)\n",
      "    width = findODWidth(newfile_name)\n",
      "    distance = []\n",
      "    \n",
      "    if len(centerLocation) <= 16:\n",
      "        dmeGrading = 0\n",
      "    else:\n",
      "        for j in range(len(centerLocation)):    #len(centerLocation)\n",
      "    #         print(centerLocation[j][0])\n",
      "    #         print(centerLocation[j][1])\n",
      "    #         print(foveacenter[0])\n",
      "    #         print(foveacenter[1])        \n",
      "            temp = ((centerLocation[j][0] - foveacenter[0])**2 + (centerLocation[j][1] - foveacenter[1])**2)** 0.5\n",
      "            distance.append(round(temp))\n",
      "        minds = min(distance)\n",
      "        if minds <= width:\n",
      "            dmeGrading = 2\n",
      "        else:\n",
      "            dmeGrading = 1\n",
      "    Dmegrading.append(dmeGrading)\n",
      "\n",
      "print(Dmegrading)\n",
      "print(len(Dmegrading))\n",
      "\n",
      "data = xlrd.open_workbook('ImageSynthesis/4lesions/IDRiD_Training_Set.xlsx')\n",
      "table = data.sheets()[0]          #通过索引顺序获取\n",
      "nrows = table.nrows\n",
      "#print(nrows)\n",
      "gtDMEgrading = table.col_values(2)\n",
      "GTDMEGrading = gtDMEgrading[1:]\n",
      "print(GTDMEGrading)\n",
      "print(len(GTDMEGrading))\n",
      "    \n",
      "temp = Dmegrading - GTDMEGrading\n",
      "print(temp)\n",
      "# 用来计算DME Grading的accuracy\n",
      "Dmegrading = []\n",
      "for i in range(len(file_names)):  #len(file_names)\n",
      "    #newfile_name = file_names[i].strip('.png')\n",
      "    newfile_name = 'IDRiD_%03d' % (i+1)\n",
      "    #print(i+1, newfile_name)\n",
      "    data = scipy.io.loadmat('ImageSynthesis/4lesions/HELocation520/'+newfile_name+'.mat') \n",
      "    centerLocation = data['centerLocation']\n",
      "    foveacenter = findFoverCenter(newfile_name)\n",
      "    width = findODWidth(newfile_name)\n",
      "    distance = []\n",
      "    \n",
      "    if len(centerLocation) <= 16:\n",
      "        dmeGrading = 0\n",
      "    else:\n",
      "        for j in range(len(centerLocation)):    #len(centerLocation)\n",
      "    #         print(centerLocation[j][0])\n",
      "    #         print(centerLocation[j][1])\n",
      "    #         print(foveacenter[0])\n",
      "    #         print(foveacenter[1])        \n",
      "            temp = ((centerLocation[j][0] - foveacenter[0])**2 + (centerLocation[j][1] - foveacenter[1])**2)** 0.5\n",
      "            distance.append(round(temp))\n",
      "        minds = min(distance)\n",
      "        if minds <= width:\n",
      "            dmeGrading = 2\n",
      "        else:\n",
      "            dmeGrading = 1\n",
      "    Dmegrading.append(dmeGrading)\n",
      "\n",
      "print(Dmegrading)\n",
      "print(len(Dmegrading))\n",
      "\n",
      "data = xlrd.open_workbook('ImageSynthesis/4lesions/IDRiD_Training_Set.xlsx')\n",
      "table = data.sheets()[0]          #通过索引顺序获取\n",
      "nrows = table.nrows\n",
      "#print(nrows)\n",
      "gtDMEgrading = table.col_values(2)\n",
      "GTDMEGrading = gtDMEgrading[1:]\n",
      "print(GTDMEGrading)\n",
      "print(len(GTDMEGrading))\n",
      "    \n",
      "temp = np.array(Dmegrading) - np.array(GTDMEGrading)\n",
      "print(temp)\n",
      "# 用来计算DME Grading的accuracy\n",
      "Dmegrading = []\n",
      "for i in range(len(file_names)):  #len(file_names)\n",
      "    #newfile_name = file_names[i].strip('.png')\n",
      "    newfile_name = 'IDRiD_%03d' % (i+1)\n",
      "    #print(i+1, newfile_name)\n",
      "    data = scipy.io.loadmat('ImageSynthesis/4lesions/HELocation520/'+newfile_name+'.mat') \n",
      "    centerLocation = data['centerLocation']\n",
      "    foveacenter = findFoverCenter(newfile_name)\n",
      "    width = findODWidth(newfile_name)\n",
      "    distance = []\n",
      "    \n",
      "    if len(centerLocation) <= 16:\n",
      "        dmeGrading = 0\n",
      "    else:\n",
      "        for j in range(len(centerLocation)):    #len(centerLocation)\n",
      "    #         print(centerLocation[j][0])\n",
      "    #         print(centerLocation[j][1])\n",
      "    #         print(foveacenter[0])\n",
      "    #         print(foveacenter[1])        \n",
      "            temp = ((centerLocation[j][0] - foveacenter[0])**2 + (centerLocation[j][1] - foveacenter[1])**2)** 0.5\n",
      "            distance.append(round(temp))\n",
      "        minds = min(distance)\n",
      "        if minds <= width:\n",
      "            dmeGrading = 2\n",
      "        else:\n",
      "            dmeGrading = 1\n",
      "    Dmegrading.append(dmeGrading)\n",
      "\n",
      "print(Dmegrading)\n",
      "print(len(Dmegrading))\n",
      "\n",
      "data = xlrd.open_workbook('ImageSynthesis/4lesions/IDRiD_Training_Set.xlsx')\n",
      "table = data.sheets()[0]          #通过索引顺序获取\n",
      "nrows = table.nrows\n",
      "#print(nrows)\n",
      "gtDMEgrading = table.col_values(2)\n",
      "GTDMEGrading = gtDMEgrading[1:]\n",
      "print(GTDMEGrading)\n",
      "print(len(GTDMEGrading))\n",
      "    \n",
      "temp = np.array(Dmegrading) - np.array(GTDMEGrading)\n",
      "print(temp)\n",
      "acc = temp.count(0)/413\n",
      "print(acc)\n",
      "# 用来计算DME Grading的accuracy\n",
      "Dmegrading = []\n",
      "for i in range(len(file_names)):  #len(file_names)\n",
      "    #newfile_name = file_names[i].strip('.png')\n",
      "    newfile_name = 'IDRiD_%03d' % (i+1)\n",
      "    #print(i+1, newfile_name)\n",
      "    data = scipy.io.loadmat('ImageSynthesis/4lesions/HELocation520/'+newfile_name+'.mat') \n",
      "    centerLocation = data['centerLocation']\n",
      "    foveacenter = findFoverCenter(newfile_name)\n",
      "    width = findODWidth(newfile_name)\n",
      "    distance = []\n",
      "    \n",
      "    if len(centerLocation) <= 16:\n",
      "        dmeGrading = 0\n",
      "    else:\n",
      "        for j in range(len(centerLocation)):    #len(centerLocation)\n",
      "    #         print(centerLocation[j][0])\n",
      "    #         print(centerLocation[j][1])\n",
      "    #         print(foveacenter[0])\n",
      "    #         print(foveacenter[1])        \n",
      "            temp = ((centerLocation[j][0] - foveacenter[0])**2 + (centerLocation[j][1] - foveacenter[1])**2)** 0.5\n",
      "            distance.append(round(temp))\n",
      "        minds = min(distance)\n",
      "        if minds <= width:\n",
      "            dmeGrading = 2\n",
      "        else:\n",
      "            dmeGrading = 1\n",
      "    Dmegrading.append(dmeGrading)\n",
      "\n",
      "print(Dmegrading)\n",
      "print(len(Dmegrading))\n",
      "\n",
      "data = xlrd.open_workbook('ImageSynthesis/4lesions/IDRiD_Training_Set.xlsx')\n",
      "table = data.sheets()[0]          #通过索引顺序获取\n",
      "nrows = table.nrows\n",
      "#print(nrows)\n",
      "gtDMEgrading = table.col_values(2)\n",
      "GTDMEGrading = gtDMEgrading[1:]\n",
      "print(GTDMEGrading)\n",
      "print(len(GTDMEGrading))\n",
      "    \n",
      "temp = np.array(Dmegrading) - np.array(GTDMEGrading)\n",
      "print(temp)\n",
      "acc = np.sum(temp == 0)/413\n",
      "print(acc)\n",
      "# 用来计算DME Grading的accuracy\n",
      "Dmegrading = []\n",
      "for k in range(1,30):\n",
      "    for i in range(len(file_names)):  #len(file_names)\n",
      "        #newfile_name = file_names[i].strip('.png')\n",
      "        newfile_name = 'IDRiD_%03d' % (i+1)\n",
      "        #print(i+1, newfile_name)\n",
      "        data = scipy.io.loadmat('ImageSynthesis/4lesions/HELocation520/'+newfile_name+'.mat') \n",
      "        centerLocation = data['centerLocation']\n",
      "        foveacenter = findFoverCenter(newfile_name)\n",
      "        width = findODWidth(newfile_name)\n",
      "        distance = []\n",
      "\n",
      "        if len(centerLocation) <= 16:\n",
      "            dmeGrading = 0\n",
      "        else:\n",
      "            for j in range(len(centerLocation)):    #len(centerLocation)\n",
      "        #         print(centerLocation[j][0])\n",
      "        #         print(centerLocation[j][1])\n",
      "        #         print(foveacenter[0])\n",
      "        #         print(foveacenter[1])        \n",
      "                temp = ((centerLocation[j][0] - foveacenter[0])**2 + (centerLocation[j][1] - foveacenter[1])**2)** 0.5\n",
      "                distance.append(round(temp))\n",
      "            minds = min(distance)\n",
      "            if minds <= width:\n",
      "                dmeGrading = 2\n",
      "            else:\n",
      "                dmeGrading = 1\n",
      "        Dmegrading.append(dmeGrading)\n",
      "\n",
      "    data = xlrd.open_workbook('ImageSynthesis/4lesions/IDRiD_Training_Set.xlsx')\n",
      "    table = data.sheets()[0]          #通过索引顺序获取\n",
      "    nrows = table.nrows\n",
      "    gtDMEgrading = table.col_values(2)\n",
      "    GTDMEGrading = gtDMEgrading[1:]\n",
      "\n",
      "    temp = np.array(Dmegrading) - np.array(GTDMEGrading)\n",
      "    acc = np.sum(temp == 0)/413\n",
      "    print(acc)\n",
      "# 用来计算DME Grading的accuracy\n",
      "Dmegrading = []\n",
      "for k in range(1,30):\n",
      "    Dmegrading = []\n",
      "    for i in range(len(file_names)):  #len(file_names)\n",
      "        #newfile_name = file_names[i].strip('.png')\n",
      "        newfile_name = 'IDRiD_%03d' % (i+1)\n",
      "        #print(i+1, newfile_name)\n",
      "        data = scipy.io.loadmat('ImageSynthesis/4lesions/HELocation520/'+newfile_name+'.mat') \n",
      "        centerLocation = data['centerLocation']\n",
      "        foveacenter = findFoverCenter(newfile_name)\n",
      "        width = findODWidth(newfile_name)\n",
      "        distance = []\n",
      "\n",
      "        if len(centerLocation) <= 16:\n",
      "            dmeGrading = 0\n",
      "        else:\n",
      "            for j in range(len(centerLocation)):    #len(centerLocation)\n",
      "        #         print(centerLocation[j][0])\n",
      "        #         print(centerLocation[j][1])\n",
      "        #         print(foveacenter[0])\n",
      "        #         print(foveacenter[1])        \n",
      "                temp = ((centerLocation[j][0] - foveacenter[0])**2 + (centerLocation[j][1] - foveacenter[1])**2)** 0.5\n",
      "                distance.append(round(temp))\n",
      "            minds = min(distance)\n",
      "            if minds <= width:\n",
      "                dmeGrading = 2\n",
      "            else:\n",
      "                dmeGrading = 1\n",
      "        Dmegrading.append(dmeGrading)\n",
      "\n",
      "    data = xlrd.open_workbook('ImageSynthesis/4lesions/IDRiD_Training_Set.xlsx')\n",
      "    table = data.sheets()[0]          #通过索引顺序获取\n",
      "    nrows = table.nrows\n",
      "    gtDMEgrading = table.col_values(2)\n",
      "    GTDMEGrading = gtDMEgrading[1:]\n",
      "\n",
      "    temp = np.array(Dmegrading) - np.array(GTDMEGrading)\n",
      "    acc = np.sum(temp == 0)/413\n",
      "    print(acc)\n",
      "# 用来计算DME Grading的accuracy\n",
      "Dmegrading = []\n",
      "data = xlrd.open_workbook('ImageSynthesis/4lesions/IDRiD_Training_Set.xlsx')\n",
      "table = data.sheets()[0]          #通过索引顺序获取\n",
      "nrows = table.nrows\n",
      "gtDMEgrading = table.col_values(2)\n",
      "GTDMEGrading = gtDMEgrading[1:]\n",
      "for k in range(1,30):\n",
      "    Dmegrading = []\n",
      "    for i in range(len(file_names)):  #len(file_names)\n",
      "        #newfile_name = file_names[i].strip('.png')\n",
      "        newfile_name = 'IDRiD_%03d' % (i+1)\n",
      "        #print(i+1, newfile_name)\n",
      "        data = scipy.io.loadmat('ImageSynthesis/4lesions/HELocation520/'+newfile_name+'.mat') \n",
      "        centerLocation = data['centerLocation']\n",
      "        foveacenter = findFoverCenter(newfile_name)\n",
      "        width = findODWidth(newfile_name)\n",
      "        distance = []\n",
      "\n",
      "        if len(centerLocation) <= k:\n",
      "            dmeGrading = 0\n",
      "        else:\n",
      "            for j in range(len(centerLocation)):    #len(centerLocation)\n",
      "        #         print(centerLocation[j][0])\n",
      "        #         print(centerLocation[j][1])\n",
      "        #         print(foveacenter[0])\n",
      "        #         print(foveacenter[1])        \n",
      "                temp = ((centerLocation[j][0] - foveacenter[0])**2 + (centerLocation[j][1] - foveacenter[1])**2)** 0.5\n",
      "                distance.append(round(temp))\n",
      "            minds = min(distance)\n",
      "            if minds <= width:\n",
      "                dmeGrading = 2\n",
      "            else:\n",
      "                dmeGrading = 1\n",
      "        Dmegrading.append(dmeGrading)\n",
      "\n",
      "    temp = np.array(Dmegrading) - np.array(GTDMEGrading)\n",
      "    acc = np.sum(temp == 0)/413\n",
      "    print(acc)\n",
      "# 用来计算DME Grading的accuracy\n",
      "#Dmegrading = []\n",
      "data = xlrd.open_workbook('ImageSynthesis/4lesions/IDRiD_Training_Set.xlsx')\n",
      "table = data.sheets()[0]          #通过索引顺序获取\n",
      "nrows = table.nrows\n",
      "gtDMEgrading = table.col_values(2)\n",
      "GTDMEGrading = gtDMEgrading[1:]\n",
      "for k in range(30):\n",
      "    Dmegrading = []\n",
      "    for i in range(len(file_names)):  #len(file_names)\n",
      "        #newfile_name = file_names[i].strip('.png')\n",
      "        newfile_name = 'IDRiD_%03d' % (i+1)\n",
      "        #print(i+1, newfile_name)\n",
      "        data = scipy.io.loadmat('ImageSynthesis/4lesions/HELocation520/'+newfile_name+'.mat') \n",
      "        centerLocation = data['centerLocation']\n",
      "        foveacenter = findFoverCenter(newfile_name)\n",
      "        width = findODWidth(newfile_name)\n",
      "        distance = []\n",
      "\n",
      "        if len(centerLocation) <= k:\n",
      "            dmeGrading = 0\n",
      "        else:\n",
      "            for j in range(len(centerLocation)):    #len(centerLocation)\n",
      "        #         print(centerLocation[j][0])\n",
      "        #         print(centerLocation[j][1])\n",
      "        #         print(foveacenter[0])\n",
      "        #         print(foveacenter[1])        \n",
      "                temp = ((centerLocation[j][0] - foveacenter[0])**2 + (centerLocation[j][1] - foveacenter[1])**2)** 0.5\n",
      "                distance.append(round(temp))\n",
      "            minds = min(distance)\n",
      "            if minds <= width:\n",
      "                dmeGrading = 2\n",
      "            else:\n",
      "                dmeGrading = 1\n",
      "        Dmegrading.append(dmeGrading)\n",
      "\n",
      "    temp = np.array(Dmegrading) - np.array(GTDMEGrading)\n",
      "    acc = np.sum(temp == 0)/413\n",
      "    print(k+1,acc)\n",
      "# 用来计算DME Grading的accuracy\n",
      "#Dmegrading = []\n",
      "data = xlrd.open_workbook('ImageSynthesis/4lesions/IDRiD_Training_Set.xlsx')\n",
      "table = data.sheets()[0]          #通过索引顺序获取\n",
      "nrows = table.nrows\n",
      "gtDMEgrading = table.col_values(2)\n",
      "GTDMEGrading = gtDMEgrading[1:]\n",
      "for k in range(30):\n",
      "    Dmegrading = []\n",
      "    for i in range(len(file_names)):  #len(file_names)\n",
      "        #newfile_name = file_names[i].strip('.png')\n",
      "        newfile_name = 'IDRiD_%03d' % (i+1)\n",
      "        #print(i+1, newfile_name)\n",
      "        data = scipy.io.loadmat('ImageSynthesis/4lesions/HELocation520/'+newfile_name+'.mat') \n",
      "        centerLocation = data['centerLocation']\n",
      "        foveacenter = findFoverCenter(newfile_name)\n",
      "        width = findODWidth(newfile_name)\n",
      "        distance = []\n",
      "\n",
      "        if len(centerLocation) <= k:\n",
      "            dmeGrading = 0\n",
      "        else:\n",
      "            for j in range(len(centerLocation)):    #len(centerLocation)\n",
      "        #         print(centerLocation[j][0])\n",
      "        #         print(centerLocation[j][1])\n",
      "        #         print(foveacenter[0])\n",
      "        #         print(foveacenter[1])        \n",
      "                temp = ((centerLocation[j][0] - foveacenter[0])**2 + (centerLocation[j][1] - foveacenter[1])**2)** 0.5\n",
      "                distance.append(round(temp))\n",
      "            minds = min(distance)\n",
      "            if minds <= width:\n",
      "                dmeGrading = 2\n",
      "            else:\n",
      "                dmeGrading = 1\n",
      "        Dmegrading.append(dmeGrading)\n",
      "\n",
      "    temp = np.array(Dmegrading) - np.array(GTDMEGrading)\n",
      "    acc = np.sum(temp == 0)/413\n",
      "    print(k,acc)\n",
      "# 用来计算DME Grading的accuracy\n",
      "#Dmegrading = []\n",
      "accuracy = []\n",
      "data = xlrd.open_workbook('ImageSynthesis/4lesions/IDRiD_Training_Set.xlsx')\n",
      "table = data.sheets()[0]          #通过索引顺序获取\n",
      "nrows = table.nrows\n",
      "gtDMEgrading = table.col_values(2)\n",
      "GTDMEGrading = gtDMEgrading[1:]\n",
      "for k in range(30):\n",
      "    Dmegrading = []\n",
      "    for i in range(len(file_names)):  #len(file_names)\n",
      "        #newfile_name = file_names[i].strip('.png')\n",
      "        newfile_name = 'IDRiD_%03d' % (i+1)\n",
      "        #print(i+1, newfile_name)\n",
      "        data = scipy.io.loadmat('ImageSynthesis/4lesions/HELocation520/'+newfile_name+'.mat') \n",
      "        centerLocation = data['centerLocation']\n",
      "        foveacenter = findFoverCenter(newfile_name)\n",
      "        width = findODWidth(newfile_name)\n",
      "        distance = []\n",
      "\n",
      "        if len(centerLocation) <= k:\n",
      "            dmeGrading = 0\n",
      "        else:\n",
      "            for j in range(len(centerLocation)):    #len(centerLocation)      \n",
      "                temp = ((centerLocation[j][0] - foveacenter[0])**2 + (centerLocation[j][1] - foveacenter[1])**2)** 0.5\n",
      "                distance.append(round(temp))\n",
      "            minds = min(distance)\n",
      "            if minds <= width:\n",
      "                dmeGrading = 2\n",
      "            else:\n",
      "                dmeGrading = 1\n",
      "        Dmegrading.append(dmeGrading)\n",
      "\n",
      "    temp = np.array(Dmegrading) - np.array(GTDMEGrading)\n",
      "    acc = np.sum(temp == 0)/413\n",
      "    accuracy.append(acc)\n",
      "    print(k,acc)\n",
      "\n",
      "ACC = np.amax(acc)\n",
      "Position = np.where(accuracy == ACC)\n",
      "print(ACC)\n",
      "print(Position)\n",
      "# 用来计算DME Grading的accuracy\n",
      "#Dmegrading = []\n",
      "accuracy = []\n",
      "data = xlrd.open_workbook('ImageSynthesis/4lesions/IDRiD_Training_Set.xlsx')\n",
      "table = data.sheets()[0]          #通过索引顺序获取\n",
      "nrows = table.nrows\n",
      "gtDMEgrading = table.col_values(2)\n",
      "GTDMEGrading = gtDMEgrading[1:]\n",
      "for k in range(30):\n",
      "    Dmegrading = []\n",
      "    for i in range(len(file_names)):  #len(file_names)\n",
      "        #newfile_name = file_names[i].strip('.png')\n",
      "        newfile_name = 'IDRiD_%03d' % (i+1)\n",
      "        #print(i+1, newfile_name)\n",
      "        data = scipy.io.loadmat('ImageSynthesis/4lesions/HELocation520/'+newfile_name+'.mat') \n",
      "        centerLocation = data['centerLocation']\n",
      "        foveacenter = findFoverCenter(newfile_name)\n",
      "        width = findODWidth(newfile_name)\n",
      "        distance = []\n",
      "\n",
      "        if len(centerLocation) <= k:\n",
      "            dmeGrading = 0\n",
      "        else:\n",
      "            for j in range(len(centerLocation)):    #len(centerLocation)      \n",
      "                temp = ((centerLocation[j][0] - foveacenter[0])**2 + (centerLocation[j][1] - foveacenter[1])**2)** 0.5\n",
      "                distance.append(round(temp))\n",
      "            minds = min(distance)\n",
      "            if minds <= width:\n",
      "                dmeGrading = 2\n",
      "            else:\n",
      "                dmeGrading = 1\n",
      "        Dmegrading.append(dmeGrading)\n",
      "\n",
      "    temp = np.array(Dmegrading) - np.array(GTDMEGrading)\n",
      "    acc = np.sum(temp == 0)/413\n",
      "    accuracy.append(acc)\n",
      "    print(k,acc)\n",
      "\n",
      "ACC = np.amax(accuracy)\n",
      "Position = np.where(accuracy == ACC)\n",
      "print(ACC)\n",
      "print(Position)\n",
      "import numpy as np\n",
      "import os,sys\n",
      "import scipy.io\n",
      "import xlrd\n",
      "import csv\n",
      "import xlwt\n",
      "import pylab\n",
      "%matplotlib inline\n",
      "ROOT_DIR = os.getcwd()\n",
      "# 用来计算DME Grading的accuracy\n",
      "#Dmegrading = []\n",
      "accuracy = []\n",
      "x = []\n",
      "data = xlrd.open_workbook('ImageSynthesis/4lesions/IDRiD_Training_Set.xlsx')\n",
      "table = data.sheets()[0]          #通过索引顺序获取\n",
      "nrows = table.nrows\n",
      "gtDMEgrading = table.col_values(2)\n",
      "GTDMEGrading = gtDMEgrading[1:]\n",
      "for k in range(30):\n",
      "    Dmegrading = []\n",
      "    x.append(k)\n",
      "    for i in range(len(file_names)):  #len(file_names)\n",
      "        #newfile_name = file_names[i].strip('.png')\n",
      "        newfile_name = 'IDRiD_%03d' % (i+1)\n",
      "        #print(i+1, newfile_name)\n",
      "        data = scipy.io.loadmat('ImageSynthesis/4lesions/HELocation520/'+newfile_name+'.mat') \n",
      "        centerLocation = data['centerLocation']\n",
      "        foveacenter = findFoverCenter(newfile_name)\n",
      "        width = findODWidth(newfile_name)\n",
      "        distance = []\n",
      "\n",
      "        if len(centerLocation) <= k:\n",
      "            dmeGrading = 0\n",
      "        else:\n",
      "            for j in range(len(centerLocation)):    #len(centerLocation)      \n",
      "                temp = ((centerLocation[j][0] - foveacenter[0])**2 + (centerLocation[j][1] - foveacenter[1])**2)** 0.5\n",
      "                distance.append(round(temp))\n",
      "            minds = min(distance)\n",
      "            if minds <= width:\n",
      "                dmeGrading = 2\n",
      "            else:\n",
      "                dmeGrading = 1\n",
      "        Dmegrading.append(dmeGrading)\n",
      "\n",
      "    temp = np.array(Dmegrading) - np.array(GTDMEGrading)\n",
      "    acc = np.sum(temp == 0)/413\n",
      "    accuracy.append(acc)\n",
      "    #print(k,acc)\n",
      "\n",
      "ACC = np.amax(accuracy)\n",
      "Position = np.where(accuracy == ACC)\n",
      "print(x)\n",
      "print(ACC)\n",
      "print(Position)\n",
      "# 用来计算DME Grading的accuracy\n",
      "#Dmegrading = []\n",
      "accuracy = []\n",
      "x = []\n",
      "data = xlrd.open_workbook('ImageSynthesis/4lesions/IDRiD_Training_Set.xlsx')\n",
      "table = data.sheets()[0]          #通过索引顺序获取\n",
      "nrows = table.nrows\n",
      "gtDMEgrading = table.col_values(2)\n",
      "GTDMEGrading = gtDMEgrading[1:]\n",
      "for k in range(30):\n",
      "    Dmegrading = []\n",
      "    x.append(k)\n",
      "    for i in range(len(file_names)):  #len(file_names)\n",
      "        #newfile_name = file_names[i].strip('.png')\n",
      "        newfile_name = 'IDRiD_%03d' % (i+1)\n",
      "        #print(i+1, newfile_name)\n",
      "        data = scipy.io.loadmat('ImageSynthesis/4lesions/HELocation520/'+newfile_name+'.mat') \n",
      "        centerLocation = data['centerLocation']\n",
      "        foveacenter = findFoverCenter(newfile_name)\n",
      "        width = findODWidth(newfile_name)\n",
      "        distance = []\n",
      "\n",
      "        if len(centerLocation) <= k:\n",
      "            dmeGrading = 0\n",
      "        else:\n",
      "            for j in range(len(centerLocation)):    #len(centerLocation)      \n",
      "                temp = ((centerLocation[j][0] - foveacenter[0])**2 + (centerLocation[j][1] - foveacenter[1])**2)** 0.5\n",
      "                distance.append(round(temp))\n",
      "            minds = min(distance)\n",
      "            if minds <= width:\n",
      "                dmeGrading = 2\n",
      "            else:\n",
      "                dmeGrading = 1\n",
      "        Dmegrading.append(dmeGrading)\n",
      "\n",
      "    temp = np.array(Dmegrading) - np.array(GTDMEGrading)\n",
      "    acc = np.sum(temp == 0)/413\n",
      "    accuracy.append(acc)\n",
      "    #print(k,acc)\n",
      "\n",
      "ACC = np.amax(accuracy)\n",
      "Position = np.where(accuracy == ACC)\n",
      "print(x)\n",
      "print(ACC)\n",
      "print(Position)\n",
      "\n",
      "plt.figure(figsize=(8,4)) #创建绘图对象  \n",
      "plt.plot(x,ACC,\"b--\",linewidth=1)   #在当前绘图对象绘图（X轴，Y轴，蓝色虚线，线宽度）  \n",
      "plt.xlabel(\"Time(s)\") #X轴标签  \n",
      "plt.ylabel(\"Volt\")  #Y轴标签  \n",
      "plt.title(\"Line plot\") #图标题  \n",
      "plt.show()  #显示图  \n",
      "plt.savefig(\"line.jpg\") #保存图\n",
      "import numpy as np\n",
      "import os,sys\n",
      "import scipy.io\n",
      "import xlrd\n",
      "import csv\n",
      "import xlwt\n",
      "import pylab\n",
      "import matplotlib.pyplot as plt\n",
      "%matplotlib inline\n",
      "ROOT_DIR = os.getcwd()\n",
      "# 用来计算DME Grading的accuracy\n",
      "#Dmegrading = []\n",
      "accuracy = []\n",
      "x = []\n",
      "data = xlrd.open_workbook('ImageSynthesis/4lesions/IDRiD_Training_Set.xlsx')\n",
      "table = data.sheets()[0]          #通过索引顺序获取\n",
      "nrows = table.nrows\n",
      "gtDMEgrading = table.col_values(2)\n",
      "GTDMEGrading = gtDMEgrading[1:]\n",
      "for k in range(30):\n",
      "    Dmegrading = []\n",
      "    x.append(k)\n",
      "    for i in range(len(file_names)):  #len(file_names)\n",
      "        #newfile_name = file_names[i].strip('.png')\n",
      "        newfile_name = 'IDRiD_%03d' % (i+1)\n",
      "        #print(i+1, newfile_name)\n",
      "        data = scipy.io.loadmat('ImageSynthesis/4lesions/HELocation520/'+newfile_name+'.mat') \n",
      "        centerLocation = data['centerLocation']\n",
      "        foveacenter = findFoverCenter(newfile_name)\n",
      "        width = findODWidth(newfile_name)\n",
      "        distance = []\n",
      "\n",
      "        if len(centerLocation) <= k:\n",
      "            dmeGrading = 0\n",
      "        else:\n",
      "            for j in range(len(centerLocation)):    #len(centerLocation)      \n",
      "                temp = ((centerLocation[j][0] - foveacenter[0])**2 + (centerLocation[j][1] - foveacenter[1])**2)** 0.5\n",
      "                distance.append(round(temp))\n",
      "            minds = min(distance)\n",
      "            if minds <= width:\n",
      "                dmeGrading = 2\n",
      "            else:\n",
      "                dmeGrading = 1\n",
      "        Dmegrading.append(dmeGrading)\n",
      "\n",
      "    temp = np.array(Dmegrading) - np.array(GTDMEGrading)\n",
      "    acc = np.sum(temp == 0)/413\n",
      "    accuracy.append(acc)\n",
      "    #print(k,acc)\n",
      "\n",
      "ACC = np.amax(accuracy)\n",
      "Position = np.where(accuracy == ACC)\n",
      "print(x)\n",
      "print(ACC)\n",
      "print(Position)\n",
      "\n",
      "plt.figure(figsize=(8,4)) #创建绘图对象  \n",
      "plt.plot(x,ACC,\"b--\",linewidth=1)   #在当前绘图对象绘图（X轴，Y轴，蓝色虚线，线宽度）  \n",
      "plt.xlabel(\"Time(s)\") #X轴标签  \n",
      "plt.ylabel(\"Volt\")  #Y轴标签  \n",
      "plt.title(\"Line plot\") #图标题  \n",
      "plt.show()  #显示图  \n",
      "plt.savefig(\"line.jpg\") #保存图\n",
      "# 用来计算DME Grading的accuracy\n",
      "#Dmegrading = []\n",
      "accuracy = []\n",
      "x = []\n",
      "data = xlrd.open_workbook('ImageSynthesis/4lesions/IDRiD_Training_Set.xlsx')\n",
      "table = data.sheets()[0]          #通过索引顺序获取\n",
      "nrows = table.nrows\n",
      "gtDMEgrading = table.col_values(2)\n",
      "GTDMEGrading = gtDMEgrading[1:]\n",
      "for k in range(30):\n",
      "    Dmegrading = []\n",
      "    x.append(k)\n",
      "    for i in range(len(file_names)):  #len(file_names)\n",
      "        #newfile_name = file_names[i].strip('.png')\n",
      "        newfile_name = 'IDRiD_%03d' % (i+1)\n",
      "        #print(i+1, newfile_name)\n",
      "        data = scipy.io.loadmat('ImageSynthesis/4lesions/HELocation520/'+newfile_name+'.mat') \n",
      "        centerLocation = data['centerLocation']\n",
      "        foveacenter = findFoverCenter(newfile_name)\n",
      "        width = findODWidth(newfile_name)\n",
      "        distance = []\n",
      "\n",
      "        if len(centerLocation) <= k:\n",
      "            dmeGrading = 0\n",
      "        else:\n",
      "            for j in range(len(centerLocation)):    #len(centerLocation)      \n",
      "                temp = ((centerLocation[j][0] - foveacenter[0])**2 + (centerLocation[j][1] - foveacenter[1])**2)** 0.5\n",
      "                distance.append(round(temp))\n",
      "            minds = min(distance)\n",
      "            if minds <= width:\n",
      "                dmeGrading = 2\n",
      "            else:\n",
      "                dmeGrading = 1\n",
      "        Dmegrading.append(dmeGrading)\n",
      "\n",
      "    temp = np.array(Dmegrading) - np.array(GTDMEGrading)\n",
      "    acc = np.sum(temp == 0)/413\n",
      "    accuracy.append(acc)\n",
      "    #print(k,acc)\n",
      "\n",
      "ACC = np.amax(accuracy)\n",
      "Position = np.where(accuracy == ACC)\n",
      "print(x)\n",
      "print(ACC)\n",
      "print(Position)\n",
      "\n",
      "plt.figure(figsize=(8,4)) #创建绘图对象  \n",
      "plt.plot(x,accuracy,\"b--\",linewidth=1)   #在当前绘图对象绘图（X轴，Y轴，蓝色虚线，线宽度）  \n",
      "plt.xlabel(\"Time(s)\") #X轴标签  \n",
      "plt.ylabel(\"Volt\")  #Y轴标签  \n",
      "plt.title(\"Line plot\") #图标题  \n",
      "plt.show()  #显示图  \n",
      "plt.savefig(\"line.jpg\") #保存图\n",
      "plt.figure(figsize=(8,4)) #创建绘图对象  \n",
      "plt.plot(x,accuracy,\"b--\",linewidth=1)   #在当前绘图对象绘图（X轴，Y轴，蓝色虚线，线宽度）  \n",
      "plt.xlabel(\"HE No.\") #X轴标签  \n",
      "plt.ylabel(\"ACC\")  #Y轴标签  \n",
      "plt.title(\"Line plot\") #图标题  \n",
      "plt.show()  #显示图  \n",
      "plt.savefig(\"lineHE520.jpg\") #保存图\n",
      "plt.figure(figsize=(8,4)) #创建绘图对象  \n",
      "plt.plot(x,accuracy,\"b--\",linewidth=1)   #在当前绘图对象绘图（X轴，Y轴，蓝色虚线，线宽度）  \n",
      "plt.xlabel(\"HE No.\") #X轴标签  \n",
      "plt.ylabel(\"ACC\")  #Y轴标签  \n",
      "plt.title(\"Line plot\") #图标题  \n",
      "plt.savefig(\"ImageSynthesis/4lesions/lineHE520.png\") #保存图  \n",
      "plt.show()  #显示图\n",
      "plt.figure(figsize=(8,4)) #创建绘图对象  \n",
      "plt.plot(x,accuracy,\"b--\",linewidth=1)   #在当前绘图对象绘图（X轴，Y轴，蓝色虚线，线宽度）  \n",
      "plt.xlabel(\"HE No.\") #X轴标签  \n",
      "plt.ylabel(\"ACC\")  #Y轴标签  \n",
      "plt.title(\"Line plot\") #图标题  \n",
      "plt.savefig(\"ImageSynthesis/4lesions/lineHE520.pdf\") #保存图  \n",
      "plt.show()  #显示图\n",
      "# 用来计算DME Grading的accuracy\n",
      "#Dmegrading = []\n",
      "accuracy = []\n",
      "x = []\n",
      "data = xlrd.open_workbook('ImageSynthesis/4lesions/IDRiD_Training_Set.xlsx')\n",
      "table = data.sheets()[0]          #通过索引顺序获取\n",
      "nrows = table.nrows\n",
      "gtDMEgrading = table.col_values(2)\n",
      "GTDMEGrading = gtDMEgrading[1:]\n",
      "for k in range(30):\n",
      "    Dmegrading = []\n",
      "    x.append(k)\n",
      "    for i in range(len(file_names)):  #len(file_names)\n",
      "        #newfile_name = file_names[i].strip('.png')\n",
      "        newfile_name = 'IDRiD_%03d' % (i+1)\n",
      "        #print(i+1, newfile_name)\n",
      "        data = scipy.io.loadmat('ImageSynthesis/4lesions/HELocation1030/'+newfile_name+'.mat') \n",
      "        centerLocation = data['centerLocation']\n",
      "        foveacenter = findFoverCenter(newfile_name)\n",
      "        width = findODWidth(newfile_name)\n",
      "        distance = []\n",
      "\n",
      "        if len(centerLocation) <= k:\n",
      "            dmeGrading = 0\n",
      "        else:\n",
      "            for j in range(len(centerLocation)):    #len(centerLocation)      \n",
      "                temp = ((centerLocation[j][0] - foveacenter[0])**2 + (centerLocation[j][1] - foveacenter[1])**2)** 0.5\n",
      "                distance.append(round(temp))\n",
      "            minds = min(distance)\n",
      "            if minds <= width:\n",
      "                dmeGrading = 2\n",
      "            else:\n",
      "                dmeGrading = 1\n",
      "        Dmegrading.append(dmeGrading)\n",
      "\n",
      "    temp = np.array(Dmegrading) - np.array(GTDMEGrading)\n",
      "    acc = np.sum(temp == 0)/413\n",
      "    accuracy.append(acc)\n",
      "    #print(k,acc)\n",
      "\n",
      "ACC = np.amax(accuracy)\n",
      "Position = np.where(accuracy == ACC)\n",
      "print(x)\n",
      "print(ACC)\n",
      "print(Position)\n",
      "\n",
      "plt.figure(figsize=(8,4)) #创建绘图对象  \n",
      "plt.plot(x,accuracy,\"b--\",linewidth=1)   #在当前绘图对象绘图（X轴，Y轴，蓝色虚线，线宽度）  \n",
      "plt.xlabel(\"HE No.\") #X轴标签  \n",
      "plt.ylabel(\"ACC\")  #Y轴标签  \n",
      "plt.title(\"Line plot\") #图标题  \n",
      "plt.savefig(\"ImageSynthesis/4lesions/lineHE1030.pdf\") #保存图  \n",
      "plt.show()  #显示图\n",
      "history\n"
     ]
    }
   ],
   "source": [
    "history"
   ]
  }
 ],
 "metadata": {
  "kernelspec": {
   "display_name": "Python 3",
   "language": "python",
   "name": "python3"
  },
  "language_info": {
   "codemirror_mode": {
    "name": "ipython",
    "version": 3
   },
   "file_extension": ".py",
   "mimetype": "text/x-python",
   "name": "python",
   "nbconvert_exporter": "python",
   "pygments_lexer": "ipython3",
   "version": "3.5.4"
  }
 },
 "nbformat": 4,
 "nbformat_minor": 2
}
