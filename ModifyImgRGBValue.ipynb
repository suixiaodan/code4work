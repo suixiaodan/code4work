{
 "cells": [
  {
   "cell_type": "markdown",
   "metadata": {},
   "source": [
    "# 用来将JPEG图像转化成PNG图像，将一定范围的像素值改成一个值"
   ]
  },
  {
   "cell_type": "code",
   "execution_count": null,
   "metadata": {},
   "outputs": [],
   "source": [
    "from skimage import io\n",
    "from PIL import Image  \n",
    "import numpy as np\n",
    "import os,sys\n",
    "import datetime"
   ]
  },
  {
   "cell_type": "code",
   "execution_count": 2,
   "metadata": {},
   "outputs": [
    {
     "name": "stdout",
     "output_type": "stream",
     "text": [
      "['10_left.jpg\\n', '15_right.jpg\\n', '17_right.jpg\\n']\n"
     ]
    }
   ],
   "source": [
    "file = open('filelist.txt')\n",
    "lines = file.readlines()\n",
    "aa=[]\n",
    "for line in lines:\n",
    "    #temp = line.replace('\"','').split(',')\n",
    "    aa.append(line)\n",
    "print(aa) "
   ]
  },
  {
   "cell_type": "code",
   "execution_count": 36,
   "metadata": {},
   "outputs": [
    {
     "name": "stdout",
     "output_type": "stream",
     "text": [
      "['10_left.jpg', '15_right.jpg', '17_right.jpg']\n"
     ]
    }
   ],
   "source": [
    "with open('filelist.txt', 'r') as f:\n",
    "    trainList=[l.strip('\\n') for l in f.readlines()]\n",
    "print(trainList)"
   ]
  },
  {
   "cell_type": "code",
   "execution_count": 38,
   "metadata": {},
   "outputs": [
    {
     "name": "stdout",
     "output_type": "stream",
     "text": [
      "['525_left.jpg', '179_left.jpg', '2804_left.jpg', '10_left.jpg', '17_right.jpg', '239_right.jpg', '525_right.jpg', '149_right.jpg', '47_right.jpg', '33_left.jpg', '465_right.jpg', '30_right.jpg', '761_left.jpg', '905_left.jpg', '239_left.jpg', '40_right.jpg', '1350_right.jpg', '1663_right.jpg', '687_left.jpeg', '696_right.jpg', '326_left.jpg', '211_left.jpg', '210_left.jpg', '47_left.jpg', '348_right.jpg', '30_left.jpg', '15_right.jpg', '326_right.jpg', '211_right.jpg', '1941_left.jpg', '178_right.jpg', '51_left.jpg', '229_right.jpg', '752_right.jpg', '460_right.jpg', '607_left.jpg', '460_left.jpg', '338_left.jpg', '231_left.jpg', '2496_right.jpg', '3563_left.jpg', '3422_left.jpg', '435_left.jpg', '179_right.jpg', '40_left.jpg', '36_left.jpg']\n"
     ]
    }
   ],
   "source": [
    "with open('filelistmask40.txt', 'r') as f:\n",
    "    trainList1=[l.strip('\\n') for l in f.readlines()]\n",
    "print(trainList1)"
   ]
  },
  {
   "cell_type": "code",
   "execution_count": 33,
   "metadata": {},
   "outputs": [
    {
     "name": "stdout",
     "output_type": "stream",
     "text": [
      "3422_left.jpg\n",
      "1350_right.jpg\n",
      "1663_right.jpg\n",
      "2496_right.jpg\n"
     ]
    }
   ],
   "source": [
    " for i in range(len(trainList)):\n",
    "    print(trainList[i])"
   ]
  },
  {
   "cell_type": "code",
   "execution_count": 12,
   "metadata": {},
   "outputs": [],
   "source": [
    "def ModifyRGBValue1(filelist):\n",
    "    for num in range(len(filelist)):\n",
    "        img=Image.open('test/'+filelist[num])\n",
    "        #img=Image.open('test/1.jpg')\n",
    "        arrimg = np.array(img)\n",
    "        [x,y,z] = arrimg.shape\n",
    "        R=arrimg[:,:,0]    #red\n",
    "        G=arrimg[:,:,1]    #green\n",
    "        B=arrimg[:,:,2];   #blue\n",
    "        for i in range(x):\n",
    "            for j in range(y):\n",
    "                if( (arrimg[i,j,0] >= 225) and (arrimg[i,j,0] <=255) ):\n",
    "                    arrimg[i,j,0] = 255\n",
    "                else:\n",
    "                    arrimg[i,j,0] = 0\n",
    "                if( (arrimg[i,j,1] >= 225) and (arrimg[i,j,1] <=255) ):\n",
    "                    arrimg[i,j,1] = 255\n",
    "                else:\n",
    "                    arrimg[i,j,1] = 0\n",
    "                \n",
    "                arrimg[i,j,2] = 0\n",
    "        #newimage[:,:,1] = R\n",
    "        #newimage[:,:,2] = G\n",
    "        #newimage[:,:,3] = B\n",
    "        #newimage=[R,G,B]\n",
    "        #newimage1=np.array(newimage)\n",
    "        new_im = Image.fromarray(arrimg)\n",
    "        #newImg= MatrixToImage(newimage)\n",
    "        filelistnew=filelist[num].strip('.jpg')\n",
    "        new_im.save(\"test1/\"+filelistnew+\".png\")"
   ]
  },
  {
   "cell_type": "code",
   "execution_count": 16,
   "metadata": {},
   "outputs": [],
   "source": [
    "def ModifyRGBValue2(filelist):\n",
    "    for num in range(len(filelist)):\n",
    "        img=Image.open('test/'+filelist[num])\n",
    "        #img=Image.open('test/1.jpg')\n",
    "        arrimg = np.array(img)\n",
    "        [x,y,z] = arrimg.shape\n",
    "        R=arrimg[:,:,0]    #red\n",
    "        G=arrimg[:,:,1]    #green\n",
    "        B=arrimg[:,:,2];   #blue\n",
    "        for i in range(x):\n",
    "            for j in range(y):\n",
    "                if( (arrimg[i,j,0] >= 235) and (arrimg[i,j,0] <=255) ):\n",
    "                    arrimg[i,j,0] = 255\n",
    "                elif( (arrimg[i,j,0] >= 133) and (arrimg[i,j,0] <=163) ):\n",
    "                    arrimg[i,j,0] = 148\n",
    "                else:\n",
    "                    arrimg[i,j,0] = 0\n",
    "                    \n",
    "                if( (arrimg[i,j,1] >= 235) and (arrimg[i,j,1] <=255) ):\n",
    "                    arrimg[i,j,1] = 255\n",
    "                else:\n",
    "                    arrimg[i,j,1] = 0\n",
    "                    \n",
    "                if( (arrimg[i,j,2] >= 235) and (arrimg[i,j,2] <=255) ):\n",
    "                    arrimg[i,j,2] = 255\n",
    "                elif( (arrimg[i,j,2] >= 191) and (arrimg[i,j,2] <=225) ):\n",
    "                    arrimg[i,j,2] = 211\n",
    "                else:\n",
    "                    arrimg[i,j,2] = 0\n",
    "        #newimage[:,:,1] = R\n",
    "        #newimage[:,:,2] = G\n",
    "        #newimage[:,:,3] = B\n",
    "        #newimage=[R,G,B]\n",
    "        #newimage1=np.array(newimage)\n",
    "        new_im = Image.fromarray(arrimg)\n",
    "        #newImg= MatrixToImage(newimage)\n",
    "        filelistnew=filelist[num].strip('.jpg')\n",
    "        new_im.save(\"test1/\"+filelistnew+\".png\")"
   ]
  },
  {
   "cell_type": "markdown",
   "metadata": {},
   "source": [
    "# 函数ModifyRGBValue3是可以使用的，功能能够实现"
   ]
  },
  {
   "cell_type": "code",
   "execution_count": 39,
   "metadata": {},
   "outputs": [],
   "source": [
    "def ModifyRGBValue3(filelist):\n",
    "    for num in range(len(filelist)):\n",
    "        img=Image.open('ODandFovea/'+filelist[num])\n",
    "        #img=Image.open('test/1.jpg')\n",
    "        arrimg = np.array(img)\n",
    "        [x,y,z] = arrimg.shape\n",
    "        R=arrimg[:,:,0]    #red\n",
    "        G=arrimg[:,:,1]    #green\n",
    "        B=arrimg[:,:,2];   #blue\n",
    "        val_RGB = 255\n",
    "        if val_RGB in arrimg[:,:,0]:\n",
    "            for i in range(x):\n",
    "                for j in range(y):\n",
    "                    if( (arrimg[i,j,0] >= 225) and (arrimg[i,j,0] <=255) ):\n",
    "                        arrimg[i,j,0] = val_RGB\n",
    "                    else:\n",
    "                        arrimg[i,j,0] = 0\n",
    "        else:\n",
    "            for i in range(x):\n",
    "                for j in range(y):\n",
    "                    arrimg[i,j,0] = 0\n",
    "            \n",
    "        if val_RGB in arrimg[:,:,1]:\n",
    "            for i in range(x):\n",
    "                for j in range(y):\n",
    "                    if( (arrimg[i,j,1] >= 225) and (arrimg[i,j,1] <=255) ):\n",
    "                        arrimg[i,j,1] = val_RGB\n",
    "                    else:\n",
    "                        arrimg[i,j,1] = 0\n",
    "        else:\n",
    "            for i in range(x):\n",
    "                for j in range(y):\n",
    "                    arrimg[i,j,1] = 0\n",
    "                    \n",
    "        if val_RGB in arrimg[:,:,2]:\n",
    "            for i in range(x):\n",
    "                for j in range(y):\n",
    "                    if( (arrimg[i,j,2] >= 225) and (arrimg[i,j,2] <=255) ):\n",
    "                        arrimg[i,j,2] = val_RGB\n",
    "                    else:\n",
    "                        arrimg[i,j,2] = 0\n",
    "        else:\n",
    "            for i in range(x):\n",
    "                for j in range(y):\n",
    "                    arrimg[i,j,2] = 0\n",
    "        #newimage[:,:,1] = R\n",
    "        #newimage[:,:,2] = G\n",
    "        #newimage[:,:,3] = B\n",
    "        #newimage=[R,G,B]\n",
    "        #newimage1=np.array(newimage)\n",
    "        new_im = Image.fromarray(arrimg)\n",
    "        #newImg= MatrixToImage(newimage)\n",
    "        filelistnew=filelist[num].strip('.jpg')\n",
    "        new_im.save(\"ODandFovea1/\"+filelistnew+\".png\")"
   ]
  },
  {
   "cell_type": "code",
   "execution_count": 41,
   "metadata": {},
   "outputs": [
    {
     "name": "stdout",
     "output_type": "stream",
     "text": [
      "0:27:30.885891\n"
     ]
    }
   ],
   "source": [
    "start = datetime.datetime.now()\n",
    "ModifyRGBValue3(trainList1)\n",
    "end = datetime.datetime.now()\n",
    "print (end-start)"
   ]
  },
  {
   "cell_type": "code",
   "execution_count": 29,
   "metadata": {},
   "outputs": [
    {
     "name": "stdout",
     "output_type": "stream",
     "text": [
      "[5, 5, 3]\n",
      "<PIL.Image.Image image mode=RGB size=5x5 at 0x1179F3080>\n"
     ]
    }
   ],
   "source": [
    "#img=Image.open('test/'+filelist[i])\n",
    "img=Image.open('test/1.jpg')\n",
    "arrimg = np.array(img)\n",
    "[x,y,z] = arrimg.shape\n",
    "print([x,y,z])\n",
    "new_im = Image.fromarray(arrimg)\n",
    "print(new_im)\n",
    "new_im.save(\"test1/1.jpg\")"
   ]
  },
  {
   "cell_type": "code",
   "execution_count": 30,
   "metadata": {},
   "outputs": [
    {
     "name": "stdout",
     "output_type": "stream",
     "text": [
      "[[10 10 10 10 10]\n",
      " [10 10 10 10 10]\n",
      " [10 10 10 10 10]\n",
      " [10 10 10 10 10]\n",
      " [10 10 10 10 10]]\n"
     ]
    }
   ],
   "source": [
    "R=arrimg[:,:,0]    #red\n",
    "G=arrimg[:,:,1]    #green\n",
    "B=arrimg[:,:,2];   #blue\n",
    "print(np.array(R)\n",
    "#newimage=[R,G,B]\n",
    "#newimage1=np.array(newimage)\n",
    "#Image.fromarray(newimage1)\n",
    "#new_im = Image.fromarray(newimage1)"
   ]
  },
  {
   "cell_type": "code",
   "execution_count": 22,
   "metadata": {},
   "outputs": [
    {
     "name": "stdout",
     "output_type": "stream",
     "text": [
      "[[[ 10  10  10  10  10]\n",
      "  [ 10  10  10  10  10]\n",
      "  [ 10  10  10  10  10]\n",
      "  [ 10  10  10  10  10]\n",
      "  [ 10  10  10  10  10]]\n",
      "\n",
      " [[200 200 200 200 200]\n",
      "  [200 200 200 200 200]\n",
      "  [200 200 200 200 200]\n",
      "  [200 200 200 200 200]\n",
      "  [200 200 200 200 200]]\n",
      "\n",
      " [[ 50  50  50  50  50]\n",
      "  [ 50  50  50  50  50]\n",
      "  [ 50  50  50  50  50]\n",
      "  [ 50  50  50  50  50]\n",
      "  [ 50  50  50  50  50]]]\n"
     ]
    }
   ],
   "source": [
    "print(newimage1)"
   ]
  },
  {
   "cell_type": "code",
   "execution_count": 15,
   "metadata": {},
   "outputs": [
    {
     "name": "stdout",
     "output_type": "stream",
     "text": [
      "[[50 50 50 50 50]\n",
      " [50 50 50 50 50]\n",
      " [50 50 50 50 50]\n",
      " [50 50 50 50 50]\n",
      " [50 50 50 50 50]]\n"
     ]
    }
   ],
   "source": [
    "print(arrimg[:,:,2])"
   ]
  },
  {
   "cell_type": "code",
   "execution_count": 16,
   "metadata": {},
   "outputs": [
    {
     "name": "stdout",
     "output_type": "stream",
     "text": [
      "[5, 5, 3]\n"
     ]
    }
   ],
   "source": [
    "[x,y,z] = arrimg.shape\n",
    "print([x,y,z])"
   ]
  },
  {
   "cell_type": "code",
   "execution_count": 17,
   "metadata": {},
   "outputs": [
    {
     "name": "stdout",
     "output_type": "stream",
     "text": [
      "[[10 10 10 10 10]\n",
      " [10 10 10 10 10]\n",
      " [10 10 10 10 10]\n",
      " [10 10 10 10 10]\n",
      " [10 10 10 10 10]]\n"
     ]
    }
   ],
   "source": [
    "print(arrimg[:,:,0])"
   ]
  },
  {
   "cell_type": "code",
   "execution_count": 42,
   "metadata": {},
   "outputs": [
    {
     "ename": "SyntaxError",
     "evalue": "invalid syntax (<ipython-input-42-03c2cb71509b>, line 1)",
     "output_type": "error",
     "traceback": [
      "\u001b[0;36m  File \u001b[0;32m\"<ipython-input-42-03c2cb71509b>\"\u001b[0;36m, line \u001b[0;32m1\u001b[0m\n\u001b[0;31m    R=rgb(:,:,1); %red\u001b[0m\n\u001b[0m          ^\u001b[0m\n\u001b[0;31mSyntaxError\u001b[0m\u001b[0;31m:\u001b[0m invalid syntax\n"
     ]
    }
   ],
   "source": [
    "R=rgb(:,:,1); %red\n",
    "G=rgb(:,:,2); %green\n",
    "B=rgb(:,:,3); %blue\n",
    "[x,y,z]=size(rgb);\n",
    "for i=1:x\n",
    "    for j=1:y\n",
    "        if( (R(i,j) >= 225) && (R(i,j) <=255) )\n",
    "            R(i,j) = 255;\n",
    "        else\n",
    "            R(i,j) = 0;\n",
    "        end\n",
    "        if( (G(i,j) >= 225) && (G(i,j) <=255) )\n",
    "            G(i,j) = 255;\n",
    "        else\n",
    "            G(i,j) = 0;\n",
    "        end\n",
    "        B(i,j) = 0;\n",
    "    end\n",
    "end\n",
    "\n",
    "% in this way\n",
    "% blue(:,:,1)=R(:,:);\n",
    "% blue(:,:,2)=G(:,:);\n",
    "% blue(:,:,3)=B(:,:);\n",
    "\n",
    "% another way\n",
    "newimage(:,:,1) = R;\n",
    "newimage(:,:,2) = G;\n",
    "newimage(:,:,3) = B;\n"
   ]
  },
  {
   "cell_type": "code",
   "execution_count": null,
   "metadata": {},
   "outputs": [],
   "source": []
  }
 ],
 "metadata": {
  "kernelspec": {
   "display_name": "Python 3",
   "language": "python",
   "name": "python3"
  },
  "language_info": {
   "codemirror_mode": {
    "name": "ipython",
    "version": 3
   },
   "file_extension": ".py",
   "mimetype": "text/x-python",
   "name": "python",
   "nbconvert_exporter": "python",
   "pygments_lexer": "ipython3",
   "version": "3.5.4"
  }
 },
 "nbformat": 4,
 "nbformat_minor": 2
}
