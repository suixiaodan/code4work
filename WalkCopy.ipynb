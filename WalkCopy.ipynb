{
 "cells": [
  {
   "cell_type": "code",
   "execution_count": 16,
   "metadata": {},
   "outputs": [
    {
     "data": {
      "text/plain": [
       "'/Users/victor/Project4sxd/DRandDME/data/e_ophtha/MA//C0006326.jpg'"
      ]
     },
     "execution_count": 16,
     "metadata": {},
     "output_type": "execute_result"
    },
    {
     "data": {
      "text/plain": [
       "'/Users/victor/Project4sxd/DRandDME/data/e_ophtha/MA//C0025305.jpg'"
      ]
     },
     "execution_count": 16,
     "metadata": {},
     "output_type": "execute_result"
    },
    {
     "data": {
      "text/plain": [
       "'/Users/victor/Project4sxd/DRandDME/data/e_ophtha/MA//C0025307.jpg'"
      ]
     },
     "execution_count": 16,
     "metadata": {},
     "output_type": "execute_result"
    },
    {
     "data": {
      "text/plain": [
       "'/Users/victor/Project4sxd/DRandDME/data/e_ophtha/MA//C0025303.jpg'"
      ]
     },
     "execution_count": 16,
     "metadata": {},
     "output_type": "execute_result"
    },
    {
     "data": {
      "text/plain": [
       "'/Users/victor/Project4sxd/DRandDME/data/e_ophtha/MA//C0032814.jpg'"
      ]
     },
     "execution_count": 16,
     "metadata": {},
     "output_type": "execute_result"
    },
    {
     "data": {
      "text/plain": [
       "'/Users/victor/Project4sxd/DRandDME/data/e_ophtha/MA//C0032817.jpg'"
      ]
     },
     "execution_count": 16,
     "metadata": {},
     "output_type": "execute_result"
    },
    {
     "data": {
      "text/plain": [
       "'/Users/victor/Project4sxd/DRandDME/data/e_ophtha/MA//C0032812.jpg'"
      ]
     },
     "execution_count": 16,
     "metadata": {},
     "output_type": "execute_result"
    },
    {
     "data": {
      "text/plain": [
       "'/Users/victor/Project4sxd/DRandDME/data/e_ophtha/MA//C0007237.jpg'"
      ]
     },
     "execution_count": 16,
     "metadata": {},
     "output_type": "execute_result"
    },
    {
     "data": {
      "text/plain": [
       "'/Users/victor/Project4sxd/DRandDME/data/e_ophtha/MA//C0007240.jpg'"
      ]
     },
     "execution_count": 16,
     "metadata": {},
     "output_type": "execute_result"
    },
    {
     "data": {
      "text/plain": [
       "'/Users/victor/Project4sxd/DRandDME/data/e_ophtha/MA//C0007239.jpg'"
      ]
     },
     "execution_count": 16,
     "metadata": {},
     "output_type": "execute_result"
    },
    {
     "data": {
      "text/plain": [
       "'/Users/victor/Project4sxd/DRandDME/data/e_ophtha/MA//C0007238.jpg'"
      ]
     },
     "execution_count": 16,
     "metadata": {},
     "output_type": "execute_result"
    },
    {
     "data": {
      "text/plain": [
       "'/Users/victor/Project4sxd/DRandDME/data/e_ophtha/MA//C0024415.jpg'"
      ]
     },
     "execution_count": 16,
     "metadata": {},
     "output_type": "execute_result"
    },
    {
     "data": {
      "text/plain": [
       "'/Users/victor/Project4sxd/DRandDME/data/e_ophtha/MA//C0024418.jpg'"
      ]
     },
     "execution_count": 16,
     "metadata": {},
     "output_type": "execute_result"
    },
    {
     "data": {
      "text/plain": [
       "'/Users/victor/Project4sxd/DRandDME/data/e_ophtha/MA//C0024252.jpg'"
      ]
     },
     "execution_count": 16,
     "metadata": {},
     "output_type": "execute_result"
    },
    {
     "data": {
      "text/plain": [
       "'/Users/victor/Project4sxd/DRandDME/data/e_ophtha/MA//C0024251.jpg'"
      ]
     },
     "execution_count": 16,
     "metadata": {},
     "output_type": "execute_result"
    },
    {
     "data": {
      "text/plain": [
       "'/Users/victor/Project4sxd/DRandDME/data/e_ophtha/MA//C0024250.jpg'"
      ]
     },
     "execution_count": 16,
     "metadata": {},
     "output_type": "execute_result"
    },
    {
     "data": {
      "text/plain": [
       "'/Users/victor/Project4sxd/DRandDME/data/e_ophtha/MA//C0019839.jpg'"
      ]
     },
     "execution_count": 16,
     "metadata": {},
     "output_type": "execute_result"
    },
    {
     "data": {
      "text/plain": [
       "'/Users/victor/Project4sxd/DRandDME/data/e_ophtha/MA//C0019842.jpg'"
      ]
     },
     "execution_count": 16,
     "metadata": {},
     "output_type": "execute_result"
    },
    {
     "data": {
      "text/plain": [
       "'/Users/victor/Project4sxd/DRandDME/data/e_ophtha/MA//C0019840.jpg'"
      ]
     },
     "execution_count": 16,
     "metadata": {},
     "output_type": "execute_result"
    },
    {
     "data": {
      "text/plain": [
       "'/Users/victor/Project4sxd/DRandDME/data/e_ophtha/MA//C0024407.jpg'"
      ]
     },
     "execution_count": 16,
     "metadata": {},
     "output_type": "execute_result"
    },
    {
     "data": {
      "text/plain": [
       "'/Users/victor/Project4sxd/DRandDME/data/e_ophtha/MA//C0024408.jpg'"
      ]
     },
     "execution_count": 16,
     "metadata": {},
     "output_type": "execute_result"
    },
    {
     "data": {
      "text/plain": [
       "'/Users/victor/Project4sxd/DRandDME/data/e_ophtha/MA//C0004249.jpg'"
      ]
     },
     "execution_count": 16,
     "metadata": {},
     "output_type": "execute_result"
    },
    {
     "data": {
      "text/plain": [
       "'/Users/victor/Project4sxd/DRandDME/data/e_ophtha/MA//C0004246.jpg'"
      ]
     },
     "execution_count": 16,
     "metadata": {},
     "output_type": "execute_result"
    },
    {
     "data": {
      "text/plain": [
       "'/Users/victor/Project4sxd/DRandDME/data/e_ophtha/MA//C0018298.jpg'"
      ]
     },
     "execution_count": 16,
     "metadata": {},
     "output_type": "execute_result"
    },
    {
     "data": {
      "text/plain": [
       "'/Users/victor/Project4sxd/DRandDME/data/e_ophtha/MA//C0018299.jpg'"
      ]
     },
     "execution_count": 16,
     "metadata": {},
     "output_type": "execute_result"
    },
    {
     "data": {
      "text/plain": [
       "'/Users/victor/Project4sxd/DRandDME/data/e_ophtha/MA//C0018301.jpg'"
      ]
     },
     "execution_count": 16,
     "metadata": {},
     "output_type": "execute_result"
    },
    {
     "data": {
      "text/plain": [
       "'/Users/victor/Project4sxd/DRandDME/data/e_ophtha/MA//C0018300.jpg'"
      ]
     },
     "execution_count": 16,
     "metadata": {},
     "output_type": "execute_result"
    },
    {
     "data": {
      "text/plain": [
       "'/Users/victor/Project4sxd/DRandDME/data/e_ophtha/MA//C0014475.jpg'"
      ]
     },
     "execution_count": 16,
     "metadata": {},
     "output_type": "execute_result"
    },
    {
     "data": {
      "text/plain": [
       "'/Users/victor/Project4sxd/DRandDME/data/e_ophtha/MA//C0014473.jpg'"
      ]
     },
     "execution_count": 16,
     "metadata": {},
     "output_type": "execute_result"
    },
    {
     "data": {
      "text/plain": [
       "'/Users/victor/Project4sxd/DRandDME/data/e_ophtha/MA//C0003164.jpg'"
      ]
     },
     "execution_count": 16,
     "metadata": {},
     "output_type": "execute_result"
    },
    {
     "data": {
      "text/plain": [
       "'/Users/victor/Project4sxd/DRandDME/data/e_ophtha/MA//C0003183.jpg'"
      ]
     },
     "execution_count": 16,
     "metadata": {},
     "output_type": "execute_result"
    },
    {
     "data": {
      "text/plain": [
       "'/Users/victor/Project4sxd/DRandDME/data/e_ophtha/MA//C0003181.jpg'"
      ]
     },
     "execution_count": 16,
     "metadata": {},
     "output_type": "execute_result"
    },
    {
     "data": {
      "text/plain": [
       "'/Users/victor/Project4sxd/DRandDME/data/e_ophtha/MA//C0019916.jpg'"
      ]
     },
     "execution_count": 16,
     "metadata": {},
     "output_type": "execute_result"
    },
    {
     "data": {
      "text/plain": [
       "'/Users/victor/Project4sxd/DRandDME/data/e_ophtha/MA//C0030399.jpg'"
      ]
     },
     "execution_count": 16,
     "metadata": {},
     "output_type": "execute_result"
    },
    {
     "data": {
      "text/plain": [
       "'/Users/victor/Project4sxd/DRandDME/data/e_ophtha/MA//C0030395.jpg'"
      ]
     },
     "execution_count": 16,
     "metadata": {},
     "output_type": "execute_result"
    },
    {
     "data": {
      "text/plain": [
       "'/Users/victor/Project4sxd/DRandDME/data/e_ophtha/MA//C0012623.jpg'"
      ]
     },
     "execution_count": 16,
     "metadata": {},
     "output_type": "execute_result"
    },
    {
     "data": {
      "text/plain": [
       "'/Users/victor/Project4sxd/DRandDME/data/e_ophtha/MA//C0001273.jpg'"
      ]
     },
     "execution_count": 16,
     "metadata": {},
     "output_type": "execute_result"
    },
    {
     "data": {
      "text/plain": [
       "'/Users/victor/Project4sxd/DRandDME/data/e_ophtha/MA//C0001276.jpg'"
      ]
     },
     "execution_count": 16,
     "metadata": {},
     "output_type": "execute_result"
    },
    {
     "data": {
      "text/plain": [
       "'/Users/victor/Project4sxd/DRandDME/data/e_ophtha/MA//C0001275.jpg'"
      ]
     },
     "execution_count": 16,
     "metadata": {},
     "output_type": "execute_result"
    },
    {
     "data": {
      "text/plain": [
       "'/Users/victor/Project4sxd/DRandDME/data/e_ophtha/MA//C0001274.jpg'"
      ]
     },
     "execution_count": 16,
     "metadata": {},
     "output_type": "execute_result"
    },
    {
     "data": {
      "text/plain": [
       "'/Users/victor/Project4sxd/DRandDME/data/e_ophtha/MA//C0005450.jpg'"
      ]
     },
     "execution_count": 16,
     "metadata": {},
     "output_type": "execute_result"
    },
    {
     "data": {
      "text/plain": [
       "'/Users/victor/Project4sxd/DRandDME/data/e_ophtha/MA//C0005454.jpg'"
      ]
     },
     "execution_count": 16,
     "metadata": {},
     "output_type": "execute_result"
    },
    {
     "data": {
      "text/plain": [
       "'/Users/victor/Project4sxd/DRandDME/data/e_ophtha/MA//C0000886.jpg'"
      ]
     },
     "execution_count": 16,
     "metadata": {},
     "output_type": "execute_result"
    },
    {
     "data": {
      "text/plain": [
       "'/Users/victor/Project4sxd/DRandDME/data/e_ophtha/MA//C0000887.jpg'"
      ]
     },
     "execution_count": 16,
     "metadata": {},
     "output_type": "execute_result"
    },
    {
     "data": {
      "text/plain": [
       "'/Users/victor/Project4sxd/DRandDME/data/e_ophtha/MA//C0003222.jpg'"
      ]
     },
     "execution_count": 16,
     "metadata": {},
     "output_type": "execute_result"
    },
    {
     "data": {
      "text/plain": [
       "'/Users/victor/Project4sxd/DRandDME/data/e_ophtha/MA//C0003226.jpg'"
      ]
     },
     "execution_count": 16,
     "metadata": {},
     "output_type": "execute_result"
    },
    {
     "data": {
      "text/plain": [
       "'/Users/victor/Project4sxd/DRandDME/data/e_ophtha/MA//C0007245.jpg'"
      ]
     },
     "execution_count": 16,
     "metadata": {},
     "output_type": "execute_result"
    },
    {
     "data": {
      "text/plain": [
       "'/Users/victor/Project4sxd/DRandDME/data/e_ophtha/MA//C0024545.jpg'"
      ]
     },
     "execution_count": 16,
     "metadata": {},
     "output_type": "execute_result"
    },
    {
     "data": {
      "text/plain": [
       "'/Users/victor/Project4sxd/DRandDME/data/e_ophtha/MA//C0024544.jpg'"
      ]
     },
     "execution_count": 16,
     "metadata": {},
     "output_type": "execute_result"
    },
    {
     "data": {
      "text/plain": [
       "'/Users/victor/Project4sxd/DRandDME/data/e_ophtha/MA//C0022011.jpg'"
      ]
     },
     "execution_count": 16,
     "metadata": {},
     "output_type": "execute_result"
    },
    {
     "data": {
      "text/plain": [
       "'/Users/victor/Project4sxd/DRandDME/data/e_ophtha/MA//C0024245.jpg'"
      ]
     },
     "execution_count": 16,
     "metadata": {},
     "output_type": "execute_result"
    },
    {
     "data": {
      "text/plain": [
       "'/Users/victor/Project4sxd/DRandDME/data/e_ophtha/MA//C0008258.jpg'"
      ]
     },
     "execution_count": 16,
     "metadata": {},
     "output_type": "execute_result"
    },
    {
     "data": {
      "text/plain": [
       "'/Users/victor/Project4sxd/DRandDME/data/e_ophtha/MA//C0030694.jpg'"
      ]
     },
     "execution_count": 16,
     "metadata": {},
     "output_type": "execute_result"
    },
    {
     "data": {
      "text/plain": [
       "'/Users/victor/Project4sxd/DRandDME/data/e_ophtha/MA//C0030692.jpg'"
      ]
     },
     "execution_count": 16,
     "metadata": {},
     "output_type": "execute_result"
    },
    {
     "data": {
      "text/plain": [
       "'/Users/victor/Project4sxd/DRandDME/data/e_ophtha/MA//C0007333.jpg'"
      ]
     },
     "execution_count": 16,
     "metadata": {},
     "output_type": "execute_result"
    },
    {
     "data": {
      "text/plain": [
       "'/Users/victor/Project4sxd/DRandDME/data/e_ophtha/MA//C0007331.jpg'"
      ]
     },
     "execution_count": 16,
     "metadata": {},
     "output_type": "execute_result"
    },
    {
     "data": {
      "text/plain": [
       "'/Users/victor/Project4sxd/DRandDME/data/e_ophtha/MA//C0030734.jpg'"
      ]
     },
     "execution_count": 16,
     "metadata": {},
     "output_type": "execute_result"
    },
    {
     "data": {
      "text/plain": [
       "'/Users/victor/Project4sxd/DRandDME/data/e_ophtha/MA//C0030735.jpg'"
      ]
     },
     "execution_count": 16,
     "metadata": {},
     "output_type": "execute_result"
    },
    {
     "data": {
      "text/plain": [
       "'/Users/victor/Project4sxd/DRandDME/data/e_ophtha/MA//C0030737.jpg'"
      ]
     },
     "execution_count": 16,
     "metadata": {},
     "output_type": "execute_result"
    },
    {
     "data": {
      "text/plain": [
       "'/Users/victor/Project4sxd/DRandDME/data/e_ophtha/MA//C0007155.jpg'"
      ]
     },
     "execution_count": 16,
     "metadata": {},
     "output_type": "execute_result"
    },
    {
     "data": {
      "text/plain": [
       "'/Users/victor/Project4sxd/DRandDME/data/e_ophtha/MA//C0007157.jpg'"
      ]
     },
     "execution_count": 16,
     "metadata": {},
     "output_type": "execute_result"
    },
    {
     "data": {
      "text/plain": [
       "'/Users/victor/Project4sxd/DRandDME/data/e_ophtha/MA//C0007156.jpg'"
      ]
     },
     "execution_count": 16,
     "metadata": {},
     "output_type": "execute_result"
    },
    {
     "data": {
      "text/plain": [
       "'/Users/victor/Project4sxd/DRandDME/data/e_ophtha/MA//C0007158.jpg'"
      ]
     },
     "execution_count": 16,
     "metadata": {},
     "output_type": "execute_result"
    },
    {
     "data": {
      "text/plain": [
       "'/Users/victor/Project4sxd/DRandDME/data/e_ophtha/MA//C0024414.jpg'"
      ]
     },
     "execution_count": 16,
     "metadata": {},
     "output_type": "execute_result"
    },
    {
     "data": {
      "text/plain": [
       "'/Users/victor/Project4sxd/DRandDME/data/e_ophtha/MA//C0024411.jpg'"
      ]
     },
     "execution_count": 16,
     "metadata": {},
     "output_type": "execute_result"
    },
    {
     "data": {
      "text/plain": [
       "'/Users/victor/Project4sxd/DRandDME/data/e_ophtha/MA//C0024413.jpg'"
      ]
     },
     "execution_count": 16,
     "metadata": {},
     "output_type": "execute_result"
    },
    {
     "data": {
      "text/plain": [
       "'/Users/victor/Project4sxd/DRandDME/data/e_ophtha/MA//C0001365.jpg'"
      ]
     },
     "execution_count": 16,
     "metadata": {},
     "output_type": "execute_result"
    },
    {
     "data": {
      "text/plain": [
       "'/Users/victor/Project4sxd/DRandDME/data/e_ophtha/MA//C0007104.jpg'"
      ]
     },
     "execution_count": 16,
     "metadata": {},
     "output_type": "execute_result"
    },
    {
     "data": {
      "text/plain": [
       "'/Users/victor/Project4sxd/DRandDME/data/e_ophtha/MA//C0007105.jpg'"
      ]
     },
     "execution_count": 16,
     "metadata": {},
     "output_type": "execute_result"
    },
    {
     "data": {
      "text/plain": [
       "'/Users/victor/Project4sxd/DRandDME/data/e_ophtha/MA//C0007106.jpg'"
      ]
     },
     "execution_count": 16,
     "metadata": {},
     "output_type": "execute_result"
    },
    {
     "data": {
      "text/plain": [
       "'/Users/victor/Project4sxd/DRandDME/data/e_ophtha/MA//C0007102.jpg'"
      ]
     },
     "execution_count": 16,
     "metadata": {},
     "output_type": "execute_result"
    },
    {
     "data": {
      "text/plain": [
       "'/Users/victor/Project4sxd/DRandDME/data/e_ophtha/MA//C0021835.jpg'"
      ]
     },
     "execution_count": 16,
     "metadata": {},
     "output_type": "execute_result"
    },
    {
     "data": {
      "text/plain": [
       "'/Users/victor/Project4sxd/DRandDME/data/e_ophtha/MA//C0021833.jpg'"
      ]
     },
     "execution_count": 16,
     "metadata": {},
     "output_type": "execute_result"
    },
    {
     "data": {
      "text/plain": [
       "'/Users/victor/Project4sxd/DRandDME/data/e_ophtha/MA//C0001884.jpg'"
      ]
     },
     "execution_count": 16,
     "metadata": {},
     "output_type": "execute_result"
    },
    {
     "data": {
      "text/plain": [
       "'/Users/victor/Project4sxd/DRandDME/data/e_ophtha/MA//C0001885.jpg'"
      ]
     },
     "execution_count": 16,
     "metadata": {},
     "output_type": "execute_result"
    },
    {
     "data": {
      "text/plain": [
       "'/Users/victor/Project4sxd/DRandDME/data/e_ophtha/MA//C0001886.jpg'"
      ]
     },
     "execution_count": 16,
     "metadata": {},
     "output_type": "execute_result"
    },
    {
     "data": {
      "text/plain": [
       "'/Users/victor/Project4sxd/DRandDME/data/e_ophtha/MA//C0001883.jpg'"
      ]
     },
     "execution_count": 16,
     "metadata": {},
     "output_type": "execute_result"
    },
    {
     "data": {
      "text/plain": [
       "'/Users/victor/Project4sxd/DRandDME/data/e_ophtha/MA//C0022681.jpg'"
      ]
     },
     "execution_count": 16,
     "metadata": {},
     "output_type": "execute_result"
    },
    {
     "data": {
      "text/plain": [
       "'/Users/victor/Project4sxd/DRandDME/data/e_ophtha/MA//C0032886.jpg'"
      ]
     },
     "execution_count": 16,
     "metadata": {},
     "output_type": "execute_result"
    },
    {
     "data": {
      "text/plain": [
       "'/Users/victor/Project4sxd/DRandDME/data/e_ophtha/MA//C0022966.jpg'"
      ]
     },
     "execution_count": 16,
     "metadata": {},
     "output_type": "execute_result"
    },
    {
     "data": {
      "text/plain": [
       "'/Users/victor/Project4sxd/DRandDME/data/e_ophtha/MA//C0022963.jpg'"
      ]
     },
     "execution_count": 16,
     "metadata": {},
     "output_type": "execute_result"
    },
    {
     "data": {
      "text/plain": [
       "'/Users/victor/Project4sxd/DRandDME/data/e_ophtha/MA//C0014728.jpg'"
      ]
     },
     "execution_count": 16,
     "metadata": {},
     "output_type": "execute_result"
    },
    {
     "data": {
      "text/plain": [
       "'/Users/victor/Project4sxd/DRandDME/data/e_ophtha/MA//C0014729.jpg'"
      ]
     },
     "execution_count": 16,
     "metadata": {},
     "output_type": "execute_result"
    },
    {
     "data": {
      "text/plain": [
       "'/Users/victor/Project4sxd/DRandDME/data/e_ophtha/MA//C0014727.jpg'"
      ]
     },
     "execution_count": 16,
     "metadata": {},
     "output_type": "execute_result"
    },
    {
     "data": {
      "text/plain": [
       "'/Users/victor/Project4sxd/DRandDME/data/e_ophtha/MA//C0014726.jpg'"
      ]
     },
     "execution_count": 16,
     "metadata": {},
     "output_type": "execute_result"
    },
    {
     "data": {
      "text/plain": [
       "'/Users/victor/Project4sxd/DRandDME/data/e_ophtha/MA//C0014793.jpg'"
      ]
     },
     "execution_count": 16,
     "metadata": {},
     "output_type": "execute_result"
    },
    {
     "data": {
      "text/plain": [
       "'/Users/victor/Project4sxd/DRandDME/data/e_ophtha/MA//C0014790.jpg'"
      ]
     },
     "execution_count": 16,
     "metadata": {},
     "output_type": "execute_result"
    },
    {
     "data": {
      "text/plain": [
       "'/Users/victor/Project4sxd/DRandDME/data/e_ophtha/MA//C0024340.jpg'"
      ]
     },
     "execution_count": 16,
     "metadata": {},
     "output_type": "execute_result"
    },
    {
     "data": {
      "text/plain": [
       "'/Users/victor/Project4sxd/DRandDME/data/e_ophtha/MA//C0024341.jpg'"
      ]
     },
     "execution_count": 16,
     "metadata": {},
     "output_type": "execute_result"
    },
    {
     "data": {
      "text/plain": [
       "'/Users/victor/Project4sxd/DRandDME/data/e_ophtha/MA//DS000HVH.png'"
      ]
     },
     "execution_count": 16,
     "metadata": {},
     "output_type": "execute_result"
    },
    {
     "data": {
      "text/plain": [
       "'/Users/victor/Project4sxd/DRandDME/data/e_ophtha/MA//DS000HVI.png'"
      ]
     },
     "execution_count": 16,
     "metadata": {},
     "output_type": "execute_result"
    },
    {
     "data": {
      "text/plain": [
       "'/Users/victor/Project4sxd/DRandDME/data/e_ophtha/MA//DS000HVE.png'"
      ]
     },
     "execution_count": 16,
     "metadata": {},
     "output_type": "execute_result"
    },
    {
     "data": {
      "text/plain": [
       "'/Users/victor/Project4sxd/DRandDME/data/e_ophtha/MA//DS000HVG.png'"
      ]
     },
     "execution_count": 16,
     "metadata": {},
     "output_type": "execute_result"
    },
    {
     "data": {
      "text/plain": [
       "'/Users/victor/Project4sxd/DRandDME/data/e_ophtha/MA//DS000F4J.png'"
      ]
     },
     "execution_count": 16,
     "metadata": {},
     "output_type": "execute_result"
    },
    {
     "data": {
      "text/plain": [
       "'/Users/victor/Project4sxd/DRandDME/data/e_ophtha/MA//DS000F4K.png'"
      ]
     },
     "execution_count": 16,
     "metadata": {},
     "output_type": "execute_result"
    },
    {
     "data": {
      "text/plain": [
       "'/Users/victor/Project4sxd/DRandDME/data/e_ophtha/MA//C0006326.png'"
      ]
     },
     "execution_count": 16,
     "metadata": {},
     "output_type": "execute_result"
    },
    {
     "data": {
      "text/plain": [
       "'/Users/victor/Project4sxd/DRandDME/data/e_ophtha/MA//DS00076H.png'"
      ]
     },
     "execution_count": 16,
     "metadata": {},
     "output_type": "execute_result"
    },
    {
     "data": {
      "text/plain": [
       "'/Users/victor/Project4sxd/DRandDME/data/e_ophtha/MA//DS00076I.png'"
      ]
     },
     "execution_count": 16,
     "metadata": {},
     "output_type": "execute_result"
    },
    {
     "data": {
      "text/plain": [
       "'/Users/victor/Project4sxd/DRandDME/data/e_ophtha/MA//DS000FBF.png'"
      ]
     },
     "execution_count": 16,
     "metadata": {},
     "output_type": "execute_result"
    },
    {
     "data": {
      "text/plain": [
       "'/Users/victor/Project4sxd/DRandDME/data/e_ophtha/MA//DS000FBD.png'"
      ]
     },
     "execution_count": 16,
     "metadata": {},
     "output_type": "execute_result"
    },
    {
     "data": {
      "text/plain": [
       "'/Users/victor/Project4sxd/DRandDME/data/e_ophtha/MA//DS000FBC.png'"
      ]
     },
     "execution_count": 16,
     "metadata": {},
     "output_type": "execute_result"
    },
    {
     "data": {
      "text/plain": [
       "'/Users/victor/Project4sxd/DRandDME/data/e_ophtha/MA//DS000U30.png'"
      ]
     },
     "execution_count": 16,
     "metadata": {},
     "output_type": "execute_result"
    },
    {
     "data": {
      "text/plain": [
       "'/Users/victor/Project4sxd/DRandDME/data/e_ophtha/MA//DS000TZ5.png'"
      ]
     },
     "execution_count": 16,
     "metadata": {},
     "output_type": "execute_result"
    },
    {
     "data": {
      "text/plain": [
       "'/Users/victor/Project4sxd/DRandDME/data/e_ophtha/MA//DS00008I.png'"
      ]
     },
     "execution_count": 16,
     "metadata": {},
     "output_type": "execute_result"
    },
    {
     "data": {
      "text/plain": [
       "'/Users/victor/Project4sxd/DRandDME/data/e_ophtha/MA//DS00008J.png'"
      ]
     },
     "execution_count": 16,
     "metadata": {},
     "output_type": "execute_result"
    },
    {
     "data": {
      "text/plain": [
       "'/Users/victor/Project4sxd/DRandDME/data/e_ophtha/MA//DS00008G.png'"
      ]
     },
     "execution_count": 16,
     "metadata": {},
     "output_type": "execute_result"
    },
    {
     "data": {
      "text/plain": [
       "'/Users/victor/Project4sxd/DRandDME/data/e_ophtha/MA//C0025305.png'"
      ]
     },
     "execution_count": 16,
     "metadata": {},
     "output_type": "execute_result"
    },
    {
     "data": {
      "text/plain": [
       "'/Users/victor/Project4sxd/DRandDME/data/e_ophtha/MA//C0025307.png'"
      ]
     },
     "execution_count": 16,
     "metadata": {},
     "output_type": "execute_result"
    },
    {
     "data": {
      "text/plain": [
       "'/Users/victor/Project4sxd/DRandDME/data/e_ophtha/MA//C0025303.png'"
      ]
     },
     "execution_count": 16,
     "metadata": {},
     "output_type": "execute_result"
    },
    {
     "data": {
      "text/plain": [
       "'/Users/victor/Project4sxd/DRandDME/data/e_ophtha/MA//C0032814.png'"
      ]
     },
     "execution_count": 16,
     "metadata": {},
     "output_type": "execute_result"
    },
    {
     "data": {
      "text/plain": [
       "'/Users/victor/Project4sxd/DRandDME/data/e_ophtha/MA//C0032817.png'"
      ]
     },
     "execution_count": 16,
     "metadata": {},
     "output_type": "execute_result"
    },
    {
     "data": {
      "text/plain": [
       "'/Users/victor/Project4sxd/DRandDME/data/e_ophtha/MA//C0032812.png'"
      ]
     },
     "execution_count": 16,
     "metadata": {},
     "output_type": "execute_result"
    },
    {
     "data": {
      "text/plain": [
       "'/Users/victor/Project4sxd/DRandDME/data/e_ophtha/MA//DS000V6S.png'"
      ]
     },
     "execution_count": 16,
     "metadata": {},
     "output_type": "execute_result"
    },
    {
     "data": {
      "text/plain": [
       "'/Users/victor/Project4sxd/DRandDME/data/e_ophtha/MA//DS000V6O.png'"
      ]
     },
     "execution_count": 16,
     "metadata": {},
     "output_type": "execute_result"
    },
    {
     "data": {
      "text/plain": [
       "'/Users/victor/Project4sxd/DRandDME/data/e_ophtha/MA//C0007237.png'"
      ]
     },
     "execution_count": 16,
     "metadata": {},
     "output_type": "execute_result"
    },
    {
     "data": {
      "text/plain": [
       "'/Users/victor/Project4sxd/DRandDME/data/e_ophtha/MA//C0007240.png'"
      ]
     },
     "execution_count": 16,
     "metadata": {},
     "output_type": "execute_result"
    },
    {
     "data": {
      "text/plain": [
       "'/Users/victor/Project4sxd/DRandDME/data/e_ophtha/MA//C0007239.png'"
      ]
     },
     "execution_count": 16,
     "metadata": {},
     "output_type": "execute_result"
    },
    {
     "data": {
      "text/plain": [
       "'/Users/victor/Project4sxd/DRandDME/data/e_ophtha/MA//C0007238.png'"
      ]
     },
     "execution_count": 16,
     "metadata": {},
     "output_type": "execute_result"
    },
    {
     "data": {
      "text/plain": [
       "'/Users/victor/Project4sxd/DRandDME/data/e_ophtha/MA//C0024415.png'"
      ]
     },
     "execution_count": 16,
     "metadata": {},
     "output_type": "execute_result"
    },
    {
     "data": {
      "text/plain": [
       "'/Users/victor/Project4sxd/DRandDME/data/e_ophtha/MA//C0024418.png'"
      ]
     },
     "execution_count": 16,
     "metadata": {},
     "output_type": "execute_result"
    },
    {
     "data": {
      "text/plain": [
       "'/Users/victor/Project4sxd/DRandDME/data/e_ophtha/MA//DS000FGF.png'"
      ]
     },
     "execution_count": 16,
     "metadata": {},
     "output_type": "execute_result"
    },
    {
     "data": {
      "text/plain": [
       "'/Users/victor/Project4sxd/DRandDME/data/e_ophtha/MA//DS000FGD.png'"
      ]
     },
     "execution_count": 16,
     "metadata": {},
     "output_type": "execute_result"
    },
    {
     "data": {
      "text/plain": [
       "'/Users/victor/Project4sxd/DRandDME/data/e_ophtha/MA//DS000FGE.png'"
      ]
     },
     "execution_count": 16,
     "metadata": {},
     "output_type": "execute_result"
    },
    {
     "data": {
      "text/plain": [
       "'/Users/victor/Project4sxd/DRandDME/data/e_ophtha/MA//DS000N9Y.png'"
      ]
     },
     "execution_count": 16,
     "metadata": {},
     "output_type": "execute_result"
    },
    {
     "data": {
      "text/plain": [
       "'/Users/victor/Project4sxd/DRandDME/data/e_ophtha/MA//DS000N9X.png'"
      ]
     },
     "execution_count": 16,
     "metadata": {},
     "output_type": "execute_result"
    },
    {
     "data": {
      "text/plain": [
       "'/Users/victor/Project4sxd/DRandDME/data/e_ophtha/MA//DS000N9Z.png'"
      ]
     },
     "execution_count": 16,
     "metadata": {},
     "output_type": "execute_result"
    },
    {
     "data": {
      "text/plain": [
       "'/Users/victor/Project4sxd/DRandDME/data/e_ophtha/MA//DS000NA1.png'"
      ]
     },
     "execution_count": 16,
     "metadata": {},
     "output_type": "execute_result"
    },
    {
     "data": {
      "text/plain": [
       "'/Users/victor/Project4sxd/DRandDME/data/e_ophtha/MA//C0024252.png'"
      ]
     },
     "execution_count": 16,
     "metadata": {},
     "output_type": "execute_result"
    },
    {
     "data": {
      "text/plain": [
       "'/Users/victor/Project4sxd/DRandDME/data/e_ophtha/MA//C0024251.png'"
      ]
     },
     "execution_count": 16,
     "metadata": {},
     "output_type": "execute_result"
    },
    {
     "data": {
      "text/plain": [
       "'/Users/victor/Project4sxd/DRandDME/data/e_ophtha/MA//C0024250.png'"
      ]
     },
     "execution_count": 16,
     "metadata": {},
     "output_type": "execute_result"
    },
    {
     "data": {
      "text/plain": [
       "'/Users/victor/Project4sxd/DRandDME/data/e_ophtha/MA//C0019839.png'"
      ]
     },
     "execution_count": 16,
     "metadata": {},
     "output_type": "execute_result"
    },
    {
     "data": {
      "text/plain": [
       "'/Users/victor/Project4sxd/DRandDME/data/e_ophtha/MA//C0019842.png'"
      ]
     },
     "execution_count": 16,
     "metadata": {},
     "output_type": "execute_result"
    },
    {
     "data": {
      "text/plain": [
       "'/Users/victor/Project4sxd/DRandDME/data/e_ophtha/MA//C0019840.png'"
      ]
     },
     "execution_count": 16,
     "metadata": {},
     "output_type": "execute_result"
    },
    {
     "data": {
      "text/plain": [
       "'/Users/victor/Project4sxd/DRandDME/data/e_ophtha/MA//DS000QA2.png'"
      ]
     },
     "execution_count": 16,
     "metadata": {},
     "output_type": "execute_result"
    },
    {
     "data": {
      "text/plain": [
       "'/Users/victor/Project4sxd/DRandDME/data/e_ophtha/MA//C0024407.png'"
      ]
     },
     "execution_count": 16,
     "metadata": {},
     "output_type": "execute_result"
    },
    {
     "data": {
      "text/plain": [
       "'/Users/victor/Project4sxd/DRandDME/data/e_ophtha/MA//C0024408.png'"
      ]
     },
     "execution_count": 16,
     "metadata": {},
     "output_type": "execute_result"
    },
    {
     "data": {
      "text/plain": [
       "'/Users/victor/Project4sxd/DRandDME/data/e_ophtha/MA//C0004249.png'"
      ]
     },
     "execution_count": 16,
     "metadata": {},
     "output_type": "execute_result"
    },
    {
     "data": {
      "text/plain": [
       "'/Users/victor/Project4sxd/DRandDME/data/e_ophtha/MA//C0004246.png'"
      ]
     },
     "execution_count": 16,
     "metadata": {},
     "output_type": "execute_result"
    },
    {
     "data": {
      "text/plain": [
       "'/Users/victor/Project4sxd/DRandDME/data/e_ophtha/MA//C0018298.png'"
      ]
     },
     "execution_count": 16,
     "metadata": {},
     "output_type": "execute_result"
    },
    {
     "data": {
      "text/plain": [
       "'/Users/victor/Project4sxd/DRandDME/data/e_ophtha/MA//C0018299.png'"
      ]
     },
     "execution_count": 16,
     "metadata": {},
     "output_type": "execute_result"
    },
    {
     "data": {
      "text/plain": [
       "'/Users/victor/Project4sxd/DRandDME/data/e_ophtha/MA//C0018301.png'"
      ]
     },
     "execution_count": 16,
     "metadata": {},
     "output_type": "execute_result"
    },
    {
     "data": {
      "text/plain": [
       "'/Users/victor/Project4sxd/DRandDME/data/e_ophtha/MA//C0018300.png'"
      ]
     },
     "execution_count": 16,
     "metadata": {},
     "output_type": "execute_result"
    },
    {
     "data": {
      "text/plain": [
       "'/Users/victor/Project4sxd/DRandDME/data/e_ophtha/MA//DS000HXL.png'"
      ]
     },
     "execution_count": 16,
     "metadata": {},
     "output_type": "execute_result"
    },
    {
     "data": {
      "text/plain": [
       "'/Users/victor/Project4sxd/DRandDME/data/e_ophtha/MA//DS000HXJ.png'"
      ]
     },
     "execution_count": 16,
     "metadata": {},
     "output_type": "execute_result"
    },
    {
     "data": {
      "text/plain": [
       "'/Users/victor/Project4sxd/DRandDME/data/e_ophtha/MA//DS000HXK.png'"
      ]
     },
     "execution_count": 16,
     "metadata": {},
     "output_type": "execute_result"
    },
    {
     "data": {
      "text/plain": [
       "'/Users/victor/Project4sxd/DRandDME/data/e_ophtha/MA//C0014475.png'"
      ]
     },
     "execution_count": 16,
     "metadata": {},
     "output_type": "execute_result"
    },
    {
     "data": {
      "text/plain": [
       "'/Users/victor/Project4sxd/DRandDME/data/e_ophtha/MA//C0014473.png'"
      ]
     },
     "execution_count": 16,
     "metadata": {},
     "output_type": "execute_result"
    },
    {
     "data": {
      "text/plain": [
       "'/Users/victor/Project4sxd/DRandDME/data/e_ophtha/MA//C0003164.png'"
      ]
     },
     "execution_count": 16,
     "metadata": {},
     "output_type": "execute_result"
    },
    {
     "data": {
      "text/plain": [
       "'/Users/victor/Project4sxd/DRandDME/data/e_ophtha/MA//C0003183.png'"
      ]
     },
     "execution_count": 16,
     "metadata": {},
     "output_type": "execute_result"
    },
    {
     "data": {
      "text/plain": [
       "'/Users/victor/Project4sxd/DRandDME/data/e_ophtha/MA//C0003181.png'"
      ]
     },
     "execution_count": 16,
     "metadata": {},
     "output_type": "execute_result"
    },
    {
     "data": {
      "text/plain": [
       "'/Users/victor/Project4sxd/DRandDME/data/e_ophtha/MA//DS000OQB.png'"
      ]
     },
     "execution_count": 16,
     "metadata": {},
     "output_type": "execute_result"
    },
    {
     "data": {
      "text/plain": [
       "'/Users/victor/Project4sxd/DRandDME/data/e_ophtha/MA//C0019916.png'"
      ]
     },
     "execution_count": 16,
     "metadata": {},
     "output_type": "execute_result"
    },
    {
     "data": {
      "text/plain": [
       "'/Users/victor/Project4sxd/DRandDME/data/e_ophtha/MA//C0030399.png'"
      ]
     },
     "execution_count": 16,
     "metadata": {},
     "output_type": "execute_result"
    },
    {
     "data": {
      "text/plain": [
       "'/Users/victor/Project4sxd/DRandDME/data/e_ophtha/MA//C0030395.png'"
      ]
     },
     "execution_count": 16,
     "metadata": {},
     "output_type": "execute_result"
    },
    {
     "data": {
      "text/plain": [
       "'/Users/victor/Project4sxd/DRandDME/data/e_ophtha/MA//C0012623.png'"
      ]
     },
     "execution_count": 16,
     "metadata": {},
     "output_type": "execute_result"
    },
    {
     "data": {
      "text/plain": [
       "'/Users/victor/Project4sxd/DRandDME/data/e_ophtha/MA//DS000H04.png'"
      ]
     },
     "execution_count": 16,
     "metadata": {},
     "output_type": "execute_result"
    },
    {
     "data": {
      "text/plain": [
       "'/Users/victor/Project4sxd/DRandDME/data/e_ophtha/MA//DS000GH5.png'"
      ]
     },
     "execution_count": 16,
     "metadata": {},
     "output_type": "execute_result"
    },
    {
     "data": {
      "text/plain": [
       "'/Users/victor/Project4sxd/DRandDME/data/e_ophtha/MA//DS000GH6.png'"
      ]
     },
     "execution_count": 16,
     "metadata": {},
     "output_type": "execute_result"
    },
    {
     "data": {
      "text/plain": [
       "'/Users/victor/Project4sxd/DRandDME/data/e_ophtha/MA//DS00091A.png'"
      ]
     },
     "execution_count": 16,
     "metadata": {},
     "output_type": "execute_result"
    },
    {
     "data": {
      "text/plain": [
       "'/Users/victor/Project4sxd/DRandDME/data/e_ophtha/MA//DS00091B.png'"
      ]
     },
     "execution_count": 16,
     "metadata": {},
     "output_type": "execute_result"
    },
    {
     "data": {
      "text/plain": [
       "'/Users/victor/Project4sxd/DRandDME/data/e_ophtha/MA//C0001273.png'"
      ]
     },
     "execution_count": 16,
     "metadata": {},
     "output_type": "execute_result"
    },
    {
     "data": {
      "text/plain": [
       "'/Users/victor/Project4sxd/DRandDME/data/e_ophtha/MA//C0001276.png'"
      ]
     },
     "execution_count": 16,
     "metadata": {},
     "output_type": "execute_result"
    },
    {
     "data": {
      "text/plain": [
       "'/Users/victor/Project4sxd/DRandDME/data/e_ophtha/MA//C0001275.png'"
      ]
     },
     "execution_count": 16,
     "metadata": {},
     "output_type": "execute_result"
    },
    {
     "data": {
      "text/plain": [
       "'/Users/victor/Project4sxd/DRandDME/data/e_ophtha/MA//C0001274.png'"
      ]
     },
     "execution_count": 16,
     "metadata": {},
     "output_type": "execute_result"
    },
    {
     "data": {
      "text/plain": [
       "'/Users/victor/Project4sxd/DRandDME/data/e_ophtha/MA//C0005450.png'"
      ]
     },
     "execution_count": 16,
     "metadata": {},
     "output_type": "execute_result"
    },
    {
     "data": {
      "text/plain": [
       "'/Users/victor/Project4sxd/DRandDME/data/e_ophtha/MA//C0005454.png'"
      ]
     },
     "execution_count": 16,
     "metadata": {},
     "output_type": "execute_result"
    },
    {
     "data": {
      "text/plain": [
       "'/Users/victor/Project4sxd/DRandDME/data/e_ophtha/MA//C0000886.png'"
      ]
     },
     "execution_count": 16,
     "metadata": {},
     "output_type": "execute_result"
    },
    {
     "data": {
      "text/plain": [
       "'/Users/victor/Project4sxd/DRandDME/data/e_ophtha/MA//C0000887.png'"
      ]
     },
     "execution_count": 16,
     "metadata": {},
     "output_type": "execute_result"
    },
    {
     "data": {
      "text/plain": [
       "'/Users/victor/Project4sxd/DRandDME/data/e_ophtha/MA//DS000E6N.png'"
      ]
     },
     "execution_count": 16,
     "metadata": {},
     "output_type": "execute_result"
    },
    {
     "data": {
      "text/plain": [
       "'/Users/victor/Project4sxd/DRandDME/data/e_ophtha/MA//C0003222.png'"
      ]
     },
     "execution_count": 16,
     "metadata": {},
     "output_type": "execute_result"
    },
    {
     "data": {
      "text/plain": [
       "'/Users/victor/Project4sxd/DRandDME/data/e_ophtha/MA//C0003226.png'"
      ]
     },
     "execution_count": 16,
     "metadata": {},
     "output_type": "execute_result"
    },
    {
     "data": {
      "text/plain": [
       "'/Users/victor/Project4sxd/DRandDME/data/e_ophtha/MA//DS000U4U.png'"
      ]
     },
     "execution_count": 16,
     "metadata": {},
     "output_type": "execute_result"
    },
    {
     "data": {
      "text/plain": [
       "'/Users/victor/Project4sxd/DRandDME/data/e_ophtha/MA//C0007245.png'"
      ]
     },
     "execution_count": 16,
     "metadata": {},
     "output_type": "execute_result"
    },
    {
     "data": {
      "text/plain": [
       "'/Users/victor/Project4sxd/DRandDME/data/e_ophtha/MA//DS000V1R.png'"
      ]
     },
     "execution_count": 16,
     "metadata": {},
     "output_type": "execute_result"
    },
    {
     "data": {
      "text/plain": [
       "'/Users/victor/Project4sxd/DRandDME/data/e_ophtha/MA//DS000V1O.png'"
      ]
     },
     "execution_count": 16,
     "metadata": {},
     "output_type": "execute_result"
    },
    {
     "data": {
      "text/plain": [
       "'/Users/victor/Project4sxd/DRandDME/data/e_ophtha/MA//C0024545.png'"
      ]
     },
     "execution_count": 16,
     "metadata": {},
     "output_type": "execute_result"
    },
    {
     "data": {
      "text/plain": [
       "'/Users/victor/Project4sxd/DRandDME/data/e_ophtha/MA//C0024544.png'"
      ]
     },
     "execution_count": 16,
     "metadata": {},
     "output_type": "execute_result"
    },
    {
     "data": {
      "text/plain": [
       "'/Users/victor/Project4sxd/DRandDME/data/e_ophtha/MA//DS000FMH.png'"
      ]
     },
     "execution_count": 16,
     "metadata": {},
     "output_type": "execute_result"
    },
    {
     "data": {
      "text/plain": [
       "'/Users/victor/Project4sxd/DRandDME/data/e_ophtha/MA//DS000VCN.png'"
      ]
     },
     "execution_count": 16,
     "metadata": {},
     "output_type": "execute_result"
    },
    {
     "data": {
      "text/plain": [
       "'/Users/victor/Project4sxd/DRandDME/data/e_ophtha/MA//C0022011.png'"
      ]
     },
     "execution_count": 16,
     "metadata": {},
     "output_type": "execute_result"
    },
    {
     "data": {
      "text/plain": [
       "'/Users/victor/Project4sxd/DRandDME/data/e_ophtha/MA//DS000I6W.png'"
      ]
     },
     "execution_count": 16,
     "metadata": {},
     "output_type": "execute_result"
    },
    {
     "data": {
      "text/plain": [
       "'/Users/victor/Project4sxd/DRandDME/data/e_ophtha/MA//DS000I6Z.png'"
      ]
     },
     "execution_count": 16,
     "metadata": {},
     "output_type": "execute_result"
    },
    {
     "data": {
      "text/plain": [
       "'/Users/victor/Project4sxd/DRandDME/data/e_ophtha/MA//DS000I6X.png'"
      ]
     },
     "execution_count": 16,
     "metadata": {},
     "output_type": "execute_result"
    },
    {
     "data": {
      "text/plain": [
       "'/Users/victor/Project4sxd/DRandDME/data/e_ophtha/MA//C0024245.png'"
      ]
     },
     "execution_count": 16,
     "metadata": {},
     "output_type": "execute_result"
    },
    {
     "data": {
      "text/plain": [
       "'/Users/victor/Project4sxd/DRandDME/data/e_ophtha/MA//C0008258.png'"
      ]
     },
     "execution_count": 16,
     "metadata": {},
     "output_type": "execute_result"
    },
    {
     "data": {
      "text/plain": [
       "'/Users/victor/Project4sxd/DRandDME/data/e_ophtha/MA//C0030694.png'"
      ]
     },
     "execution_count": 16,
     "metadata": {},
     "output_type": "execute_result"
    },
    {
     "data": {
      "text/plain": [
       "'/Users/victor/Project4sxd/DRandDME/data/e_ophtha/MA//C0030692.png'"
      ]
     },
     "execution_count": 16,
     "metadata": {},
     "output_type": "execute_result"
    },
    {
     "data": {
      "text/plain": [
       "'/Users/victor/Project4sxd/DRandDME/data/e_ophtha/MA//C0007333.png'"
      ]
     },
     "execution_count": 16,
     "metadata": {},
     "output_type": "execute_result"
    },
    {
     "data": {
      "text/plain": [
       "'/Users/victor/Project4sxd/DRandDME/data/e_ophtha/MA//C0007331.png'"
      ]
     },
     "execution_count": 16,
     "metadata": {},
     "output_type": "execute_result"
    },
    {
     "data": {
      "text/plain": [
       "'/Users/victor/Project4sxd/DRandDME/data/e_ophtha/MA//C0030734.png'"
      ]
     },
     "execution_count": 16,
     "metadata": {},
     "output_type": "execute_result"
    },
    {
     "data": {
      "text/plain": [
       "'/Users/victor/Project4sxd/DRandDME/data/e_ophtha/MA//C0030735.png'"
      ]
     },
     "execution_count": 16,
     "metadata": {},
     "output_type": "execute_result"
    },
    {
     "data": {
      "text/plain": [
       "'/Users/victor/Project4sxd/DRandDME/data/e_ophtha/MA//C0030737.png'"
      ]
     },
     "execution_count": 16,
     "metadata": {},
     "output_type": "execute_result"
    },
    {
     "data": {
      "text/plain": [
       "'/Users/victor/Project4sxd/DRandDME/data/e_ophtha/MA//DS000DBR.png'"
      ]
     },
     "execution_count": 16,
     "metadata": {},
     "output_type": "execute_result"
    },
    {
     "data": {
      "text/plain": [
       "'/Users/victor/Project4sxd/DRandDME/data/e_ophtha/MA//DS000DBQ.png'"
      ]
     },
     "execution_count": 16,
     "metadata": {},
     "output_type": "execute_result"
    },
    {
     "data": {
      "text/plain": [
       "'/Users/victor/Project4sxd/DRandDME/data/e_ophtha/MA//DS000DBP.png'"
      ]
     },
     "execution_count": 16,
     "metadata": {},
     "output_type": "execute_result"
    },
    {
     "data": {
      "text/plain": [
       "'/Users/victor/Project4sxd/DRandDME/data/e_ophtha/MA//DS000DBO.png'"
      ]
     },
     "execution_count": 16,
     "metadata": {},
     "output_type": "execute_result"
    },
    {
     "data": {
      "text/plain": [
       "'/Users/victor/Project4sxd/DRandDME/data/e_ophtha/MA//C0007155.png'"
      ]
     },
     "execution_count": 16,
     "metadata": {},
     "output_type": "execute_result"
    },
    {
     "data": {
      "text/plain": [
       "'/Users/victor/Project4sxd/DRandDME/data/e_ophtha/MA//C0007157.png'"
      ]
     },
     "execution_count": 16,
     "metadata": {},
     "output_type": "execute_result"
    },
    {
     "data": {
      "text/plain": [
       "'/Users/victor/Project4sxd/DRandDME/data/e_ophtha/MA//C0007156.png'"
      ]
     },
     "execution_count": 16,
     "metadata": {},
     "output_type": "execute_result"
    },
    {
     "data": {
      "text/plain": [
       "'/Users/victor/Project4sxd/DRandDME/data/e_ophtha/MA//C0007158.png'"
      ]
     },
     "execution_count": 16,
     "metadata": {},
     "output_type": "execute_result"
    },
    {
     "data": {
      "text/plain": [
       "'/Users/victor/Project4sxd/DRandDME/data/e_ophtha/MA//C0024414.png'"
      ]
     },
     "execution_count": 16,
     "metadata": {},
     "output_type": "execute_result"
    },
    {
     "data": {
      "text/plain": [
       "'/Users/victor/Project4sxd/DRandDME/data/e_ophtha/MA//C0024411.png'"
      ]
     },
     "execution_count": 16,
     "metadata": {},
     "output_type": "execute_result"
    },
    {
     "data": {
      "text/plain": [
       "'/Users/victor/Project4sxd/DRandDME/data/e_ophtha/MA//C0024413.png'"
      ]
     },
     "execution_count": 16,
     "metadata": {},
     "output_type": "execute_result"
    },
    {
     "data": {
      "text/plain": [
       "'/Users/victor/Project4sxd/DRandDME/data/e_ophtha/MA//C0001365.png'"
      ]
     },
     "execution_count": 16,
     "metadata": {},
     "output_type": "execute_result"
    },
    {
     "data": {
      "text/plain": [
       "'/Users/victor/Project4sxd/DRandDME/data/e_ophtha/MA//DS000DGS.png'"
      ]
     },
     "execution_count": 16,
     "metadata": {},
     "output_type": "execute_result"
    },
    {
     "data": {
      "text/plain": [
       "'/Users/victor/Project4sxd/DRandDME/data/e_ophtha/MA//C0007104.png'"
      ]
     },
     "execution_count": 16,
     "metadata": {},
     "output_type": "execute_result"
    },
    {
     "data": {
      "text/plain": [
       "'/Users/victor/Project4sxd/DRandDME/data/e_ophtha/MA//C0007105.png'"
      ]
     },
     "execution_count": 16,
     "metadata": {},
     "output_type": "execute_result"
    },
    {
     "data": {
      "text/plain": [
       "'/Users/victor/Project4sxd/DRandDME/data/e_ophtha/MA//C0007106.png'"
      ]
     },
     "execution_count": 16,
     "metadata": {},
     "output_type": "execute_result"
    },
    {
     "data": {
      "text/plain": [
       "'/Users/victor/Project4sxd/DRandDME/data/e_ophtha/MA//C0007102.png'"
      ]
     },
     "execution_count": 16,
     "metadata": {},
     "output_type": "execute_result"
    },
    {
     "data": {
      "text/plain": [
       "'/Users/victor/Project4sxd/DRandDME/data/e_ophtha/MA//C0021835.png'"
      ]
     },
     "execution_count": 16,
     "metadata": {},
     "output_type": "execute_result"
    },
    {
     "data": {
      "text/plain": [
       "'/Users/victor/Project4sxd/DRandDME/data/e_ophtha/MA//C0021833.png'"
      ]
     },
     "execution_count": 16,
     "metadata": {},
     "output_type": "execute_result"
    },
    {
     "data": {
      "text/plain": [
       "'/Users/victor/Project4sxd/DRandDME/data/e_ophtha/MA//C0001884.png'"
      ]
     },
     "execution_count": 16,
     "metadata": {},
     "output_type": "execute_result"
    },
    {
     "data": {
      "text/plain": [
       "'/Users/victor/Project4sxd/DRandDME/data/e_ophtha/MA//C0001885.png'"
      ]
     },
     "execution_count": 16,
     "metadata": {},
     "output_type": "execute_result"
    },
    {
     "data": {
      "text/plain": [
       "'/Users/victor/Project4sxd/DRandDME/data/e_ophtha/MA//C0001886.png'"
      ]
     },
     "execution_count": 16,
     "metadata": {},
     "output_type": "execute_result"
    },
    {
     "data": {
      "text/plain": [
       "'/Users/victor/Project4sxd/DRandDME/data/e_ophtha/MA//C0001883.png'"
      ]
     },
     "execution_count": 16,
     "metadata": {},
     "output_type": "execute_result"
    },
    {
     "data": {
      "text/plain": [
       "'/Users/victor/Project4sxd/DRandDME/data/e_ophtha/MA//C0022681.png'"
      ]
     },
     "execution_count": 16,
     "metadata": {},
     "output_type": "execute_result"
    },
    {
     "data": {
      "text/plain": [
       "'/Users/victor/Project4sxd/DRandDME/data/e_ophtha/MA//C0032886.png'"
      ]
     },
     "execution_count": 16,
     "metadata": {},
     "output_type": "execute_result"
    },
    {
     "data": {
      "text/plain": [
       "'/Users/victor/Project4sxd/DRandDME/data/e_ophtha/MA//C0022966.png'"
      ]
     },
     "execution_count": 16,
     "metadata": {},
     "output_type": "execute_result"
    },
    {
     "data": {
      "text/plain": [
       "'/Users/victor/Project4sxd/DRandDME/data/e_ophtha/MA//C0022963.png'"
      ]
     },
     "execution_count": 16,
     "metadata": {},
     "output_type": "execute_result"
    },
    {
     "data": {
      "text/plain": [
       "'/Users/victor/Project4sxd/DRandDME/data/e_ophtha/MA//C0014728.png'"
      ]
     },
     "execution_count": 16,
     "metadata": {},
     "output_type": "execute_result"
    },
    {
     "data": {
      "text/plain": [
       "'/Users/victor/Project4sxd/DRandDME/data/e_ophtha/MA//C0014729.png'"
      ]
     },
     "execution_count": 16,
     "metadata": {},
     "output_type": "execute_result"
    },
    {
     "data": {
      "text/plain": [
       "'/Users/victor/Project4sxd/DRandDME/data/e_ophtha/MA//C0014727.png'"
      ]
     },
     "execution_count": 16,
     "metadata": {},
     "output_type": "execute_result"
    },
    {
     "data": {
      "text/plain": [
       "'/Users/victor/Project4sxd/DRandDME/data/e_ophtha/MA//C0014726.png'"
      ]
     },
     "execution_count": 16,
     "metadata": {},
     "output_type": "execute_result"
    },
    {
     "data": {
      "text/plain": [
       "'/Users/victor/Project4sxd/DRandDME/data/e_ophtha/MA//DS000FOK.png'"
      ]
     },
     "execution_count": 16,
     "metadata": {},
     "output_type": "execute_result"
    },
    {
     "data": {
      "text/plain": [
       "'/Users/victor/Project4sxd/DRandDME/data/e_ophtha/MA//DS000FOL.png'"
      ]
     },
     "execution_count": 16,
     "metadata": {},
     "output_type": "execute_result"
    },
    {
     "data": {
      "text/plain": [
       "'/Users/victor/Project4sxd/DRandDME/data/e_ophtha/MA//DS000FOM.png'"
      ]
     },
     "execution_count": 16,
     "metadata": {},
     "output_type": "execute_result"
    },
    {
     "data": {
      "text/plain": [
       "'/Users/victor/Project4sxd/DRandDME/data/e_ophtha/MA//C0014793.png'"
      ]
     },
     "execution_count": 16,
     "metadata": {},
     "output_type": "execute_result"
    },
    {
     "data": {
      "text/plain": [
       "'/Users/victor/Project4sxd/DRandDME/data/e_ophtha/MA//C0014790.png'"
      ]
     },
     "execution_count": 16,
     "metadata": {},
     "output_type": "execute_result"
    },
    {
     "data": {
      "text/plain": [
       "'/Users/victor/Project4sxd/DRandDME/data/e_ophtha/MA//C0024340.png'"
      ]
     },
     "execution_count": 16,
     "metadata": {},
     "output_type": "execute_result"
    },
    {
     "data": {
      "text/plain": [
       "'/Users/victor/Project4sxd/DRandDME/data/e_ophtha/MA//C0024341.png'"
      ]
     },
     "execution_count": 16,
     "metadata": {},
     "output_type": "execute_result"
    },
    {
     "data": {
      "text/plain": [
       "'/Users/victor/Project4sxd/DRandDME/data/e_ophtha/MA//DS000B1J.png'"
      ]
     },
     "execution_count": 16,
     "metadata": {},
     "output_type": "execute_result"
    },
    {
     "data": {
      "text/plain": [
       "'/Users/victor/Project4sxd/DRandDME/data/e_ophtha/MA//DS000B1H.png'"
      ]
     },
     "execution_count": 16,
     "metadata": {},
     "output_type": "execute_result"
    },
    {
     "data": {
      "text/plain": [
       "'/Users/victor/Project4sxd/DRandDME/data/e_ophtha/MA//DS000B1I.png'"
      ]
     },
     "execution_count": 16,
     "metadata": {},
     "output_type": "execute_result"
    },
    {
     "data": {
      "text/plain": [
       "'/Users/victor/Project4sxd/DRandDME/data/e_ophtha/MA//DS000STU.png'"
      ]
     },
     "execution_count": 16,
     "metadata": {},
     "output_type": "execute_result"
    },
    {
     "data": {
      "text/plain": [
       "'/Users/victor/Project4sxd/DRandDME/data/e_ophtha/MA//DS000STW.png'"
      ]
     },
     "execution_count": 16,
     "metadata": {},
     "output_type": "execute_result"
    },
    {
     "data": {
      "text/plain": [
       "'/Users/victor/Project4sxd/DRandDME/data/e_ophtha/MA//DS000DPJ.png'"
      ]
     },
     "execution_count": 16,
     "metadata": {},
     "output_type": "execute_result"
    },
    {
     "data": {
      "text/plain": [
       "'/Users/victor/Project4sxd/DRandDME/data/e_ophtha/MA//DS000DPL.png'"
      ]
     },
     "execution_count": 16,
     "metadata": {},
     "output_type": "execute_result"
    }
   ],
   "source": [
    "# -*- coding: utf-8 -*-\n",
    "#把path文件夹下以及其子文件下的所有png图片移动（不是复制）到new_path\n",
    "\n",
    "import os\n",
    "import shutil\n",
    "path = '/Users/victor/Project4sxd/DRandDME/data/e_ophtha/e_optha_MA/'\n",
    "new_path = '/Users/victor/Project4sxd/DRandDME/data/e_ophtha/MA/'\n",
    "\n",
    "for root, dirs, files in os.walk(path):\n",
    "    #print(len(dirs))\n",
    "    #print(files)\n",
    "    if len(dirs) == 0:\n",
    "        for i in range(len(files)):\n",
    "            if files[i][-3:] == 'jpg' or files[i][-3:] == 'png':\n",
    "                file_path = root+'/'+files[i]\n",
    "                new_file_path = new_path+ '/'+ files[i]\n",
    "                shutil.copy(file_path,new_file_path)"
   ]
  },
  {
   "cell_type": "code",
   "execution_count": null,
   "metadata": {},
   "outputs": [],
   "source": []
  },
  {
   "cell_type": "code",
   "execution_count": null,
   "metadata": {},
   "outputs": [],
   "source": []
  }
 ],
 "metadata": {
  "kernelspec": {
   "display_name": "Python 3",
   "language": "python",
   "name": "python3"
  },
  "language_info": {
   "codemirror_mode": {
    "name": "ipython",
    "version": 3
   },
   "file_extension": ".py",
   "mimetype": "text/x-python",
   "name": "python",
   "nbconvert_exporter": "python",
   "pygments_lexer": "ipython3",
   "version": "3.5.4"
  }
 },
 "nbformat": 4,
 "nbformat_minor": 2
}
