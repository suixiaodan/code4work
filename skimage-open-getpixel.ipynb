{
 "cells": [
  {
   "cell_type": "code",
   "execution_count": 48,
   "metadata": {},
   "outputs": [],
   "source": [
    "from skimage import io,color\n",
    "from PIL import Image  \n",
    "import numpy as np\n",
    "import skimage.io\n",
    "import os,sys\n",
    "import cv2"
   ]
  },
  {
   "cell_type": "code",
   "execution_count": 49,
   "metadata": {},
   "outputs": [],
   "source": [
    "instance_masks = []\n",
    "class_ids = []"
   ]
  },
  {
   "cell_type": "code",
   "execution_count": 56,
   "metadata": {},
   "outputs": [
    {
     "name": "stdout",
     "output_type": "stream",
     "text": [
      "[ 0.83333333  1.          1.        ]\n",
      "[ 212.  255.  255.]\n",
      "[255   0 255]\n"
     ]
    }
   ],
   "source": [
    "image = skimage.io.imread('2.png')\n",
    "#image = skimage.io.imread(self.image_info[image_id]['path_img'])\n",
    "image = skimage.color.rgb2hsv(image)\n",
    "print(image[1050,1250])\n",
    "image = np.around(image * 255)\n",
    "print(image[1050,1250])\n",
    "\n",
    "image1 = skimage.io.imread('2.png')\n",
    "#image = skimage.io.imread(self.image_info[image_id]['path_img'])\n",
    "#image = skimage.color.rgb2hsv(image)\n",
    "print(image1[1050,1250])"
   ]
  },
  {
   "cell_type": "code",
   "execution_count": 46,
   "metadata": {},
   "outputs": [
    {
     "name": "stdout",
     "output_type": "stream",
     "text": [
      "(1920, 2560, 3)\n",
      "(1920, 2560, 3)\n",
      "0\n"
     ]
    },
    {
     "data": {
      "text/plain": [
       "True"
      ]
     },
     "execution_count": 46,
     "metadata": {},
     "output_type": "execute_result"
    },
    {
     "data": {
      "text/plain": [
       "True"
      ]
     },
     "execution_count": 46,
     "metadata": {},
     "output_type": "execute_result"
    },
    {
     "name": "stdout",
     "output_type": "stream",
     "text": [
      "0\n"
     ]
    }
   ],
   "source": [
    "image = cv2.imread('2.png')\n",
    "print(image.shape)\n",
    "HSV = cv2.cvtColor(image, cv2.COLOR_BGR2HSV)\n",
    "print(HSV.shape)\n",
    "im_gray = cv2.cvtColor(image, cv2.COLOR_BGR2GRAY)\n",
    "print(im_gray[1735,665])\n",
    "mask_arr = np.array(img_gray==255).astype(np.uint8)\n",
    "cv2.imwrite('filemask.png',mask_arr*255)\n",
    "cv2.imwrite('filemask1.png',image[:,:,0])\n",
    "print(image[:,:,0][1735,665])"
   ]
  },
  {
   "cell_type": "code",
   "execution_count": 28,
   "metadata": {},
   "outputs": [
    {
     "name": "stdout",
     "output_type": "stream",
     "text": [
      "<class 'PIL.PngImagePlugin.PngImageFile'>\n",
      "<PIL.Image.Image image mode=L size=565x584 at 0x1155D7C50>\n",
      "[[0 0 0 ..., 0 0 0]\n",
      " [0 0 0 ..., 0 0 0]\n",
      " [0 0 0 ..., 0 0 0]\n",
      " ..., \n",
      " [0 0 0 ..., 0 0 0]\n",
      " [0 0 0 ..., 0 0 0]\n",
      " [0 0 0 ..., 0 0 0]]\n"
     ]
    }
   ],
   "source": [
    "#img=io.imread('images/11.jpeg',as_grey=True)\n",
    "img=Image.open('11_manual2.png')\n",
    "\n",
    "img1=img.convert(\"L\") \n",
    "print(type(img))\n",
    "img_gray=np.array(img1)\n",
    "print(img1)\n",
    "print(img_gray)"
   ]
  },
  {
   "cell_type": "code",
   "execution_count": 12,
   "metadata": {},
   "outputs": [
    {
     "name": "stdout",
     "output_type": "stream",
     "text": [
      "5\n"
     ]
    }
   ],
   "source": [
    "print(img_gray[500, 505])"
   ]
  },
  {
   "cell_type": "code",
   "execution_count": 13,
   "metadata": {},
   "outputs": [
    {
     "name": "stdout",
     "output_type": "stream",
     "text": [
      "0\n"
     ]
    }
   ],
   "source": [
    "print(255 // 1000)"
   ]
  },
  {
   "cell_type": "code",
   "execution_count": 57,
   "metadata": {},
   "outputs": [
    {
     "data": {
      "text/plain": [
       "True"
      ]
     },
     "execution_count": 57,
     "metadata": {},
     "output_type": "execute_result"
    }
   ],
   "source": [
    "mask_arr = np.array(img_gray!=255).astype(np.uint8)\n",
    "cv2.imwrite('filemask.png',mask_arr*255)\n",
    "# mask = np.zeros([x,y,z], dtype = np.uint8)"
   ]
  },
  {
   "cell_type": "code",
   "execution_count": 26,
   "metadata": {},
   "outputs": [
    {
     "data": {
      "text/plain": [
       "True"
      ]
     },
     "execution_count": 26,
     "metadata": {},
     "output_type": "execute_result"
    }
   ],
   "source": [
    "(x,y)=img_gray.shape\n",
    "newMask= np.zeros([x,y,3], dtype = np.uint8)\n",
    "mask_arr = np.array(img1==75).astype(np.uint8)\n",
    "newMask[:,:,2]=mask_arr*255\n",
    "cv2.imwrite('filemask.png',newMask*255)"
   ]
  },
  {
   "cell_type": "code",
   "execution_count": 20,
   "metadata": {},
   "outputs": [
    {
     "name": "stdout",
     "output_type": "stream",
     "text": [
      "TRUE\n"
     ]
    }
   ],
   "source": [
    "if 76 in img_gray:\n",
    "    print(\"TRUE\")"
   ]
  },
  {
   "cell_type": "code",
   "execution_count": 11,
   "metadata": {},
   "outputs": [],
   "source": [
    "img2 = np.array(img1)\n",
    "cc = 29\n",
    "if cc in img2:\n",
    "    print(5)"
   ]
  },
  {
   "cell_type": "code",
   "execution_count": 29,
   "metadata": {},
   "outputs": [
    {
     "name": "stdout",
     "output_type": "stream",
     "text": [
      "<PIL.Image.Image image mode=L size=565x584 at 0x1155D7A90>\n",
      "(584, 565)\n",
      "[  0   0   0   0   0   0   0   0   0   0   0   0   0   0   0   0   0   0\n",
      "   0   0   0   0   0   0   0   0   0   0   0   0   0   0   0   0   0   0\n",
      "   0   0   0   0   0   0   0   0   0   0   0   0   0   0   0   0   0   0\n",
      "   0   0   0   0   0   0   0   0   0   0   0   0   0   0   0   0   0   0\n",
      "   0   0   0   0   0   0   0   0   0   0   0   0   0   0   0   0   0   0\n",
      "   0   0   0   0   0   0   0   0   0   0   0   0   0   0   0   0   0   0\n",
      "   0   0   0   0   0   0   0   0   0   0   0   0   0   0   0   0   0   0\n",
      "   0   0   0   0   0   0   0   0   0   0   0   0   0   0   0   0   0   0\n",
      "   0   0   0   0   0   0   0   0   0   0   0   0   0   0   0   0   0   0\n",
      "   0   0   0   0   0   0   0   0   0   0   0   0   0   0   0   0   0   0\n",
      "   0   0   0   0   0   0   0   0   0   0   0   0   0   0   0   0   0   0\n",
      "   0   0   0   0   0   0   0   0   0   0   0   0   0   0   0   0   0   0\n",
      "   0   0   0   0   0   0   0   0   0   0   0   0   0   0   0   0   0   0\n",
      "   0   0   0   0   0   0   0   0   0 255 255 255 255 255 255 255   0 255\n",
      " 255 255 255 255 255 255 255 255 255 255 255 255 255 255 255 255 255   0\n",
      "   0   0 255 255 255 255   0   0   0   0 255 255 255 255 255 255 255 255\n",
      " 255 255 255 255 255 255 255 255 255 255 255 255 255 255 255 255 255 255\n",
      " 255 255 255 255   0   0   0   0 255 255 255 255 255 255 255 255 255 255\n",
      " 255 255 255 255 255 255 255 255 255 255 255 255 255 255 255 255 255 255\n",
      " 255 255 255 255 255 255 255 255 255   0   0   0   0   0   0   0   0   0\n",
      "   0   0   0   0   0   0   0   0   0   0   0   0   0   0   0   0   0   0\n",
      "   0   0   0   0   0   0   0   0 255 255 255 255   0 255   0   0   0   0\n",
      "   0   0   0   0   0   0   0   0   0   0   0   0   0   0   0   0   0   0\n",
      "   0   0   0   0   0   0   0   0   0   0   0   0   0   0   0   0   0   0\n",
      "   0   0   0   0   0   0   0   0   0   0   0   0 255   0   0   0   0   0\n",
      "   0   0   0   0   0   0   0   0   0   0   0   0   0   0   0   0   0   0\n",
      "   0   0   0   0   0   0   0   0   0   0   0   0   0   0   0   0   0   0\n",
      "   0   0   0   0   0   0   0   0   0   0   0   0   0   0   0   0   0   0\n",
      "   0   0   0   0   0   0   0   0   0   0   0   0   0   0   0   0   0   0\n",
      "   0   0   0   0   0   0   0   0   0   0   0   0   0   0   0   0   0   0\n",
      "   0   0   0   0   0   0   0   0   0   0   0   0   0   0   0   0   0   0\n",
      "   0   0   0   0   0   0   0   0   0   0   0   0   0   0   0   0   0   0\n",
      "   0   0   0   0   0   0   0   0]\n"
     ]
    }
   ],
   "source": [
    "## img=io.imread('images/11.jpeg',as_grey=True)\n",
    "img=Image.open('11_manual2.png')\n",
    "img2=img.convert(\"L\") \n",
    "img3=np.array(img2)\n",
    "print(img2)\n",
    "print(img3.shape)\n",
    "print(img3[:,56])"
   ]
  },
  {
   "cell_type": "code",
   "execution_count": 18,
   "metadata": {},
   "outputs": [
    {
     "name": "stdout",
     "output_type": "stream",
     "text": [
      "255\n",
      "255\n"
     ]
    }
   ],
   "source": [
    "print(img1.getpixel((1942,3)))\n",
    "print(img1.getpixel((1024,0)))"
   ]
  },
  {
   "cell_type": "code",
   "execution_count": 10,
   "metadata": {},
   "outputs": [
    {
     "name": "stdout",
     "output_type": "stream",
     "text": [
      "warning\n"
     ]
    }
   ],
   "source": [
    "if img2 != 0 and img2 != 255:\n",
    "    print(\"warning\")"
   ]
  },
  {
   "cell_type": "code",
   "execution_count": 37,
   "metadata": {},
   "outputs": [
    {
     "name": "stdout",
     "output_type": "stream",
     "text": [
      "149\n",
      "0\n"
     ]
    }
   ],
   "source": [
    "print(img2.getpixel((3546,1696)))\n",
    "print(img2.getpixel((3546,1695)))"
   ]
  },
  {
   "cell_type": "code",
   "execution_count": 1,
   "metadata": {},
   "outputs": [
    {
     "ename": "NameError",
     "evalue": "name 'Image' is not defined",
     "output_type": "error",
     "traceback": [
      "\u001b[0;31m---------------------------------------------------------------------------\u001b[0m",
      "\u001b[0;31mNameError\u001b[0m                                 Traceback (most recent call last)",
      "\u001b[0;32m<ipython-input-1-4fc944ef78d6>\u001b[0m in \u001b[0;36m<module>\u001b[0;34m()\u001b[0m\n\u001b[1;32m      1\u001b[0m \u001b[0;31m## img=io.imread('images/11.jpeg',as_grey=True)\u001b[0m\u001b[0;34m\u001b[0m\u001b[0;34m\u001b[0m\u001b[0m\n\u001b[0;32m----> 2\u001b[0;31m \u001b[0mimg\u001b[0m\u001b[0;34m=\u001b[0m\u001b[0mImage\u001b[0m\u001b[0;34m.\u001b[0m\u001b[0mopen\u001b[0m\u001b[0;34m(\u001b[0m\u001b[0;34m'6.png'\u001b[0m\u001b[0;34m)\u001b[0m\u001b[0;34m\u001b[0m\u001b[0m\n\u001b[0m\u001b[1;32m      3\u001b[0m \u001b[0mimg4\u001b[0m\u001b[0;34m=\u001b[0m\u001b[0mimg\u001b[0m\u001b[0;34m.\u001b[0m\u001b[0mconvert\u001b[0m\u001b[0;34m(\u001b[0m\u001b[0;34m\"L\"\u001b[0m\u001b[0;34m)\u001b[0m\u001b[0;34m\u001b[0m\u001b[0m\n\u001b[1;32m      4\u001b[0m \u001b[0mimg5\u001b[0m\u001b[0;34m=\u001b[0m\u001b[0mnp\u001b[0m\u001b[0;34m.\u001b[0m\u001b[0marray\u001b[0m\u001b[0;34m(\u001b[0m\u001b[0mimg4\u001b[0m\u001b[0;34m)\u001b[0m\u001b[0;34m\u001b[0m\u001b[0m\n\u001b[1;32m      5\u001b[0m \u001b[0mprint\u001b[0m\u001b[0;34m(\u001b[0m\u001b[0mimg5\u001b[0m\u001b[0;34m)\u001b[0m\u001b[0;34m\u001b[0m\u001b[0m\n",
      "\u001b[0;31mNameError\u001b[0m: name 'Image' is not defined"
     ]
    }
   ],
   "source": [
    "## img=io.imread('images/11.jpeg',as_grey=True)\n",
    "img=Image.open('6.png')\n",
    "img4=img.convert(\"L\") \n",
    "img5=np.array(img4)\n",
    "print(img5)\n",
    "print(img5.shape)"
   ]
  },
  {
   "cell_type": "code",
   "execution_count": 42,
   "metadata": {},
   "outputs": [
    {
     "name": "stdout",
     "output_type": "stream",
     "text": [
      "225\n",
      "29\n"
     ]
    }
   ],
   "source": [
    "print(img4.getpixel((2090,100)))\n",
    "print(img4.getpixel((1670,640)))"
   ]
  },
  {
   "cell_type": "code",
   "execution_count": 43,
   "metadata": {},
   "outputs": [
    {
     "name": "stdout",
     "output_type": "stream",
     "text": [
      "178\n",
      "105\n"
     ]
    }
   ],
   "source": [
    "print(img4.getpixel((1572,623)))\n",
    "print(img4.getpixel((1414,662)))"
   ]
  },
  {
   "cell_type": "code",
   "execution_count": 44,
   "metadata": {},
   "outputs": [
    {
     "name": "stdout",
     "output_type": "stream",
     "text": [
      "[[0 0 0 ..., 0 0 0]\n",
      " [0 0 0 ..., 0 0 0]\n",
      " [0 0 0 ..., 0 0 0]\n",
      " ..., \n",
      " [0 0 0 ..., 0 0 0]\n",
      " [0 0 0 ..., 0 0 0]\n",
      " [0 0 0 ..., 0 0 0]]\n",
      "(2592, 3888)\n"
     ]
    }
   ],
   "source": [
    "img=Image.open('3.png')\n",
    "img6=img.convert(\"L\") \n",
    "img7=np.array(img6)\n",
    "print(img7)\n",
    "print(img7.shape)"
   ]
  },
  {
   "cell_type": "code",
   "execution_count": 45,
   "metadata": {},
   "outputs": [
    {
     "name": "stdout",
     "output_type": "stream",
     "text": [
      "225\n",
      "29\n",
      "178\n",
      "105\n"
     ]
    }
   ],
   "source": [
    "print(img6.getpixel((1920,170)))\n",
    "print(img6.getpixel((2016,174)))\n",
    "print(img6.getpixel((1786,216)))\n",
    "print(img6.getpixel((2684,1640)))"
   ]
  },
  {
   "cell_type": "code",
   "execution_count": 9,
   "metadata": {},
   "outputs": [
    {
     "name": "stdout",
     "output_type": "stream",
     "text": [
      "0\n",
      "179\n",
      "28\n",
      "68\n",
      "225\n"
     ]
    }
   ],
   "source": [
    "print(img1.getpixel((0,0)))\n",
    "print(img1.getpixel((0,1)))\n",
    "print(img1.getpixel((0,2)))\n",
    "\n",
    "print(img1.getpixel((0,3)))\n",
    "print(img1.getpixel((0,4)))\n",
    "#print(img1.getpixel((14,9)))"
   ]
  },
  {
   "cell_type": "code",
   "execution_count": 16,
   "metadata": {},
   "outputs": [
    {
     "name": "stdout",
     "output_type": "stream",
     "text": [
      "177\n"
     ]
    }
   ],
   "source": [
    "print(img1.getpixel((1032,478)))"
   ]
  },
  {
   "cell_type": "code",
   "execution_count": 26,
   "metadata": {},
   "outputs": [],
   "source": [
    "a = np.array(img1)\n",
    "b = np.array(img)"
   ]
  },
  {
   "cell_type": "code",
   "execution_count": 27,
   "metadata": {},
   "outputs": [],
   "source": [
    "instance_masks.append(a)\n",
    "class_ids.append(1)"
   ]
  },
  {
   "cell_type": "code",
   "execution_count": 28,
   "metadata": {},
   "outputs": [],
   "source": [
    "instance_masks.append(b)"
   ]
  },
  {
   "cell_type": "code",
   "execution_count": 29,
   "metadata": {},
   "outputs": [
    {
     "name": "stdout",
     "output_type": "stream",
     "text": [
      "[array([[75, 75, 75, ...,  0,  0,  0],\n",
      "       [75, 75, 75, ...,  0,  0,  0],\n",
      "       [75, 75, 75, ...,  0,  0,  0],\n",
      "       ..., \n",
      "       [ 0,  0,  0, ...,  0,  0,  0],\n",
      "       [ 0,  0,  0, ...,  0,  0,  0],\n",
      "       [ 0,  0,  0, ...,  0,  0,  0]], dtype=uint8), array([[149, 149, 149, ..., 149, 149, 149],\n",
      "       [149, 149, 149, ..., 149, 149, 149],\n",
      "       [149, 149, 149, ..., 149, 149, 149],\n",
      "       ..., \n",
      "       [149, 149, 149, ..., 149, 149, 149],\n",
      "       [149, 149, 149, ..., 149, 149, 149],\n",
      "       [149, 149, 149, ..., 149, 149, 149]], dtype=uint8), array([[[  0, 255,   1],\n",
      "        [  0, 255,   1],\n",
      "        [  0, 255,   1],\n",
      "        ..., \n",
      "        [  0, 255,   1],\n",
      "        [  0, 255,   1],\n",
      "        [  0, 255,   1]],\n",
      "\n",
      "       [[  0, 255,   1],\n",
      "        [  0, 255,   1],\n",
      "        [  0, 255,   1],\n",
      "        ..., \n",
      "        [  0, 255,   1],\n",
      "        [  0, 255,   1],\n",
      "        [  0, 255,   1]],\n",
      "\n",
      "       [[  0, 255,   1],\n",
      "        [  0, 255,   1],\n",
      "        [  0, 255,   1],\n",
      "        ..., \n",
      "        [  0, 255,   1],\n",
      "        [  0, 255,   1],\n",
      "        [  0, 255,   1]],\n",
      "\n",
      "       ..., \n",
      "       [[  0, 255,   1],\n",
      "        [  0, 255,   1],\n",
      "        [  0, 255,   1],\n",
      "        ..., \n",
      "        [  0, 255,   1],\n",
      "        [  0, 255,   1],\n",
      "        [  0, 255,   1]],\n",
      "\n",
      "       [[  0, 255,   1],\n",
      "        [  0, 255,   1],\n",
      "        [  0, 255,   1],\n",
      "        ..., \n",
      "        [  0, 255,   1],\n",
      "        [  0, 255,   1],\n",
      "        [  0, 255,   1]],\n",
      "\n",
      "       [[  0, 255,   1],\n",
      "        [  0, 255,   1],\n",
      "        [  0, 255,   1],\n",
      "        ..., \n",
      "        [  0, 255,   1],\n",
      "        [  0, 255,   1],\n",
      "        [  0, 255,   1]]], dtype=uint8)]\n",
      "[1, 1]\n"
     ]
    }
   ],
   "source": [
    "print(instance_masks)\n",
    "print(class_ids)"
   ]
  },
  {
   "cell_type": "code",
   "execution_count": 30,
   "metadata": {},
   "outputs": [
    {
     "name": "stdout",
     "output_type": "stream",
     "text": [
      "[[149 149 149 ..., 149 149 149]\n",
      " [149 149 149 ..., 149 149 149]\n",
      " [149 149 149 ..., 149 149 149]\n",
      " ..., \n",
      " [149 149 149 ..., 149 149 149]\n",
      " [149 149 149 ..., 149 149 149]\n",
      " [149 149 149 ..., 149 149 149]]\n"
     ]
    }
   ],
   "source": [
    "a = np.array(img1)\n",
    "print(a)"
   ]
  },
  {
   "cell_type": "code",
   "execution_count": 31,
   "metadata": {},
   "outputs": [
    {
     "name": "stdout",
     "output_type": "stream",
     "text": [
      "<PIL.Image.Image image mode=L size=2550x3300 at 0x10CD3FDA0>\n"
     ]
    }
   ],
   "source": [
    "print(img1)"
   ]
  },
  {
   "cell_type": "code",
   "execution_count": 32,
   "metadata": {},
   "outputs": [],
   "source": [
    "img=np.array(img.convert(\"L\") )"
   ]
  },
  {
   "cell_type": "code",
   "execution_count": 33,
   "metadata": {},
   "outputs": [
    {
     "name": "stdout",
     "output_type": "stream",
     "text": [
      "[array([[75, 75, 75, ...,  0,  0,  0],\n",
      "       [75, 75, 75, ...,  0,  0,  0],\n",
      "       [75, 75, 75, ...,  0,  0,  0],\n",
      "       ..., \n",
      "       [ 0,  0,  0, ...,  0,  0,  0],\n",
      "       [ 0,  0,  0, ...,  0,  0,  0],\n",
      "       [ 0,  0,  0, ...,  0,  0,  0]], dtype=uint8), array([[149, 149, 149, ..., 149, 149, 149],\n",
      "       [149, 149, 149, ..., 149, 149, 149],\n",
      "       [149, 149, 149, ..., 149, 149, 149],\n",
      "       ..., \n",
      "       [149, 149, 149, ..., 149, 149, 149],\n",
      "       [149, 149, 149, ..., 149, 149, 149],\n",
      "       [149, 149, 149, ..., 149, 149, 149]], dtype=uint8), array([[[  0, 255,   1],\n",
      "        [  0, 255,   1],\n",
      "        [  0, 255,   1],\n",
      "        ..., \n",
      "        [  0, 255,   1],\n",
      "        [  0, 255,   1],\n",
      "        [  0, 255,   1]],\n",
      "\n",
      "       [[  0, 255,   1],\n",
      "        [  0, 255,   1],\n",
      "        [  0, 255,   1],\n",
      "        ..., \n",
      "        [  0, 255,   1],\n",
      "        [  0, 255,   1],\n",
      "        [  0, 255,   1]],\n",
      "\n",
      "       [[  0, 255,   1],\n",
      "        [  0, 255,   1],\n",
      "        [  0, 255,   1],\n",
      "        ..., \n",
      "        [  0, 255,   1],\n",
      "        [  0, 255,   1],\n",
      "        [  0, 255,   1]],\n",
      "\n",
      "       ..., \n",
      "       [[  0, 255,   1],\n",
      "        [  0, 255,   1],\n",
      "        [  0, 255,   1],\n",
      "        ..., \n",
      "        [  0, 255,   1],\n",
      "        [  0, 255,   1],\n",
      "        [  0, 255,   1]],\n",
      "\n",
      "       [[  0, 255,   1],\n",
      "        [  0, 255,   1],\n",
      "        [  0, 255,   1],\n",
      "        ..., \n",
      "        [  0, 255,   1],\n",
      "        [  0, 255,   1],\n",
      "        [  0, 255,   1]],\n",
      "\n",
      "       [[  0, 255,   1],\n",
      "        [  0, 255,   1],\n",
      "        [  0, 255,   1],\n",
      "        ..., \n",
      "        [  0, 255,   1],\n",
      "        [  0, 255,   1],\n",
      "        [  0, 255,   1]]], dtype=uint8)]\n"
     ]
    }
   ],
   "source": [
    "mask = instance_masks\n",
    "print(mask)"
   ]
  },
  {
   "cell_type": "code",
   "execution_count": 26,
   "metadata": {},
   "outputs": [],
   "source": [
    "with open('DataList/trainList.txt', 'r') as f:\n",
    "    DataList=[l.strip('\\n') for l in f.readlines()]"
   ]
  },
  {
   "cell_type": "code",
   "execution_count": 29,
   "metadata": {},
   "outputs": [
    {
     "name": "stdout",
     "output_type": "stream",
     "text": [
      "4\n"
     ]
    }
   ],
   "source": [
    "print(len(linelist))"
   ]
  },
  {
   "cell_type": "code",
   "execution_count": null,
   "metadata": {},
   "outputs": [],
   "source": [
    "for line in file.readlines():\n",
    "    line=line.strip('\\n')"
   ]
  },
  {
   "cell_type": "code",
   "execution_count": 40,
   "metadata": {},
   "outputs": [
    {
     "name": "stdout",
     "output_type": "stream",
     "text": [
      "/Users/victor/code4suixiaodan/Mask_RCNN-master/cocokkk.jpg\n"
     ]
    }
   ],
   "source": [
    "Program_dir = os.getcwd()\n",
    "images_dir = '/coco'\n",
    "data_dir = Program_dir + images_dir+'kkk.jpg'\n",
    "print(data_dir)"
   ]
  },
  {
   "cell_type": "code",
   "execution_count": 41,
   "metadata": {},
   "outputs": [
    {
     "name": "stdout",
     "output_type": "stream",
     "text": [
      "The local minimum occurs at 2.249965\n"
     ]
    }
   ],
   "source": [
    "cur_x = 6 # The algorithm starts at x=6\n",
    "gamma = 0.01 # step size multiplier\n",
    "precision = 0.00001\n",
    "previous_step_size = cur_x\n",
    "\n",
    "df = lambda x: 4 * x**3 - 9 * x**2\n",
    "\n",
    "while previous_step_size > precision:\n",
    "    prev_x = cur_x\n",
    "    cur_x += -gamma * df(prev_x)\n",
    "    previous_step_size = abs(cur_x - prev_x)\n",
    "\n",
    "print(\"The local minimum occurs at %f\" % cur_x)"
   ]
  },
  {
   "cell_type": "code",
   "execution_count": null,
   "metadata": {},
   "outputs": [],
   "source": []
  }
 ],
 "metadata": {
  "kernelspec": {
   "display_name": "Python 3",
   "language": "python",
   "name": "python3"
  },
  "language_info": {
   "codemirror_mode": {
    "name": "ipython",
    "version": 3
   },
   "file_extension": ".py",
   "mimetype": "text/x-python",
   "name": "python",
   "nbconvert_exporter": "python",
   "pygments_lexer": "ipython3",
   "version": "3.5.4"
  }
 },
 "nbformat": 4,
 "nbformat_minor": 2
}
