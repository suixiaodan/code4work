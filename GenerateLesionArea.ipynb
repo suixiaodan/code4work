{
 "cells": [
  {
   "cell_type": "markdown",
   "metadata": {},
   "source": [
    "# 根据眼底糖网图像数据集diaretdb1_v_1_1的ground truth来生成区域，\n",
    "背景用黑色显示，方便标注。"
   ]
  },
  {
   "cell_type": "code",
   "execution_count": 8,
   "metadata": {},
   "outputs": [],
   "source": [
    "from skimage import io\n",
    "import numpy as np"
   ]
  },
  {
   "cell_type": "code",
   "execution_count": 11,
   "metadata": {},
   "outputs": [
    {
     "name": "stdout",
     "output_type": "stream",
     "text": [
      "<class 'numpy.ndarray'> uint8\n",
      "<class 'numpy.ndarray'> uint8\n",
      "1\n",
      "<class 'numpy.ndarray'> uint8\n",
      "<class 'numpy.ndarray'> uint8\n",
      "2\n",
      "<class 'numpy.ndarray'> uint8\n",
      "<class 'numpy.ndarray'> uint8\n",
      "3\n",
      "<class 'numpy.ndarray'> uint8\n",
      "<class 'numpy.ndarray'> uint8\n",
      "4\n",
      "<class 'numpy.ndarray'> uint8\n",
      "<class 'numpy.ndarray'> uint8\n",
      "5\n",
      "<class 'numpy.ndarray'> uint8\n",
      "<class 'numpy.ndarray'> uint8\n",
      "6\n",
      "<class 'numpy.ndarray'> uint8\n",
      "<class 'numpy.ndarray'> uint8\n",
      "7\n",
      "<class 'numpy.ndarray'> uint8\n",
      "<class 'numpy.ndarray'> uint8\n",
      "8\n",
      "<class 'numpy.ndarray'> uint8\n",
      "<class 'numpy.ndarray'> uint8\n",
      "9\n",
      "<class 'numpy.ndarray'> uint8\n",
      "<class 'numpy.ndarray'> uint8\n",
      "10\n",
      "<class 'numpy.ndarray'> uint8\n",
      "<class 'numpy.ndarray'> uint8\n",
      "11\n",
      "<class 'numpy.ndarray'> uint8\n",
      "<class 'numpy.ndarray'> uint8\n",
      "12\n",
      "<class 'numpy.ndarray'> uint8\n",
      "<class 'numpy.ndarray'> uint8\n",
      "13\n",
      "<class 'numpy.ndarray'> uint8\n",
      "<class 'numpy.ndarray'> uint8\n",
      "14\n",
      "<class 'numpy.ndarray'> uint8\n",
      "<class 'numpy.ndarray'> uint8\n",
      "15\n",
      "<class 'numpy.ndarray'> uint8\n",
      "<class 'numpy.ndarray'> uint8\n",
      "16\n",
      "<class 'numpy.ndarray'> uint8\n",
      "<class 'numpy.ndarray'> uint8\n",
      "17\n",
      "<class 'numpy.ndarray'> uint8\n",
      "<class 'numpy.ndarray'> uint8\n",
      "18\n",
      "<class 'numpy.ndarray'> uint8\n",
      "<class 'numpy.ndarray'> uint8\n",
      "19\n",
      "<class 'numpy.ndarray'> uint8\n",
      "<class 'numpy.ndarray'> uint8\n",
      "20\n",
      "<class 'numpy.ndarray'> uint8\n",
      "<class 'numpy.ndarray'> uint8\n",
      "21\n",
      "<class 'numpy.ndarray'> uint8\n",
      "<class 'numpy.ndarray'> uint8\n",
      "22\n",
      "<class 'numpy.ndarray'> uint8\n",
      "<class 'numpy.ndarray'> uint8\n",
      "23\n",
      "<class 'numpy.ndarray'> uint8\n",
      "<class 'numpy.ndarray'> uint8\n",
      "24\n",
      "<class 'numpy.ndarray'> uint8\n",
      "<class 'numpy.ndarray'> uint8\n",
      "25\n",
      "<class 'numpy.ndarray'> uint8\n",
      "<class 'numpy.ndarray'> uint8\n",
      "26\n",
      "<class 'numpy.ndarray'> uint8\n",
      "<class 'numpy.ndarray'> uint8\n",
      "27\n",
      "<class 'numpy.ndarray'> uint8\n",
      "<class 'numpy.ndarray'> uint8\n"
     ]
    },
    {
     "name": "stderr",
     "output_type": "stream",
     "text": [
      "/Users/victor/anaconda3/envs/tensorflow3.5cpuconda/lib/python3.5/site-packages/skimage/io/_io.py:132: UserWarning: ddb1_DR_data/newImage/image028.png is a low contrast image\n",
      "  warn('%s is a low contrast image' % fname)\n"
     ]
    },
    {
     "name": "stdout",
     "output_type": "stream",
     "text": [
      "28\n",
      "<class 'numpy.ndarray'> uint8\n",
      "<class 'numpy.ndarray'> uint8\n",
      "29\n",
      "<class 'numpy.ndarray'> uint8\n",
      "<class 'numpy.ndarray'> uint8\n"
     ]
    },
    {
     "name": "stderr",
     "output_type": "stream",
     "text": [
      "/Users/victor/anaconda3/envs/tensorflow3.5cpuconda/lib/python3.5/site-packages/skimage/io/_io.py:132: UserWarning: ddb1_DR_data/newImage/image030.png is a low contrast image\n",
      "  warn('%s is a low contrast image' % fname)\n"
     ]
    },
    {
     "name": "stdout",
     "output_type": "stream",
     "text": [
      "30\n",
      "<class 'numpy.ndarray'> uint8\n",
      "<class 'numpy.ndarray'> uint8\n"
     ]
    },
    {
     "name": "stderr",
     "output_type": "stream",
     "text": [
      "/Users/victor/anaconda3/envs/tensorflow3.5cpuconda/lib/python3.5/site-packages/skimage/io/_io.py:132: UserWarning: ddb1_DR_data/newImage/image031.png is a low contrast image\n",
      "  warn('%s is a low contrast image' % fname)\n"
     ]
    },
    {
     "name": "stdout",
     "output_type": "stream",
     "text": [
      "31\n",
      "<class 'numpy.ndarray'> uint8\n",
      "<class 'numpy.ndarray'> uint8\n"
     ]
    },
    {
     "name": "stderr",
     "output_type": "stream",
     "text": [
      "/Users/victor/anaconda3/envs/tensorflow3.5cpuconda/lib/python3.5/site-packages/skimage/io/_io.py:132: UserWarning: ddb1_DR_data/newImage/image032.png is a low contrast image\n",
      "  warn('%s is a low contrast image' % fname)\n"
     ]
    },
    {
     "name": "stdout",
     "output_type": "stream",
     "text": [
      "32\n",
      "<class 'numpy.ndarray'> uint8\n",
      "<class 'numpy.ndarray'> uint8\n"
     ]
    },
    {
     "name": "stderr",
     "output_type": "stream",
     "text": [
      "/Users/victor/anaconda3/envs/tensorflow3.5cpuconda/lib/python3.5/site-packages/skimage/io/_io.py:132: UserWarning: ddb1_DR_data/newImage/image033.png is a low contrast image\n",
      "  warn('%s is a low contrast image' % fname)\n"
     ]
    },
    {
     "name": "stdout",
     "output_type": "stream",
     "text": [
      "33\n",
      "<class 'numpy.ndarray'> uint8\n",
      "<class 'numpy.ndarray'> uint8\n"
     ]
    },
    {
     "name": "stderr",
     "output_type": "stream",
     "text": [
      "/Users/victor/anaconda3/envs/tensorflow3.5cpuconda/lib/python3.5/site-packages/skimage/io/_io.py:132: UserWarning: ddb1_DR_data/newImage/image034.png is a low contrast image\n",
      "  warn('%s is a low contrast image' % fname)\n"
     ]
    },
    {
     "name": "stdout",
     "output_type": "stream",
     "text": [
      "34\n",
      "<class 'numpy.ndarray'> uint8\n",
      "<class 'numpy.ndarray'> uint8\n",
      "35\n",
      "<class 'numpy.ndarray'> uint8\n",
      "<class 'numpy.ndarray'> uint8\n"
     ]
    },
    {
     "name": "stderr",
     "output_type": "stream",
     "text": [
      "/Users/victor/anaconda3/envs/tensorflow3.5cpuconda/lib/python3.5/site-packages/skimage/io/_io.py:132: UserWarning: ddb1_DR_data/newImage/image036.png is a low contrast image\n",
      "  warn('%s is a low contrast image' % fname)\n"
     ]
    },
    {
     "name": "stdout",
     "output_type": "stream",
     "text": [
      "36\n",
      "<class 'numpy.ndarray'> uint8\n",
      "<class 'numpy.ndarray'> uint8\n"
     ]
    },
    {
     "name": "stderr",
     "output_type": "stream",
     "text": [
      "/Users/victor/anaconda3/envs/tensorflow3.5cpuconda/lib/python3.5/site-packages/skimage/io/_io.py:132: UserWarning: ddb1_DR_data/newImage/image037.png is a low contrast image\n",
      "  warn('%s is a low contrast image' % fname)\n"
     ]
    },
    {
     "name": "stdout",
     "output_type": "stream",
     "text": [
      "37\n",
      "<class 'numpy.ndarray'> uint8\n",
      "<class 'numpy.ndarray'> uint8\n",
      "38\n",
      "<class 'numpy.ndarray'> uint8\n",
      "<class 'numpy.ndarray'> uint8\n"
     ]
    },
    {
     "name": "stderr",
     "output_type": "stream",
     "text": [
      "/Users/victor/anaconda3/envs/tensorflow3.5cpuconda/lib/python3.5/site-packages/skimage/io/_io.py:132: UserWarning: ddb1_DR_data/newImage/image039.png is a low contrast image\n",
      "  warn('%s is a low contrast image' % fname)\n"
     ]
    },
    {
     "name": "stdout",
     "output_type": "stream",
     "text": [
      "39\n",
      "<class 'numpy.ndarray'> uint8\n",
      "<class 'numpy.ndarray'> uint8\n"
     ]
    },
    {
     "name": "stderr",
     "output_type": "stream",
     "text": [
      "/Users/victor/anaconda3/envs/tensorflow3.5cpuconda/lib/python3.5/site-packages/skimage/io/_io.py:132: UserWarning: ddb1_DR_data/newImage/image040.png is a low contrast image\n",
      "  warn('%s is a low contrast image' % fname)\n"
     ]
    },
    {
     "name": "stdout",
     "output_type": "stream",
     "text": [
      "40\n",
      "<class 'numpy.ndarray'> uint8\n",
      "<class 'numpy.ndarray'> uint8\n"
     ]
    },
    {
     "name": "stderr",
     "output_type": "stream",
     "text": [
      "/Users/victor/anaconda3/envs/tensorflow3.5cpuconda/lib/python3.5/site-packages/skimage/io/_io.py:132: UserWarning: ddb1_DR_data/newImage/image041.png is a low contrast image\n",
      "  warn('%s is a low contrast image' % fname)\n"
     ]
    },
    {
     "name": "stdout",
     "output_type": "stream",
     "text": [
      "41\n",
      "<class 'numpy.ndarray'> uint8\n",
      "<class 'numpy.ndarray'> uint8\n"
     ]
    },
    {
     "name": "stderr",
     "output_type": "stream",
     "text": [
      "/Users/victor/anaconda3/envs/tensorflow3.5cpuconda/lib/python3.5/site-packages/skimage/io/_io.py:132: UserWarning: ddb1_DR_data/newImage/image042.png is a low contrast image\n",
      "  warn('%s is a low contrast image' % fname)\n"
     ]
    },
    {
     "name": "stdout",
     "output_type": "stream",
     "text": [
      "42\n",
      "<class 'numpy.ndarray'> uint8\n",
      "<class 'numpy.ndarray'> uint8\n",
      "43\n",
      "<class 'numpy.ndarray'> uint8\n",
      "<class 'numpy.ndarray'> uint8\n",
      "44\n",
      "<class 'numpy.ndarray'> uint8\n",
      "<class 'numpy.ndarray'> uint8\n"
     ]
    },
    {
     "name": "stderr",
     "output_type": "stream",
     "text": [
      "/Users/victor/anaconda3/envs/tensorflow3.5cpuconda/lib/python3.5/site-packages/skimage/io/_io.py:132: UserWarning: ddb1_DR_data/newImage/image045.png is a low contrast image\n",
      "  warn('%s is a low contrast image' % fname)\n"
     ]
    },
    {
     "name": "stdout",
     "output_type": "stream",
     "text": [
      "45\n",
      "<class 'numpy.ndarray'> uint8\n",
      "<class 'numpy.ndarray'> uint8\n"
     ]
    },
    {
     "name": "stderr",
     "output_type": "stream",
     "text": [
      "/Users/victor/anaconda3/envs/tensorflow3.5cpuconda/lib/python3.5/site-packages/skimage/io/_io.py:132: UserWarning: ddb1_DR_data/newImage/image046.png is a low contrast image\n",
      "  warn('%s is a low contrast image' % fname)\n"
     ]
    },
    {
     "name": "stdout",
     "output_type": "stream",
     "text": [
      "46\n",
      "<class 'numpy.ndarray'> uint8\n",
      "<class 'numpy.ndarray'> uint8\n"
     ]
    },
    {
     "name": "stderr",
     "output_type": "stream",
     "text": [
      "/Users/victor/anaconda3/envs/tensorflow3.5cpuconda/lib/python3.5/site-packages/skimage/io/_io.py:132: UserWarning: ddb1_DR_data/newImage/image047.png is a low contrast image\n",
      "  warn('%s is a low contrast image' % fname)\n"
     ]
    },
    {
     "name": "stdout",
     "output_type": "stream",
     "text": [
      "47\n",
      "<class 'numpy.ndarray'> uint8\n",
      "<class 'numpy.ndarray'> uint8\n"
     ]
    },
    {
     "name": "stderr",
     "output_type": "stream",
     "text": [
      "/Users/victor/anaconda3/envs/tensorflow3.5cpuconda/lib/python3.5/site-packages/skimage/io/_io.py:132: UserWarning: ddb1_DR_data/newImage/image048.png is a low contrast image\n",
      "  warn('%s is a low contrast image' % fname)\n"
     ]
    },
    {
     "name": "stdout",
     "output_type": "stream",
     "text": [
      "48\n",
      "<class 'numpy.ndarray'> uint8\n",
      "<class 'numpy.ndarray'> uint8\n"
     ]
    },
    {
     "name": "stderr",
     "output_type": "stream",
     "text": [
      "/Users/victor/anaconda3/envs/tensorflow3.5cpuconda/lib/python3.5/site-packages/skimage/io/_io.py:132: UserWarning: ddb1_DR_data/newImage/image049.png is a low contrast image\n",
      "  warn('%s is a low contrast image' % fname)\n"
     ]
    },
    {
     "name": "stdout",
     "output_type": "stream",
     "text": [
      "49\n",
      "<class 'numpy.ndarray'> uint8\n",
      "<class 'numpy.ndarray'> uint8\n"
     ]
    },
    {
     "name": "stderr",
     "output_type": "stream",
     "text": [
      "/Users/victor/anaconda3/envs/tensorflow3.5cpuconda/lib/python3.5/site-packages/skimage/io/_io.py:132: UserWarning: ddb1_DR_data/newImage/image050.png is a low contrast image\n",
      "  warn('%s is a low contrast image' % fname)\n"
     ]
    },
    {
     "name": "stdout",
     "output_type": "stream",
     "text": [
      "50\n",
      "<class 'numpy.ndarray'> uint8\n",
      "<class 'numpy.ndarray'> uint8\n"
     ]
    },
    {
     "name": "stderr",
     "output_type": "stream",
     "text": [
      "/Users/victor/anaconda3/envs/tensorflow3.5cpuconda/lib/python3.5/site-packages/skimage/io/_io.py:132: UserWarning: ddb1_DR_data/newImage/image051.png is a low contrast image\n",
      "  warn('%s is a low contrast image' % fname)\n"
     ]
    },
    {
     "name": "stdout",
     "output_type": "stream",
     "text": [
      "51\n",
      "<class 'numpy.ndarray'> uint8\n",
      "<class 'numpy.ndarray'> uint8\n",
      "52\n",
      "<class 'numpy.ndarray'> uint8\n",
      "<class 'numpy.ndarray'> uint8\n",
      "53\n",
      "<class 'numpy.ndarray'> uint8\n",
      "<class 'numpy.ndarray'> uint8\n",
      "54\n",
      "<class 'numpy.ndarray'> uint8\n",
      "<class 'numpy.ndarray'> uint8\n",
      "55\n",
      "<class 'numpy.ndarray'> uint8\n",
      "<class 'numpy.ndarray'> uint8\n"
     ]
    },
    {
     "name": "stderr",
     "output_type": "stream",
     "text": [
      "/Users/victor/anaconda3/envs/tensorflow3.5cpuconda/lib/python3.5/site-packages/skimage/io/_io.py:132: UserWarning: ddb1_DR_data/newImage/image056.png is a low contrast image\n",
      "  warn('%s is a low contrast image' % fname)\n"
     ]
    },
    {
     "name": "stdout",
     "output_type": "stream",
     "text": [
      "56\n",
      "<class 'numpy.ndarray'> uint8\n",
      "<class 'numpy.ndarray'> uint8\n"
     ]
    },
    {
     "name": "stderr",
     "output_type": "stream",
     "text": [
      "/Users/victor/anaconda3/envs/tensorflow3.5cpuconda/lib/python3.5/site-packages/skimage/io/_io.py:132: UserWarning: ddb1_DR_data/newImage/image057.png is a low contrast image\n",
      "  warn('%s is a low contrast image' % fname)\n"
     ]
    },
    {
     "name": "stdout",
     "output_type": "stream",
     "text": [
      "57\n",
      "<class 'numpy.ndarray'> uint8\n",
      "<class 'numpy.ndarray'> uint8\n"
     ]
    },
    {
     "name": "stderr",
     "output_type": "stream",
     "text": [
      "/Users/victor/anaconda3/envs/tensorflow3.5cpuconda/lib/python3.5/site-packages/skimage/io/_io.py:132: UserWarning: ddb1_DR_data/newImage/image058.png is a low contrast image\n",
      "  warn('%s is a low contrast image' % fname)\n"
     ]
    },
    {
     "name": "stdout",
     "output_type": "stream",
     "text": [
      "58\n",
      "<class 'numpy.ndarray'> uint8\n",
      "<class 'numpy.ndarray'> uint8\n"
     ]
    },
    {
     "name": "stderr",
     "output_type": "stream",
     "text": [
      "/Users/victor/anaconda3/envs/tensorflow3.5cpuconda/lib/python3.5/site-packages/skimage/io/_io.py:132: UserWarning: ddb1_DR_data/newImage/image059.png is a low contrast image\n",
      "  warn('%s is a low contrast image' % fname)\n"
     ]
    },
    {
     "name": "stdout",
     "output_type": "stream",
     "text": [
      "59\n",
      "<class 'numpy.ndarray'> uint8\n",
      "<class 'numpy.ndarray'> uint8\n"
     ]
    },
    {
     "name": "stderr",
     "output_type": "stream",
     "text": [
      "/Users/victor/anaconda3/envs/tensorflow3.5cpuconda/lib/python3.5/site-packages/skimage/io/_io.py:132: UserWarning: ddb1_DR_data/newImage/image060.png is a low contrast image\n",
      "  warn('%s is a low contrast image' % fname)\n"
     ]
    },
    {
     "name": "stdout",
     "output_type": "stream",
     "text": [
      "60\n",
      "<class 'numpy.ndarray'> uint8\n",
      "<class 'numpy.ndarray'> uint8\n"
     ]
    },
    {
     "name": "stderr",
     "output_type": "stream",
     "text": [
      "/Users/victor/anaconda3/envs/tensorflow3.5cpuconda/lib/python3.5/site-packages/skimage/io/_io.py:132: UserWarning: ddb1_DR_data/newImage/image061.png is a low contrast image\n",
      "  warn('%s is a low contrast image' % fname)\n"
     ]
    },
    {
     "name": "stdout",
     "output_type": "stream",
     "text": [
      "61\n",
      "<class 'numpy.ndarray'> uint8\n",
      "<class 'numpy.ndarray'> uint8\n"
     ]
    },
    {
     "name": "stderr",
     "output_type": "stream",
     "text": [
      "/Users/victor/anaconda3/envs/tensorflow3.5cpuconda/lib/python3.5/site-packages/skimage/io/_io.py:132: UserWarning: ddb1_DR_data/newImage/image062.png is a low contrast image\n",
      "  warn('%s is a low contrast image' % fname)\n"
     ]
    },
    {
     "name": "stdout",
     "output_type": "stream",
     "text": [
      "62\n",
      "<class 'numpy.ndarray'> uint8\n",
      "<class 'numpy.ndarray'> uint8\n",
      "63\n",
      "<class 'numpy.ndarray'> uint8\n",
      "<class 'numpy.ndarray'> uint8\n",
      "64\n",
      "<class 'numpy.ndarray'> uint8\n",
      "<class 'numpy.ndarray'> uint8\n",
      "65\n",
      "<class 'numpy.ndarray'> uint8\n",
      "<class 'numpy.ndarray'> uint8\n",
      "66\n",
      "<class 'numpy.ndarray'> uint8\n",
      "<class 'numpy.ndarray'> uint8\n",
      "67\n",
      "<class 'numpy.ndarray'> uint8\n",
      "<class 'numpy.ndarray'> uint8\n"
     ]
    },
    {
     "name": "stderr",
     "output_type": "stream",
     "text": [
      "/Users/victor/anaconda3/envs/tensorflow3.5cpuconda/lib/python3.5/site-packages/skimage/io/_io.py:132: UserWarning: ddb1_DR_data/newImage/image068.png is a low contrast image\n",
      "  warn('%s is a low contrast image' % fname)\n"
     ]
    },
    {
     "name": "stdout",
     "output_type": "stream",
     "text": [
      "68\n",
      "<class 'numpy.ndarray'> uint8\n",
      "<class 'numpy.ndarray'> uint8\n"
     ]
    },
    {
     "name": "stderr",
     "output_type": "stream",
     "text": [
      "/Users/victor/anaconda3/envs/tensorflow3.5cpuconda/lib/python3.5/site-packages/skimage/io/_io.py:132: UserWarning: ddb1_DR_data/newImage/image069.png is a low contrast image\n",
      "  warn('%s is a low contrast image' % fname)\n"
     ]
    },
    {
     "name": "stdout",
     "output_type": "stream",
     "text": [
      "69\n",
      "<class 'numpy.ndarray'> uint8\n",
      "<class 'numpy.ndarray'> uint8\n"
     ]
    },
    {
     "name": "stderr",
     "output_type": "stream",
     "text": [
      "/Users/victor/anaconda3/envs/tensorflow3.5cpuconda/lib/python3.5/site-packages/skimage/io/_io.py:132: UserWarning: ddb1_DR_data/newImage/image070.png is a low contrast image\n",
      "  warn('%s is a low contrast image' % fname)\n"
     ]
    },
    {
     "name": "stdout",
     "output_type": "stream",
     "text": [
      "70\n",
      "<class 'numpy.ndarray'> uint8\n",
      "<class 'numpy.ndarray'> uint8\n"
     ]
    },
    {
     "name": "stderr",
     "output_type": "stream",
     "text": [
      "/Users/victor/anaconda3/envs/tensorflow3.5cpuconda/lib/python3.5/site-packages/skimage/io/_io.py:132: UserWarning: ddb1_DR_data/newImage/image071.png is a low contrast image\n",
      "  warn('%s is a low contrast image' % fname)\n"
     ]
    },
    {
     "name": "stdout",
     "output_type": "stream",
     "text": [
      "71\n",
      "<class 'numpy.ndarray'> uint8\n",
      "<class 'numpy.ndarray'> uint8\n"
     ]
    },
    {
     "name": "stderr",
     "output_type": "stream",
     "text": [
      "/Users/victor/anaconda3/envs/tensorflow3.5cpuconda/lib/python3.5/site-packages/skimage/io/_io.py:132: UserWarning: ddb1_DR_data/newImage/image072.png is a low contrast image\n",
      "  warn('%s is a low contrast image' % fname)\n"
     ]
    },
    {
     "name": "stdout",
     "output_type": "stream",
     "text": [
      "72\n",
      "<class 'numpy.ndarray'> uint8\n",
      "<class 'numpy.ndarray'> uint8\n"
     ]
    },
    {
     "name": "stderr",
     "output_type": "stream",
     "text": [
      "/Users/victor/anaconda3/envs/tensorflow3.5cpuconda/lib/python3.5/site-packages/skimage/io/_io.py:132: UserWarning: ddb1_DR_data/newImage/image073.png is a low contrast image\n",
      "  warn('%s is a low contrast image' % fname)\n"
     ]
    },
    {
     "name": "stdout",
     "output_type": "stream",
     "text": [
      "73\n",
      "<class 'numpy.ndarray'> uint8\n",
      "<class 'numpy.ndarray'> uint8\n"
     ]
    },
    {
     "name": "stderr",
     "output_type": "stream",
     "text": [
      "/Users/victor/anaconda3/envs/tensorflow3.5cpuconda/lib/python3.5/site-packages/skimage/io/_io.py:132: UserWarning: ddb1_DR_data/newImage/image074.png is a low contrast image\n",
      "  warn('%s is a low contrast image' % fname)\n"
     ]
    },
    {
     "name": "stdout",
     "output_type": "stream",
     "text": [
      "74\n",
      "<class 'numpy.ndarray'> uint8\n",
      "<class 'numpy.ndarray'> uint8\n"
     ]
    },
    {
     "name": "stderr",
     "output_type": "stream",
     "text": [
      "/Users/victor/anaconda3/envs/tensorflow3.5cpuconda/lib/python3.5/site-packages/skimage/io/_io.py:132: UserWarning: ddb1_DR_data/newImage/image075.png is a low contrast image\n",
      "  warn('%s is a low contrast image' % fname)\n"
     ]
    },
    {
     "name": "stdout",
     "output_type": "stream",
     "text": [
      "75\n",
      "<class 'numpy.ndarray'> uint8\n",
      "<class 'numpy.ndarray'> uint8\n"
     ]
    },
    {
     "name": "stderr",
     "output_type": "stream",
     "text": [
      "/Users/victor/anaconda3/envs/tensorflow3.5cpuconda/lib/python3.5/site-packages/skimage/io/_io.py:132: UserWarning: ddb1_DR_data/newImage/image076.png is a low contrast image\n",
      "  warn('%s is a low contrast image' % fname)\n"
     ]
    },
    {
     "name": "stdout",
     "output_type": "stream",
     "text": [
      "76\n",
      "<class 'numpy.ndarray'> uint8\n",
      "<class 'numpy.ndarray'> uint8\n"
     ]
    },
    {
     "name": "stderr",
     "output_type": "stream",
     "text": [
      "/Users/victor/anaconda3/envs/tensorflow3.5cpuconda/lib/python3.5/site-packages/skimage/io/_io.py:132: UserWarning: ddb1_DR_data/newImage/image077.png is a low contrast image\n",
      "  warn('%s is a low contrast image' % fname)\n"
     ]
    },
    {
     "name": "stdout",
     "output_type": "stream",
     "text": [
      "77\n",
      "<class 'numpy.ndarray'> uint8\n",
      "<class 'numpy.ndarray'> uint8\n"
     ]
    },
    {
     "name": "stderr",
     "output_type": "stream",
     "text": [
      "/Users/victor/anaconda3/envs/tensorflow3.5cpuconda/lib/python3.5/site-packages/skimage/io/_io.py:132: UserWarning: ddb1_DR_data/newImage/image078.png is a low contrast image\n",
      "  warn('%s is a low contrast image' % fname)\n"
     ]
    },
    {
     "name": "stdout",
     "output_type": "stream",
     "text": [
      "78\n",
      "<class 'numpy.ndarray'> uint8\n",
      "<class 'numpy.ndarray'> uint8\n"
     ]
    },
    {
     "name": "stderr",
     "output_type": "stream",
     "text": [
      "/Users/victor/anaconda3/envs/tensorflow3.5cpuconda/lib/python3.5/site-packages/skimage/io/_io.py:132: UserWarning: ddb1_DR_data/newImage/image079.png is a low contrast image\n",
      "  warn('%s is a low contrast image' % fname)\n"
     ]
    },
    {
     "name": "stdout",
     "output_type": "stream",
     "text": [
      "79\n",
      "<class 'numpy.ndarray'> uint8\n",
      "<class 'numpy.ndarray'> uint8\n"
     ]
    },
    {
     "name": "stderr",
     "output_type": "stream",
     "text": [
      "/Users/victor/anaconda3/envs/tensorflow3.5cpuconda/lib/python3.5/site-packages/skimage/io/_io.py:132: UserWarning: ddb1_DR_data/newImage/image080.png is a low contrast image\n",
      "  warn('%s is a low contrast image' % fname)\n"
     ]
    },
    {
     "name": "stdout",
     "output_type": "stream",
     "text": [
      "80\n",
      "<class 'numpy.ndarray'> uint8\n",
      "<class 'numpy.ndarray'> uint8\n"
     ]
    },
    {
     "name": "stderr",
     "output_type": "stream",
     "text": [
      "/Users/victor/anaconda3/envs/tensorflow3.5cpuconda/lib/python3.5/site-packages/skimage/io/_io.py:132: UserWarning: ddb1_DR_data/newImage/image081.png is a low contrast image\n",
      "  warn('%s is a low contrast image' % fname)\n"
     ]
    },
    {
     "name": "stdout",
     "output_type": "stream",
     "text": [
      "81\n",
      "<class 'numpy.ndarray'> uint8\n",
      "<class 'numpy.ndarray'> uint8\n"
     ]
    },
    {
     "name": "stderr",
     "output_type": "stream",
     "text": [
      "/Users/victor/anaconda3/envs/tensorflow3.5cpuconda/lib/python3.5/site-packages/skimage/io/_io.py:132: UserWarning: ddb1_DR_data/newImage/image082.png is a low contrast image\n",
      "  warn('%s is a low contrast image' % fname)\n"
     ]
    },
    {
     "name": "stdout",
     "output_type": "stream",
     "text": [
      "82\n",
      "<class 'numpy.ndarray'> uint8\n",
      "<class 'numpy.ndarray'> uint8\n"
     ]
    },
    {
     "name": "stderr",
     "output_type": "stream",
     "text": [
      "/Users/victor/anaconda3/envs/tensorflow3.5cpuconda/lib/python3.5/site-packages/skimage/io/_io.py:132: UserWarning: ddb1_DR_data/newImage/image083.png is a low contrast image\n",
      "  warn('%s is a low contrast image' % fname)\n"
     ]
    },
    {
     "name": "stdout",
     "output_type": "stream",
     "text": [
      "83\n",
      "<class 'numpy.ndarray'> uint8\n",
      "<class 'numpy.ndarray'> uint8\n",
      "84\n",
      "<class 'numpy.ndarray'> uint8\n",
      "<class 'numpy.ndarray'> uint8\n",
      "85\n",
      "<class 'numpy.ndarray'> uint8\n",
      "<class 'numpy.ndarray'> uint8\n"
     ]
    },
    {
     "name": "stderr",
     "output_type": "stream",
     "text": [
      "/Users/victor/anaconda3/envs/tensorflow3.5cpuconda/lib/python3.5/site-packages/skimage/io/_io.py:132: UserWarning: ddb1_DR_data/newImage/image086.png is a low contrast image\n",
      "  warn('%s is a low contrast image' % fname)\n"
     ]
    },
    {
     "name": "stdout",
     "output_type": "stream",
     "text": [
      "86\n",
      "<class 'numpy.ndarray'> uint8\n",
      "<class 'numpy.ndarray'> uint8\n"
     ]
    },
    {
     "name": "stderr",
     "output_type": "stream",
     "text": [
      "/Users/victor/anaconda3/envs/tensorflow3.5cpuconda/lib/python3.5/site-packages/skimage/io/_io.py:132: UserWarning: ddb1_DR_data/newImage/image087.png is a low contrast image\n",
      "  warn('%s is a low contrast image' % fname)\n"
     ]
    },
    {
     "name": "stdout",
     "output_type": "stream",
     "text": [
      "87\n",
      "<class 'numpy.ndarray'> uint8\n",
      "<class 'numpy.ndarray'> uint8\n"
     ]
    },
    {
     "name": "stderr",
     "output_type": "stream",
     "text": [
      "/Users/victor/anaconda3/envs/tensorflow3.5cpuconda/lib/python3.5/site-packages/skimage/io/_io.py:132: UserWarning: ddb1_DR_data/newImage/image088.png is a low contrast image\n",
      "  warn('%s is a low contrast image' % fname)\n"
     ]
    },
    {
     "name": "stdout",
     "output_type": "stream",
     "text": [
      "88\n",
      "<class 'numpy.ndarray'> uint8\n",
      "<class 'numpy.ndarray'> uint8\n",
      "89\n"
     ]
    },
    {
     "name": "stderr",
     "output_type": "stream",
     "text": [
      "/Users/victor/anaconda3/envs/tensorflow3.5cpuconda/lib/python3.5/site-packages/skimage/io/_io.py:132: UserWarning: ddb1_DR_data/newImage/image089.png is a low contrast image\n",
      "  warn('%s is a low contrast image' % fname)\n"
     ]
    }
   ],
   "source": [
    "for i in range(89):\n",
    "    \n",
    "    img_org = io.imread('ddb1_DR_data/ddb1_fundusimages/image0%02d.png'%(i+1))\n",
    "    print(type(img_org),img_org.dtype)\n",
    "    img_ma = io.imread('ddb1_DR_data/ddb1_groundtruth/redsmalldots/image0%02d.png'%(i+1))\n",
    "    img_hr = io.imread('ddb1_DR_data/ddb1_groundtruth/hemorrhages/image0%02d.png'%(i+1))\n",
    "    img_he = io.imread('ddb1_DR_data/ddb1_groundtruth/hardexudates/image0%02d.png'%(i+1))\n",
    "    img_se = io.imread('ddb1_DR_data/ddb1_groundtruth/softexudates/image0%02d.png'%(i+1))\n",
    "    img_mask = img_ma + img_hr + img_he + img_se\n",
    "    print(type(img_mask),img_mask.dtype)\n",
    "    \n",
    "    mask_MA = np.array(img_mask != 0).astype(np.uint8)\n",
    "    [x,y] = img_ma.shape\n",
    "    newImg = np.zeros([x,y,3], dtype = np.uint8)\n",
    "    newImg[:,:,0] = img_org[:,:,0]*mask_MA\n",
    "    newImg[:,:,1] = img_org[:,:,1]*mask_MA\n",
    "    newImg[:,:,2] = img_org[:,:,2]*mask_MA\n",
    "    #%matplotlib inline\n",
    "    #io.imshow(newImg)\n",
    "    io.imsave('ddb1_DR_data/newImage/image0%02d.png'%(i+1),newImg)\n",
    "    print(i+1)"
   ]
  },
  {
   "cell_type": "code",
   "execution_count": null,
   "metadata": {},
   "outputs": [],
   "source": []
  }
 ],
 "metadata": {
  "kernelspec": {
   "display_name": "Python 3",
   "language": "python",
   "name": "python3"
  },
  "language_info": {
   "codemirror_mode": {
    "name": "ipython",
    "version": 3
   },
   "file_extension": ".py",
   "mimetype": "text/x-python",
   "name": "python",
   "nbconvert_exporter": "python",
   "pygments_lexer": "ipython3",
   "version": "3.5.4"
  }
 },
 "nbformat": 4,
 "nbformat_minor": 2
}
