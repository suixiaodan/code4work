{
 "cells": [
  {
   "cell_type": "markdown",
   "metadata": {},
   "source": [
    "# 分别统计IDRID数据集不同病变区域的数量"
   ]
  },
  {
   "cell_type": "code",
   "execution_count": 1,
   "metadata": {},
   "outputs": [],
   "source": [
    "from PIL import Image, ImageDraw\n",
    "import cv2\n",
    "import numpy as np\n",
    "import os,sys\n",
    "import scipy.io\n",
    "import csv\n",
    "%matplotlib inline\n",
    "ROOT_DIR = os.getcwd()"
   ]
  },
  {
   "cell_type": "code",
   "execution_count": 41,
   "metadata": {},
   "outputs": [],
   "source": [
    "DR_IMAGE_DIR_MA = os.path.join(ROOT_DIR, \"GenerateData-GroundTruth/MA/MA_ANN\") #DRDataset/SubChallenge_1_Images\n",
    "    # Load a random image from the images folder\n",
    "file_names = next(os.walk(DR_IMAGE_DIR))[2]"
   ]
  },
  {
   "cell_type": "code",
   "execution_count": 42,
   "metadata": {},
   "outputs": [],
   "source": [
    "def extractROI(img_new, filename, typelesion):\n",
    "    image = Image.fromarray(img_new)\n",
    "    img_gray=np.array(image.convert(\"L\")) \n",
    "    mask_arr = np.array(img_gray != 0).astype(np.uint8)\n",
    "\n",
    "    mask_arr = mask_arr*255\n",
    "    [x,y]=img_gray.shape\n",
    "    Mask_arr= np.zeros([x,y,3], dtype = np.uint8)\n",
    "\n",
    "    ROI,contours,hierarchy= cv2.findContours(mask_arr,cv2.RETR_TREE,cv2.CHAIN_APPROX_NONE)\n",
    "\n",
    "    #box = []\n",
    "    centerlist = [] \n",
    "    mylist2 = []\n",
    "    #for item in data: \n",
    "    \n",
    "    lesionNum = len(contours)\n",
    "    area = cv2.countNonZero(mask_arr)\n",
    "\n",
    "    for i in range(len(contours)):\n",
    "        x,y,w,h=cv2.boundingRect(contours[i]) #（x,y）为矩形左上角的坐标，（w,h）是矩形的宽和高\n",
    "        centerX = round(x + w/2)\n",
    "        centerY = round(y + h/2)\n",
    "        centerlist.append([centerX, centerY])\n",
    "    \n",
    "    centerLocation = np.array(centerlist)\n",
    "    scipy.io.savemat('ImageSynthesis/4lesions/'+typelesion+'/'+filename+'.mat',\n",
    "                 {'centerLocation':centerLocation})  # 写入mat文件 \n",
    "    return lesionNum,area\n",
    "\n",
    "def extractROI2(img_new):\n",
    "    #if img_new:\n",
    "     #   return 0,0\n",
    "    \n",
    "    image = Image.fromarray(img_new)\n",
    "    img_gray=np.array(image.convert(\"L\")) \n",
    "    mask_arr = np.array(img_gray != 0).astype(np.uint8)\n",
    "\n",
    "    mask_arr = mask_arr*255\n",
    "    [x,y]=img_gray.shape\n",
    "    Mask_arr= np.zeros([x,y,3], dtype = np.uint8)\n",
    "\n",
    "    ROI,contours,hierarchy= cv2.findContours(mask_arr,cv2.RETR_TREE,cv2.CHAIN_APPROX_NONE)\n",
    "    lesionNum = len(contours)\n",
    "    area = 0\n",
    "    #for i in range(len(contours)):\n",
    "    area = cv2.countNonZero(mask_arr)\n",
    "\n",
    "    return lesionNum,area"
   ]
  },
  {
   "cell_type": "code",
   "execution_count": 47,
   "metadata": {},
   "outputs": [
    {
     "name": "stdout",
     "output_type": "stream",
     "text": [
      "1 IDRiD_14\n",
      "2 IDRiD_06\n",
      "3 IDRiD_18\n",
      "4 IDRiD_30\n",
      "5 IDRiD_53\n",
      "6 IDRiD_22\n",
      "7 IDRiD_41\n",
      "8 IDRiD_04\n",
      "9 IDRiD_08\n",
      "10 IDRiD_16\n",
      "11 IDRiD_43\n",
      "12 IDRiD_20\n",
      "13 IDRiD_51\n",
      "14 IDRiD_32\n",
      "15 IDRiD_28\n",
      "16 IDRiD_36\n",
      "17 IDRiD_47\n",
      "18 IDRiD_24\n",
      "19 IDRiD_12\n",
      "20 IDRiD_26\n",
      "21 IDRiD_38\n",
      "22 IDRiD_45\n",
      "23 IDRiD_34\n",
      "24 IDRiD_49\n",
      "25 IDRiD_02\n",
      "26 IDRiD_10\n",
      "27 IDRiD_52\n",
      "28 IDRiD_31\n",
      "29 IDRiD_40\n",
      "30 IDRiD_23\n",
      "31 IDRiD_15\n",
      "32 IDRiD_19\n",
      "33 IDRiD_07\n",
      "34 IDRiD_21\n",
      "35 IDRiD_42\n",
      "36 IDRiD_33\n",
      "37 IDRiD_50\n",
      "38 IDRiD_05\n",
      "39 IDRiD_17\n",
      "40 IDRiD_09\n",
      "41 IDRiD_13\n",
      "42 IDRiD_01\n",
      "43 IDRiD_37\n",
      "44 IDRiD_54\n",
      "45 IDRiD_29\n",
      "46 IDRiD_25\n",
      "47 IDRiD_46\n",
      "48 IDRiD_03\n",
      "49 IDRiD_11\n",
      "50 IDRiD_44\n",
      "51 IDRiD_39\n",
      "52 IDRiD_27\n",
      "53 IDRiD_48\n",
      "54 IDRiD_35\n"
     ]
    },
    {
     "data": {
      "text/plain": [
       "50"
      ]
     },
     "execution_count": 47,
     "metadata": {},
     "output_type": "execute_result"
    },
    {
     "data": {
      "text/plain": [
       "51"
      ]
     },
     "execution_count": 47,
     "metadata": {},
     "output_type": "execute_result"
    },
    {
     "data": {
      "text/plain": [
       "45"
      ]
     },
     "execution_count": 47,
     "metadata": {},
     "output_type": "execute_result"
    },
    {
     "data": {
      "text/plain": [
       "51"
      ]
     },
     "execution_count": 47,
     "metadata": {},
     "output_type": "execute_result"
    },
    {
     "data": {
      "text/plain": [
       "48"
      ]
     },
     "execution_count": 47,
     "metadata": {},
     "output_type": "execute_result"
    },
    {
     "data": {
      "text/plain": [
       "49"
      ]
     },
     "execution_count": 47,
     "metadata": {},
     "output_type": "execute_result"
    },
    {
     "data": {
      "text/plain": [
       "52"
      ]
     },
     "execution_count": 47,
     "metadata": {},
     "output_type": "execute_result"
    },
    {
     "data": {
      "text/plain": [
       "41"
      ]
     },
     "execution_count": 47,
     "metadata": {},
     "output_type": "execute_result"
    },
    {
     "data": {
      "text/plain": [
       "41"
      ]
     },
     "execution_count": 47,
     "metadata": {},
     "output_type": "execute_result"
    },
    {
     "data": {
      "text/plain": [
       "48"
      ]
     },
     "execution_count": 47,
     "metadata": {},
     "output_type": "execute_result"
    },
    {
     "data": {
      "text/plain": [
       "44"
      ]
     },
     "execution_count": 47,
     "metadata": {},
     "output_type": "execute_result"
    },
    {
     "data": {
      "text/plain": [
       "37"
      ]
     },
     "execution_count": 47,
     "metadata": {},
     "output_type": "execute_result"
    },
    {
     "data": {
      "text/plain": [
       "48"
      ]
     },
     "execution_count": 47,
     "metadata": {},
     "output_type": "execute_result"
    },
    {
     "data": {
      "text/plain": [
       "49"
      ]
     },
     "execution_count": 47,
     "metadata": {},
     "output_type": "execute_result"
    },
    {
     "data": {
      "text/plain": [
       "49"
      ]
     },
     "execution_count": 47,
     "metadata": {},
     "output_type": "execute_result"
    },
    {
     "data": {
      "text/plain": [
       "43"
      ]
     },
     "execution_count": 47,
     "metadata": {},
     "output_type": "execute_result"
    },
    {
     "data": {
      "text/plain": [
       "43"
      ]
     },
     "execution_count": 47,
     "metadata": {},
     "output_type": "execute_result"
    },
    {
     "data": {
      "text/plain": [
       "47"
      ]
     },
     "execution_count": 47,
     "metadata": {},
     "output_type": "execute_result"
    },
    {
     "data": {
      "text/plain": [
       "41"
      ]
     },
     "execution_count": 47,
     "metadata": {},
     "output_type": "execute_result"
    },
    {
     "data": {
      "text/plain": [
       "42"
      ]
     },
     "execution_count": 47,
     "metadata": {},
     "output_type": "execute_result"
    },
    {
     "data": {
      "text/plain": [
       "44"
      ]
     },
     "execution_count": 47,
     "metadata": {},
     "output_type": "execute_result"
    },
    {
     "data": {
      "text/plain": [
       "47"
      ]
     },
     "execution_count": 47,
     "metadata": {},
     "output_type": "execute_result"
    },
    {
     "data": {
      "text/plain": [
       "44"
      ]
     },
     "execution_count": 47,
     "metadata": {},
     "output_type": "execute_result"
    },
    {
     "data": {
      "text/plain": [
       "46"
      ]
     },
     "execution_count": 47,
     "metadata": {},
     "output_type": "execute_result"
    },
    {
     "data": {
      "text/plain": [
       "52"
      ]
     },
     "execution_count": 47,
     "metadata": {},
     "output_type": "execute_result"
    },
    {
     "data": {
      "text/plain": [
       "46"
      ]
     },
     "execution_count": 47,
     "metadata": {},
     "output_type": "execute_result"
    },
    {
     "data": {
      "text/plain": [
       "47"
      ]
     },
     "execution_count": 47,
     "metadata": {},
     "output_type": "execute_result"
    },
    {
     "data": {
      "text/plain": [
       "44"
      ]
     },
     "execution_count": 47,
     "metadata": {},
     "output_type": "execute_result"
    },
    {
     "data": {
      "text/plain": [
       "52"
      ]
     },
     "execution_count": 47,
     "metadata": {},
     "output_type": "execute_result"
    },
    {
     "data": {
      "text/plain": [
       "41"
      ]
     },
     "execution_count": 47,
     "metadata": {},
     "output_type": "execute_result"
    },
    {
     "data": {
      "text/plain": [
       "49"
      ]
     },
     "execution_count": 47,
     "metadata": {},
     "output_type": "execute_result"
    },
    {
     "data": {
      "text/plain": [
       "41"
      ]
     },
     "execution_count": 47,
     "metadata": {},
     "output_type": "execute_result"
    },
    {
     "data": {
      "text/plain": [
       "48"
      ]
     },
     "execution_count": 47,
     "metadata": {},
     "output_type": "execute_result"
    },
    {
     "data": {
      "text/plain": [
       "47"
      ]
     },
     "execution_count": 47,
     "metadata": {},
     "output_type": "execute_result"
    },
    {
     "data": {
      "text/plain": [
       "48"
      ]
     },
     "execution_count": 47,
     "metadata": {},
     "output_type": "execute_result"
    },
    {
     "data": {
      "text/plain": [
       "42"
      ]
     },
     "execution_count": 47,
     "metadata": {},
     "output_type": "execute_result"
    },
    {
     "data": {
      "text/plain": [
       "52"
      ]
     },
     "execution_count": 47,
     "metadata": {},
     "output_type": "execute_result"
    },
    {
     "data": {
      "text/plain": [
       "49"
      ]
     },
     "execution_count": 47,
     "metadata": {},
     "output_type": "execute_result"
    },
    {
     "data": {
      "text/plain": [
       "40"
      ]
     },
     "execution_count": 47,
     "metadata": {},
     "output_type": "execute_result"
    },
    {
     "data": {
      "text/plain": [
       "53"
      ]
     },
     "execution_count": 47,
     "metadata": {},
     "output_type": "execute_result"
    },
    {
     "data": {
      "text/plain": [
       "47"
      ]
     },
     "execution_count": 47,
     "metadata": {},
     "output_type": "execute_result"
    },
    {
     "data": {
      "text/plain": [
       "52"
      ]
     },
     "execution_count": 47,
     "metadata": {},
     "output_type": "execute_result"
    },
    {
     "data": {
      "text/plain": [
       "46"
      ]
     },
     "execution_count": 47,
     "metadata": {},
     "output_type": "execute_result"
    },
    {
     "data": {
      "text/plain": [
       "43"
      ]
     },
     "execution_count": 47,
     "metadata": {},
     "output_type": "execute_result"
    },
    {
     "data": {
      "text/plain": [
       "48"
      ]
     },
     "execution_count": 47,
     "metadata": {},
     "output_type": "execute_result"
    },
    {
     "data": {
      "text/plain": [
       "40"
      ]
     },
     "execution_count": 47,
     "metadata": {},
     "output_type": "execute_result"
    },
    {
     "data": {
      "text/plain": [
       "52"
      ]
     },
     "execution_count": 47,
     "metadata": {},
     "output_type": "execute_result"
    },
    {
     "data": {
      "text/plain": [
       "51"
      ]
     },
     "execution_count": 47,
     "metadata": {},
     "output_type": "execute_result"
    },
    {
     "data": {
      "text/plain": [
       "51"
      ]
     },
     "execution_count": 47,
     "metadata": {},
     "output_type": "execute_result"
    },
    {
     "data": {
      "text/plain": [
       "47"
      ]
     },
     "execution_count": 47,
     "metadata": {},
     "output_type": "execute_result"
    },
    {
     "data": {
      "text/plain": [
       "41"
      ]
     },
     "execution_count": 47,
     "metadata": {},
     "output_type": "execute_result"
    },
    {
     "data": {
      "text/plain": [
       "52"
      ]
     },
     "execution_count": 47,
     "metadata": {},
     "output_type": "execute_result"
    },
    {
     "data": {
      "text/plain": [
       "47"
      ]
     },
     "execution_count": 47,
     "metadata": {},
     "output_type": "execute_result"
    },
    {
     "data": {
      "text/plain": [
       "52"
      ]
     },
     "execution_count": 47,
     "metadata": {},
     "output_type": "execute_result"
    },
    {
     "data": {
      "text/plain": [
       "50"
      ]
     },
     "execution_count": 47,
     "metadata": {},
     "output_type": "execute_result"
    }
   ],
   "source": [
    "Pointdata = [['Image No', 'MA', 'HR', 'HE', 'SE', 'areaMA', 'areaHR', 'areaHE', 'areaSE']]\n",
    "#Pointdata = [['Image No', 'MA', 'HR', 'HE', 'areaMA', 'areaHR', 'areaHE']]\n",
    "\n",
    "for i in range(len(file_names)):  #len(file_names)\n",
    "    newfile_name = file_names[i].strip('_MA.png')\n",
    "    print(i+1, newfile_name)\n",
    "    #print(newfile_name+\"_HE.png\")\n",
    "    \n",
    "    filepath_he = \"GenerateData-GroundTruth/HE/HE_ANN/\"+newfile_name+\"_HE.png\"\n",
    "    if not os.path.exists(filepath_he):\n",
    "        HELesionNum,areaHE = 0,0\n",
    "    else:\n",
    "        src1 = cv2.imread(filepath_he)\n",
    "        HELesionNum,areaHE = extractROI2(src1)\n",
    "    #src1 = cv2.imread(\"GenerateData-GroundTruth/HE/HE_ANN/\"+newfile_name+\"_HE.png\")\n",
    "    #print(src1)\n",
    "    #HELesionNum,areaHE = extractROI(src1, newfile_name, 'HELocationISBI')\n",
    "    #HELesionNum,areaHE = extractROI2(src1)\n",
    "    \n",
    "    filepath_se = \"GenerateData-GroundTruth/SE/SE_ANN/\"+newfile_name+\"_SE.png\"\n",
    "    #file_dir_se = os.path.split(filepath_se)[0]\n",
    "    #print(file_dir_se)\n",
    "    if not os.path.exists(filepath_se):\n",
    "        SELesionNum,areaSE = 0,0\n",
    "    else:\n",
    "        src2 = cv2.imread(filepath_se)\n",
    "        SELesionNum,areaSE = extractROI2(src2)\n",
    "    \n",
    "    filepath_ma = \"GenerateData-GroundTruth/MA/MA_ANN/\"+newfile_name+\"_MA.png\"\n",
    "    #print(src3)\n",
    "    if not os.path.exists(filepath_ma):\n",
    "        MALesionNum,areaMA = 0,0\n",
    "    else:\n",
    "        src3 = cv2.imread(filepath_ma)\n",
    "        MALesionNum,areaMA = extractROI2(src3)\n",
    "    \n",
    "    filepath_hr = \"GenerateData-GroundTruth/HR/HR_ANN/\"+newfile_name+\"_HR.png\"\n",
    "    if not os.path.exists(filepath_hr):\n",
    "        HRLesionNum,areaHR = 0,0\n",
    "    else:\n",
    "        src4 = cv2.imread(filepath_hr)\n",
    "        HRLesionNum,areaHR = extractROI2(src4)\n",
    "    \n",
    "#     Pointdata.append([file_names[i], MALesionNum, HRLesionNum, HELesionNum, areaMA, areaHR, areaHE])\n",
    "    \n",
    "    Pointdata.append([newfile_name+\".png\", MALesionNum, HRLesionNum, HELesionNum, SELesionNum,\n",
    "                     areaMA, areaHR, areaHE, areaSE])\n",
    "   \n",
    "csvFile2 = open('GenerateData-GroundTruth/LesionNumNewidridtrain.csv','w', newline='') # 设置newline，否则两行之间会空一行\n",
    "writer = csv.writer(csvFile2)\n",
    "m = len(Pointdata)\n",
    "for i in range(m):\n",
    "    writer.writerow(Pointdata[i])\n",
    "csvFile2.close()\n",
    "\n",
    "#     src = src1 + src2 + src3 + src4\n",
    "#     im_gray = cv2.cvtColor(src,cv2.COLOR_BGR2GRAY)\n",
    "#     retval, im_at_fixed = cv2.threshold(im_gray, 50, 255, cv2.THRESH_BINARY) \n",
    "#     #im_at_mean = cv2.adaptiveThreshold(im_gray, 255, cv2.ADAPTIVE_THRESH_MEAN_C, cv2.THRESH_BINARY, 5, 10)\n",
    "#     cv2.imwrite('ImageSynthesis/4lesions/syn/'+file_names[i],im_at_fixed)"
   ]
  },
  {
   "cell_type": "markdown",
   "metadata": {},
   "source": [
    "# 计算E-ophtha中MA和HE的数量"
   ]
  },
  {
   "cell_type": "code",
   "execution_count": 48,
   "metadata": {},
   "outputs": [],
   "source": [
    "from PIL import Image, ImageDraw\n",
    "import cv2\n",
    "import numpy as np\n",
    "import os,sys\n",
    "import scipy.io\n",
    "import csv\n",
    "%matplotlib inline\n",
    "ROOT_DIR = os.getcwd()"
   ]
  },
  {
   "cell_type": "code",
   "execution_count": 49,
   "metadata": {},
   "outputs": [],
   "source": [
    "def extractROI2(img_new):\n",
    "    #if img_new:\n",
    "     #   return 0,0\n",
    "    \n",
    "    image = Image.fromarray(img_new)\n",
    "    img_gray=np.array(image.convert(\"L\")) \n",
    "    mask_arr = np.array(img_gray != 0).astype(np.uint8)\n",
    "\n",
    "    mask_arr = mask_arr*255\n",
    "    [x,y]=img_gray.shape\n",
    "    Mask_arr= np.zeros([x,y,3], dtype = np.uint8)\n",
    "\n",
    "    ROI,contours,hierarchy= cv2.findContours(mask_arr,cv2.RETR_TREE,cv2.CHAIN_APPROX_NONE)\n",
    "    lesionNum = len(contours)\n",
    "    area = 0\n",
    "    #for i in range(len(contours)):\n",
    "    area = cv2.countNonZero(mask_arr)\n",
    "\n",
    "    return lesionNum,area"
   ]
  },
  {
   "cell_type": "code",
   "execution_count": 55,
   "metadata": {},
   "outputs": [
    {
     "name": "stdout",
     "output_type": "stream",
     "text": [
      "['DS000N9Y.png', 'DS000FMH.png', 'C0004249.png', 'C0014728.png', 'DS000DBR.png', 'DS000FBF.png', 'C0014729.png', 'DS000N9X.png', 'C0018298.png', 'C0014475.png', 'DS000N9Z.png', 'DS000FBD.png', 'C0024415.png', 'DS000DBQ.png', 'DS000DBP.png', 'C0024414.png', 'DS000V1R.png', 'DS000QA2.png', 'C0019839.png', 'C0018299.png', 'C0032886.png', 'C0007237.png', 'C0024411.png', 'DS000STU.png', 'C0007155.png', 'DS000GH5.png', 'C0014473.png', 'DS000NA1.png', 'C0008258.png', 'C0007157.png', 'DS000STW.png', 'C0024407.png', 'C0024413.png', 'DS000HVH.png', 'C0018301.png', 'C0018300.png', 'DS000HVI.png', 'DS000FBC.png', 'C0007156.png', 'DS000GH6.png', 'C0007333.png', 'DS00008I.png', 'C0000886.png', 'C0005450.png', 'C0030399.png', 'C0022011.png', 'C0003222.png', 'C0000887.png', 'DS000B1J.png', 'C0003183.png', 'C0003181.png', 'DS000B1H.png', 'DS00008J.png', 'C0007245.png', 'DS000B1I.png', 'C0007331.png', 'DS000H04.png', 'C0019916.png', 'C0007240.png', 'DS000E6N.png', 'C0003226.png', 'DS000VCN.png', 'C0005454.png', 'DS000V6S.png', 'DS000I6W.png', 'C0024252.png', 'DS000I6Z.png', 'C0007104.png', 'DS000DPJ.png', 'DS000TZ5.png', 'C0007105.png', 'C0032814.png', 'DS000U30.png', 'C0024245.png', 'C0024251.png', 'C0022966.png', 'C0001365.png', 'C0032817.png', 'C0007106.png', 'DS000I6X.png', 'C0024250.png', 'C0007102.png', 'C0014793.png', 'DS000DPL.png', 'DS000V6O.png', 'C0022963.png', 'DS000DGS.png', 'DS000FGF.png', 'C0032812.png', 'DS00091A.png', 'DS00008G.png', 'C0019842.png', 'C0019840.png', 'C0014790.png', 'DS000FGD.png', 'C0030395.png', 'DS000FGE.png', 'DS00091B.png', 'C0003164.png', 'C0025305.png', 'C0030734.png', 'C0007239.png', 'C0001884.png', 'C0001885.png', 'C0007238.png', 'DS000HVE.png', 'DS000V1O.png', 'C0030735.png', 'C0030737.png', 'C0001273.png', 'C0007158.png', 'C0021835.png', 'DS000F4J.png', 'C0030694.png', 'C0006326.png', 'C0024408.png', 'DS000HXL.png', 'DS000DBO.png', 'DS000HVG.png', 'C0012623.png', 'C0001886.png', 'DS000F4K.png', 'DS000FOK.png', 'C0025307.png', 'C0022681.png', 'DS000U4U.png', 'C0024545.png', 'C0025303.png', 'DS00076H.png', 'C0001276.png', 'C0004246.png', 'C0014727.png', 'C0001883.png', 'C0024418.png', 'C0014726.png', 'DS00076I.png', 'C0024544.png', 'C0021833.png', 'C0001275.png', 'DS000FOL.png', 'C0030692.png', 'C0024340.png', 'DS000HXJ.png', 'DS000OQB.png', 'DS000HXK.png', 'C0024341.png', 'DS000FOM.png', 'C0001274.png', 'DS00008I_EX.png', 'C0007158_EX.png', 'C0026113_EX.png', 'DS000GH4_EX.png', 'C0024407_EX.png', 'DS000HXJ_EX.png', 'C0025307_EX.png', 'DS00008G_EX.png', 'DS000HVG_EX.png', 'C0026111_EX.png', 'C0024409_EX.png', 'C0032812_EX.png', 'DS000OTS_EX.png', 'C0001273_EX.png', 'C0010452_EX.png', 'C0030692_EX.png', 'C0010059_EX.png', 'C0021836_EX.png', 'DS000U30_EX.png', 'DS000F4K_EX.png', 'C0032814_EX.png', 'DS0009NU_EX.png', 'DS000VET_EX.png', 'DS000U32_EX.png', 'C0021834_EX.png', 'C0010362_EX.png', 'C0007248_EX.png', 'C0014759_EX.png', 'DS000FGD_EX.png', 'C0002369_EX.png', 'C0007155_EX.png', 'C0035053_EX.png', 'C0007157_EX.png', 'C0010492_EX.png', 'C0024408_EX.png', 'C0021833_EX.png', 'C0014792_EX.png', 'DS000VBZ_EX.png', 'C0003166_EX.png', 'C0016193_EX.png', 'DS000HXM_EX.png', 'DS000GIU_EX.png', 'C0007240_EX.png', 'C0003164_EX.png', 'C0021835_EX.png', 'C0002422_EX.png', 'C0035059_EX.png']\n",
      "1 DS000N9Y.png\n",
      "2 DS000FMH.png\n",
      "3 C0004249.png\n",
      "4 C0014728.png\n",
      "5 DS000DBR.png\n",
      "6 DS000FBF.png\n",
      "7 C0014729.png\n",
      "8 DS000N9X.png\n",
      "9 C0018298.png\n",
      "10 C0014475.png\n",
      "11 DS000N9Z.png\n",
      "12 DS000FBD.png\n",
      "13 C0024415.png\n",
      "14 DS000DBQ.png\n",
      "15 DS000DBP.png\n",
      "16 C0024414.png\n",
      "17 DS000V1R.png\n",
      "18 DS000QA2.png\n",
      "19 C0019839.png\n",
      "20 C0018299.png\n",
      "21 C0032886.png\n",
      "22 C0007237.png\n",
      "23 C0024411.png\n",
      "24 DS000STU.png\n",
      "25 C0007155.png\n",
      "26 DS000GH5.png\n",
      "27 C0014473.png\n",
      "28 DS000NA1.png\n",
      "29 C0008258.png\n",
      "30 C0007157.png\n",
      "31 DS000STW.png\n",
      "32 C0024407.png\n",
      "33 C0024413.png\n",
      "34 DS000HVH.png\n",
      "35 C0018301.png\n",
      "36 C0018300.png\n",
      "37 DS000HVI.png\n",
      "38 DS000FBC.png\n",
      "39 C0007156.png\n",
      "40 DS000GH6.png\n",
      "41 C0007333.png\n",
      "42 DS00008I.png\n",
      "43 C0000886.png\n",
      "44 C0005450.png\n",
      "45 C0030399.png\n",
      "46 C0022011.png\n",
      "47 C0003222.png\n",
      "48 C0000887.png\n",
      "49 DS000B1J.png\n",
      "50 C0003183.png\n",
      "51 C0003181.png\n",
      "52 DS000B1H.png\n",
      "53 DS00008J.png\n",
      "54 C0007245.png\n",
      "55 DS000B1I.png\n",
      "56 C0007331.png\n",
      "57 DS000H04.png\n",
      "58 C0019916.png\n",
      "59 C0007240.png\n",
      "60 DS000E6N.png\n",
      "61 C0003226.png\n",
      "62 DS000VCN.png\n",
      "63 C0005454.png\n",
      "64 DS000V6S.png\n",
      "65 DS000I6W.png\n",
      "66 C0024252.png\n",
      "67 DS000I6Z.png\n",
      "68 C0007104.png\n",
      "69 DS000DPJ.png\n",
      "70 DS000TZ5.png\n",
      "71 C0007105.png\n",
      "72 C0032814.png\n",
      "73 DS000U30.png\n",
      "74 C0024245.png\n",
      "75 C0024251.png\n",
      "76 C0022966.png\n",
      "77 C0001365.png\n",
      "78 C0032817.png\n",
      "79 C0007106.png\n",
      "80 DS000I6X.png\n",
      "81 C0024250.png\n",
      "82 C0007102.png\n",
      "83 C0014793.png\n",
      "84 DS000DPL.png\n",
      "85 DS000V6O.png\n",
      "86 C0022963.png\n",
      "87 DS000DGS.png\n",
      "88 DS000FGF.png\n",
      "89 C0032812.png\n",
      "90 DS00091A.png\n",
      "91 DS00008G.png\n",
      "92 C0019842.png\n",
      "93 C0019840.png\n",
      "94 C0014790.png\n",
      "95 DS000FGD.png\n",
      "96 C0030395.png\n",
      "97 DS000FGE.png\n",
      "98 DS00091B.png\n",
      "99 C0003164.png\n",
      "100 C0025305.png\n",
      "101 C0030734.png\n",
      "102 C0007239.png\n",
      "103 C0001884.png\n",
      "104 C0001885.png\n",
      "105 C0007238.png\n",
      "106 DS000HVE.png\n",
      "107 DS000V1O.png\n",
      "108 C0030735.png\n",
      "109 C0030737.png\n",
      "110 C0001273.png\n",
      "111 C0007158.png\n",
      "112 C0021835.png\n",
      "113 DS000F4J.png\n",
      "114 C0030694.png\n",
      "115 C0006326.png\n",
      "116 C0024408.png\n",
      "117 DS000HXL.png\n",
      "118 DS000DBO.png\n",
      "119 DS000HVG.png\n",
      "120 C0012623.png\n",
      "121 C0001886.png\n",
      "122 DS000F4K.png\n",
      "123 DS000FOK.png\n",
      "124 C0025307.png\n",
      "125 C0022681.png\n",
      "126 DS000U4U.png\n",
      "127 C0024545.png\n",
      "128 C0025303.png\n",
      "129 DS00076H.png\n",
      "130 C0001276.png\n",
      "131 C0004246.png\n",
      "132 C0014727.png\n",
      "133 C0001883.png\n",
      "134 C0024418.png\n",
      "135 C0014726.png\n",
      "136 DS00076I.png\n",
      "137 C0024544.png\n",
      "138 C0021833.png\n",
      "139 C0001275.png\n",
      "140 DS000FOL.png\n",
      "141 C0030692.png\n",
      "142 C0024340.png\n",
      "143 DS000HXJ.png\n",
      "144 DS000OQB.png\n",
      "145 DS000HXK.png\n",
      "146 C0024341.png\n",
      "147 DS000FOM.png\n",
      "148 C0001274.png\n",
      "149 DS00008I_EX.png\n",
      "150 C0007158_EX.png\n",
      "151 C0026113_EX.png\n",
      "152 DS000GH4_EX.png\n",
      "153 C0024407_EX.png\n",
      "154 DS000HXJ_EX.png\n",
      "155 C0025307_EX.png\n",
      "156 DS00008G_EX.png\n",
      "157 DS000HVG_EX.png\n",
      "158 C0026111_EX.png\n",
      "159 C0024409_EX.png\n",
      "160 C0032812_EX.png\n",
      "161 DS000OTS_EX.png\n",
      "162 C0001273_EX.png\n",
      "163 C0010452_EX.png\n",
      "164 C0030692_EX.png\n",
      "165 C0010059_EX.png\n",
      "166 C0021836_EX.png\n",
      "167 DS000U30_EX.png\n",
      "168 DS000F4K_EX.png\n",
      "169 C0032814_EX.png\n",
      "170 DS0009NU_EX.png\n",
      "171 DS000VET_EX.png\n",
      "172 DS000U32_EX.png\n",
      "173 C0021834_EX.png\n",
      "174 C0010362_EX.png\n",
      "175 C0007248_EX.png\n",
      "176 C0014759_EX.png\n",
      "177 DS000FGD_EX.png\n",
      "178 C0002369_EX.png\n",
      "179 C0007155_EX.png\n",
      "180 C0035053_EX.png\n",
      "181 C0007157_EX.png\n",
      "182 C0010492_EX.png\n",
      "183 C0024408_EX.png\n",
      "184 C0021833_EX.png\n",
      "185 C0014792_EX.png\n",
      "186 DS000VBZ_EX.png\n",
      "187 C0003166_EX.png\n",
      "188 C0016193_EX.png\n",
      "189 DS000HXM_EX.png\n",
      "190 DS000GIU_EX.png\n",
      "191 C0007240_EX.png\n",
      "192 C0003164_EX.png\n",
      "193 C0021835_EX.png\n",
      "194 C0002422_EX.png\n",
      "195 C0035059_EX.png\n"
     ]
    },
    {
     "data": {
      "text/plain": [
       "50"
      ]
     },
     "execution_count": 55,
     "metadata": {},
     "output_type": "execute_result"
    },
    {
     "data": {
      "text/plain": [
       "32"
      ]
     },
     "execution_count": 55,
     "metadata": {},
     "output_type": "execute_result"
    },
    {
     "data": {
      "text/plain": [
       "33"
      ]
     },
     "execution_count": 55,
     "metadata": {},
     "output_type": "execute_result"
    },
    {
     "data": {
      "text/plain": [
       "32"
      ]
     },
     "execution_count": 55,
     "metadata": {},
     "output_type": "execute_result"
    },
    {
     "data": {
      "text/plain": [
       "34"
      ]
     },
     "execution_count": 55,
     "metadata": {},
     "output_type": "execute_result"
    },
    {
     "data": {
      "text/plain": [
       "32"
      ]
     },
     "execution_count": 55,
     "metadata": {},
     "output_type": "execute_result"
    },
    {
     "data": {
      "text/plain": [
       "33"
      ]
     },
     "execution_count": 55,
     "metadata": {},
     "output_type": "execute_result"
    },
    {
     "data": {
      "text/plain": [
       "33"
      ]
     },
     "execution_count": 55,
     "metadata": {},
     "output_type": "execute_result"
    },
    {
     "data": {
      "text/plain": [
       "33"
      ]
     },
     "execution_count": 55,
     "metadata": {},
     "output_type": "execute_result"
    },
    {
     "data": {
      "text/plain": [
       "33"
      ]
     },
     "execution_count": 55,
     "metadata": {},
     "output_type": "execute_result"
    },
    {
     "data": {
      "text/plain": [
       "32"
      ]
     },
     "execution_count": 55,
     "metadata": {},
     "output_type": "execute_result"
    },
    {
     "data": {
      "text/plain": [
       "34"
      ]
     },
     "execution_count": 55,
     "metadata": {},
     "output_type": "execute_result"
    },
    {
     "data": {
      "text/plain": [
       "32"
      ]
     },
     "execution_count": 55,
     "metadata": {},
     "output_type": "execute_result"
    },
    {
     "data": {
      "text/plain": [
       "32"
      ]
     },
     "execution_count": 55,
     "metadata": {},
     "output_type": "execute_result"
    },
    {
     "data": {
      "text/plain": [
       "31"
      ]
     },
     "execution_count": 55,
     "metadata": {},
     "output_type": "execute_result"
    },
    {
     "data": {
      "text/plain": [
       "31"
      ]
     },
     "execution_count": 55,
     "metadata": {},
     "output_type": "execute_result"
    },
    {
     "data": {
      "text/plain": [
       "34"
      ]
     },
     "execution_count": 55,
     "metadata": {},
     "output_type": "execute_result"
    },
    {
     "data": {
      "text/plain": [
       "33"
      ]
     },
     "execution_count": 55,
     "metadata": {},
     "output_type": "execute_result"
    },
    {
     "data": {
      "text/plain": [
       "32"
      ]
     },
     "execution_count": 55,
     "metadata": {},
     "output_type": "execute_result"
    },
    {
     "data": {
      "text/plain": [
       "32"
      ]
     },
     "execution_count": 55,
     "metadata": {},
     "output_type": "execute_result"
    },
    {
     "data": {
      "text/plain": [
       "33"
      ]
     },
     "execution_count": 55,
     "metadata": {},
     "output_type": "execute_result"
    },
    {
     "data": {
      "text/plain": [
       "32"
      ]
     },
     "execution_count": 55,
     "metadata": {},
     "output_type": "execute_result"
    },
    {
     "data": {
      "text/plain": [
       "32"
      ]
     },
     "execution_count": 55,
     "metadata": {},
     "output_type": "execute_result"
    },
    {
     "data": {
      "text/plain": [
       "34"
      ]
     },
     "execution_count": 55,
     "metadata": {},
     "output_type": "execute_result"
    },
    {
     "data": {
      "text/plain": [
       "31"
      ]
     },
     "execution_count": 55,
     "metadata": {},
     "output_type": "execute_result"
    },
    {
     "data": {
      "text/plain": [
       "32"
      ]
     },
     "execution_count": 55,
     "metadata": {},
     "output_type": "execute_result"
    },
    {
     "data": {
      "text/plain": [
       "31"
      ]
     },
     "execution_count": 55,
     "metadata": {},
     "output_type": "execute_result"
    },
    {
     "data": {
      "text/plain": [
       "32"
      ]
     },
     "execution_count": 55,
     "metadata": {},
     "output_type": "execute_result"
    },
    {
     "data": {
      "text/plain": [
       "33"
      ]
     },
     "execution_count": 55,
     "metadata": {},
     "output_type": "execute_result"
    },
    {
     "data": {
      "text/plain": [
       "34"
      ]
     },
     "execution_count": 55,
     "metadata": {},
     "output_type": "execute_result"
    },
    {
     "data": {
      "text/plain": [
       "32"
      ]
     },
     "execution_count": 55,
     "metadata": {},
     "output_type": "execute_result"
    },
    {
     "data": {
      "text/plain": [
       "31"
      ]
     },
     "execution_count": 55,
     "metadata": {},
     "output_type": "execute_result"
    },
    {
     "data": {
      "text/plain": [
       "34"
      ]
     },
     "execution_count": 55,
     "metadata": {},
     "output_type": "execute_result"
    },
    {
     "data": {
      "text/plain": [
       "32"
      ]
     },
     "execution_count": 55,
     "metadata": {},
     "output_type": "execute_result"
    },
    {
     "data": {
      "text/plain": [
       "33"
      ]
     },
     "execution_count": 55,
     "metadata": {},
     "output_type": "execute_result"
    },
    {
     "data": {
      "text/plain": [
       "33"
      ]
     },
     "execution_count": 55,
     "metadata": {},
     "output_type": "execute_result"
    },
    {
     "data": {
      "text/plain": [
       "32"
      ]
     },
     "execution_count": 55,
     "metadata": {},
     "output_type": "execute_result"
    },
    {
     "data": {
      "text/plain": [
       "32"
      ]
     },
     "execution_count": 55,
     "metadata": {},
     "output_type": "execute_result"
    },
    {
     "data": {
      "text/plain": [
       "33"
      ]
     },
     "execution_count": 55,
     "metadata": {},
     "output_type": "execute_result"
    },
    {
     "data": {
      "text/plain": [
       "32"
      ]
     },
     "execution_count": 55,
     "metadata": {},
     "output_type": "execute_result"
    },
    {
     "data": {
      "text/plain": [
       "31"
      ]
     },
     "execution_count": 55,
     "metadata": {},
     "output_type": "execute_result"
    },
    {
     "data": {
      "text/plain": [
       "34"
      ]
     },
     "execution_count": 55,
     "metadata": {},
     "output_type": "execute_result"
    },
    {
     "data": {
      "text/plain": [
       "33"
      ]
     },
     "execution_count": 55,
     "metadata": {},
     "output_type": "execute_result"
    },
    {
     "data": {
      "text/plain": [
       "32"
      ]
     },
     "execution_count": 55,
     "metadata": {},
     "output_type": "execute_result"
    },
    {
     "data": {
      "text/plain": [
       "34"
      ]
     },
     "execution_count": 55,
     "metadata": {},
     "output_type": "execute_result"
    },
    {
     "data": {
      "text/plain": [
       "32"
      ]
     },
     "execution_count": 55,
     "metadata": {},
     "output_type": "execute_result"
    },
    {
     "data": {
      "text/plain": [
       "34"
      ]
     },
     "execution_count": 55,
     "metadata": {},
     "output_type": "execute_result"
    },
    {
     "data": {
      "text/plain": [
       "32"
      ]
     },
     "execution_count": 55,
     "metadata": {},
     "output_type": "execute_result"
    },
    {
     "data": {
      "text/plain": [
       "32"
      ]
     },
     "execution_count": 55,
     "metadata": {},
     "output_type": "execute_result"
    },
    {
     "data": {
      "text/plain": [
       "32"
      ]
     },
     "execution_count": 55,
     "metadata": {},
     "output_type": "execute_result"
    },
    {
     "data": {
      "text/plain": [
       "31"
      ]
     },
     "execution_count": 55,
     "metadata": {},
     "output_type": "execute_result"
    },
    {
     "data": {
      "text/plain": [
       "32"
      ]
     },
     "execution_count": 55,
     "metadata": {},
     "output_type": "execute_result"
    },
    {
     "data": {
      "text/plain": [
       "31"
      ]
     },
     "execution_count": 55,
     "metadata": {},
     "output_type": "execute_result"
    },
    {
     "data": {
      "text/plain": [
       "33"
      ]
     },
     "execution_count": 55,
     "metadata": {},
     "output_type": "execute_result"
    },
    {
     "data": {
      "text/plain": [
       "32"
      ]
     },
     "execution_count": 55,
     "metadata": {},
     "output_type": "execute_result"
    },
    {
     "data": {
      "text/plain": [
       "31"
      ]
     },
     "execution_count": 55,
     "metadata": {},
     "output_type": "execute_result"
    },
    {
     "data": {
      "text/plain": [
       "32"
      ]
     },
     "execution_count": 55,
     "metadata": {},
     "output_type": "execute_result"
    },
    {
     "data": {
      "text/plain": [
       "31"
      ]
     },
     "execution_count": 55,
     "metadata": {},
     "output_type": "execute_result"
    },
    {
     "data": {
      "text/plain": [
       "34"
      ]
     },
     "execution_count": 55,
     "metadata": {},
     "output_type": "execute_result"
    },
    {
     "data": {
      "text/plain": [
       "32"
      ]
     },
     "execution_count": 55,
     "metadata": {},
     "output_type": "execute_result"
    },
    {
     "data": {
      "text/plain": [
       "33"
      ]
     },
     "execution_count": 55,
     "metadata": {},
     "output_type": "execute_result"
    },
    {
     "data": {
      "text/plain": [
       "32"
      ]
     },
     "execution_count": 55,
     "metadata": {},
     "output_type": "execute_result"
    },
    {
     "data": {
      "text/plain": [
       "31"
      ]
     },
     "execution_count": 55,
     "metadata": {},
     "output_type": "execute_result"
    },
    {
     "data": {
      "text/plain": [
       "32"
      ]
     },
     "execution_count": 55,
     "metadata": {},
     "output_type": "execute_result"
    },
    {
     "data": {
      "text/plain": [
       "33"
      ]
     },
     "execution_count": 55,
     "metadata": {},
     "output_type": "execute_result"
    },
    {
     "data": {
      "text/plain": [
       "32"
      ]
     },
     "execution_count": 55,
     "metadata": {},
     "output_type": "execute_result"
    },
    {
     "data": {
      "text/plain": [
       "32"
      ]
     },
     "execution_count": 55,
     "metadata": {},
     "output_type": "execute_result"
    },
    {
     "data": {
      "text/plain": [
       "31"
      ]
     },
     "execution_count": 55,
     "metadata": {},
     "output_type": "execute_result"
    },
    {
     "data": {
      "text/plain": [
       "32"
      ]
     },
     "execution_count": 55,
     "metadata": {},
     "output_type": "execute_result"
    },
    {
     "data": {
      "text/plain": [
       "34"
      ]
     },
     "execution_count": 55,
     "metadata": {},
     "output_type": "execute_result"
    },
    {
     "data": {
      "text/plain": [
       "33"
      ]
     },
     "execution_count": 55,
     "metadata": {},
     "output_type": "execute_result"
    },
    {
     "data": {
      "text/plain": [
       "32"
      ]
     },
     "execution_count": 55,
     "metadata": {},
     "output_type": "execute_result"
    },
    {
     "data": {
      "text/plain": [
       "32"
      ]
     },
     "execution_count": 55,
     "metadata": {},
     "output_type": "execute_result"
    },
    {
     "data": {
      "text/plain": [
       "31"
      ]
     },
     "execution_count": 55,
     "metadata": {},
     "output_type": "execute_result"
    },
    {
     "data": {
      "text/plain": [
       "31"
      ]
     },
     "execution_count": 55,
     "metadata": {},
     "output_type": "execute_result"
    },
    {
     "data": {
      "text/plain": [
       "32"
      ]
     },
     "execution_count": 55,
     "metadata": {},
     "output_type": "execute_result"
    },
    {
     "data": {
      "text/plain": [
       "33"
      ]
     },
     "execution_count": 55,
     "metadata": {},
     "output_type": "execute_result"
    },
    {
     "data": {
      "text/plain": [
       "31"
      ]
     },
     "execution_count": 55,
     "metadata": {},
     "output_type": "execute_result"
    },
    {
     "data": {
      "text/plain": [
       "32"
      ]
     },
     "execution_count": 55,
     "metadata": {},
     "output_type": "execute_result"
    },
    {
     "data": {
      "text/plain": [
       "32"
      ]
     },
     "execution_count": 55,
     "metadata": {},
     "output_type": "execute_result"
    },
    {
     "data": {
      "text/plain": [
       "31"
      ]
     },
     "execution_count": 55,
     "metadata": {},
     "output_type": "execute_result"
    },
    {
     "data": {
      "text/plain": [
       "33"
      ]
     },
     "execution_count": 55,
     "metadata": {},
     "output_type": "execute_result"
    },
    {
     "data": {
      "text/plain": [
       "32"
      ]
     },
     "execution_count": 55,
     "metadata": {},
     "output_type": "execute_result"
    },
    {
     "data": {
      "text/plain": [
       "33"
      ]
     },
     "execution_count": 55,
     "metadata": {},
     "output_type": "execute_result"
    },
    {
     "data": {
      "text/plain": [
       "33"
      ]
     },
     "execution_count": 55,
     "metadata": {},
     "output_type": "execute_result"
    },
    {
     "data": {
      "text/plain": [
       "33"
      ]
     },
     "execution_count": 55,
     "metadata": {},
     "output_type": "execute_result"
    },
    {
     "data": {
      "text/plain": [
       "33"
      ]
     },
     "execution_count": 55,
     "metadata": {},
     "output_type": "execute_result"
    },
    {
     "data": {
      "text/plain": [
       "32"
      ]
     },
     "execution_count": 55,
     "metadata": {},
     "output_type": "execute_result"
    },
    {
     "data": {
      "text/plain": [
       "32"
      ]
     },
     "execution_count": 55,
     "metadata": {},
     "output_type": "execute_result"
    },
    {
     "data": {
      "text/plain": [
       "33"
      ]
     },
     "execution_count": 55,
     "metadata": {},
     "output_type": "execute_result"
    },
    {
     "data": {
      "text/plain": [
       "32"
      ]
     },
     "execution_count": 55,
     "metadata": {},
     "output_type": "execute_result"
    },
    {
     "data": {
      "text/plain": [
       "32"
      ]
     },
     "execution_count": 55,
     "metadata": {},
     "output_type": "execute_result"
    },
    {
     "data": {
      "text/plain": [
       "33"
      ]
     },
     "execution_count": 55,
     "metadata": {},
     "output_type": "execute_result"
    },
    {
     "data": {
      "text/plain": [
       "33"
      ]
     },
     "execution_count": 55,
     "metadata": {},
     "output_type": "execute_result"
    },
    {
     "data": {
      "text/plain": [
       "33"
      ]
     },
     "execution_count": 55,
     "metadata": {},
     "output_type": "execute_result"
    },
    {
     "data": {
      "text/plain": [
       "34"
      ]
     },
     "execution_count": 55,
     "metadata": {},
     "output_type": "execute_result"
    },
    {
     "data": {
      "text/plain": [
       "31"
      ]
     },
     "execution_count": 55,
     "metadata": {},
     "output_type": "execute_result"
    },
    {
     "data": {
      "text/plain": [
       "32"
      ]
     },
     "execution_count": 55,
     "metadata": {},
     "output_type": "execute_result"
    },
    {
     "data": {
      "text/plain": [
       "31"
      ]
     },
     "execution_count": 55,
     "metadata": {},
     "output_type": "execute_result"
    },
    {
     "data": {
      "text/plain": [
       "33"
      ]
     },
     "execution_count": 55,
     "metadata": {},
     "output_type": "execute_result"
    },
    {
     "data": {
      "text/plain": [
       "32"
      ]
     },
     "execution_count": 55,
     "metadata": {},
     "output_type": "execute_result"
    },
    {
     "data": {
      "text/plain": [
       "32"
      ]
     },
     "execution_count": 55,
     "metadata": {},
     "output_type": "execute_result"
    },
    {
     "data": {
      "text/plain": [
       "32"
      ]
     },
     "execution_count": 55,
     "metadata": {},
     "output_type": "execute_result"
    },
    {
     "data": {
      "text/plain": [
       "32"
      ]
     },
     "execution_count": 55,
     "metadata": {},
     "output_type": "execute_result"
    },
    {
     "data": {
      "text/plain": [
       "34"
      ]
     },
     "execution_count": 55,
     "metadata": {},
     "output_type": "execute_result"
    },
    {
     "data": {
      "text/plain": [
       "32"
      ]
     },
     "execution_count": 55,
     "metadata": {},
     "output_type": "execute_result"
    },
    {
     "data": {
      "text/plain": [
       "32"
      ]
     },
     "execution_count": 55,
     "metadata": {},
     "output_type": "execute_result"
    },
    {
     "data": {
      "text/plain": [
       "33"
      ]
     },
     "execution_count": 55,
     "metadata": {},
     "output_type": "execute_result"
    },
    {
     "data": {
      "text/plain": [
       "32"
      ]
     },
     "execution_count": 55,
     "metadata": {},
     "output_type": "execute_result"
    },
    {
     "data": {
      "text/plain": [
       "32"
      ]
     },
     "execution_count": 55,
     "metadata": {},
     "output_type": "execute_result"
    },
    {
     "data": {
      "text/plain": [
       "33"
      ]
     },
     "execution_count": 55,
     "metadata": {},
     "output_type": "execute_result"
    },
    {
     "data": {
      "text/plain": [
       "34"
      ]
     },
     "execution_count": 55,
     "metadata": {},
     "output_type": "execute_result"
    },
    {
     "data": {
      "text/plain": [
       "32"
      ]
     },
     "execution_count": 55,
     "metadata": {},
     "output_type": "execute_result"
    },
    {
     "data": {
      "text/plain": [
       "31"
      ]
     },
     "execution_count": 55,
     "metadata": {},
     "output_type": "execute_result"
    },
    {
     "data": {
      "text/plain": [
       "33"
      ]
     },
     "execution_count": 55,
     "metadata": {},
     "output_type": "execute_result"
    },
    {
     "data": {
      "text/plain": [
       "32"
      ]
     },
     "execution_count": 55,
     "metadata": {},
     "output_type": "execute_result"
    },
    {
     "data": {
      "text/plain": [
       "32"
      ]
     },
     "execution_count": 55,
     "metadata": {},
     "output_type": "execute_result"
    },
    {
     "data": {
      "text/plain": [
       "32"
      ]
     },
     "execution_count": 55,
     "metadata": {},
     "output_type": "execute_result"
    },
    {
     "data": {
      "text/plain": [
       "33"
      ]
     },
     "execution_count": 55,
     "metadata": {},
     "output_type": "execute_result"
    },
    {
     "data": {
      "text/plain": [
       "33"
      ]
     },
     "execution_count": 55,
     "metadata": {},
     "output_type": "execute_result"
    },
    {
     "data": {
      "text/plain": [
       "32"
      ]
     },
     "execution_count": 55,
     "metadata": {},
     "output_type": "execute_result"
    },
    {
     "data": {
      "text/plain": [
       "32"
      ]
     },
     "execution_count": 55,
     "metadata": {},
     "output_type": "execute_result"
    },
    {
     "data": {
      "text/plain": [
       "33"
      ]
     },
     "execution_count": 55,
     "metadata": {},
     "output_type": "execute_result"
    },
    {
     "data": {
      "text/plain": [
       "32"
      ]
     },
     "execution_count": 55,
     "metadata": {},
     "output_type": "execute_result"
    },
    {
     "data": {
      "text/plain": [
       "34"
      ]
     },
     "execution_count": 55,
     "metadata": {},
     "output_type": "execute_result"
    },
    {
     "data": {
      "text/plain": [
       "33"
      ]
     },
     "execution_count": 55,
     "metadata": {},
     "output_type": "execute_result"
    },
    {
     "data": {
      "text/plain": [
       "31"
      ]
     },
     "execution_count": 55,
     "metadata": {},
     "output_type": "execute_result"
    },
    {
     "data": {
      "text/plain": [
       "33"
      ]
     },
     "execution_count": 55,
     "metadata": {},
     "output_type": "execute_result"
    },
    {
     "data": {
      "text/plain": [
       "33"
      ]
     },
     "execution_count": 55,
     "metadata": {},
     "output_type": "execute_result"
    },
    {
     "data": {
      "text/plain": [
       "31"
      ]
     },
     "execution_count": 55,
     "metadata": {},
     "output_type": "execute_result"
    },
    {
     "data": {
      "text/plain": [
       "33"
      ]
     },
     "execution_count": 55,
     "metadata": {},
     "output_type": "execute_result"
    },
    {
     "data": {
      "text/plain": [
       "31"
      ]
     },
     "execution_count": 55,
     "metadata": {},
     "output_type": "execute_result"
    },
    {
     "data": {
      "text/plain": [
       "33"
      ]
     },
     "execution_count": 55,
     "metadata": {},
     "output_type": "execute_result"
    },
    {
     "data": {
      "text/plain": [
       "34"
      ]
     },
     "execution_count": 55,
     "metadata": {},
     "output_type": "execute_result"
    },
    {
     "data": {
      "text/plain": [
       "32"
      ]
     },
     "execution_count": 55,
     "metadata": {},
     "output_type": "execute_result"
    },
    {
     "data": {
      "text/plain": [
       "33"
      ]
     },
     "execution_count": 55,
     "metadata": {},
     "output_type": "execute_result"
    },
    {
     "data": {
      "text/plain": [
       "32"
      ]
     },
     "execution_count": 55,
     "metadata": {},
     "output_type": "execute_result"
    },
    {
     "data": {
      "text/plain": [
       "32"
      ]
     },
     "execution_count": 55,
     "metadata": {},
     "output_type": "execute_result"
    },
    {
     "data": {
      "text/plain": [
       "33"
      ]
     },
     "execution_count": 55,
     "metadata": {},
     "output_type": "execute_result"
    },
    {
     "data": {
      "text/plain": [
       "33"
      ]
     },
     "execution_count": 55,
     "metadata": {},
     "output_type": "execute_result"
    },
    {
     "data": {
      "text/plain": [
       "32"
      ]
     },
     "execution_count": 55,
     "metadata": {},
     "output_type": "execute_result"
    },
    {
     "data": {
      "text/plain": [
       "33"
      ]
     },
     "execution_count": 55,
     "metadata": {},
     "output_type": "execute_result"
    },
    {
     "data": {
      "text/plain": [
       "32"
      ]
     },
     "execution_count": 55,
     "metadata": {},
     "output_type": "execute_result"
    },
    {
     "data": {
      "text/plain": [
       "32"
      ]
     },
     "execution_count": 55,
     "metadata": {},
     "output_type": "execute_result"
    },
    {
     "data": {
      "text/plain": [
       "32"
      ]
     },
     "execution_count": 55,
     "metadata": {},
     "output_type": "execute_result"
    },
    {
     "data": {
      "text/plain": [
       "31"
      ]
     },
     "execution_count": 55,
     "metadata": {},
     "output_type": "execute_result"
    },
    {
     "data": {
      "text/plain": [
       "32"
      ]
     },
     "execution_count": 55,
     "metadata": {},
     "output_type": "execute_result"
    },
    {
     "data": {
      "text/plain": [
       "31"
      ]
     },
     "execution_count": 55,
     "metadata": {},
     "output_type": "execute_result"
    },
    {
     "data": {
      "text/plain": [
       "32"
      ]
     },
     "execution_count": 55,
     "metadata": {},
     "output_type": "execute_result"
    },
    {
     "data": {
      "text/plain": [
       "36"
      ]
     },
     "execution_count": 55,
     "metadata": {},
     "output_type": "execute_result"
    },
    {
     "data": {
      "text/plain": [
       "39"
      ]
     },
     "execution_count": 55,
     "metadata": {},
     "output_type": "execute_result"
    },
    {
     "data": {
      "text/plain": [
       "38"
      ]
     },
     "execution_count": 55,
     "metadata": {},
     "output_type": "execute_result"
    },
    {
     "data": {
      "text/plain": [
       "36"
      ]
     },
     "execution_count": 55,
     "metadata": {},
     "output_type": "execute_result"
    },
    {
     "data": {
      "text/plain": [
       "39"
      ]
     },
     "execution_count": 55,
     "metadata": {},
     "output_type": "execute_result"
    },
    {
     "data": {
      "text/plain": [
       "37"
      ]
     },
     "execution_count": 55,
     "metadata": {},
     "output_type": "execute_result"
    },
    {
     "data": {
      "text/plain": [
       "35"
      ]
     },
     "execution_count": 55,
     "metadata": {},
     "output_type": "execute_result"
    },
    {
     "data": {
      "text/plain": [
       "35"
      ]
     },
     "execution_count": 55,
     "metadata": {},
     "output_type": "execute_result"
    },
    {
     "data": {
      "text/plain": [
       "36"
      ]
     },
     "execution_count": 55,
     "metadata": {},
     "output_type": "execute_result"
    },
    {
     "data": {
      "text/plain": [
       "39"
      ]
     },
     "execution_count": 55,
     "metadata": {},
     "output_type": "execute_result"
    },
    {
     "data": {
      "text/plain": [
       "37"
      ]
     },
     "execution_count": 55,
     "metadata": {},
     "output_type": "execute_result"
    },
    {
     "data": {
      "text/plain": [
       "37"
      ]
     },
     "execution_count": 55,
     "metadata": {},
     "output_type": "execute_result"
    },
    {
     "data": {
      "text/plain": [
       "37"
      ]
     },
     "execution_count": 55,
     "metadata": {},
     "output_type": "execute_result"
    },
    {
     "data": {
      "text/plain": [
       "37"
      ]
     },
     "execution_count": 55,
     "metadata": {},
     "output_type": "execute_result"
    },
    {
     "data": {
      "text/plain": [
       "37"
      ]
     },
     "execution_count": 55,
     "metadata": {},
     "output_type": "execute_result"
    },
    {
     "data": {
      "text/plain": [
       "38"
      ]
     },
     "execution_count": 55,
     "metadata": {},
     "output_type": "execute_result"
    },
    {
     "data": {
      "text/plain": [
       "38"
      ]
     },
     "execution_count": 55,
     "metadata": {},
     "output_type": "execute_result"
    },
    {
     "data": {
      "text/plain": [
       "37"
      ]
     },
     "execution_count": 55,
     "metadata": {},
     "output_type": "execute_result"
    },
    {
     "data": {
      "text/plain": [
       "38"
      ]
     },
     "execution_count": 55,
     "metadata": {},
     "output_type": "execute_result"
    },
    {
     "data": {
      "text/plain": [
       "35"
      ]
     },
     "execution_count": 55,
     "metadata": {},
     "output_type": "execute_result"
    },
    {
     "data": {
      "text/plain": [
       "37"
      ]
     },
     "execution_count": 55,
     "metadata": {},
     "output_type": "execute_result"
    },
    {
     "data": {
      "text/plain": [
       "37"
      ]
     },
     "execution_count": 55,
     "metadata": {},
     "output_type": "execute_result"
    },
    {
     "data": {
      "text/plain": [
       "37"
      ]
     },
     "execution_count": 55,
     "metadata": {},
     "output_type": "execute_result"
    },
    {
     "data": {
      "text/plain": [
       "37"
      ]
     },
     "execution_count": 55,
     "metadata": {},
     "output_type": "execute_result"
    },
    {
     "data": {
      "text/plain": [
       "38"
      ]
     },
     "execution_count": 55,
     "metadata": {},
     "output_type": "execute_result"
    },
    {
     "data": {
      "text/plain": [
       "36"
      ]
     },
     "execution_count": 55,
     "metadata": {},
     "output_type": "execute_result"
    },
    {
     "data": {
      "text/plain": [
       "35"
      ]
     },
     "execution_count": 55,
     "metadata": {},
     "output_type": "execute_result"
    },
    {
     "data": {
      "text/plain": [
       "38"
      ]
     },
     "execution_count": 55,
     "metadata": {},
     "output_type": "execute_result"
    },
    {
     "data": {
      "text/plain": [
       "35"
      ]
     },
     "execution_count": 55,
     "metadata": {},
     "output_type": "execute_result"
    },
    {
     "data": {
      "text/plain": [
       "39"
      ]
     },
     "execution_count": 55,
     "metadata": {},
     "output_type": "execute_result"
    },
    {
     "data": {
      "text/plain": [
       "37"
      ]
     },
     "execution_count": 55,
     "metadata": {},
     "output_type": "execute_result"
    },
    {
     "data": {
      "text/plain": [
       "39"
      ]
     },
     "execution_count": 55,
     "metadata": {},
     "output_type": "execute_result"
    },
    {
     "data": {
      "text/plain": [
       "37"
      ]
     },
     "execution_count": 55,
     "metadata": {},
     "output_type": "execute_result"
    },
    {
     "data": {
      "text/plain": [
       "37"
      ]
     },
     "execution_count": 55,
     "metadata": {},
     "output_type": "execute_result"
    },
    {
     "data": {
      "text/plain": [
       "38"
      ]
     },
     "execution_count": 55,
     "metadata": {},
     "output_type": "execute_result"
    },
    {
     "data": {
      "text/plain": [
       "37"
      ]
     },
     "execution_count": 55,
     "metadata": {},
     "output_type": "execute_result"
    },
    {
     "data": {
      "text/plain": [
       "37"
      ]
     },
     "execution_count": 55,
     "metadata": {},
     "output_type": "execute_result"
    },
    {
     "data": {
      "text/plain": [
       "34"
      ]
     },
     "execution_count": 55,
     "metadata": {},
     "output_type": "execute_result"
    },
    {
     "data": {
      "text/plain": [
       "37"
      ]
     },
     "execution_count": 55,
     "metadata": {},
     "output_type": "execute_result"
    },
    {
     "data": {
      "text/plain": [
       "39"
      ]
     },
     "execution_count": 55,
     "metadata": {},
     "output_type": "execute_result"
    },
    {
     "data": {
      "text/plain": [
       "37"
      ]
     },
     "execution_count": 55,
     "metadata": {},
     "output_type": "execute_result"
    },
    {
     "data": {
      "text/plain": [
       "37"
      ]
     },
     "execution_count": 55,
     "metadata": {},
     "output_type": "execute_result"
    },
    {
     "data": {
      "text/plain": [
       "35"
      ]
     },
     "execution_count": 55,
     "metadata": {},
     "output_type": "execute_result"
    },
    {
     "data": {
      "text/plain": [
       "37"
      ]
     },
     "execution_count": 55,
     "metadata": {},
     "output_type": "execute_result"
    },
    {
     "data": {
      "text/plain": [
       "35"
      ]
     },
     "execution_count": 55,
     "metadata": {},
     "output_type": "execute_result"
    },
    {
     "data": {
      "text/plain": [
       "34"
      ]
     },
     "execution_count": 55,
     "metadata": {},
     "output_type": "execute_result"
    },
    {
     "data": {
      "text/plain": [
       "37"
      ]
     },
     "execution_count": 55,
     "metadata": {},
     "output_type": "execute_result"
    }
   ],
   "source": [
    "DR_IMAGE_DIR_MA = os.path.join(ROOT_DIR, \"E-ophtha/MA/GroundTruthMask\") #DRDataset/SubChallenge_1_Images\n",
    "    # Load a random image from the images folder\n",
    "file_names_ma = next(os.walk(DR_IMAGE_DIR_MA))[2]\n",
    "DR_IMAGE_DIR_HE = os.path.join(ROOT_DIR, \"E-ophtha/EX/GroundTruthMask\") #DRDataset/SubChallenge_1_Images\n",
    "    # Load a random image from the images folder\n",
    "file_names_he = next(os.walk(DR_IMAGE_DIR_HE))[2]\n",
    "\n",
    "file_names = file_names_ma + file_names_he\n",
    "#print(file_names)\n",
    "Pointdata = [['Image No', 'MA', 'HR', 'HE', 'SE', 'areaMA', 'areaHR', 'areaHE', 'areaSE']]\n",
    "#Pointdata = [['Image No', 'MA', 'HR', 'HE', 'areaMA', 'areaHR', 'areaHE']]\n",
    "\n",
    "for i in range(len(file_names)):  #len(file_names)\n",
    "    #newfile_name = file_names[i].strip('_MA.png')\n",
    "    newfile_name = file_names[i]\n",
    "    print(i+1, newfile_name)\n",
    "    #print(newfile_name+\"_HE.png\")\n",
    "    \n",
    "    filepath_he = \"E-ophtha/EX/GroundTruthMask/\"+newfile_name\n",
    "    if not os.path.exists(filepath_he):\n",
    "        HELesionNum,areaHE = 0,0\n",
    "    else:\n",
    "        src1 = cv2.imread(filepath_he)\n",
    "        HELesionNum,areaHE = extractROI2(src1)\n",
    "    #src1 = cv2.imread(\"GenerateData-GroundTruth/HE/HE_ANN/\"+newfile_name+\"_HE.png\")\n",
    "    #print(src1)\n",
    "    #HELesionNum,areaHE = extractROI(src1, newfile_name, 'HELocationISBI')\n",
    "    #HELesionNum,areaHE = extractROI2(src1)\n",
    "    \n",
    "#     filepath_se = \"GenerateData-GroundTruth/SE/SE_ANN/\"+newfile_name+\"_SE.png\"\n",
    "#     #file_dir_se = os.path.split(filepath_se)[0]\n",
    "#     #print(file_dir_se)\n",
    "#     if not os.path.exists(filepath_se):\n",
    "#         SELesionNum,areaSE = 0,0\n",
    "#     else:\n",
    "#         src2 = cv2.imread(filepath_se)\n",
    "#         SELesionNum,areaSE = extractROI2(src2)\n",
    "    \n",
    "    filepath_ma = \"E-ophtha/MA/GroundTruthMask/\"+newfile_name\n",
    "    #print(src3)\n",
    "    if not os.path.exists(filepath_ma):\n",
    "        MALesionNum,areaMA = 0,0\n",
    "    else:\n",
    "        src3 = cv2.imread(filepath_ma)\n",
    "        MALesionNum,areaMA = extractROI2(src3)\n",
    "    \n",
    "#     filepath_hr = \"GenerateData-GroundTruth/HR/HR_ANN/\"+newfile_name+\"_HR.png\"\n",
    "#     if not os.path.exists(filepath_hr):\n",
    "#         HRLesionNum,areaHR = 0,0\n",
    "#     else:\n",
    "#         src4 = cv2.imread(filepath_hr)\n",
    "#         HRLesionNum,areaHR = extractROI2(src4)\n",
    "    \n",
    "#     Pointdata.append([file_names[i], MALesionNum, HRLesionNum, HELesionNum, areaMA, areaHR, areaHE])\n",
    "    \n",
    "    Pointdata.append([newfile_name, MALesionNum, HRLesionNum, HELesionNum, SELesionNum,\n",
    "                     areaMA, areaHR, areaHE, areaSE])\n",
    "   \n",
    "csvFile2 = open('E-ophtha/LesionNumNewE-ophtha.csv','w', newline='') # 设置newline，否则两行之间会空一行\n",
    "writer = csv.writer(csvFile2)\n",
    "m = len(Pointdata)\n",
    "for i in range(m):\n",
    "    writer.writerow(Pointdata[i])\n",
    "csvFile2.close()\n",
    "\n",
    "#     src = src1 + src2 + src3 + src4\n",
    "#     im_gray = cv2.cvtColor(src,cv2.COLOR_BGR2GRAY)\n",
    "#     retval, im_at_fixed = cv2.threshold(im_gray, 50, 255, cv2.THRESH_BINARY) \n",
    "#     #im_at_mean = cv2.adaptiveThreshold(im_gray, 255, cv2.ADAPTIVE_THRESH_MEAN_C, cv2.THRESH_BINARY, 5, 10)\n",
    "#     cv2.imwrite('ImageSynthesis/4lesions/syn/'+file_names[i],im_at_fixed)"
   ]
  },
  {
   "cell_type": "markdown",
   "metadata": {},
   "source": [
    "# 计算我自己标注的数据中MA, HR, HE, SE的数量"
   ]
  },
  {
   "cell_type": "code",
   "execution_count": 67,
   "metadata": {},
   "outputs": [],
   "source": [
    "from PIL import Image, ImageDraw\n",
    "import cv2\n",
    "import numpy as np\n",
    "import os,sys\n",
    "import scipy.io\n",
    "import csv\n",
    "%matplotlib inline\n",
    "ROOT_DIR = os.getcwd()\n",
    "\n",
    "def extractROI3(img_new, m):\n",
    "    #if img_new:\n",
    "     #   return 0,0\n",
    "    \n",
    "    image = Image.fromarray(img_new)\n",
    "    img_gray=np.array(image.convert(\"L\")) \n",
    "    mask_arr = np.array(img_gray == m).astype(np.uint8)\n",
    "\n",
    "    mask_arr = mask_arr*255\n",
    "    [x,y]=img_gray.shape\n",
    "    Mask_arr= np.zeros([x,y,3], dtype = np.uint8)\n",
    "\n",
    "    ROI,contours,hierarchy= cv2.findContours(mask_arr,cv2.RETR_TREE,cv2.CHAIN_APPROX_NONE)\n",
    "    lesionNum = len(contours)\n",
    "    area = 0\n",
    "    #for i in range(len(contours)):\n",
    "    area = cv2.countNonZero(mask_arr)\n",
    "\n",
    "    return lesionNum,area"
   ]
  },
  {
   "cell_type": "code",
   "execution_count": 72,
   "metadata": {},
   "outputs": [
    {
     "name": "stdout",
     "output_type": "stream",
     "text": [
      "1 179_left.png\n",
      "2 2804_left.png\n",
      "3 525_left.png\n",
      "4 17_right.png\n",
      "5 10_left.png\n",
      "6 525_right.png\n",
      "7 239_right.png\n",
      "8 149_right.png\n",
      "9 531_right.png\n",
      "10 24140_right.png\n",
      "11 47_right.png\n",
      "12 33_left.png\n",
      "13 687_left.png\n",
      "14 465_right.png\n",
      "15 905_left.png\n",
      "16 761_left.png\n",
      "17 30_right.png\n",
      "18 239_left.png\n",
      "19 328_right.png\n",
      "20 40_right.png\n",
      "21 1350_right.png\n",
      "22 16_right.png\n",
      "23 1663_right.png\n",
      "24 696_right.png\n",
      "25 326_left.png\n",
      "26 210_left.png\n",
      "27 211_left.png\n",
      "28 1873_left.png\n",
      "29 25851_left.png\n",
      "30 687_right.png\n",
      "31 1076_left.png\n",
      "32 2767_right.png\n",
      "33 30046_right.png\n",
      "34 47_left.png\n",
      "35 15_right.png\n",
      "36 30_left.png\n",
      "37 348_right.png\n",
      "38 326_right.png\n",
      "39 1941_left.png\n",
      "40 211_right.png\n",
      "41 26332_left.png\n",
      "42 64_left.png\n",
      "43 51_left.png\n",
      "44 178_right.png\n",
      "45 2532_left.png\n",
      "46 229_right.png\n",
      "47 752_right.png\n",
      "48 458_right.png\n",
      "49 460_right.png\n",
      "50 460_left.png\n",
      "51 607_left.png\n",
      "52 231_left.png\n",
      "53 338_left.png\n",
      "54 3563_left.png\n",
      "55 2496_right.png\n",
      "56 435_left.png\n",
      "57 3422_left.png\n",
      "58 40_left.png\n",
      "59 179_right.png\n",
      "60 36_left.png\n"
     ]
    },
    {
     "data": {
      "text/plain": [
       "50"
      ]
     },
     "execution_count": 72,
     "metadata": {},
     "output_type": "execute_result"
    },
    {
     "data": {
      "text/plain": [
       "32"
      ]
     },
     "execution_count": 72,
     "metadata": {},
     "output_type": "execute_result"
    },
    {
     "data": {
      "text/plain": [
       "38"
      ]
     },
     "execution_count": 72,
     "metadata": {},
     "output_type": "execute_result"
    },
    {
     "data": {
      "text/plain": [
       "32"
      ]
     },
     "execution_count": 72,
     "metadata": {},
     "output_type": "execute_result"
    },
    {
     "data": {
      "text/plain": [
       "35"
      ]
     },
     "execution_count": 72,
     "metadata": {},
     "output_type": "execute_result"
    },
    {
     "data": {
      "text/plain": [
       "31"
      ]
     },
     "execution_count": 72,
     "metadata": {},
     "output_type": "execute_result"
    },
    {
     "data": {
      "text/plain": [
       "33"
      ]
     },
     "execution_count": 72,
     "metadata": {},
     "output_type": "execute_result"
    },
    {
     "data": {
      "text/plain": [
       "35"
      ]
     },
     "execution_count": 72,
     "metadata": {},
     "output_type": "execute_result"
    },
    {
     "data": {
      "text/plain": [
       "32"
      ]
     },
     "execution_count": 72,
     "metadata": {},
     "output_type": "execute_result"
    },
    {
     "data": {
      "text/plain": [
       "40"
      ]
     },
     "execution_count": 72,
     "metadata": {},
     "output_type": "execute_result"
    },
    {
     "data": {
      "text/plain": [
       "42"
      ]
     },
     "execution_count": 72,
     "metadata": {},
     "output_type": "execute_result"
    },
    {
     "data": {
      "text/plain": [
       "32"
      ]
     },
     "execution_count": 72,
     "metadata": {},
     "output_type": "execute_result"
    },
    {
     "data": {
      "text/plain": [
       "30"
      ]
     },
     "execution_count": 72,
     "metadata": {},
     "output_type": "execute_result"
    },
    {
     "data": {
      "text/plain": [
       "43"
      ]
     },
     "execution_count": 72,
     "metadata": {},
     "output_type": "execute_result"
    },
    {
     "data": {
      "text/plain": [
       "33"
      ]
     },
     "execution_count": 72,
     "metadata": {},
     "output_type": "execute_result"
    },
    {
     "data": {
      "text/plain": [
       "35"
      ]
     },
     "execution_count": 72,
     "metadata": {},
     "output_type": "execute_result"
    },
    {
     "data": {
      "text/plain": [
       "32"
      ]
     },
     "execution_count": 72,
     "metadata": {},
     "output_type": "execute_result"
    },
    {
     "data": {
      "text/plain": [
       "31"
      ]
     },
     "execution_count": 72,
     "metadata": {},
     "output_type": "execute_result"
    },
    {
     "data": {
      "text/plain": [
       "33"
      ]
     },
     "execution_count": 72,
     "metadata": {},
     "output_type": "execute_result"
    },
    {
     "data": {
      "text/plain": [
       "39"
      ]
     },
     "execution_count": 72,
     "metadata": {},
     "output_type": "execute_result"
    },
    {
     "data": {
      "text/plain": [
       "32"
      ]
     },
     "execution_count": 72,
     "metadata": {},
     "output_type": "execute_result"
    },
    {
     "data": {
      "text/plain": [
       "39"
      ]
     },
     "execution_count": 72,
     "metadata": {},
     "output_type": "execute_result"
    },
    {
     "data": {
      "text/plain": [
       "33"
      ]
     },
     "execution_count": 72,
     "metadata": {},
     "output_type": "execute_result"
    },
    {
     "data": {
      "text/plain": [
       "44"
      ]
     },
     "execution_count": 72,
     "metadata": {},
     "output_type": "execute_result"
    },
    {
     "data": {
      "text/plain": [
       "33"
      ]
     },
     "execution_count": 72,
     "metadata": {},
     "output_type": "execute_result"
    },
    {
     "data": {
      "text/plain": [
       "39"
      ]
     },
     "execution_count": 72,
     "metadata": {},
     "output_type": "execute_result"
    },
    {
     "data": {
      "text/plain": [
       "32"
      ]
     },
     "execution_count": 72,
     "metadata": {},
     "output_type": "execute_result"
    },
    {
     "data": {
      "text/plain": [
       "32"
      ]
     },
     "execution_count": 72,
     "metadata": {},
     "output_type": "execute_result"
    },
    {
     "data": {
      "text/plain": [
       "33"
      ]
     },
     "execution_count": 72,
     "metadata": {},
     "output_type": "execute_result"
    },
    {
     "data": {
      "text/plain": [
       "39"
      ]
     },
     "execution_count": 72,
     "metadata": {},
     "output_type": "execute_result"
    },
    {
     "data": {
      "text/plain": [
       "45"
      ]
     },
     "execution_count": 72,
     "metadata": {},
     "output_type": "execute_result"
    },
    {
     "data": {
      "text/plain": [
       "33"
      ]
     },
     "execution_count": 72,
     "metadata": {},
     "output_type": "execute_result"
    },
    {
     "data": {
      "text/plain": [
       "42"
      ]
     },
     "execution_count": 72,
     "metadata": {},
     "output_type": "execute_result"
    },
    {
     "data": {
      "text/plain": [
       "44"
      ]
     },
     "execution_count": 72,
     "metadata": {},
     "output_type": "execute_result"
    },
    {
     "data": {
      "text/plain": [
       "36"
      ]
     },
     "execution_count": 72,
     "metadata": {},
     "output_type": "execute_result"
    },
    {
     "data": {
      "text/plain": [
       "33"
      ]
     },
     "execution_count": 72,
     "metadata": {},
     "output_type": "execute_result"
    },
    {
     "data": {
      "text/plain": [
       "31"
      ]
     },
     "execution_count": 72,
     "metadata": {},
     "output_type": "execute_result"
    },
    {
     "data": {
      "text/plain": [
       "34"
      ]
     },
     "execution_count": 72,
     "metadata": {},
     "output_type": "execute_result"
    },
    {
     "data": {
      "text/plain": [
       "35"
      ]
     },
     "execution_count": 72,
     "metadata": {},
     "output_type": "execute_result"
    },
    {
     "data": {
      "text/plain": [
       "33"
      ]
     },
     "execution_count": 72,
     "metadata": {},
     "output_type": "execute_result"
    },
    {
     "data": {
      "text/plain": [
       "33"
      ]
     },
     "execution_count": 72,
     "metadata": {},
     "output_type": "execute_result"
    },
    {
     "data": {
      "text/plain": [
       "36"
      ]
     },
     "execution_count": 72,
     "metadata": {},
     "output_type": "execute_result"
    },
    {
     "data": {
      "text/plain": [
       "30"
      ]
     },
     "execution_count": 72,
     "metadata": {},
     "output_type": "execute_result"
    },
    {
     "data": {
      "text/plain": [
       "35"
      ]
     },
     "execution_count": 72,
     "metadata": {},
     "output_type": "execute_result"
    },
    {
     "data": {
      "text/plain": [
       "33"
      ]
     },
     "execution_count": 72,
     "metadata": {},
     "output_type": "execute_result"
    },
    {
     "data": {
      "text/plain": [
       "42"
      ]
     },
     "execution_count": 72,
     "metadata": {},
     "output_type": "execute_result"
    },
    {
     "data": {
      "text/plain": [
       "31"
      ]
     },
     "execution_count": 72,
     "metadata": {},
     "output_type": "execute_result"
    },
    {
     "data": {
      "text/plain": [
       "33"
      ]
     },
     "execution_count": 72,
     "metadata": {},
     "output_type": "execute_result"
    },
    {
     "data": {
      "text/plain": [
       "33"
      ]
     },
     "execution_count": 72,
     "metadata": {},
     "output_type": "execute_result"
    },
    {
     "data": {
      "text/plain": [
       "33"
      ]
     },
     "execution_count": 72,
     "metadata": {},
     "output_type": "execute_result"
    },
    {
     "data": {
      "text/plain": [
       "32"
      ]
     },
     "execution_count": 72,
     "metadata": {},
     "output_type": "execute_result"
    },
    {
     "data": {
      "text/plain": [
       "33"
      ]
     },
     "execution_count": 72,
     "metadata": {},
     "output_type": "execute_result"
    },
    {
     "data": {
      "text/plain": [
       "32"
      ]
     },
     "execution_count": 72,
     "metadata": {},
     "output_type": "execute_result"
    },
    {
     "data": {
      "text/plain": [
       "32"
      ]
     },
     "execution_count": 72,
     "metadata": {},
     "output_type": "execute_result"
    },
    {
     "data": {
      "text/plain": [
       "34"
      ]
     },
     "execution_count": 72,
     "metadata": {},
     "output_type": "execute_result"
    },
    {
     "data": {
      "text/plain": [
       "40"
      ]
     },
     "execution_count": 72,
     "metadata": {},
     "output_type": "execute_result"
    },
    {
     "data": {
      "text/plain": [
       "32"
      ]
     },
     "execution_count": 72,
     "metadata": {},
     "output_type": "execute_result"
    },
    {
     "data": {
      "text/plain": [
       "43"
      ]
     },
     "execution_count": 72,
     "metadata": {},
     "output_type": "execute_result"
    },
    {
     "data": {
      "text/plain": [
       "31"
      ]
     },
     "execution_count": 72,
     "metadata": {},
     "output_type": "execute_result"
    },
    {
     "data": {
      "text/plain": [
       "33"
      ]
     },
     "execution_count": 72,
     "metadata": {},
     "output_type": "execute_result"
    },
    {
     "data": {
      "text/plain": [
       "31"
      ]
     },
     "execution_count": 72,
     "metadata": {},
     "output_type": "execute_result"
    }
   ],
   "source": [
    "DR_IMAGE_DIR= os.path.join(ROOT_DIR, \"myself-ann-data/ground-truth\") #DRDataset/SubChallenge_1_Images\n",
    "    # Load a random image from the images folder\n",
    "file_names = next(os.walk(DR_IMAGE_DIR))[2]\n",
    "\n",
    "#print(file_names)\n",
    "Pointdata = [['Image No', 'MA', 'HR', 'HE', 'SE', 'areaMA', 'areaHR', 'areaHE', 'areaSE']]\n",
    "#Pointdata = [['Image No', 'MA', 'HR', 'HE', 'areaMA', 'areaHR', 'areaHE']]\n",
    "\n",
    "for i in range(len(file_names)):  #len(file_names)\n",
    "    #newfile_name = file_names[i].strip('_MA.png')\n",
    "    newfile_name = file_names[i]\n",
    "    print(i+1, newfile_name)\n",
    "    #print(newfile_name+\"_HE.png\")\n",
    "    \n",
    "    filepath_he = \"myself-ann-data/ground-truth/\"+newfile_name\n",
    "    if not os.path.exists(filepath_he):\n",
    "        HELesionNum,areaHE = 0,0\n",
    "    else:\n",
    "        src1 = cv2.imread(filepath_he)\n",
    "        HELesionNum,areaHE = extractROI3(src1,105)\n",
    "    #src1 = cv2.imread(\"GenerateData-GroundTruth/HE/HE_ANN/\"+newfile_name+\"_HE.png\")\n",
    "    #print(src1)\n",
    "    #HELesionNum,areaHE = extractROI(src1, newfile_name, 'HELocationISBI')\n",
    "    #HELesionNum,areaHE = extractROI2(src1)\n",
    "    \n",
    "    filepath_se = \"myself-ann-data/ground-truth/\"+newfile_name\n",
    "    #file_dir_se = os.path.split(filepath_se)[0]\n",
    "    #print(file_dir_se)\n",
    "    if not os.path.exists(filepath_se):\n",
    "        SELesionNum,areaSE = 0,0\n",
    "    else:\n",
    "        src2 = cv2.imread(filepath_se)\n",
    "        SELesionNum,areaSE = extractROI3(src2,225)\n",
    "    \n",
    "    filepath_ma = \"myself-ann-data/ground-truth/\"+newfile_name\n",
    "    #print(src3)\n",
    "    if not os.path.exists(filepath_ma):\n",
    "        MALesionNum,areaMA = 0,0\n",
    "    else:\n",
    "        src3 = cv2.imread(filepath_ma)\n",
    "        MALesionNum,areaMA = extractROI3(src3,178)\n",
    "    \n",
    "    filepath_hr = \"myself-ann-data/ground-truth/\"+newfile_name\n",
    "    if not os.path.exists(filepath_hr):\n",
    "        HRLesionNum,areaHR = 0,0\n",
    "    else:\n",
    "        src4 = cv2.imread(filepath_hr)\n",
    "        HRLesionNum,areaHR = extractROI3(src4,29)\n",
    "    \n",
    "#     Pointdata.append([file_names[i], MALesionNum, HRLesionNum, HELesionNum, areaMA, areaHR, areaHE])\n",
    "    \n",
    "    Pointdata.append([newfile_name, MALesionNum, HRLesionNum, HELesionNum, SELesionNum,\n",
    "                     areaMA, areaHR, areaHE, areaSE])\n",
    "   \n",
    "csvFile2 = open('myself-ann-data/LesionNumNewmyselfdata.csv','w', newline='') # 设置newline，否则两行之间会空一行\n",
    "writer = csv.writer(csvFile2)\n",
    "m = len(Pointdata)\n",
    "for i in range(m):\n",
    "    writer.writerow(Pointdata[i])\n",
    "csvFile2.close()\n",
    "\n",
    "#     src = src1 + src2 + src3 + src4\n",
    "#     im_gray = cv2.cvtColor(src,cv2.COLOR_BGR2GRAY)\n",
    "#     retval, im_at_fixed = cv2.threshold(im_gray, 50, 255, cv2.THRESH_BINARY) \n",
    "#     #im_at_mean = cv2.adaptiveThreshold(im_gray, 255, cv2.ADAPTIVE_THRESH_MEAN_C, cv2.THRESH_BINARY, 5, 10)\n",
    "#     cv2.imwrite('ImageSynthesis/4lesions/syn/'+file_names[i],im_at_fixed)"
   ]
  },
  {
   "cell_type": "markdown",
   "metadata": {},
   "source": [
    "## 统计DDB1中在95%confendence下没类病变区域的数量"
   ]
  },
  {
   "cell_type": "code",
   "execution_count": 76,
   "metadata": {},
   "outputs": [],
   "source": [
    "from PIL import Image, ImageDraw\n",
    "import cv2\n",
    "import numpy as np\n",
    "import os,sys\n",
    "import scipy.io\n",
    "import csv\n",
    "%matplotlib inline\n",
    "ROOT_DIR = os.getcwd()\n",
    "\n",
    "DR_IMAGE_DIR = os.path.join(ROOT_DIR, \"ddb1_groundtruth_Mask_R-CNN/Label_Data/MA_95\") #DRDataset/SubChallenge_1_Images\n",
    "    # Load a random image from the images folder\n",
    "file_names = next(os.walk(DR_IMAGE_DIR))[2]\n",
    "\n",
    "def extractROI2(img_new):\n",
    "    #if img_new:\n",
    "     #   return 0,0\n",
    "    \n",
    "    image = Image.fromarray(img_new)\n",
    "    img_gray=np.array(image.convert(\"L\")) \n",
    "    mask_arr = np.array(img_gray != 0).astype(np.uint8)\n",
    "\n",
    "    mask_arr = mask_arr*255\n",
    "    [x,y]=img_gray.shape\n",
    "    Mask_arr= np.zeros([x,y,3], dtype = np.uint8)\n",
    "\n",
    "    ROI,contours,hierarchy= cv2.findContours(mask_arr,cv2.RETR_TREE,cv2.CHAIN_APPROX_NONE)\n",
    "    lesionNum = len(contours)\n",
    "    area = 0\n",
    "    #for i in range(len(contours)):\n",
    "    area = cv2.countNonZero(mask_arr)\n",
    "\n",
    "    return lesionNum,area"
   ]
  },
  {
   "cell_type": "code",
   "execution_count": 77,
   "metadata": {},
   "outputs": [
    {
     "name": "stdout",
     "output_type": "stream",
     "text": [
      "1 image083.png\n",
      "2 image068.png\n",
      "3 image054.png\n",
      "4 image040.png\n",
      "5 image041.png\n",
      "6 image055.png\n",
      "7 image069.png\n",
      "8 image082.png\n",
      "9 image080.png\n",
      "10 image043.png\n",
      "11 image057.png\n",
      "12 image056.png\n",
      "13 image042.png\n",
      "14 image081.png\n",
      "15 image085.png\n",
      "16 image046.png\n",
      "17 image052.png\n",
      "18 image053.png\n",
      "19 image047.png\n",
      "20 image084.png\n",
      "21 image086.png\n",
      "22 image051.png\n",
      "23 image045.png\n",
      "24 image079.png\n",
      "25 image078.png\n",
      "26 image044.png\n",
      "27 image050.png\n",
      "28 image087.png\n",
      "29 image037.png\n",
      "30 image023.png\n",
      "31 image022.png\n",
      "32 image036.png\n",
      "33 image008.png\n",
      "34 image020.png\n",
      "35 image034.png\n",
      "36 image035.png\n",
      "37 image021.png\n",
      "38 image009.png\n",
      "39 image025.png\n",
      "40 image031.png\n",
      "41 image019.png\n",
      "42 image018.png\n",
      "43 image030.png\n",
      "44 image024.png\n",
      "45 image032.png\n",
      "46 image026.png\n",
      "47 image027.png\n",
      "48 image033.png\n",
      "49 image016.png\n",
      "50 image002.png\n",
      "51 image003.png\n",
      "52 image017.png\n",
      "53 image029.png\n",
      "54 image001.png\n",
      "55 image015.png\n",
      "56 image014.png\n",
      "57 image028.png\n",
      "58 image004.png\n",
      "59 image010.png\n",
      "60 image038.png\n",
      "61 image039.png\n",
      "62 image011.png\n",
      "63 image005.png\n",
      "64 image013.png\n",
      "65 image007.png\n",
      "66 image006.png\n",
      "67 image012.png\n",
      "68 image049.png\n",
      "69 image075.png\n",
      "70 image061.png\n",
      "71 image060.png\n",
      "72 image074.png\n",
      "73 image048.png\n",
      "74 image089.png\n",
      "75 image062.png\n",
      "76 image076.png\n",
      "77 image077.png\n",
      "78 image063.png\n",
      "79 image088.png\n",
      "80 image067.png\n",
      "81 image073.png\n",
      "82 image072.png\n",
      "83 image066.png\n",
      "84 image070.png\n",
      "85 image064.png\n",
      "86 image058.png\n",
      "87 image059.png\n",
      "88 image065.png\n",
      "89 image071.png\n"
     ]
    },
    {
     "data": {
      "text/plain": [
       "50"
      ]
     },
     "execution_count": 77,
     "metadata": {},
     "output_type": "execute_result"
    },
    {
     "data": {
      "text/plain": [
       "30"
      ]
     },
     "execution_count": 77,
     "metadata": {},
     "output_type": "execute_result"
    },
    {
     "data": {
      "text/plain": [
       "30"
      ]
     },
     "execution_count": 77,
     "metadata": {},
     "output_type": "execute_result"
    },
    {
     "data": {
      "text/plain": [
       "33"
      ]
     },
     "execution_count": 77,
     "metadata": {},
     "output_type": "execute_result"
    },
    {
     "data": {
      "text/plain": [
       "30"
      ]
     },
     "execution_count": 77,
     "metadata": {},
     "output_type": "execute_result"
    },
    {
     "data": {
      "text/plain": [
       "33"
      ]
     },
     "execution_count": 77,
     "metadata": {},
     "output_type": "execute_result"
    },
    {
     "data": {
      "text/plain": [
       "31"
      ]
     },
     "execution_count": 77,
     "metadata": {},
     "output_type": "execute_result"
    },
    {
     "data": {
      "text/plain": [
       "30"
      ]
     },
     "execution_count": 77,
     "metadata": {},
     "output_type": "execute_result"
    },
    {
     "data": {
      "text/plain": [
       "30"
      ]
     },
     "execution_count": 77,
     "metadata": {},
     "output_type": "execute_result"
    },
    {
     "data": {
      "text/plain": [
       "30"
      ]
     },
     "execution_count": 77,
     "metadata": {},
     "output_type": "execute_result"
    },
    {
     "data": {
      "text/plain": [
       "30"
      ]
     },
     "execution_count": 77,
     "metadata": {},
     "output_type": "execute_result"
    },
    {
     "data": {
      "text/plain": [
       "30"
      ]
     },
     "execution_count": 77,
     "metadata": {},
     "output_type": "execute_result"
    },
    {
     "data": {
      "text/plain": [
       "30"
      ]
     },
     "execution_count": 77,
     "metadata": {},
     "output_type": "execute_result"
    },
    {
     "data": {
      "text/plain": [
       "33"
      ]
     },
     "execution_count": 77,
     "metadata": {},
     "output_type": "execute_result"
    },
    {
     "data": {
      "text/plain": [
       "30"
      ]
     },
     "execution_count": 77,
     "metadata": {},
     "output_type": "execute_result"
    },
    {
     "data": {
      "text/plain": [
       "34"
      ]
     },
     "execution_count": 77,
     "metadata": {},
     "output_type": "execute_result"
    },
    {
     "data": {
      "text/plain": [
       "30"
      ]
     },
     "execution_count": 77,
     "metadata": {},
     "output_type": "execute_result"
    },
    {
     "data": {
      "text/plain": [
       "35"
      ]
     },
     "execution_count": 77,
     "metadata": {},
     "output_type": "execute_result"
    },
    {
     "data": {
      "text/plain": [
       "38"
      ]
     },
     "execution_count": 77,
     "metadata": {},
     "output_type": "execute_result"
    },
    {
     "data": {
      "text/plain": [
       "30"
      ]
     },
     "execution_count": 77,
     "metadata": {},
     "output_type": "execute_result"
    },
    {
     "data": {
      "text/plain": [
       "39"
      ]
     },
     "execution_count": 77,
     "metadata": {},
     "output_type": "execute_result"
    },
    {
     "data": {
      "text/plain": [
       "30"
      ]
     },
     "execution_count": 77,
     "metadata": {},
     "output_type": "execute_result"
    },
    {
     "data": {
      "text/plain": [
       "30"
      ]
     },
     "execution_count": 77,
     "metadata": {},
     "output_type": "execute_result"
    },
    {
     "data": {
      "text/plain": [
       "30"
      ]
     },
     "execution_count": 77,
     "metadata": {},
     "output_type": "execute_result"
    },
    {
     "data": {
      "text/plain": [
       "30"
      ]
     },
     "execution_count": 77,
     "metadata": {},
     "output_type": "execute_result"
    },
    {
     "data": {
      "text/plain": [
       "30"
      ]
     },
     "execution_count": 77,
     "metadata": {},
     "output_type": "execute_result"
    },
    {
     "data": {
      "text/plain": [
       "30"
      ]
     },
     "execution_count": 77,
     "metadata": {},
     "output_type": "execute_result"
    },
    {
     "data": {
      "text/plain": [
       "30"
      ]
     },
     "execution_count": 77,
     "metadata": {},
     "output_type": "execute_result"
    },
    {
     "data": {
      "text/plain": [
       "30"
      ]
     },
     "execution_count": 77,
     "metadata": {},
     "output_type": "execute_result"
    },
    {
     "data": {
      "text/plain": [
       "30"
      ]
     },
     "execution_count": 77,
     "metadata": {},
     "output_type": "execute_result"
    },
    {
     "data": {
      "text/plain": [
       "38"
      ]
     },
     "execution_count": 77,
     "metadata": {},
     "output_type": "execute_result"
    },
    {
     "data": {
      "text/plain": [
       "43"
      ]
     },
     "execution_count": 77,
     "metadata": {},
     "output_type": "execute_result"
    },
    {
     "data": {
      "text/plain": [
       "33"
      ]
     },
     "execution_count": 77,
     "metadata": {},
     "output_type": "execute_result"
    },
    {
     "data": {
      "text/plain": [
       "39"
      ]
     },
     "execution_count": 77,
     "metadata": {},
     "output_type": "execute_result"
    },
    {
     "data": {
      "text/plain": [
       "45"
      ]
     },
     "execution_count": 77,
     "metadata": {},
     "output_type": "execute_result"
    },
    {
     "data": {
      "text/plain": [
       "30"
      ]
     },
     "execution_count": 77,
     "metadata": {},
     "output_type": "execute_result"
    },
    {
     "data": {
      "text/plain": [
       "36"
      ]
     },
     "execution_count": 77,
     "metadata": {},
     "output_type": "execute_result"
    },
    {
     "data": {
      "text/plain": [
       "40"
      ]
     },
     "execution_count": 77,
     "metadata": {},
     "output_type": "execute_result"
    },
    {
     "data": {
      "text/plain": [
       "30"
      ]
     },
     "execution_count": 77,
     "metadata": {},
     "output_type": "execute_result"
    },
    {
     "data": {
      "text/plain": [
       "40"
      ]
     },
     "execution_count": 77,
     "metadata": {},
     "output_type": "execute_result"
    },
    {
     "data": {
      "text/plain": [
       "30"
      ]
     },
     "execution_count": 77,
     "metadata": {},
     "output_type": "execute_result"
    },
    {
     "data": {
      "text/plain": [
       "39"
      ]
     },
     "execution_count": 77,
     "metadata": {},
     "output_type": "execute_result"
    },
    {
     "data": {
      "text/plain": [
       "40"
      ]
     },
     "execution_count": 77,
     "metadata": {},
     "output_type": "execute_result"
    },
    {
     "data": {
      "text/plain": [
       "30"
      ]
     },
     "execution_count": 77,
     "metadata": {},
     "output_type": "execute_result"
    },
    {
     "data": {
      "text/plain": [
       "38"
      ]
     },
     "execution_count": 77,
     "metadata": {},
     "output_type": "execute_result"
    },
    {
     "data": {
      "text/plain": [
       "30"
      ]
     },
     "execution_count": 77,
     "metadata": {},
     "output_type": "execute_result"
    },
    {
     "data": {
      "text/plain": [
       "31"
      ]
     },
     "execution_count": 77,
     "metadata": {},
     "output_type": "execute_result"
    },
    {
     "data": {
      "text/plain": [
       "33"
      ]
     },
     "execution_count": 77,
     "metadata": {},
     "output_type": "execute_result"
    },
    {
     "data": {
      "text/plain": [
       "30"
      ]
     },
     "execution_count": 77,
     "metadata": {},
     "output_type": "execute_result"
    },
    {
     "data": {
      "text/plain": [
       "39"
      ]
     },
     "execution_count": 77,
     "metadata": {},
     "output_type": "execute_result"
    },
    {
     "data": {
      "text/plain": [
       "32"
      ]
     },
     "execution_count": 77,
     "metadata": {},
     "output_type": "execute_result"
    },
    {
     "data": {
      "text/plain": [
       "31"
      ]
     },
     "execution_count": 77,
     "metadata": {},
     "output_type": "execute_result"
    },
    {
     "data": {
      "text/plain": [
       "34"
      ]
     },
     "execution_count": 77,
     "metadata": {},
     "output_type": "execute_result"
    },
    {
     "data": {
      "text/plain": [
       "33"
      ]
     },
     "execution_count": 77,
     "metadata": {},
     "output_type": "execute_result"
    },
    {
     "data": {
      "text/plain": [
       "35"
      ]
     },
     "execution_count": 77,
     "metadata": {},
     "output_type": "execute_result"
    },
    {
     "data": {
      "text/plain": [
       "43"
      ]
     },
     "execution_count": 77,
     "metadata": {},
     "output_type": "execute_result"
    },
    {
     "data": {
      "text/plain": [
       "39"
      ]
     },
     "execution_count": 77,
     "metadata": {},
     "output_type": "execute_result"
    },
    {
     "data": {
      "text/plain": [
       "30"
      ]
     },
     "execution_count": 77,
     "metadata": {},
     "output_type": "execute_result"
    },
    {
     "data": {
      "text/plain": [
       "37"
      ]
     },
     "execution_count": 77,
     "metadata": {},
     "output_type": "execute_result"
    },
    {
     "data": {
      "text/plain": [
       "39"
      ]
     },
     "execution_count": 77,
     "metadata": {},
     "output_type": "execute_result"
    },
    {
     "data": {
      "text/plain": [
       "34"
      ]
     },
     "execution_count": 77,
     "metadata": {},
     "output_type": "execute_result"
    },
    {
     "data": {
      "text/plain": [
       "30"
      ]
     },
     "execution_count": 77,
     "metadata": {},
     "output_type": "execute_result"
    },
    {
     "data": {
      "text/plain": [
       "43"
      ]
     },
     "execution_count": 77,
     "metadata": {},
     "output_type": "execute_result"
    },
    {
     "data": {
      "text/plain": [
       "42"
      ]
     },
     "execution_count": 77,
     "metadata": {},
     "output_type": "execute_result"
    },
    {
     "data": {
      "text/plain": [
       "38"
      ]
     },
     "execution_count": 77,
     "metadata": {},
     "output_type": "execute_result"
    },
    {
     "data": {
      "text/plain": [
       "36"
      ]
     },
     "execution_count": 77,
     "metadata": {},
     "output_type": "execute_result"
    },
    {
     "data": {
      "text/plain": [
       "34"
      ]
     },
     "execution_count": 77,
     "metadata": {},
     "output_type": "execute_result"
    },
    {
     "data": {
      "text/plain": [
       "34"
      ]
     },
     "execution_count": 77,
     "metadata": {},
     "output_type": "execute_result"
    },
    {
     "data": {
      "text/plain": [
       "30"
      ]
     },
     "execution_count": 77,
     "metadata": {},
     "output_type": "execute_result"
    },
    {
     "data": {
      "text/plain": [
       "30"
      ]
     },
     "execution_count": 77,
     "metadata": {},
     "output_type": "execute_result"
    },
    {
     "data": {
      "text/plain": [
       "30"
      ]
     },
     "execution_count": 77,
     "metadata": {},
     "output_type": "execute_result"
    },
    {
     "data": {
      "text/plain": [
       "30"
      ]
     },
     "execution_count": 77,
     "metadata": {},
     "output_type": "execute_result"
    },
    {
     "data": {
      "text/plain": [
       "30"
      ]
     },
     "execution_count": 77,
     "metadata": {},
     "output_type": "execute_result"
    },
    {
     "data": {
      "text/plain": [
       "30"
      ]
     },
     "execution_count": 77,
     "metadata": {},
     "output_type": "execute_result"
    },
    {
     "data": {
      "text/plain": [
       "30"
      ]
     },
     "execution_count": 77,
     "metadata": {},
     "output_type": "execute_result"
    },
    {
     "data": {
      "text/plain": [
       "30"
      ]
     },
     "execution_count": 77,
     "metadata": {},
     "output_type": "execute_result"
    },
    {
     "data": {
      "text/plain": [
       "30"
      ]
     },
     "execution_count": 77,
     "metadata": {},
     "output_type": "execute_result"
    },
    {
     "data": {
      "text/plain": [
       "30"
      ]
     },
     "execution_count": 77,
     "metadata": {},
     "output_type": "execute_result"
    },
    {
     "data": {
      "text/plain": [
       "30"
      ]
     },
     "execution_count": 77,
     "metadata": {},
     "output_type": "execute_result"
    },
    {
     "data": {
      "text/plain": [
       "30"
      ]
     },
     "execution_count": 77,
     "metadata": {},
     "output_type": "execute_result"
    },
    {
     "data": {
      "text/plain": [
       "41"
      ]
     },
     "execution_count": 77,
     "metadata": {},
     "output_type": "execute_result"
    },
    {
     "data": {
      "text/plain": [
       "30"
      ]
     },
     "execution_count": 77,
     "metadata": {},
     "output_type": "execute_result"
    },
    {
     "data": {
      "text/plain": [
       "30"
      ]
     },
     "execution_count": 77,
     "metadata": {},
     "output_type": "execute_result"
    },
    {
     "data": {
      "text/plain": [
       "36"
      ]
     },
     "execution_count": 77,
     "metadata": {},
     "output_type": "execute_result"
    },
    {
     "data": {
      "text/plain": [
       "30"
      ]
     },
     "execution_count": 77,
     "metadata": {},
     "output_type": "execute_result"
    },
    {
     "data": {
      "text/plain": [
       "38"
      ]
     },
     "execution_count": 77,
     "metadata": {},
     "output_type": "execute_result"
    },
    {
     "data": {
      "text/plain": [
       "30"
      ]
     },
     "execution_count": 77,
     "metadata": {},
     "output_type": "execute_result"
    },
    {
     "data": {
      "text/plain": [
       "31"
      ]
     },
     "execution_count": 77,
     "metadata": {},
     "output_type": "execute_result"
    },
    {
     "data": {
      "text/plain": [
       "35"
      ]
     },
     "execution_count": 77,
     "metadata": {},
     "output_type": "execute_result"
    },
    {
     "data": {
      "text/plain": [
       "30"
      ]
     },
     "execution_count": 77,
     "metadata": {},
     "output_type": "execute_result"
    }
   ],
   "source": [
    "Pointdata = [['Image No', 'MA', 'HR', 'HE', 'SE', 'areaMA', 'areaHR', 'areaHE', 'areaSE']]\n",
    "#Pointdata = [['Image No', 'MA', 'HR', 'HE', 'areaMA', 'areaHR', 'areaHE']]\n",
    "\n",
    "for i in range(len(file_names)):  #len(file_names)\n",
    "    newfile_name = file_names[i]\n",
    "    print(i+1, newfile_name)\n",
    "    #print(newfile_name+\"_HE.png\")\n",
    "    \n",
    "    filepath_he = \"ddb1_groundtruth_Mask_R-CNN/Label_Data/HE_95/\"+newfile_name\n",
    "    if not os.path.exists(filepath_he):\n",
    "        HELesionNum,areaHE = 0,0\n",
    "    else:\n",
    "        src1 = cv2.imread(filepath_he)\n",
    "        HELesionNum,areaHE = extractROI2(src1)\n",
    "    #src1 = cv2.imread(\"GenerateData-GroundTruth/HE/HE_ANN/\"+newfile_name+\"_HE.png\")\n",
    "    #print(src1)\n",
    "    #HELesionNum,areaHE = extractROI(src1, newfile_name, 'HELocationISBI')\n",
    "    #HELesionNum,areaHE = extractROI2(src1)\n",
    "    \n",
    "    filepath_se = \"ddb1_groundtruth_Mask_R-CNN/Label_Data/SE_95/\"+newfile_name\n",
    "    #file_dir_se = os.path.split(filepath_se)[0]\n",
    "    #print(file_dir_se)\n",
    "    if not os.path.exists(filepath_se):\n",
    "        SELesionNum,areaSE = 0,0\n",
    "    else:\n",
    "        src2 = cv2.imread(filepath_se)\n",
    "        SELesionNum,areaSE = extractROI2(src2)\n",
    "    \n",
    "    filepath_ma = \"ddb1_groundtruth_Mask_R-CNN/Label_Data/MA_95/\"+newfile_name\n",
    "    #print(src3)\n",
    "    if not os.path.exists(filepath_ma):\n",
    "        MALesionNum,areaMA = 0,0\n",
    "    else:\n",
    "        src3 = cv2.imread(filepath_ma)\n",
    "        MALesionNum,areaMA = extractROI2(src3)\n",
    "    \n",
    "    filepath_hr = \"ddb1_groundtruth_Mask_R-CNN/Label_Data/HR_95/\"+newfile_name\n",
    "    if not os.path.exists(filepath_hr):\n",
    "        HRLesionNum,areaHR = 0,0\n",
    "    else:\n",
    "        src4 = cv2.imread(filepath_hr)\n",
    "        HRLesionNum,areaHR = extractROI2(src4)\n",
    "    \n",
    "#     Pointdata.append([file_names[i], MALesionNum, HRLesionNum, HELesionNum, areaMA, areaHR, areaHE])\n",
    "    \n",
    "    Pointdata.append([newfile_name, MALesionNum, HRLesionNum, HELesionNum, SELesionNum,\n",
    "                     areaMA, areaHR, areaHE, areaSE])\n",
    "   \n",
    "csvFile2 = open('ddb1_groundtruth_Mask_R-CNN/Label_Data/LesionNumNewDDB1.csv','w', newline='') # 设置newline，否则两行之间会空一行\n",
    "writer = csv.writer(csvFile2)\n",
    "m = len(Pointdata)\n",
    "for i in range(m):\n",
    "    writer.writerow(Pointdata[i])\n",
    "csvFile2.close()"
   ]
  },
  {
   "cell_type": "markdown",
   "metadata": {},
   "source": [
    "## 统计ROCh数据集中MA的数量"
   ]
  },
  {
   "cell_type": "code",
   "execution_count": 81,
   "metadata": {},
   "outputs": [],
   "source": [
    "from PIL import Image, ImageDraw\n",
    "import cv2\n",
    "import numpy as np\n",
    "import os,sys\n",
    "import scipy.io\n",
    "import csv\n",
    "%matplotlib inline\n",
    "ROOT_DIR = os.getcwd()\n",
    "\n",
    "DR_IMAGE_DIR = os.path.join(ROOT_DIR, \"ROCh/ROC_Mask\") #DRDataset/SubChallenge_1_Images\n",
    "    # Load a random image from the images folder\n",
    "file_names = next(os.walk(DR_IMAGE_DIR))[2]\n",
    "\n",
    "def extractROI2(img_new):\n",
    "    #if img_new:\n",
    "     #   return 0,0\n",
    "    \n",
    "    image = Image.fromarray(img_new)\n",
    "    img_gray=np.array(image.convert(\"L\")) \n",
    "    mask_arr = np.array(img_gray != 0).astype(np.uint8)\n",
    "\n",
    "    mask_arr = mask_arr*255\n",
    "    [x,y]=img_gray.shape\n",
    "    Mask_arr= np.zeros([x,y,3], dtype = np.uint8)\n",
    "\n",
    "    ROI,contours,hierarchy= cv2.findContours(mask_arr,cv2.RETR_TREE,cv2.CHAIN_APPROX_NONE)\n",
    "    lesionNum = len(contours)\n",
    "    area = 0\n",
    "    #for i in range(len(contours)):\n",
    "    area = cv2.countNonZero(mask_arr)\n",
    "\n",
    "    return lesionNum,area"
   ]
  },
  {
   "cell_type": "code",
   "execution_count": 82,
   "metadata": {},
   "outputs": [
    {
     "name": "stdout",
     "output_type": "stream",
     "text": [
      "1 image17_training.png\n",
      "2 image42_training.png\n",
      "3 image10_training.png\n",
      "4 image45_training.png\n",
      "5 image34_training.png\n",
      "6 image33_training.png\n",
      "7 image26_training.png\n",
      "8 image21_training.png\n",
      "9 image44_training.png\n",
      "10 image11_training.png\n",
      "11 image43_training.png\n",
      "12 image16_training.png\n",
      "13 image20_training.png\n",
      "14 image27_training.png\n",
      "15 image32_training.png\n",
      "16 image35_training.png\n",
      "17 image38_training.png\n",
      "18 image49_training.png\n",
      "19 image6_training.png\n",
      "20 image1_training.png\n",
      "21 image39_training.png\n",
      "22 image0_training.png\n",
      "23 image7_training.png\n",
      "24 image48_training.png\n",
      "25 image29_training.png\n",
      "26 image5_training.png\n",
      "27 image2_training.png\n",
      "28 image18_training.png\n",
      "29 image28_training.png\n",
      "30 image19_training.png\n",
      "31 image3_training.png\n",
      "32 image4_training.png\n",
      "33 image9_training.png\n",
      "34 image14_training.png\n",
      "35 image41_training.png\n",
      "36 image13_training.png\n",
      "37 image46_training.png\n",
      "38 image25_training.png\n",
      "39 image22_training.png\n",
      "40 image37_training.png\n",
      "41 image30_training.png\n",
      "42 image47_training.png\n",
      "43 image12_training.png\n",
      "44 image40_training.png\n",
      "45 image15_training.png\n",
      "46 image8_training.png\n",
      "47 image31_training.png\n",
      "48 image36_training.png\n",
      "49 image23_training.png\n",
      "50 image24_training.png\n"
     ]
    },
    {
     "data": {
      "text/plain": [
       "50"
      ]
     },
     "execution_count": 82,
     "metadata": {},
     "output_type": "execute_result"
    },
    {
     "data": {
      "text/plain": [
       "38"
      ]
     },
     "execution_count": 82,
     "metadata": {},
     "output_type": "execute_result"
    },
    {
     "data": {
      "text/plain": [
       "40"
      ]
     },
     "execution_count": 82,
     "metadata": {},
     "output_type": "execute_result"
    },
    {
     "data": {
      "text/plain": [
       "39"
      ]
     },
     "execution_count": 82,
     "metadata": {},
     "output_type": "execute_result"
    },
    {
     "data": {
      "text/plain": [
       "38"
      ]
     },
     "execution_count": 82,
     "metadata": {},
     "output_type": "execute_result"
    },
    {
     "data": {
      "text/plain": [
       "42"
      ]
     },
     "execution_count": 82,
     "metadata": {},
     "output_type": "execute_result"
    },
    {
     "data": {
      "text/plain": [
       "40"
      ]
     },
     "execution_count": 82,
     "metadata": {},
     "output_type": "execute_result"
    },
    {
     "data": {
      "text/plain": [
       "41"
      ]
     },
     "execution_count": 82,
     "metadata": {},
     "output_type": "execute_result"
    },
    {
     "data": {
      "text/plain": [
       "40"
      ]
     },
     "execution_count": 82,
     "metadata": {},
     "output_type": "execute_result"
    },
    {
     "data": {
      "text/plain": [
       "38"
      ]
     },
     "execution_count": 82,
     "metadata": {},
     "output_type": "execute_result"
    },
    {
     "data": {
      "text/plain": [
       "42"
      ]
     },
     "execution_count": 82,
     "metadata": {},
     "output_type": "execute_result"
    },
    {
     "data": {
      "text/plain": [
       "40"
      ]
     },
     "execution_count": 82,
     "metadata": {},
     "output_type": "execute_result"
    },
    {
     "data": {
      "text/plain": [
       "40"
      ]
     },
     "execution_count": 82,
     "metadata": {},
     "output_type": "execute_result"
    },
    {
     "data": {
      "text/plain": [
       "38"
      ]
     },
     "execution_count": 82,
     "metadata": {},
     "output_type": "execute_result"
    },
    {
     "data": {
      "text/plain": [
       "40"
      ]
     },
     "execution_count": 82,
     "metadata": {},
     "output_type": "execute_result"
    },
    {
     "data": {
      "text/plain": [
       "42"
      ]
     },
     "execution_count": 82,
     "metadata": {},
     "output_type": "execute_result"
    },
    {
     "data": {
      "text/plain": [
       "38"
      ]
     },
     "execution_count": 82,
     "metadata": {},
     "output_type": "execute_result"
    },
    {
     "data": {
      "text/plain": [
       "40"
      ]
     },
     "execution_count": 82,
     "metadata": {},
     "output_type": "execute_result"
    },
    {
     "data": {
      "text/plain": [
       "42"
      ]
     },
     "execution_count": 82,
     "metadata": {},
     "output_type": "execute_result"
    },
    {
     "data": {
      "text/plain": [
       "37"
      ]
     },
     "execution_count": 82,
     "metadata": {},
     "output_type": "execute_result"
    },
    {
     "data": {
      "text/plain": [
       "39"
      ]
     },
     "execution_count": 82,
     "metadata": {},
     "output_type": "execute_result"
    },
    {
     "data": {
      "text/plain": [
       "40"
      ]
     },
     "execution_count": 82,
     "metadata": {},
     "output_type": "execute_result"
    },
    {
     "data": {
      "text/plain": [
       "37"
      ]
     },
     "execution_count": 82,
     "metadata": {},
     "output_type": "execute_result"
    },
    {
     "data": {
      "text/plain": [
       "37"
      ]
     },
     "execution_count": 82,
     "metadata": {},
     "output_type": "execute_result"
    },
    {
     "data": {
      "text/plain": [
       "40"
      ]
     },
     "execution_count": 82,
     "metadata": {},
     "output_type": "execute_result"
    },
    {
     "data": {
      "text/plain": [
       "42"
      ]
     },
     "execution_count": 82,
     "metadata": {},
     "output_type": "execute_result"
    },
    {
     "data": {
      "text/plain": [
       "39"
      ]
     },
     "execution_count": 82,
     "metadata": {},
     "output_type": "execute_result"
    },
    {
     "data": {
      "text/plain": [
       "39"
      ]
     },
     "execution_count": 82,
     "metadata": {},
     "output_type": "execute_result"
    },
    {
     "data": {
      "text/plain": [
       "42"
      ]
     },
     "execution_count": 82,
     "metadata": {},
     "output_type": "execute_result"
    },
    {
     "data": {
      "text/plain": [
       "40"
      ]
     },
     "execution_count": 82,
     "metadata": {},
     "output_type": "execute_result"
    },
    {
     "data": {
      "text/plain": [
       "38"
      ]
     },
     "execution_count": 82,
     "metadata": {},
     "output_type": "execute_result"
    },
    {
     "data": {
      "text/plain": [
       "40"
      ]
     },
     "execution_count": 82,
     "metadata": {},
     "output_type": "execute_result"
    },
    {
     "data": {
      "text/plain": [
       "39"
      ]
     },
     "execution_count": 82,
     "metadata": {},
     "output_type": "execute_result"
    },
    {
     "data": {
      "text/plain": [
       "37"
      ]
     },
     "execution_count": 82,
     "metadata": {},
     "output_type": "execute_result"
    },
    {
     "data": {
      "text/plain": [
       "40"
      ]
     },
     "execution_count": 82,
     "metadata": {},
     "output_type": "execute_result"
    },
    {
     "data": {
      "text/plain": [
       "40"
      ]
     },
     "execution_count": 82,
     "metadata": {},
     "output_type": "execute_result"
    },
    {
     "data": {
      "text/plain": [
       "40"
      ]
     },
     "execution_count": 82,
     "metadata": {},
     "output_type": "execute_result"
    },
    {
     "data": {
      "text/plain": [
       "39"
      ]
     },
     "execution_count": 82,
     "metadata": {},
     "output_type": "execute_result"
    },
    {
     "data": {
      "text/plain": [
       "38"
      ]
     },
     "execution_count": 82,
     "metadata": {},
     "output_type": "execute_result"
    },
    {
     "data": {
      "text/plain": [
       "40"
      ]
     },
     "execution_count": 82,
     "metadata": {},
     "output_type": "execute_result"
    },
    {
     "data": {
      "text/plain": [
       "42"
      ]
     },
     "execution_count": 82,
     "metadata": {},
     "output_type": "execute_result"
    },
    {
     "data": {
      "text/plain": [
       "40"
      ]
     },
     "execution_count": 82,
     "metadata": {},
     "output_type": "execute_result"
    },
    {
     "data": {
      "text/plain": [
       "40"
      ]
     },
     "execution_count": 82,
     "metadata": {},
     "output_type": "execute_result"
    },
    {
     "data": {
      "text/plain": [
       "42"
      ]
     },
     "execution_count": 82,
     "metadata": {},
     "output_type": "execute_result"
    },
    {
     "data": {
      "text/plain": [
       "41"
      ]
     },
     "execution_count": 82,
     "metadata": {},
     "output_type": "execute_result"
    },
    {
     "data": {
      "text/plain": [
       "38"
      ]
     },
     "execution_count": 82,
     "metadata": {},
     "output_type": "execute_result"
    },
    {
     "data": {
      "text/plain": [
       "39"
      ]
     },
     "execution_count": 82,
     "metadata": {},
     "output_type": "execute_result"
    },
    {
     "data": {
      "text/plain": [
       "38"
      ]
     },
     "execution_count": 82,
     "metadata": {},
     "output_type": "execute_result"
    },
    {
     "data": {
      "text/plain": [
       "40"
      ]
     },
     "execution_count": 82,
     "metadata": {},
     "output_type": "execute_result"
    },
    {
     "data": {
      "text/plain": [
       "42"
      ]
     },
     "execution_count": 82,
     "metadata": {},
     "output_type": "execute_result"
    },
    {
     "data": {
      "text/plain": [
       "40"
      ]
     },
     "execution_count": 82,
     "metadata": {},
     "output_type": "execute_result"
    }
   ],
   "source": [
    "Pointdata = [['Image No', 'MA', 'HR', 'HE', 'SE', 'areaMA', 'areaHR', 'areaHE', 'areaSE']]\n",
    "#Pointdata = [['Image No', 'MA', 'HR', 'HE', 'areaMA', 'areaHR', 'areaHE']]\n",
    "\n",
    "for i in range(len(file_names)):  #len(file_names)\n",
    "    newfile_name = file_names[i]\n",
    "    print(i+1, newfile_name)\n",
    "    #print(newfile_name+\"_HE.png\")\n",
    "    \n",
    "#     filepath_he = \"ddb1_groundtruth_Mask_R-CNN/Label_Data/HE_95/\"+newfile_name\n",
    "#     if not os.path.exists(filepath_he):\n",
    "#         HELesionNum,areaHE = 0,0\n",
    "#     else:\n",
    "#         src1 = cv2.imread(filepath_he)\n",
    "#         HELesionNum,areaHE = extractROI2(src1)\n",
    "#     #src1 = cv2.imread(\"GenerateData-GroundTruth/HE/HE_ANN/\"+newfile_name+\"_HE.png\")\n",
    "#     #print(src1)\n",
    "#     #HELesionNum,areaHE = extractROI(src1, newfile_name, 'HELocationISBI')\n",
    "#     #HELesionNum,areaHE = extractROI2(src1)\n",
    "    \n",
    "#     filepath_se = \"ddb1_groundtruth_Mask_R-CNN/Label_Data/SE_95/\"+newfile_name\n",
    "#     #file_dir_se = os.path.split(filepath_se)[0]\n",
    "#     #print(file_dir_se)\n",
    "#     if not os.path.exists(filepath_se):\n",
    "#         SELesionNum,areaSE = 0,0\n",
    "#     else:\n",
    "#         src2 = cv2.imread(filepath_se)\n",
    "#         SELesionNum,areaSE = extractROI2(src2)\n",
    "    \n",
    "    filepath_ma = \"ROCh/ROC_Mask/\"+newfile_name\n",
    "    #print(src3)\n",
    "    if not os.path.exists(filepath_ma):\n",
    "        MALesionNum,areaMA = 0,0\n",
    "    else:\n",
    "        src3 = cv2.imread(filepath_ma)\n",
    "        MALesionNum,areaMA = extractROI2(src3)\n",
    "    \n",
    "#     filepath_hr = \"ddb1_groundtruth_Mask_R-CNN/Label_Data/HR_95/\"+newfile_name\n",
    "#     if not os.path.exists(filepath_hr):\n",
    "#         HRLesionNum,areaHR = 0,0\n",
    "#     else:\n",
    "#         src4 = cv2.imread(filepath_hr)\n",
    "#         HRLesionNum,areaHR = extractROI2(src4)\n",
    "    \n",
    "#     Pointdata.append([file_names[i], MALesionNum, HRLesionNum, HELesionNum, areaMA, areaHR, areaHE])\n",
    "    \n",
    "    Pointdata.append([newfile_name, MALesionNum, HRLesionNum, HELesionNum, SELesionNum,\n",
    "                     areaMA, areaHR, areaHE, areaSE])\n",
    "   \n",
    "csvFile2 = open('ROCh/LesionNumNewROCh.csv','w', newline='') # 设置newline，否则两行之间会空一行\n",
    "writer = csv.writer(csvFile2)\n",
    "m = len(Pointdata)\n",
    "for i in range(m):\n",
    "    writer.writerow(Pointdata[i])\n",
    "csvFile2.close()"
   ]
  },
  {
   "cell_type": "code",
   "execution_count": null,
   "metadata": {},
   "outputs": [],
   "source": []
  }
 ],
 "metadata": {
  "kernelspec": {
   "display_name": "Python 3",
   "language": "python",
   "name": "python3"
  },
  "language_info": {
   "codemirror_mode": {
    "name": "ipython",
    "version": 3
   },
   "file_extension": ".py",
   "mimetype": "text/x-python",
   "name": "python",
   "nbconvert_exporter": "python",
   "pygments_lexer": "ipython3",
   "version": "3.5.4"
  }
 },
 "nbformat": 4,
 "nbformat_minor": 2
}
